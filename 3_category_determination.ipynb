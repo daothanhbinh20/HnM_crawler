{
 "cells": [
  {
   "cell_type": "code",
   "execution_count": 4,
   "metadata": {
    "collapsed": true
   },
   "outputs": [],
   "source": [
    "import urllib\n",
    "def return_item_page(url_item):\n",
    "    handle = urllib.urlopen(url_item)\n",
    "    html_gunk =  handle.read()\n",
    "    handle.close()\n",
    "    return str(html_gunk)"
   ]
  },
  {
   "cell_type": "code",
   "execution_count": 5,
   "metadata": {
    "collapsed": true
   },
   "outputs": [],
   "source": [
    "def get_metricCategoryID(item_page):\n",
    "    idx_start = item_page.find(\"metricCategoryID\") + len('metricCategoryID\":\"')\n",
    "    idx_end = idx_start + item_page[idx_start:].find('\"')\n",
    "    \n",
    "    return item_page[idx_start:idx_end]"
   ]
  },
  {
   "cell_type": "code",
   "execution_count": 6,
   "metadata": {
    "collapsed": true
   },
   "outputs": [],
   "source": [
    "def check_metricCategoryID(metricCategoryID):\n",
    "    category_list = ['TOPS', 'BOTTOMS', 'SHIRT', 'VESTS' 'BLOUSES', 'DRESSES', 'JUMPSUITS', 'JEANS', 'PANTS', 'TROUSERS', 'CARDIGANS', 'SWEATERS', 'JUMPERS', 'HOODIES', \n",
    "               'SWEATSHIRTS', 'SHORTS', 'SKIRTS', 'JACKETS', 'COATS', 'BLAZERS', 'SUITS']\n",
    "    for category in category_list:\n",
    "        if metricCategoryID.find(category) != -1:\n",
    "            return True\n",
    "    return False\n"
   ]
  },
  {
   "cell_type": "code",
   "execution_count": 70,
   "metadata": {
    "collapsed": true
   },
   "outputs": [],
   "source": [
    "def check_category(item_page):\n",
    "    return check_metricCategoryID(get_metricCategoryID(item_page))"
   ]
  },
  {
   "cell_type": "markdown",
   "metadata": {},
   "source": [
    "# Test"
   ]
  },
  {
   "cell_type": "code",
   "execution_count": 72,
   "metadata": {},
   "outputs": [],
   "source": [
    "def test(url_item):\n",
    "    item_page = return_item_page(url_item) \n",
    "    print url_item\n",
    "    print \"metricCategoryID:\", get_metricCategoryID(item_page)\n",
    "    print \"Check outwear:\", check_category(item_page)"
   ]
  },
  {
   "cell_type": "markdown",
   "metadata": {},
   "source": [
    "# Women shoes"
   ]
  },
  {
   "cell_type": "code",
   "execution_count": 73,
   "metadata": {},
   "outputs": [
    {
     "name": "stdout",
     "output_type": "stream",
     "text": [
      "http://www.hm.com/us/product/64141?article=64141-E\n",
      "metricCategoryID: LADIES_SHOES_SANDALS_ESPADRILLES_W381\n",
      "Check outwear: False\n"
     ]
    }
   ],
   "source": [
    "test('http://www.hm.com/us/product/64141?article=64141-E')"
   ]
  },
  {
   "cell_type": "markdown",
   "metadata": {},
   "source": [
    "# Swim wear"
   ]
  },
  {
   "cell_type": "code",
   "execution_count": 74,
   "metadata": {},
   "outputs": [
    {
     "name": "stdout",
     "output_type": "stream",
     "text": [
      "http://www.hm.com/us/product/87520?article=87520-L\n",
      "metricCategoryID: LADIES_SWIMWEAR_BIKINI_W300\n",
      "Check outwear: False\n"
     ]
    }
   ],
   "source": [
    "test('http://www.hm.com/us/product/87520?article=87520-L')"
   ]
  },
  {
   "cell_type": "code",
   "execution_count": 75,
   "metadata": {},
   "outputs": [
    {
     "name": "stdout",
     "output_type": "stream",
     "text": [
      "http://www.hm.com/us/product/29442?article=29442-J\n",
      "metricCategoryID: LADIES_SWIMWEAR_BIKINI_W301\n",
      "Check outwear: False\n"
     ]
    }
   ],
   "source": [
    "test('http://www.hm.com/us/product/29442?article=29442-J')"
   ]
  },
  {
   "cell_type": "markdown",
   "metadata": {},
   "source": [
    "# Sweater"
   ]
  },
  {
   "cell_type": "code",
   "execution_count": 76,
   "metadata": {
    "scrolled": true
   },
   "outputs": [
    {
     "name": "stdout",
     "output_type": "stream",
     "text": [
      "http://www.hm.com/us/product/68131?article=68131-A\n",
      "metricCategoryID: LADIES_CARDIGANS_JUMPERS_JUMPERS_W029\n",
      "Check outwear: True\n"
     ]
    }
   ],
   "source": [
    "test('http://www.hm.com/us/product/68131?article=68131-A')"
   ]
  },
  {
   "cell_type": "markdown",
   "metadata": {},
   "source": [
    "# Accessories: sarong"
   ]
  },
  {
   "cell_type": "code",
   "execution_count": 13,
   "metadata": {},
   "outputs": [
    {
     "name": "stdout",
     "output_type": "stream",
     "text": [
      "http://www.hm.com/us/product/69722?article=69722-A\n",
      "metricCategoryID: LADIES_SWIMWEAR_BEACHWEAR_W361\n",
      "Check outwear: False\n"
     ]
    }
   ],
   "source": [
    "test('http://www.hm.com/us/product/69722?article=69722-A')"
   ]
  },
  {
   "cell_type": "markdown",
   "metadata": {},
   "source": [
    "# Accessories: sunglasses"
   ]
  },
  {
   "cell_type": "code",
   "execution_count": 14,
   "metadata": {},
   "outputs": [
    {
     "name": "stdout",
     "output_type": "stream",
     "text": [
      "http://www.hm.com/us/product/45001?article=45001-D\n",
      "metricCategoryID: LADIES_ACCESSORIES_SUN_W391\n",
      "Check outwear: False\n"
     ]
    }
   ],
   "source": [
    "test('http://www.hm.com/us/product/45001?article=45001-D')"
   ]
  },
  {
   "cell_type": "markdown",
   "metadata": {},
   "source": [
    "# Cap"
   ]
  },
  {
   "cell_type": "code",
   "execution_count": 15,
   "metadata": {
    "scrolled": true
   },
   "outputs": [
    {
     "name": "stdout",
     "output_type": "stream",
     "text": [
      "http://www.hm.com/us/product/52412?article=52412-G\n",
      "metricCategoryID: LADIES_ACCESSORIES_HATS_HATS_W350\n",
      "Check outwear: False\n"
     ]
    }
   ],
   "source": [
    "test('http://www.hm.com/us/product/52412?article=52412-G')"
   ]
  },
  {
   "cell_type": "markdown",
   "metadata": {},
   "source": [
    "# Bag"
   ]
  },
  {
   "cell_type": "code",
   "execution_count": 16,
   "metadata": {
    "scrolled": true
   },
   "outputs": [
    {
     "name": "stdout",
     "output_type": "stream",
     "text": [
      "http://www.hm.com/us/product/67140?article=67140-A\n",
      "metricCategoryID: LADIES_ACCESSORIES_BAGS_HANDBAGS_W382\n",
      "Check outwear: False\n"
     ]
    }
   ],
   "source": [
    "test('http://www.hm.com/us/product/67140?article=67140-A')"
   ]
  },
  {
   "cell_type": "markdown",
   "metadata": {},
   "source": [
    "# Socks"
   ]
  },
  {
   "cell_type": "code",
   "execution_count": 17,
   "metadata": {},
   "outputs": [
    {
     "name": "stdout",
     "output_type": "stream",
     "text": [
      "http://www.hm.com/us/product/66887?article=66887-A\n",
      "metricCategoryID: LADIES_LINGERIE_SOCKS_TIGHTS_SOCKS_W280\n",
      "Check outwear: False\n"
     ]
    }
   ],
   "source": [
    "test('http://www.hm.com/us/product/66887?article=66887-A')"
   ]
  },
  {
   "cell_type": "markdown",
   "metadata": {},
   "source": [
    "# Tunic"
   ]
  },
  {
   "cell_type": "code",
   "execution_count": 18,
   "metadata": {
    "scrolled": true
   },
   "outputs": [
    {
     "name": "stdout",
     "output_type": "stream",
     "text": [
      "http://www.hm.com/us/product/68560?article=68560-A\n",
      "metricCategoryID: LADIES_SHIRTS_BLOUSES_TUNICS_W070\n",
      "Check outwear: True\n"
     ]
    }
   ],
   "source": [
    "test('http://www.hm.com/us/product/68560?article=68560-A')"
   ]
  },
  {
   "cell_type": "markdown",
   "metadata": {},
   "source": [
    "# Slacks"
   ]
  },
  {
   "cell_type": "code",
   "execution_count": 19,
   "metadata": {
    "scrolled": true
   },
   "outputs": [
    {
     "name": "stdout",
     "output_type": "stream",
     "text": [
      "http://www.hm.com/us/product/63586?article=63586-C\n",
      "metricCategoryID: LADIES_EVERYDAY_FASHION_TROUSERS_JEANS_W776\n",
      "Check outwear: True\n"
     ]
    }
   ],
   "source": [
    "test('http://www.hm.com/us/product/63586?article=63586-C')"
   ]
  },
  {
   "cell_type": "markdown",
   "metadata": {},
   "source": [
    "# Leggings"
   ]
  },
  {
   "cell_type": "code",
   "execution_count": 20,
   "metadata": {
    "scrolled": true
   },
   "outputs": [
    {
     "name": "stdout",
     "output_type": "stream",
     "text": [
      "http://www.hm.com/us/product/10453?article=10453-F\n",
      "metricCategoryID: LADIES_BASICS_TROUSERS_W188\n",
      "Check outwear: True\n"
     ]
    }
   ],
   "source": [
    "test('http://www.hm.com/us/product/10453?article=10453-F')"
   ]
  },
  {
   "cell_type": "markdown",
   "metadata": {},
   "source": [
    "# Joggers"
   ]
  },
  {
   "cell_type": "code",
   "execution_count": 21,
   "metadata": {
    "scrolled": true
   },
   "outputs": [
    {
     "name": "stdout",
     "output_type": "stream",
     "text": [
      "http://www.hm.com/us/product/65592?article=65592-H\n",
      "metricCategoryID: LADIES_CASUAL_TROUSERS_W063\n",
      "Check outwear: True\n"
     ]
    }
   ],
   "source": [
    "test('http://www.hm.com/us/product/65592?article=65592-H')"
   ]
  },
  {
   "cell_type": "markdown",
   "metadata": {},
   "source": [
    "# Treggings"
   ]
  },
  {
   "cell_type": "code",
   "execution_count": 22,
   "metadata": {
    "scrolled": true
   },
   "outputs": [
    {
     "name": "stdout",
     "output_type": "stream",
     "text": [
      "http://www.hm.com/us/product/66032?article=66032-B\n",
      "metricCategoryID: LADIES_TROUSERS_LEGGINGS_W082\n",
      "Check outwear: True\n"
     ]
    }
   ],
   "source": [
    "test('http://www.hm.com/us/product/66032?article=66032-B')"
   ]
  },
  {
   "cell_type": "markdown",
   "metadata": {},
   "source": [
    "# Sweatpants"
   ]
  },
  {
   "cell_type": "code",
   "execution_count": 23,
   "metadata": {
    "scrolled": true
   },
   "outputs": [
    {
     "name": "stdout",
     "output_type": "stream",
     "text": [
      "http://www.hm.com/us/product/66968?article=66968-B\n",
      "metricCategoryID: LADIES_DIVIDED_BASICS_JOGGERS_SWEATPANTS_W486\n",
      "Check outwear: True\n"
     ]
    }
   ],
   "source": [
    "test('http://www.hm.com/us/product/66968?article=66968-B')"
   ]
  },
  {
   "cell_type": "markdown",
   "metadata": {},
   "source": [
    "# Chinos"
   ]
  },
  {
   "cell_type": "code",
   "execution_count": 24,
   "metadata": {
    "scrolled": true
   },
   "outputs": [
    {
     "name": "stdout",
     "output_type": "stream",
     "text": [
      "http://www.hm.com/us/product/64667?article=64667-A\n",
      "metricCategoryID: LADIES_EVERYDAY_FASHION_TROUSERS_JEANS_W775\n",
      "Check outwear: True\n"
     ]
    }
   ],
   "source": [
    "test('http://www.hm.com/us/product/64667?article=64667-A')"
   ]
  },
  {
   "cell_type": "markdown",
   "metadata": {},
   "source": [
    "# Denim Bib Overalls"
   ]
  },
  {
   "cell_type": "code",
   "execution_count": 25,
   "metadata": {
    "scrolled": true
   },
   "outputs": [
    {
     "name": "stdout",
     "output_type": "stream",
     "text": [
      "http://www.hm.com/us/product/63598?article=63598-B\n",
      "metricCategoryID: LADIES_TROUSERS_SLIM_W034\n",
      "Check outwear: True\n"
     ]
    }
   ],
   "source": [
    "test('http://www.hm.com/us/product/63598?article=63598-B')"
   ]
  },
  {
   "cell_type": "markdown",
   "metadata": {},
   "source": [
    "# Mesh Leggings"
   ]
  },
  {
   "cell_type": "code",
   "execution_count": 26,
   "metadata": {
    "scrolled": true
   },
   "outputs": [
    {
     "name": "stdout",
     "output_type": "stream",
     "text": [
      "http://www.hm.com/us/product/65824?article=65824-A\n",
      "metricCategoryID: LADIES_TROUSERS_LEGGINGS_W036\n",
      "Check outwear: True\n"
     ]
    }
   ],
   "source": [
    "test('http://www.hm.com/us/product/65824?article=65824-A')"
   ]
  },
  {
   "cell_type": "markdown",
   "metadata": {},
   "source": [
    "# Culottes with Ruffles\n"
   ]
  },
  {
   "cell_type": "code",
   "execution_count": 27,
   "metadata": {},
   "outputs": [
    {
     "name": "stdout",
     "output_type": "stream",
     "text": [
      "http://www.hm.com/us/product/66197?article=66197-A\n",
      "metricCategoryID: LADIES_EVERYDAY_FASHION_TROUSERS_JEANS_W774\n",
      "Check outwear: True\n"
     ]
    }
   ],
   "source": [
    "test('http://www.hm.com/us/product/66197?article=66197-A')"
   ]
  },
  {
   "cell_type": "markdown",
   "metadata": {},
   "source": [
    "# Jeggings"
   ]
  },
  {
   "cell_type": "code",
   "execution_count": 28,
   "metadata": {
    "scrolled": true
   },
   "outputs": [
    {
     "name": "stdout",
     "output_type": "stream",
     "text": [
      "http://www.hm.com/us/product/51660?article=51660-C\n",
      "metricCategoryID: LADIES_TROUSERS_LEGGINGS_W036\n",
      "Check outwear: True\n"
     ]
    }
   ],
   "source": [
    "test('http://www.hm.com/us/product/51660?article=51660-C')"
   ]
  },
  {
   "cell_type": "markdown",
   "metadata": {},
   "source": [
    "# Joggers"
   ]
  },
  {
   "cell_type": "code",
   "execution_count": 29,
   "metadata": {
    "scrolled": true
   },
   "outputs": [
    {
     "name": "stdout",
     "output_type": "stream",
     "text": [
      "http://www.hm.com/us/product/68237?article=68237-B\n",
      "metricCategoryID: LADIES_TROUSERS_JOGGERS_SWEATPANTS_W021\n",
      "Check outwear: True\n"
     ]
    }
   ],
   "source": [
    "test('http://www.hm.com/us/product/68237?article=68237-B')"
   ]
  },
  {
   "cell_type": "markdown",
   "metadata": {},
   "source": [
    "# Oversized Hooded Jacket"
   ]
  },
  {
   "cell_type": "code",
   "execution_count": 30,
   "metadata": {
    "scrolled": true
   },
   "outputs": [
    {
     "name": "stdout",
     "output_type": "stream",
     "text": [
      "http://www.hm.com/us/product/66263?article=66263-B\n",
      "metricCategoryID: LADIES_CARDIGANS_JUMPERS_HOODIES_W031\n",
      "Check outwear: True\n"
     ]
    }
   ],
   "source": [
    "test('http://www.hm.com/us/product/66263?article=66263-B')"
   ]
  },
  {
   "cell_type": "markdown",
   "metadata": {},
   "source": [
    "# Sweater with Shirt Collar\n"
   ]
  },
  {
   "cell_type": "code",
   "execution_count": 31,
   "metadata": {
    "scrolled": true
   },
   "outputs": [
    {
     "name": "stdout",
     "output_type": "stream",
     "text": [
      "http://www.hm.com/us/product/64334?article=64334-C\n",
      "metricCategoryID: LADIES_CARDIGANS_JUMPERS_JUMPERS_W768\n",
      "Check outwear: True\n"
     ]
    }
   ],
   "source": [
    "test('http://www.hm.com/us/product/64334?article=64334-C')"
   ]
  },
  {
   "cell_type": "markdown",
   "metadata": {},
   "source": [
    "# Rib-knit Sweater"
   ]
  },
  {
   "cell_type": "markdown",
   "metadata": {},
   "source": [
    "test('http://www.hm.com/us/product/67947?article=67947-A')"
   ]
  },
  {
   "cell_type": "markdown",
   "metadata": {},
   "source": [
    "# Short Top with Lacing\n"
   ]
  },
  {
   "cell_type": "code",
   "execution_count": 32,
   "metadata": {},
   "outputs": [
    {
     "name": "stdout",
     "output_type": "stream",
     "text": [
      "http://www.hm.com/us/product/62105?article=62105-B\n",
      "metricCategoryID: LADIES_PARTYWEAR_TOPS_W002\n",
      "Check outwear: True\n"
     ]
    }
   ],
   "source": [
    "test('http://www.hm.com/us/product/62105?article=62105-B')"
   ]
  },
  {
   "cell_type": "markdown",
   "metadata": {},
   "source": [
    "# Cashmere Sweater\n"
   ]
  },
  {
   "cell_type": "code",
   "execution_count": 33,
   "metadata": {
    "scrolled": true
   },
   "outputs": [
    {
     "name": "stdout",
     "output_type": "stream",
     "text": [
      "http://www.hm.com/us/product/64897?article=64897-A\n",
      "metricCategoryID: LADIES_CARDIGANS_JUMPERS_JUMPERS_W128\n",
      "Check outwear: True\n"
     ]
    }
   ],
   "source": [
    "test('http://www.hm.com/us/product/64897?article=64897-A')"
   ]
  },
  {
   "cell_type": "markdown",
   "metadata": {},
   "source": [
    "# Test for Men's clothes"
   ]
  },
  {
   "cell_type": "markdown",
   "metadata": {},
   "source": [
    "# Tank Top"
   ]
  },
  {
   "cell_type": "code",
   "execution_count": 34,
   "metadata": {
    "scrolled": true
   },
   "outputs": [
    {
     "name": "stdout",
     "output_type": "stream",
     "text": [
      "http://www.hm.com/us/product/66792?article=66792-A\n",
      "metricCategoryID: MEN_TSHIRT_VESTS_M022\n",
      "Check outwear: True\n"
     ]
    }
   ],
   "source": [
    "test('http://www.hm.com/us/product/66792?article=66792-A')"
   ]
  },
  {
   "cell_type": "code",
   "execution_count": 35,
   "metadata": {},
   "outputs": [
    {
     "name": "stdout",
     "output_type": "stream",
     "text": [
      "http://www.hm.com/us/product/66849?article=66849-A\n",
      "metricCategoryID: MEN_TSHIRT_VESTS_M022\n",
      "Check outwear: True\n"
     ]
    }
   ],
   "source": [
    "test('http://www.hm.com/us/product/66849?article=66849-A')"
   ]
  },
  {
   "cell_type": "markdown",
   "metadata": {},
   "source": [
    "# Polo"
   ]
  },
  {
   "cell_type": "code",
   "execution_count": 36,
   "metadata": {
    "scrolled": true
   },
   "outputs": [
    {
     "name": "stdout",
     "output_type": "stream",
     "text": [
      "http://www.hm.com/us/product/69465?article=69465-B\n",
      "metricCategoryID: MEN_HM_MAN_TSHIRTS_VESTS_M226\n",
      "Check outwear: True\n"
     ]
    }
   ],
   "source": [
    "test('http://www.hm.com/us/product/69465?article=69465-B')"
   ]
  },
  {
   "cell_type": "markdown",
   "metadata": {},
   "source": [
    "# T-shirt"
   ]
  },
  {
   "cell_type": "code",
   "execution_count": 37,
   "metadata": {},
   "outputs": [
    {
     "name": "stdout",
     "output_type": "stream",
     "text": [
      "http://www.hm.com/us/product/69787?article=69787-A\n",
      "metricCategoryID: MEN_HM_MAN_TSHIRTS_VESTS_M226\n",
      "Check outwear: True\n"
     ]
    }
   ],
   "source": [
    "test('http://www.hm.com/us/product/69787?article=69787-A')"
   ]
  },
  {
   "cell_type": "markdown",
   "metadata": {},
   "source": [
    "# Shirt"
   ]
  },
  {
   "cell_type": "code",
   "execution_count": 38,
   "metadata": {},
   "outputs": [
    {
     "name": "stdout",
     "output_type": "stream",
     "text": [
      "http://www.hm.com/us/product/58756?article=58756-B\n",
      "metricCategoryID: MEN_HM_MAN_SHIRTS_M229\n",
      "Check outwear: True\n"
     ]
    }
   ],
   "source": [
    "test('http://www.hm.com/us/product/58756?article=58756-B')"
   ]
  },
  {
   "cell_type": "code",
   "execution_count": 39,
   "metadata": {},
   "outputs": [
    {
     "name": "stdout",
     "output_type": "stream",
     "text": [
      "http://www.hm.com/us/product/65623?article=65623-A\n",
      "metricCategoryID: MEN_SHIRTS_DRESSED_M133\n",
      "Check outwear: True\n"
     ]
    }
   ],
   "source": [
    "test('http://www.hm.com/us/product/65623?article=65623-A')"
   ]
  },
  {
   "cell_type": "markdown",
   "metadata": {},
   "source": [
    "# Sweatshirt"
   ]
  },
  {
   "cell_type": "code",
   "execution_count": 40,
   "metadata": {},
   "outputs": [
    {
     "name": "stdout",
     "output_type": "stream",
     "text": [
      "http://www.hm.com/us/product/56640?article=56640-D\n",
      "metricCategoryID: MEN_DIVIDED_HOODIES_SWEATSHIRT_M031\n",
      "Check outwear: True\n"
     ]
    }
   ],
   "source": [
    "test('http://www.hm.com/us/product/56640?article=56640-D')"
   ]
  },
  {
   "cell_type": "code",
   "execution_count": 41,
   "metadata": {},
   "outputs": [
    {
     "name": "stdout",
     "output_type": "stream",
     "text": [
      "http://www.hm.com/us/product/49916?article=49916-B\n",
      "metricCategoryID: MEN_DIVIDED_BASICS_TOPS_M494\n",
      "Check outwear: True\n"
     ]
    }
   ],
   "source": [
    "test('http://www.hm.com/us/product/49916?article=49916-B')"
   ]
  },
  {
   "cell_type": "markdown",
   "metadata": {},
   "source": [
    "# Sweater"
   ]
  },
  {
   "cell_type": "code",
   "execution_count": 42,
   "metadata": {
    "scrolled": true
   },
   "outputs": [
    {
     "name": "stdout",
     "output_type": "stream",
     "text": [
      "http://www.hm.com/us/product/63707?article=63707-C\n",
      "metricCategoryID: MEN_JUMPERS_CARDIGANS_M128\n",
      "Check outwear: True\n"
     ]
    }
   ],
   "source": [
    "test('http://www.hm.com/us/product/63707?article=63707-C')"
   ]
  },
  {
   "cell_type": "markdown",
   "metadata": {},
   "source": [
    "# Sport Jacket"
   ]
  },
  {
   "cell_type": "code",
   "execution_count": 43,
   "metadata": {},
   "outputs": [
    {
     "name": "stdout",
     "output_type": "stream",
     "text": [
      "http://www.hm.com/us/product/65551?article=65551-D\n",
      "metricCategoryID: MEN_HM_MAN_HOODIES_SWEATSHIRTS_M233\n",
      "Check outwear: True\n"
     ]
    }
   ],
   "source": [
    "test('http://www.hm.com/us/product/65551?article=65551-D')"
   ]
  },
  {
   "cell_type": "markdown",
   "metadata": {},
   "source": [
    "# Blazer"
   ]
  },
  {
   "cell_type": "code",
   "execution_count": 44,
   "metadata": {
    "scrolled": true
   },
   "outputs": [
    {
     "name": "stdout",
     "output_type": "stream",
     "text": [
      "http://www.hm.com/us/product/56281?article=56281-H\n",
      "metricCategoryID: MEN_HM_MAN_SUITS_JACKETS_M234\n",
      "Check outwear: True\n"
     ]
    }
   ],
   "source": [
    "test('http://www.hm.com/us/product/56281?article=56281-H')"
   ]
  },
  {
   "cell_type": "code",
   "execution_count": 45,
   "metadata": {},
   "outputs": [
    {
     "name": "stdout",
     "output_type": "stream",
     "text": [
      "http://www.hm.com/us/product/56281?article=56281-N\n",
      "metricCategoryID: MEN_HM_MAN_SUITS_JACKETS_M234\n",
      "Check outwear: True\n"
     ]
    }
   ],
   "source": [
    "test('http://www.hm.com/us/product/56281?article=56281-N')"
   ]
  },
  {
   "cell_type": "markdown",
   "metadata": {},
   "source": [
    "# Suit Vest"
   ]
  },
  {
   "cell_type": "code",
   "execution_count": 46,
   "metadata": {},
   "outputs": [
    {
     "name": "stdout",
     "output_type": "stream",
     "text": [
      "http://www.hm.com/us/product/46471?article=46471-A\n",
      "metricCategoryID: MEN_HM_MAN_SUITS_JACKETS_M234\n",
      "Check outwear: True\n"
     ]
    }
   ],
   "source": [
    "test('http://www.hm.com/us/product/46471?article=46471-A')"
   ]
  },
  {
   "cell_type": "markdown",
   "metadata": {},
   "source": [
    "# Suit Pants"
   ]
  },
  {
   "cell_type": "code",
   "execution_count": 47,
   "metadata": {
    "scrolled": true
   },
   "outputs": [
    {
     "name": "stdout",
     "output_type": "stream",
     "text": [
      "http://www.hm.com/us/product/60545?article=60545-B\n",
      "metricCategoryID: MEN_TROUSERS_DRESSED_M193\n",
      "Check outwear: True\n"
     ]
    }
   ],
   "source": [
    "test('http://www.hm.com/us/product/60545?article=60545-B')"
   ]
  },
  {
   "cell_type": "markdown",
   "metadata": {},
   "source": [
    "# Jeans"
   ]
  },
  {
   "cell_type": "code",
   "execution_count": 48,
   "metadata": {},
   "outputs": [
    {
     "name": "stdout",
     "output_type": "stream",
     "text": [
      "http://www.hm.com/us/product/59719?article=59719-M\n",
      "metricCategoryID: MEN_DIVIDED_TROUSERS_CASUAL_M034\n",
      "Check outwear: True\n"
     ]
    }
   ],
   "source": [
    "test('http://www.hm.com/us/product/59719?article=59719-M')"
   ]
  },
  {
   "cell_type": "markdown",
   "metadata": {},
   "source": [
    "# Pants"
   ]
  },
  {
   "cell_type": "code",
   "execution_count": 49,
   "metadata": {
    "scrolled": true
   },
   "outputs": [
    {
     "name": "stdout",
     "output_type": "stream",
     "text": [
      "http://www.hm.com/us/product/49560?article=49560-G\n",
      "metricCategoryID: MEN_TROUSERS_JOGGERS_SWEATPANTS_M019\n",
      "Check outwear: True\n"
     ]
    }
   ],
   "source": [
    "test('http://www.hm.com/us/product/49560?article=49560-G')"
   ]
  },
  {
   "cell_type": "markdown",
   "metadata": {},
   "source": [
    "# Sweatpants"
   ]
  },
  {
   "cell_type": "code",
   "execution_count": 50,
   "metadata": {
    "scrolled": true
   },
   "outputs": [
    {
     "name": "stdout",
     "output_type": "stream",
     "text": [
      "http://www.hm.com/us/product/11667?article=11667-B\n",
      "metricCategoryID: MEN_DIVIDED_BASICS_BOTTOMS_M486\n",
      "Check outwear: True\n"
     ]
    }
   ],
   "source": [
    "test('http://www.hm.com/us/product/11667?article=11667-B')"
   ]
  },
  {
   "cell_type": "code",
   "execution_count": 51,
   "metadata": {},
   "outputs": [
    {
     "name": "stdout",
     "output_type": "stream",
     "text": [
      "http://www.hm.com/us/product/03469?article=03469-V\n",
      "metricCategoryID: MEN_BASICS_BOTTOMS_M189\n",
      "Check outwear: True\n"
     ]
    }
   ],
   "source": [
    "test('http://www.hm.com/us/product/03469?article=03469-V')"
   ]
  },
  {
   "cell_type": "markdown",
   "metadata": {},
   "source": [
    "# Joggers"
   ]
  },
  {
   "cell_type": "code",
   "execution_count": 52,
   "metadata": {
    "scrolled": false
   },
   "outputs": [
    {
     "name": "stdout",
     "output_type": "stream",
     "text": [
      "http://www.hm.com/us/product/49560?article=49560-D\n",
      "metricCategoryID: MEN_TROUSERS_JOGGERS_SWEATPANTS_M019\n",
      "Check outwear: True\n"
     ]
    }
   ],
   "source": [
    "test('http://www.hm.com/us/product/49560?article=49560-D')"
   ]
  },
  {
   "cell_type": "code",
   "execution_count": 53,
   "metadata": {},
   "outputs": [
    {
     "name": "stdout",
     "output_type": "stream",
     "text": [
      "http://www.hm.com/us/product/66878?article=66878-B\n",
      "metricCategoryID: MEN_TROUSERS_JOGGERS_SWEATPANTS_M062\n",
      "Check outwear: True\n"
     ]
    }
   ],
   "source": [
    "test('http://www.hm.com/us/product/66878?article=66878-B')"
   ]
  },
  {
   "cell_type": "markdown",
   "metadata": {},
   "source": [
    "# Chinos"
   ]
  },
  {
   "cell_type": "code",
   "execution_count": 54,
   "metadata": {
    "scrolled": true
   },
   "outputs": [
    {
     "name": "stdout",
     "output_type": "stream",
     "text": [
      "http://www.hm.com/us/product/01915?article=01915-V\n",
      "metricCategoryID: MEN_CASUAL_TROUSERS_JEANS_M077\n",
      "Check outwear: True\n"
     ]
    }
   ],
   "source": [
    "test('http://www.hm.com/us/product/01915?article=01915-V')"
   ]
  },
  {
   "cell_type": "markdown",
   "metadata": {},
   "source": [
    "# Sweatshorts"
   ]
  },
  {
   "cell_type": "code",
   "execution_count": 55,
   "metadata": {
    "scrolled": false
   },
   "outputs": [
    {
     "name": "stdout",
     "output_type": "stream",
     "text": [
      "http://www.hm.com/us/product/61624?article=61624-A\n",
      "metricCategoryID: MEN_DIVIDED_BASICS_BOTTOMS_M488\n",
      "Check outwear: True\n"
     ]
    }
   ],
   "source": [
    "test('http://www.hm.com/us/product/61624?article=61624-A')"
   ]
  },
  {
   "cell_type": "code",
   "execution_count": 56,
   "metadata": {},
   "outputs": [
    {
     "name": "stdout",
     "output_type": "stream",
     "text": [
      "http://www.hm.com/us/product/42097?article=42097-A\n",
      "metricCategoryID: MEN_DIVIDED_BASICS_BOTTOMS_M488\n",
      "Check outwear: True\n"
     ]
    }
   ],
   "source": [
    "test('http://www.hm.com/us/product/42097?article=42097-A')"
   ]
  },
  {
   "cell_type": "markdown",
   "metadata": {},
   "source": [
    "# Shorts"
   ]
  },
  {
   "cell_type": "code",
   "execution_count": 57,
   "metadata": {
    "scrolled": true
   },
   "outputs": [
    {
     "name": "stdout",
     "output_type": "stream",
     "text": [
      "http://www.hm.com/us/product/66498?article=66498-F\n",
      "metricCategoryID: MEN_CASUAL_SHORTS_M083\n",
      "Check outwear: True\n"
     ]
    }
   ],
   "source": [
    "test('http://www.hm.com/us/product/66498?article=66498-F')"
   ]
  },
  {
   "cell_type": "code",
   "execution_count": 58,
   "metadata": {
    "scrolled": true
   },
   "outputs": [
    {
     "name": "stdout",
     "output_type": "stream",
     "text": [
      "http://www.hm.com/us/product/63360?article=63360-H\n",
      "metricCategoryID: MEN_CASUAL_SHORTS_M067\n",
      "Check outwear: True\n"
     ]
    }
   ],
   "source": [
    "test('http://www.hm.com/us/product/63360?article=63360-H')"
   ]
  },
  {
   "cell_type": "markdown",
   "metadata": {},
   "source": [
    "# Knit Sweater"
   ]
  },
  {
   "cell_type": "code",
   "execution_count": 59,
   "metadata": {},
   "outputs": [
    {
     "name": "stdout",
     "output_type": "stream",
     "text": [
      "http://www.hm.com/us/product/66182?article=66182-A\n",
      "metricCategoryID: MEN_HM_MAN_CARDIGANS_JUMPERS_M230\n",
      "Check outwear: True\n"
     ]
    }
   ],
   "source": [
    "test('http://www.hm.com/us/product/66182?article=66182-A')"
   ]
  },
  {
   "cell_type": "code",
   "execution_count": 60,
   "metadata": {
    "scrolled": false
   },
   "outputs": [
    {
     "name": "stdout",
     "output_type": "stream",
     "text": [
      "http://www.hm.com/us/product/66002?article=66002-A\n",
      "metricCategoryID: MEN_HM_MAN_CARDIGANS_JUMPERS_M230\n",
      "Check outwear: True\n"
     ]
    }
   ],
   "source": [
    "test('http://www.hm.com/us/product/66002?article=66002-A')"
   ]
  },
  {
   "cell_type": "code",
   "execution_count": 61,
   "metadata": {},
   "outputs": [
    {
     "name": "stdout",
     "output_type": "stream",
     "text": [
      "http://www.hm.com/us/product/68494?article=68494-A\n",
      "metricCategoryID: MEN_HM_MAN_CARDIGANS_JUMPERS_M230\n",
      "Check outwear: True\n"
     ]
    }
   ],
   "source": [
    "test('http://www.hm.com/us/product/68494?article=68494-A')"
   ]
  },
  {
   "cell_type": "markdown",
   "metadata": {},
   "source": [
    "# Outerwear: Jacket"
   ]
  },
  {
   "cell_type": "code",
   "execution_count": 62,
   "metadata": {},
   "outputs": [
    {
     "name": "stdout",
     "output_type": "stream",
     "text": [
      "http://www.hm.com/us/product/68011?article=68011-A\n",
      "metricCategoryID: MEN_JACKETS_COATS_JACKETS_M210\n",
      "Check outwear: True\n"
     ]
    }
   ],
   "source": [
    "test('http://www.hm.com/us/product/68011?article=68011-A')"
   ]
  },
  {
   "cell_type": "code",
   "execution_count": 63,
   "metadata": {},
   "outputs": [
    {
     "name": "stdout",
     "output_type": "stream",
     "text": [
      "http://www.hm.com/us/product/64384?article=64384-A\n",
      "metricCategoryID: MEN_JACKETS_COATS_JACKETS_M210\n",
      "Check outwear: True\n"
     ]
    }
   ],
   "source": [
    "test('http://www.hm.com/us/product/64384?article=64384-A')"
   ]
  },
  {
   "cell_type": "code",
   "execution_count": 64,
   "metadata": {},
   "outputs": [
    {
     "name": "stdout",
     "output_type": "stream",
     "text": [
      "http://www.hm.com/us/product/63923?article=63923-A\n",
      "metricCategoryID: MEN_JACKETS_COATS_JACKETS_M210\n",
      "Check outwear: True\n"
     ]
    }
   ],
   "source": [
    "test('http://www.hm.com/us/product/63923?article=63923-A')"
   ]
  },
  {
   "cell_type": "code",
   "execution_count": 65,
   "metadata": {},
   "outputs": [
    {
     "name": "stdout",
     "output_type": "stream",
     "text": [
      "http://www.hm.com/us/product/62324?article=62324-A\n",
      "metricCategoryID: MEN_DIVIDED_JACKETS_COATS_JACKETS_M045\n",
      "Check outwear: True\n"
     ]
    }
   ],
   "source": [
    "test('http://www.hm.com/us/product/62324?article=62324-A')"
   ]
  },
  {
   "cell_type": "markdown",
   "metadata": {},
   "source": [
    "# Outerwear: Coat"
   ]
  },
  {
   "cell_type": "code",
   "execution_count": 66,
   "metadata": {},
   "outputs": [
    {
     "name": "stdout",
     "output_type": "stream",
     "text": [
      "http://www.hm.com/us/product/60548?article=60548-A\n",
      "metricCategoryID: MEN_JACKETS_COATS_COATS_M212\n",
      "Check outwear: True\n"
     ]
    }
   ],
   "source": [
    "test('http://www.hm.com/us/product/60548?article=60548-A')"
   ]
  },
  {
   "cell_type": "markdown",
   "metadata": {},
   "source": [
    "# Outerwear: Bomers"
   ]
  },
  {
   "cell_type": "code",
   "execution_count": 67,
   "metadata": {},
   "outputs": [
    {
     "name": "stdout",
     "output_type": "stream",
     "text": [
      "http://www.hm.com/us/product/69394?article=69394-A\n",
      "metricCategoryID: MEN_JACKETS_COATS_BOMBERS_M464\n",
      "Check outwear: True\n"
     ]
    }
   ],
   "source": [
    "test('http://www.hm.com/us/product/69394?article=69394-A')"
   ]
  },
  {
   "cell_type": "code",
   "execution_count": 68,
   "metadata": {},
   "outputs": [
    {
     "name": "stdout",
     "output_type": "stream",
     "text": [
      "http://www.hm.com/us/product/40951?article=40951-I\n",
      "metricCategoryID: MEN_JACKETS_COATS_BOMBERS_M458\n",
      "Check outwear: True\n"
     ]
    }
   ],
   "source": [
    "test('http://www.hm.com/us/product/40951?article=40951-I')"
   ]
  },
  {
   "cell_type": "markdown",
   "metadata": {},
   "source": [
    "# Cap"
   ]
  },
  {
   "cell_type": "code",
   "execution_count": 69,
   "metadata": {
    "scrolled": true
   },
   "outputs": [
    {
     "name": "stdout",
     "output_type": "stream",
     "text": [
      "http://www.hm.com/us/product/85040?article=85040-A\n",
      "metricCategoryID: MEN_SPORTSWEAR_ACC_M330\n",
      "Check outwear: False\n"
     ]
    }
   ],
   "source": [
    "test('http://www.hm.com/us/product/85040?article=85040-A')"
   ]
  }
 ],
 "metadata": {
  "kernelspec": {
   "display_name": "Python 2",
   "language": "python",
   "name": "python2"
  },
  "language_info": {
   "codemirror_mode": {
    "name": "ipython",
    "version": 2
   },
   "file_extension": ".py",
   "mimetype": "text/x-python",
   "name": "python",
   "nbconvert_exporter": "python",
   "pygments_lexer": "ipython2",
   "version": "2.7.13"
  }
 },
 "nbformat": 4,
 "nbformat_minor": 2
}
