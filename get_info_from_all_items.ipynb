{
 "cells": [
  {
   "cell_type": "code",
   "execution_count": 1,
   "metadata": {
    "collapsed": true
   },
   "outputs": [],
   "source": [
    "import pickle"
   ]
  },
  {
   "cell_type": "code",
   "execution_count": 2,
   "metadata": {
    "collapsed": true
   },
   "outputs": [],
   "source": [
    "file_names = ['url_list_women.p', 'url_list_women_sale.p', \n",
    "              'url_list_men.p', 'url_list_men_sale.p']"
   ]
  },
  {
   "cell_type": "code",
   "execution_count": 3,
   "metadata": {
    "collapsed": true
   },
   "outputs": [],
   "source": [
    "item_url_list = []"
   ]
  },
  {
   "cell_type": "code",
   "execution_count": 4,
   "metadata": {
    "collapsed": true
   },
   "outputs": [],
   "source": [
    "for file_name in file_names:\n",
    "    f = open(file_name, 'rb')\n",
    "    item_url_list = item_url_list + pickle.load(f)\n",
    "    f.close()"
   ]
  },
  {
   "cell_type": "code",
   "execution_count": 5,
   "metadata": {
    "scrolled": false
   },
   "outputs": [
    {
     "data": {
      "text/plain": [
       "8528"
      ]
     },
     "execution_count": 5,
     "metadata": {},
     "output_type": "execute_result"
    }
   ],
   "source": [
    "len(item_url_list)"
   ]
  },
  {
   "cell_type": "code",
   "execution_count": 6,
   "metadata": {},
   "outputs": [
    {
     "data": {
      "text/plain": [
       "['http://www.hm.com/us/product/65274?article=65274-B',\n",
       " 'http://www.hm.com/us/product/65274?article=65274-E',\n",
       " 'http://www.hm.com/us/product/67562?article=67562-D',\n",
       " 'http://www.hm.com/us/product/54630?article=54630-F',\n",
       " 'http://www.hm.com/us/product/66996?article=66996-B',\n",
       " 'http://www.hm.com/us/product/22590?article=22590-V',\n",
       " 'http://www.hm.com/us/product/67571?article=67571-A',\n",
       " 'http://www.hm.com/us/product/70360?article=70360-A',\n",
       " 'http://www.hm.com/us/product/70480?article=70480-C',\n",
       " 'http://www.hm.com/us/product/64155?article=64155-B']"
      ]
     },
     "execution_count": 6,
     "metadata": {},
     "output_type": "execute_result"
    }
   ],
   "source": [
    "item_url_list[:10]"
   ]
  },
  {
   "cell_type": "code",
   "execution_count": 7,
   "metadata": {
    "collapsed": true
   },
   "outputs": [],
   "source": [
    "import urllib\n",
    "def return_item_page(url_item):\n",
    "    handle = urllib.urlopen(url_item)\n",
    "    html_gunk =  handle.read()\n",
    "    handle.close()\n",
    "    return str(html_gunk)"
   ]
  },
  {
   "cell_type": "code",
   "execution_count": 8,
   "metadata": {
    "collapsed": true
   },
   "outputs": [],
   "source": [
    "def get_metricCategoryID(item_page):\n",
    "    idx_start = item_page.find(\"metricCategoryID\") + len('metricCategoryID\":\"')\n",
    "    idx_end = idx_start + item_page[idx_start:].find('\"')\n",
    "    \n",
    "    return item_page[idx_start:idx_end]\n",
    "\n",
    "def check_metricCategoryID(metricCategoryID):\n",
    "    category_list = ['TOPS', 'BOTTOMS', 'SHIRT', 'VESTS' 'BLOUSES', 'DRESSES', 'JUMPSUITS', 'JEANS', 'PANTS', 'TROUSERS', 'CARDIGANS', 'SWEATERS', 'JUMPERS', 'HOODIES', \n",
    "               'SWEATSHIRTS', 'SHORTS', 'SKIRTS', 'JACKETS', 'COATS', 'BLAZERS', 'SUITS']\n",
    "    for category in category_list:\n",
    "        if metricCategoryID.find(category) != -1:\n",
    "            return True\n",
    "    return False\n",
    "\n",
    "def check_category(item_page):\n",
    "    return check_metricCategoryID(get_metricCategoryID(item_page))"
   ]
  },
  {
   "cell_type": "code",
   "execution_count": 9,
   "metadata": {
    "collapsed": true
   },
   "outputs": [],
   "source": [
    "def get_info(url_item):\n",
    "    # url_item = \"http://www.hm.com/us/product/72818?article=72818-A\"\n",
    "    item_page = return_item_page(url_item)\n",
    "    \n",
    "    metricCategoryID = get_metricCategoryID(item_page)\n",
    "    \n",
    "    # This 'if' statement is for speeding up 'get_info'\n",
    "    if check_metricCategoryID(metricCategoryID) == False:\n",
    "        return -1 # Failed\n",
    "    \n",
    "    parser = HnM_ProductPage_Parser()\n",
    "    parser.feed(item_page)\n",
    "\n",
    "    item_serial = url_item[url_item.find(\"article=\")+len(\"article=\"):]\n",
    "\n",
    "    return {'serial':item_serial, \n",
    "            'name':parser.get_name(), \n",
    "            'color':parser.get_color(), \n",
    "            'who':parser.get_who(), \n",
    "            'image': { \n",
    "                'model':parser.get_image_url_model(), \n",
    "                'item':parser.get_image_url_item()\n",
    "                }, \n",
    "            #'title':parser.get_title(), \n",
    "            #'title breaks':parser.get_title_breaks(), \n",
    "            'url':url_item, \n",
    "            'metricCategoryID':metricCategoryID}"
   ]
  },
  {
   "cell_type": "code",
   "execution_count": 10,
   "metadata": {
    "collapsed": true
   },
   "outputs": [],
   "source": [
    "import urllib\n",
    "from HTMLParser import HTMLParser\n",
    "\n",
    "class HnM_ProductPage_Parser(HTMLParser):\n",
    "    in_head_tag = False\n",
    "    in_title_tag = False\n",
    "    image_url_model = \"\"\n",
    "    image_url_item = \"\"\n",
    "    name = \"\"\n",
    "    color = \"\"\n",
    "    who = \"\"\n",
    "    title = \"\"\n",
    "    title_breaks = 0\n",
    "    \n",
    "    def handle_starttag(self, tag, attrs):\n",
    "        if tag == \"head\":\n",
    "            self.in_head_tag = True\n",
    "        if tag == \"title\":\n",
    "            self.in_title_tag = True\n",
    "        if tag == \"a\":\n",
    "            for attr in attrs:\n",
    "                if attr[0] == \"class\" and (attr[1] == \"FASHION_FRONT\" or attr[1] == \"STUDIO_FRONT\"):\n",
    "                    for attr2 in attrs:\n",
    "                        if attr2[0] == \"href\":\n",
    "                            self.image_url_model = \"http:\" + attr2[1]\n",
    "                \n",
    "                if attr[0] == \"class\" and attr[1] == \"STILL_LIFE_FRONT\":\n",
    "                    for attr2 in attrs:\n",
    "                        if attr2[0] == \"href\":\n",
    "                            self.image_url_item = \"http:\" + attr2[1]\n",
    "        \n",
    "    def handle_endtag(self, tag):\n",
    "        if tag == \"head\":\n",
    "            self.in_head_tag = False\n",
    "        if tag == \"title\":\n",
    "            self.in_title_tag = False\n",
    "            data_list = self.title.split(' | ')\n",
    "            if len(data_list) == 4:\n",
    "                self.name =  data_list[0]\n",
    "                self.color = data_list[1]\n",
    "                self.who = data_list[-2]\n",
    "            if len(data_list) == 3:\n",
    "                self.name =  data_list[0]\n",
    "                self.who = data_list[-2]\n",
    "                \n",
    "    def handle_data(self, data):\n",
    "        if self.in_head_tag and self.in_title_tag: # handling an unknown error \n",
    "            if self.title == \"\":\n",
    "                self.title = self.title + data\n",
    "            else:\n",
    "                self.title = self.title + '&M' + data\n",
    "            self.title_breaks = self.title_breaks + 1\n",
    "        \n",
    "    def get_image_url_model(self):\n",
    "        return self.image_url_model\n",
    "    \n",
    "    def get_image_url_item(self):\n",
    "        return self.image_url_item\n",
    "    \n",
    "    def get_name(self):\n",
    "        return self.name\n",
    "    \n",
    "    def get_color(self):\n",
    "        return self.color\n",
    "    \n",
    "    def get_who(self):\n",
    "        return self.who\n",
    "    \n",
    "    def get_title(self):\n",
    "        return self.title\n",
    "    \n",
    "    def get_title_breaks(self):\n",
    "        return self.title_breaks"
   ]
  },
  {
   "cell_type": "markdown",
   "metadata": {},
   "source": [
    "# Get the information of one item"
   ]
  },
  {
   "cell_type": "code",
   "execution_count": 11,
   "metadata": {
    "collapsed": true
   },
   "outputs": [],
   "source": [
    "item_info = get_info('http://www.hm.com/us/product/65274?article=65274-B') # T-shirt"
   ]
  },
  {
   "cell_type": "code",
   "execution_count": 12,
   "metadata": {},
   "outputs": [
    {
     "data": {
      "text/plain": [
       "{'color': 'White',\n",
       " 'image': {'item': 'http://lp.hm.com/hmprod?set=key[source],value[/model/2017/E00 0478110 001 77 1688.jpg]&set=key[rotate],value[]&set=key[width],value[]&set=key[height],value[]&set=key[x],value[]&set=key[y],value[]&set=key[type],value[STILL_LIFE_FRONT]&set=key[hmver],value[2]&call=url[file:/product/large]',\n",
       "  'model': 'http://lp.hm.com/hmprod?set=key[source],value[/environment/2017/8GZ_0158_011R.jpg]&set=key[rotate],value[0]&set=key[width],value[3927]&set=key[height],value[4591]&set=key[x],value[0]&set=key[y],value[-1]&set=key[type],value[FASHION_FRONT]&set=key[hmver],value[0]&call=url[file:/product/large]'},\n",
       " 'metricCategoryID': 'LADIES_TOPS_SHORT_SLEEVED_W112',\n",
       " 'name': 'Short-sleeved Top',\n",
       " 'serial': '65274-B',\n",
       " 'url': 'http://www.hm.com/us/product/65274?article=65274-B',\n",
       " 'who': 'Women'}"
      ]
     },
     "execution_count": 12,
     "metadata": {},
     "output_type": "execute_result"
    }
   ],
   "source": [
    "item_info"
   ]
  },
  {
   "cell_type": "code",
   "execution_count": 13,
   "metadata": {
    "collapsed": true
   },
   "outputs": [],
   "source": [
    "item_info = get_info('http://www.hm.com/us/product/64141?article=64141-E') # shoes"
   ]
  },
  {
   "cell_type": "code",
   "execution_count": 14,
   "metadata": {},
   "outputs": [
    {
     "data": {
      "text/plain": [
       "-1"
      ]
     },
     "execution_count": 14,
     "metadata": {},
     "output_type": "execute_result"
    }
   ],
   "source": [
    "item_info"
   ]
  },
  {
   "cell_type": "markdown",
   "metadata": {},
   "source": [
    "# Get the information of all items"
   ]
  },
  {
   "cell_type": "code",
   "execution_count": 15,
   "metadata": {
    "collapsed": true
   },
   "outputs": [],
   "source": [
    "items_info = []"
   ]
  },
  {
   "cell_type": "code",
   "execution_count": 16,
   "metadata": {},
   "outputs": [
    {
     "data": {
      "text/plain": [
       "8528"
      ]
     },
     "execution_count": 16,
     "metadata": {},
     "output_type": "execute_result"
    }
   ],
   "source": [
    "len(item_url_list)"
   ]
  },
  {
   "cell_type": "code",
   "execution_count": 17,
   "metadata": {
    "collapsed": true
   },
   "outputs": [],
   "source": [
    "count_loop = 0"
   ]
  },
  {
   "cell_type": "code",
   "execution_count": 18,
   "metadata": {
    "scrolled": true
   },
   "outputs": [
    {
     "name": "stdout",
     "output_type": "stream",
     "text": [
      "count loops: 1 ====================================\n",
      "count loops: 101 ====================================\n",
      "count loops: 201 ====================================\n",
      "count loops: 301 ====================================\n",
      "count loops: 401 ====================================\n",
      "count loops: 501 ====================================\n",
      "count loops: 601 ====================================\n",
      "count loops: 701 ====================================\n",
      "count loops: 801 ====================================\n",
      "count loops: 901 ====================================\n",
      "count loops: 1001 ====================================\n",
      "count loops: 1101 ====================================\n",
      "count loops: 1201 ====================================\n",
      "count loops: 1301 ====================================\n",
      "count loops: 1401 ====================================\n",
      "count loops: 1501 ====================================\n",
      "count loops: 1601 ====================================\n",
      "count loops: 1701 ====================================\n",
      "count loops: 1801 ====================================\n",
      "count loops: 1901 ====================================\n",
      "count loops: 2001 ====================================\n",
      "count loops: 2101 ====================================\n",
      "count loops: 2201 ====================================\n",
      "count loops: 2301 ====================================\n",
      "count loops: 2401 ====================================\n",
      "count loops: 2501 ====================================\n",
      "count loops: 2601 ====================================\n",
      "count loops: 2701 ====================================\n",
      "count loops: 2801 ====================================\n",
      "count loops: 2901 ====================================\n",
      "count loops: 3001 ====================================\n",
      "count loops: 3101 ====================================\n",
      "count loops: 3201 ====================================\n",
      "count loops: 3301 ====================================\n",
      "count loops: 3401 ====================================\n",
      "count loops: 3501 ====================================\n",
      "count loops: 3601 ====================================\n",
      "count loops: 3701 ====================================\n",
      "count loops: 3801 ====================================\n",
      "count loops: 3901 ====================================\n",
      "count loops: 4001 ====================================\n",
      "count loops: 4101 ====================================\n",
      "count loops: 4201 ====================================\n",
      "count loops: 4301 ====================================\n",
      "count loops: 4401 ====================================\n",
      "count loops: 4501 ====================================\n",
      "count loops: 4601 ====================================\n",
      "count loops: 4701 ====================================\n",
      "count loops: 4801 ====================================\n",
      "count loops: 4901 ====================================\n",
      "count loops: 5001 ====================================\n",
      "count loops: 5101 ====================================\n",
      "count loops: 5201 ====================================\n",
      "count loops: 5301 ====================================\n",
      "count loops: 5401 ====================================\n",
      "count loops: 5501 ====================================\n",
      "count loops: 5601 ====================================\n",
      "count loops: 5701 ====================================\n",
      "count loops: 5801 ====================================\n",
      "count loops: 5901 ====================================\n",
      "count loops: 6001 ====================================\n",
      "count loops: 6101 ====================================\n",
      "count loops: 6201 ====================================\n",
      "count loops: 6301 ====================================\n",
      "count loops: 6401 ====================================\n",
      "count loops: 6501 ====================================\n",
      "count loops: 6601 ====================================\n",
      "count loops: 6701 ====================================\n",
      "count loops: 6801 ====================================\n",
      "count loops: 6901 ====================================\n",
      "count loops: 7001 ====================================\n",
      "count loops: 7101 ====================================\n",
      "count loops: 7201 ====================================\n",
      "count loops: 7301 ====================================\n",
      "count loops: 7401 ====================================\n",
      "count loops: 7501 ====================================\n",
      "count loops: 7601 ====================================\n",
      "count loops: 7701 ====================================\n",
      "count loops: 7801 ====================================\n",
      "count loops: 7901 ====================================\n",
      "count loops: 8001 ====================================\n",
      "count loops: 8101 ====================================\n",
      "count loops: 8201 ====================================\n",
      "count loops: 8301 ====================================\n",
      "count loops: 8401 ====================================\n",
      "count loops: 8501 ====================================\n",
      "total count loops: 8528\n"
     ]
    }
   ],
   "source": [
    "for i in range(count_loop, len(item_url_list)):\n",
    "    info = get_info(item_url_list[i]) \n",
    "    if info != -1:\n",
    "        items_info.append(info)\n",
    "    count_loop = count_loop + 1\n",
    "    if count_loop % 100 == 1:\n",
    "        print \"count loops:\" , count_loop, \"====================================\"\n",
    "print \"total count loops:\" , count_loop"
   ]
  },
  {
   "cell_type": "code",
   "execution_count": 19,
   "metadata": {
    "scrolled": false
   },
   "outputs": [
    {
     "name": "stdout",
     "output_type": "stream",
     "text": [
      "8528 5607\n"
     ]
    }
   ],
   "source": [
    "print count_loop, len(items_info)"
   ]
  },
  {
   "cell_type": "markdown",
   "metadata": {},
   "source": [
    "* 8528: Total women's and men's items\n",
    "* 5607: Totat women's and men's items that are tops or bottoms"
   ]
  },
  {
   "cell_type": "code",
   "execution_count": 20,
   "metadata": {},
   "outputs": [
    {
     "data": {
      "text/plain": [
       "True"
      ]
     },
     "execution_count": 20,
     "metadata": {},
     "output_type": "execute_result"
    }
   ],
   "source": [
    "count_loop == len(item_url_list)"
   ]
  },
  {
   "cell_type": "markdown",
   "metadata": {},
   "source": [
    "### Check the data"
   ]
  },
  {
   "cell_type": "code",
   "execution_count": 21,
   "metadata": {
    "collapsed": true
   },
   "outputs": [],
   "source": [
    "import random"
   ]
  },
  {
   "cell_type": "code",
   "execution_count": 22,
   "metadata": {
    "collapsed": true,
    "scrolled": true
   },
   "outputs": [],
   "source": [
    "item_info = random.choice(items_info)"
   ]
  },
  {
   "cell_type": "code",
   "execution_count": 24,
   "metadata": {},
   "outputs": [
    {
     "data": {
      "text/plain": [
       "{'color': 'Red/floral',\n",
       " 'image': {'item': 'http://lp.hm.com/hmprod?set=key[source],value[/model/2017/E00 0502168 006 24 3626.jpg]&set=key[rotate],value[]&set=key[width],value[]&set=key[height],value[]&set=key[x],value[]&set=key[y],value[]&set=key[type],value[STILL_LIFE_FRONT]&set=key[hmver],value[1]&call=url[file:/product/large]',\n",
       "  'model': 'http://lp.hm.com/hmprod?set=key[source],value[/environment/2017/8TZ_0332_001R.jpg]&set=key[rotate],value[0]&set=key[width],value[3776]&set=key[height],value[4416]&set=key[x],value[0]&set=key[y],value[-1]&set=key[type],value[FASHION_FRONT]&set=key[hmver],value[0]&call=url[file:/product/large]'},\n",
       " 'metricCategoryID': 'LADIES_DIVIDED_DRESSES_JUMPSUITS_W041',\n",
       " 'name': 'Off-the-shoulder Dress',\n",
       " 'serial': '69333-A',\n",
       " 'url': 'http://www.hm.com/us/product/69333?article=69333-A',\n",
       " 'who': 'Women'}"
      ]
     },
     "execution_count": 24,
     "metadata": {},
     "output_type": "execute_result"
    }
   ],
   "source": [
    "item_info"
   ]
  },
  {
   "cell_type": "markdown",
   "metadata": {},
   "source": [
    "A correct result"
   ]
  },
  {
   "cell_type": "code",
   "execution_count": 25,
   "metadata": {
    "scrolled": false
   },
   "outputs": [
    {
     "data": {
      "text/plain": [
       "{'color': 'Khaki',\n",
       " 'image': {'item': 'http://lp.hm.com/hmprod?set=key[source],value[/model/2017/E00 0259609 013 18 2083.jpg]&set=key[rotate],value[]&set=key[width],value[]&set=key[height],value[]&set=key[x],value[]&set=key[y],value[]&set=key[type],value[STILL_LIFE_FRONT]&set=key[hmver],value[1]&call=url[file:/product/large]',\n",
       "  'model': 'http://lp.hm.com/hmprod?set=key[source],value[/environment/2017/8LZ_0031_016R.jpg]&set=key[rotate],value[0]&set=key[width],value[3998]&set=key[height],value[4674]&set=key[x],value[0]&set=key[y],value[-1]&set=key[type],value[FASHION_FRONT]&set=key[hmver],value[0]&call=url[file:/product/large]'},\n",
       " 'metricCategoryID': 'MEN_CASUAL_SHORTS_M083',\n",
       " 'name': 'Cargo Shorts',\n",
       " 'serial': '56824-G',\n",
       " 'url': 'http://www.hm.com/us/product/56824?article=56824-G',\n",
       " 'who': 'Men'}"
      ]
     },
     "execution_count": 25,
     "metadata": {},
     "output_type": "execute_result"
    }
   ],
   "source": [
    "random.choice(items_info)"
   ]
  },
  {
   "cell_type": "markdown",
   "metadata": {},
   "source": [
    "A correct result"
   ]
  },
  {
   "cell_type": "code",
   "execution_count": 26,
   "metadata": {},
   "outputs": [
    {
     "data": {
      "text/plain": [
       "{'color': 'Black',\n",
       " 'image': {'item': 'http://lp.hm.com/hmprod?set=key[source],value[/model/2016/D00 0443566 001 12 0370.jpg]&set=key[rotate],value[]&set=key[width],value[]&set=key[height],value[]&set=key[x],value[]&set=key[y],value[]&set=key[type],value[STILL_LIFE_FRONT]&set=key[hmver],value[1]&call=url[file:/product/large]',\n",
       "  'model': ''},\n",
       " 'metricCategoryID': 'LADIES_CARDIGANS_JUMPERS_CARDIGANS_W028',\n",
       " 'name': 'Perforated-patterned Cardigan',\n",
       " 'serial': '57154-A',\n",
       " 'url': 'http://www.hm.com/us/product/57154?article=57154-A',\n",
       " 'who': 'Women'}"
      ]
     },
     "execution_count": 26,
     "metadata": {},
     "output_type": "execute_result"
    }
   ],
   "source": [
    "random.choice(items_info)"
   ]
  },
  {
   "cell_type": "markdown",
   "metadata": {},
   "source": [
    "### Serializing the items_info"
   ]
  },
  {
   "cell_type": "code",
   "execution_count": 27,
   "metadata": {
    "collapsed": true
   },
   "outputs": [],
   "source": [
    "import pickle\n",
    "f = open('items_info.p', 'wb')\n",
    "pickle.dump(items_info, f)\n",
    "f.close()"
   ]
  }
 ],
 "metadata": {
  "kernelspec": {
   "display_name": "Python 2",
   "language": "python",
   "name": "python2"
  },
  "language_info": {
   "codemirror_mode": {
    "name": "ipython",
    "version": 2
   },
   "file_extension": ".py",
   "mimetype": "text/x-python",
   "name": "python",
   "nbconvert_exporter": "python",
   "pygments_lexer": "ipython2",
   "version": "2.7.13"
  }
 },
 "nbformat": 4,
 "nbformat_minor": 2
}
