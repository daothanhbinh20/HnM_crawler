{
 "cells": [
  {
   "cell_type": "code",
   "execution_count": 1,
   "metadata": {
    "collapsed": true
   },
   "outputs": [],
   "source": [
    "import pickle\n",
    "pf = open('items_info.p', 'rb')\n",
    "items_info = pickle.load(pf)\n",
    "pf.close()"
   ]
  },
  {
   "cell_type": "code",
   "execution_count": 2,
   "metadata": {
    "collapsed": true
   },
   "outputs": [],
   "source": [
    "dict_items_info = dict()"
   ]
  },
  {
   "cell_type": "code",
   "execution_count": 3,
   "metadata": {},
   "outputs": [],
   "source": [
    "for item_info in items_info:\n",
    "    serial = item_info['serial']\n",
    "    del item_info['serial']\n",
    "    dict_items_info[serial] = item_info"
   ]
  },
  {
   "cell_type": "code",
   "execution_count": 4,
   "metadata": {},
   "outputs": [
    {
     "name": "stdout",
     "output_type": "stream",
     "text": [
      "02779-Q\n",
      "67942-A\n",
      "60647-A\n",
      "68527-A\n",
      "02779-P\n",
      "71495-A\n",
      "02779-K\n",
      "68178-A\n",
      "02779-L\n",
      "02779-N\n"
     ]
    }
   ],
   "source": [
    "count = 0\n",
    "for serial in dict_items_info:\n",
    "    print serial\n",
    "    count = count + 1\n",
    "    if count == 10:\n",
    "        break"
   ]
  },
  {
   "cell_type": "code",
   "execution_count": 5,
   "metadata": {},
   "outputs": [
    {
     "name": "stdout",
     "output_type": "stream",
     "text": [
      "02779-Q:{'metricCategoryID': 'MEN_HM_MAN_TSHIRTS_VESTS_M226', 'name': 'T-shirt', 'color': 'Black/patterned', 'image': {'item': 'http://lp.hm.com/hmprod?set=key[source],value[/model/2017/E00 0304576 020 14 3519.jpg]&set=key[rotate],value[]&set=key[width],value[]&set=key[height],value[]&set=key[x],value[]&set=key[y],value[]&set=key[type],value[STILL_LIFE_FRONT]&set=key[hmver],value[2]&call=url[file:/product/large]', 'model': 'http://lp.hm.com/hmprod?set=key[source],value[/environment/2017/8QZ_0077_020R.jpg]&set=key[rotate],value[0]&set=key[width],value[3797]&set=key[height],value[4440]&set=key[x],value[0]&set=key[y],value[-11]&set=key[type],value[FASHION_FRONT]&set=key[hmver],value[0]&call=url[file:/product/large]'}, 'who': 'Men', 'url': 'http://www.hm.com/us/product/02779?article=02779-Q'}\n"
     ]
    }
   ],
   "source": [
    "count = 0\n",
    "for serial in dict_items_info:\n",
    "    print serial + \":\" + str(dict_items_info[serial])\n",
    "    count = count + 1\n",
    "    if count == 1:\n",
    "        break"
   ]
  },
  {
   "cell_type": "raw",
   "metadata": {},
   "source": [
    "02779-Q:{\n",
    "    'metricCategoryID': 'MEN_HM_MAN_TSHIRTS_VESTS_M226', \n",
    "    'name': 'T-shirt', \n",
    "    'color': 'Black/patterned', \n",
    "    'image': {\n",
    "        'item': 'http://lp.hm.com/hmprod?set=key[source],value[/model/2017/E00 0304576 020 14 3519.jpg]&set=key[rotate],value[]&set=key[width],value[]&set=key[height],value[]&set=key[x],value[]&set=key[y],value[]&set=key[type],value[STILL_LIFE_FRONT]&set=key[hmver],value[2]&call=url[file:/product/large]', \n",
    "        'model': 'http://lp.hm.com/hmprod?set=key[source],value[/environment/2017/8QZ_0077_020R.jpg]&set=key[rotate],value[0]&set=key[width],value[3797]&set=key[height],value[4440]&set=key[x],value[0]&set=key[y],value[-11]&set=key[type],value[FASHION_FRONT]&set=key[hmver],value[0]&call=url[file:/product/large]'}, \n",
    "    'who': 'Men', \n",
    "    'url': 'http://www.hm.com/us/product/02779?article=02779-Q'\n",
    "    }"
   ]
  },
  {
   "cell_type": "code",
   "execution_count": 6,
   "metadata": {
    "collapsed": true
   },
   "outputs": [],
   "source": [
    "import pickle\n",
    "pf = open('dict_items_info.p', 'wb')\n",
    "pickle.dump(dict_items_info, pf)\n",
    "pf.close()"
   ]
  }
 ],
 "metadata": {
  "kernelspec": {
   "display_name": "Python 2",
   "language": "python",
   "name": "python2"
  },
  "language_info": {
   "codemirror_mode": {
    "name": "ipython",
    "version": 2
   },
   "file_extension": ".py",
   "mimetype": "text/x-python",
   "name": "python",
   "nbconvert_exporter": "python",
   "pygments_lexer": "ipython2",
   "version": "2.7.13"
  }
 },
 "nbformat": 4,
 "nbformat_minor": 2
}
