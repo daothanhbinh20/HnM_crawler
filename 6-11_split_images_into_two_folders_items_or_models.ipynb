{
 "cells": [
  {
   "cell_type": "code",
   "execution_count": 5,
   "metadata": {
    "collapsed": true
   },
   "outputs": [],
   "source": [
    "import os\n",
    "list_image_file_name = os.listdir('images_clothes')"
   ]
  },
  {
   "cell_type": "code",
   "execution_count": 6,
   "metadata": {},
   "outputs": [
    {
     "data": {
      "text/plain": [
       "['00464-A_IMT.jpg',\n",
       " '00464-A_MMT.jpg',\n",
       " '00464-B_IMT.jpg',\n",
       " '00464-B_MMT.jpg',\n",
       " '00468-A_IMT.jpg',\n",
       " '00468-A_MMT.jpg',\n",
       " '00468-B_IMT.jpg',\n",
       " '00468-B_MMT.jpg',\n",
       " '00468-N_IMT.jpg',\n",
       " '00468-N_MMT.jpg']"
      ]
     },
     "execution_count": 6,
     "metadata": {},
     "output_type": "execute_result"
    }
   ],
   "source": [
    "list_image_file_name[:10]"
   ]
  },
  {
   "cell_type": "code",
   "execution_count": 7,
   "metadata": {
    "scrolled": false
   },
   "outputs": [
    {
     "data": {
      "text/plain": [
       "'I'"
      ]
     },
     "execution_count": 7,
     "metadata": {},
     "output_type": "execute_result"
    }
   ],
   "source": [
    "list_image_file_name[0][-7] # I or M"
   ]
  },
  {
   "cell_type": "code",
   "execution_count": 8,
   "metadata": {
    "collapsed": true
   },
   "outputs": [],
   "source": [
    "import shutil"
   ]
  },
  {
   "cell_type": "code",
   "execution_count": 11,
   "metadata": {},
   "outputs": [],
   "source": [
    "if not os.path.exists('images_items'):\n",
    "    os.makedirs('images_items')\n",
    "if not os.path.exists('images_models'):\n",
    "    os.makedirs('images_models')\n",
    "    \n",
    "for image_file_name in list_image_file_name:\n",
    "    if image_file_name[-7] == 'I':\n",
    "        shutil.copy('images_clothes/' + image_file_name, 'images_items')\n",
    "    if image_file_name[-7] == 'M':\n",
    "        shutil.copy('images_clothes/' + image_file_name, 'images_models')"
   ]
  }
 ],
 "metadata": {
  "kernelspec": {
   "display_name": "Python 2",
   "language": "python",
   "name": "python2"
  },
  "language_info": {
   "codemirror_mode": {
    "name": "ipython",
    "version": 2
   },
   "file_extension": ".py",
   "mimetype": "text/x-python",
   "name": "python",
   "nbconvert_exporter": "python",
   "pygments_lexer": "ipython2",
   "version": "2.7.13"
  }
 },
 "nbformat": 4,
 "nbformat_minor": 2
}
