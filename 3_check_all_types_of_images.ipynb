{
 "cells": [
  {
   "cell_type": "markdown",
   "metadata": {},
   "source": [
    "* Get the URLs of all items\n",
    "* Parser all pages."
   ]
  },
  {
   "cell_type": "code",
   "execution_count": 1,
   "metadata": {
    "collapsed": true
   },
   "outputs": [],
   "source": [
    "import urllib\n",
    "from HTMLParser import HTMLParser\n",
    "\n",
    "class HnM_ProductPage_Parser(HTMLParser):\n",
    "    in_thumbnail_list = False\n",
    "    image_types = set()\n",
    "\n",
    "    def handle_starttag(self, tag, attrs):\n",
    "        if tag == \"a\" and self.in_thumbnail_list:\n",
    "            for attr in attrs:\n",
    "                if attr[0] == \"class\":\n",
    "                    self.image_types.add(attr[1])\n",
    "        if tag == \"ul\":\n",
    "            for attr in attrs:\n",
    "                if attr[0] == \"id\" and attr[1] == \"product-thumbs\":\n",
    "                    self.in_thumbnail_list = True\n",
    "        \n",
    "    def handle_endtag(self, tag):\n",
    "        if tag == \"ul\" and self.in_thumbnail_list:\n",
    "            self.in_thumbnail_list = False\n",
    "            \n",
    "    def get_image_types(self):\n",
    "        return self.image_types"
   ]
  },
  {
   "cell_type": "code",
   "execution_count": 2,
   "metadata": {
    "collapsed": true
   },
   "outputs": [],
   "source": [
    "def get_image_types(url_item):\n",
    "    # url_item = \"http://www.hm.com/us/product/72818?article=72818-A\"\n",
    "    handle = urllib.urlopen(url_item)\n",
    "    html_gunk =  handle.read()\n",
    "    handle.close()\n",
    "    parser = HnM_ProductPage_Parser()\n",
    "    parser.feed(str(html_gunk))\n",
    "    \n",
    "    return parser.get_image_types()\n",
    "    "
   ]
  },
  {
   "cell_type": "markdown",
   "metadata": {},
   "source": [
    "# Test for one page"
   ]
  },
  {
   "cell_type": "code",
   "execution_count": null,
   "metadata": {
    "collapsed": true,
    "scrolled": true
   },
   "outputs": [],
   "source": [
    "get_image_types(\"http://www.hm.com/us/product/72818?article=72818-A\")"
   ]
  },
  {
   "cell_type": "markdown",
   "metadata": {},
   "source": [
    "# Test for all pags"
   ]
  },
  {
   "cell_type": "code",
   "execution_count": 3,
   "metadata": {
    "collapsed": true
   },
   "outputs": [],
   "source": [
    "import pickle\n",
    "file_names = ['url_list_women.p', 'url_list_women_sale.p', \n",
    "              'url_list_men.p', 'url_list_men_sale.p', \n",
    "              'url_list_kids.p', 'url_list_kids_sale.p']\n",
    "item_url_list = []\n",
    "for file_name in file_names:\n",
    "    f = open('pickle_data/' + file_name, 'rb')\n",
    "    item_url_list = item_url_list + pickle.load(f)\n",
    "    f.close()"
   ]
  },
  {
   "cell_type": "code",
   "execution_count": 4,
   "metadata": {
    "scrolled": false
   },
   "outputs": [
    {
     "data": {
      "text/plain": [
       "11739"
      ]
     },
     "execution_count": 4,
     "metadata": {},
     "output_type": "execute_result"
    }
   ],
   "source": [
    "len(item_url_list)"
   ]
  },
  {
   "cell_type": "code",
   "execution_count": 5,
   "metadata": {
    "collapsed": true
   },
   "outputs": [],
   "source": [
    "set_image_types = set()\n",
    "count = 0"
   ]
  },
  {
   "cell_type": "code",
   "execution_count": 6,
   "metadata": {
    "scrolled": true
   },
   "outputs": [
    {
     "name": "stdout",
     "output_type": "stream",
     "text": [
      "New types of an image added!!! [URL: http://www.hm.com/us/product/65274?article=65274-B ]\n",
      "Successful loop counts: 1\n",
      "set(['FASHION_FRONT', 'STILL_LIFE_FRONT', 'DETAIL'])\n",
      "New types of an image added!!! [URL: http://www.hm.com/us/product/68131?article=68131-A ]\n",
      "Successful loop counts: 19\n",
      "set(['STILL_LIFE_BACK', 'FASHION_FRONT', 'STILL_LIFE_FRONT', 'DETAIL'])\n",
      "Successful loop counts: 100 ==================\n",
      "Successful loop counts: 200 ==================\n",
      "Successful loop counts: 300 ==================\n",
      "Successful loop counts: 400 ==================\n",
      "Successful loop counts: 500 ==================\n",
      "Successful loop counts: 600 ==================\n",
      "Successful loop counts: 700 ==================\n",
      "Successful loop counts: 800 ==================\n",
      "Successful loop counts: 900 ==================\n",
      "Successful loop counts: 1000 ==================\n",
      "Successful loop counts: 1100 ==================\n",
      "Successful loop counts: 1200 ==================\n",
      "Successful loop counts: 1300 ==================\n",
      "Successful loop counts: 1400 ==================\n",
      "Successful loop counts: 1500 ==================\n",
      "Successful loop counts: 1600 ==================\n",
      "Successful loop counts: 1700 ==================\n",
      "Successful loop counts: 1800 ==================\n",
      "Successful loop counts: 1900 ==================\n",
      "Successful loop counts: 2000 ==================\n",
      "Successful loop counts: 2100 ==================\n",
      "Successful loop counts: 2200 ==================\n",
      "Successful loop counts: 2300 ==================\n",
      "Successful loop counts: 2400 ==================\n",
      "Successful loop counts: 2500 ==================\n",
      "Successful loop counts: 2600 ==================\n",
      "Successful loop counts: 2700 ==================\n",
      "Successful loop counts: 2800 ==================\n",
      "Successful loop counts: 2900 ==================\n",
      "Successful loop counts: 3000 ==================\n",
      "Successful loop counts: 3100 ==================\n",
      "New types of an image added!!! [URL: http://www.hm.com/us/product/45703?article=45703-B ]\n",
      "Successful loop counts: 3165\n",
      "set(['STILL_LIFE_BACK', 'FASHION_FRONT', 'DETAIL', 'STUDIO_FRONT', 'STILL_LIFE_FRONT'])\n",
      "Successful loop counts: 3200 ==================\n",
      "Successful loop counts: 3300 ==================\n",
      "Successful loop counts: 3400 ==================\n"
     ]
    },
    {
     "ename": "IOError",
     "evalue": "[Errno socket error] [Errno 10060] A connection attempt failed because the connected party did not properly respond after a period of time, or established connection failed because connected host has failed to respond",
     "output_type": "error",
     "traceback": [
      "\u001b[1;31m---------------------------------------------------------------------------\u001b[0m",
      "\u001b[1;31mIOError\u001b[0m                                   Traceback (most recent call last)",
      "\u001b[1;32m<ipython-input-6-6fec8eb604df>\u001b[0m in \u001b[0;36m<module>\u001b[1;34m()\u001b[0m\n\u001b[0;32m      2\u001b[0m     \u001b[0mitem_url\u001b[0m \u001b[1;33m=\u001b[0m \u001b[0mitem_url_list\u001b[0m\u001b[1;33m[\u001b[0m\u001b[0mi\u001b[0m\u001b[1;33m]\u001b[0m\u001b[1;33m\u001b[0m\u001b[0m\n\u001b[0;32m      3\u001b[0m     \u001b[0mlen_previous_set\u001b[0m \u001b[1;33m=\u001b[0m \u001b[0mlen\u001b[0m\u001b[1;33m(\u001b[0m\u001b[0mset_image_types\u001b[0m\u001b[1;33m)\u001b[0m\u001b[1;33m\u001b[0m\u001b[0m\n\u001b[1;32m----> 4\u001b[1;33m     \u001b[0mset_image_types\u001b[0m \u001b[1;33m=\u001b[0m \u001b[0mset_image_types\u001b[0m \u001b[1;33m|\u001b[0m \u001b[0mget_image_types\u001b[0m\u001b[1;33m(\u001b[0m\u001b[0mitem_url\u001b[0m\u001b[1;33m)\u001b[0m \u001b[1;31m# Union operator '|'\u001b[0m\u001b[1;33m\u001b[0m\u001b[0m\n\u001b[0m\u001b[0;32m      5\u001b[0m     \u001b[0mcount\u001b[0m \u001b[1;33m=\u001b[0m \u001b[0mcount\u001b[0m \u001b[1;33m+\u001b[0m \u001b[1;36m1\u001b[0m\u001b[1;33m\u001b[0m\u001b[0m\n\u001b[0;32m      6\u001b[0m     \u001b[1;32mif\u001b[0m \u001b[0mlen_previous_set\u001b[0m \u001b[1;33m<\u001b[0m \u001b[0mlen\u001b[0m\u001b[1;33m(\u001b[0m\u001b[0mset_image_types\u001b[0m\u001b[1;33m)\u001b[0m\u001b[1;33m:\u001b[0m\u001b[1;33m\u001b[0m\u001b[0m\n",
      "\u001b[1;32m<ipython-input-2-cc46fd211d1b>\u001b[0m in \u001b[0;36mget_image_types\u001b[1;34m(url_item)\u001b[0m\n\u001b[0;32m      1\u001b[0m \u001b[1;32mdef\u001b[0m \u001b[0mget_image_types\u001b[0m\u001b[1;33m(\u001b[0m\u001b[0murl_item\u001b[0m\u001b[1;33m)\u001b[0m\u001b[1;33m:\u001b[0m\u001b[1;33m\u001b[0m\u001b[0m\n\u001b[0;32m      2\u001b[0m     \u001b[1;31m# url_item = \"http://www.hm.com/us/product/72818?article=72818-A\"\u001b[0m\u001b[1;33m\u001b[0m\u001b[1;33m\u001b[0m\u001b[0m\n\u001b[1;32m----> 3\u001b[1;33m     \u001b[0mhandle\u001b[0m \u001b[1;33m=\u001b[0m \u001b[0murllib\u001b[0m\u001b[1;33m.\u001b[0m\u001b[0murlopen\u001b[0m\u001b[1;33m(\u001b[0m\u001b[0murl_item\u001b[0m\u001b[1;33m)\u001b[0m\u001b[1;33m\u001b[0m\u001b[0m\n\u001b[0m\u001b[0;32m      4\u001b[0m     \u001b[0mhtml_gunk\u001b[0m \u001b[1;33m=\u001b[0m  \u001b[0mhandle\u001b[0m\u001b[1;33m.\u001b[0m\u001b[0mread\u001b[0m\u001b[1;33m(\u001b[0m\u001b[1;33m)\u001b[0m\u001b[1;33m\u001b[0m\u001b[0m\n\u001b[0;32m      5\u001b[0m     \u001b[0mhandle\u001b[0m\u001b[1;33m.\u001b[0m\u001b[0mclose\u001b[0m\u001b[1;33m(\u001b[0m\u001b[1;33m)\u001b[0m\u001b[1;33m\u001b[0m\u001b[0m\n",
      "\u001b[1;32mC:\\ProgramData\\Anaconda2\\lib\\urllib.py\u001b[0m in \u001b[0;36murlopen\u001b[1;34m(url, data, proxies, context)\u001b[0m\n\u001b[0;32m     85\u001b[0m         \u001b[0mopener\u001b[0m \u001b[1;33m=\u001b[0m \u001b[0m_urlopener\u001b[0m\u001b[1;33m\u001b[0m\u001b[0m\n\u001b[0;32m     86\u001b[0m     \u001b[1;32mif\u001b[0m \u001b[0mdata\u001b[0m \u001b[1;32mis\u001b[0m \u001b[0mNone\u001b[0m\u001b[1;33m:\u001b[0m\u001b[1;33m\u001b[0m\u001b[0m\n\u001b[1;32m---> 87\u001b[1;33m         \u001b[1;32mreturn\u001b[0m \u001b[0mopener\u001b[0m\u001b[1;33m.\u001b[0m\u001b[0mopen\u001b[0m\u001b[1;33m(\u001b[0m\u001b[0murl\u001b[0m\u001b[1;33m)\u001b[0m\u001b[1;33m\u001b[0m\u001b[0m\n\u001b[0m\u001b[0;32m     88\u001b[0m     \u001b[1;32melse\u001b[0m\u001b[1;33m:\u001b[0m\u001b[1;33m\u001b[0m\u001b[0m\n\u001b[0;32m     89\u001b[0m         \u001b[1;32mreturn\u001b[0m \u001b[0mopener\u001b[0m\u001b[1;33m.\u001b[0m\u001b[0mopen\u001b[0m\u001b[1;33m(\u001b[0m\u001b[0murl\u001b[0m\u001b[1;33m,\u001b[0m \u001b[0mdata\u001b[0m\u001b[1;33m)\u001b[0m\u001b[1;33m\u001b[0m\u001b[0m\n",
      "\u001b[1;32mC:\\ProgramData\\Anaconda2\\lib\\urllib.py\u001b[0m in \u001b[0;36mopen\u001b[1;34m(self, fullurl, data)\u001b[0m\n\u001b[0;32m    211\u001b[0m         \u001b[1;32mtry\u001b[0m\u001b[1;33m:\u001b[0m\u001b[1;33m\u001b[0m\u001b[0m\n\u001b[0;32m    212\u001b[0m             \u001b[1;32mif\u001b[0m \u001b[0mdata\u001b[0m \u001b[1;32mis\u001b[0m \u001b[0mNone\u001b[0m\u001b[1;33m:\u001b[0m\u001b[1;33m\u001b[0m\u001b[0m\n\u001b[1;32m--> 213\u001b[1;33m                 \u001b[1;32mreturn\u001b[0m \u001b[0mgetattr\u001b[0m\u001b[1;33m(\u001b[0m\u001b[0mself\u001b[0m\u001b[1;33m,\u001b[0m \u001b[0mname\u001b[0m\u001b[1;33m)\u001b[0m\u001b[1;33m(\u001b[0m\u001b[0murl\u001b[0m\u001b[1;33m)\u001b[0m\u001b[1;33m\u001b[0m\u001b[0m\n\u001b[0m\u001b[0;32m    214\u001b[0m             \u001b[1;32melse\u001b[0m\u001b[1;33m:\u001b[0m\u001b[1;33m\u001b[0m\u001b[0m\n\u001b[0;32m    215\u001b[0m                 \u001b[1;32mreturn\u001b[0m \u001b[0mgetattr\u001b[0m\u001b[1;33m(\u001b[0m\u001b[0mself\u001b[0m\u001b[1;33m,\u001b[0m \u001b[0mname\u001b[0m\u001b[1;33m)\u001b[0m\u001b[1;33m(\u001b[0m\u001b[0murl\u001b[0m\u001b[1;33m,\u001b[0m \u001b[0mdata\u001b[0m\u001b[1;33m)\u001b[0m\u001b[1;33m\u001b[0m\u001b[0m\n",
      "\u001b[1;32mC:\\ProgramData\\Anaconda2\\lib\\urllib.py\u001b[0m in \u001b[0;36mopen_http\u001b[1;34m(self, url, data)\u001b[0m\n\u001b[0;32m    348\u001b[0m         \u001b[1;32mif\u001b[0m \u001b[0mrealhost\u001b[0m\u001b[1;33m:\u001b[0m \u001b[0mh\u001b[0m\u001b[1;33m.\u001b[0m\u001b[0mputheader\u001b[0m\u001b[1;33m(\u001b[0m\u001b[1;34m'Host'\u001b[0m\u001b[1;33m,\u001b[0m \u001b[0mrealhost\u001b[0m\u001b[1;33m)\u001b[0m\u001b[1;33m\u001b[0m\u001b[0m\n\u001b[0;32m    349\u001b[0m         \u001b[1;32mfor\u001b[0m \u001b[0margs\u001b[0m \u001b[1;32min\u001b[0m \u001b[0mself\u001b[0m\u001b[1;33m.\u001b[0m\u001b[0maddheaders\u001b[0m\u001b[1;33m:\u001b[0m \u001b[0mh\u001b[0m\u001b[1;33m.\u001b[0m\u001b[0mputheader\u001b[0m\u001b[1;33m(\u001b[0m\u001b[1;33m*\u001b[0m\u001b[0margs\u001b[0m\u001b[1;33m)\u001b[0m\u001b[1;33m\u001b[0m\u001b[0m\n\u001b[1;32m--> 350\u001b[1;33m         \u001b[0mh\u001b[0m\u001b[1;33m.\u001b[0m\u001b[0mendheaders\u001b[0m\u001b[1;33m(\u001b[0m\u001b[0mdata\u001b[0m\u001b[1;33m)\u001b[0m\u001b[1;33m\u001b[0m\u001b[0m\n\u001b[0m\u001b[0;32m    351\u001b[0m         \u001b[0merrcode\u001b[0m\u001b[1;33m,\u001b[0m \u001b[0merrmsg\u001b[0m\u001b[1;33m,\u001b[0m \u001b[0mheaders\u001b[0m \u001b[1;33m=\u001b[0m \u001b[0mh\u001b[0m\u001b[1;33m.\u001b[0m\u001b[0mgetreply\u001b[0m\u001b[1;33m(\u001b[0m\u001b[1;33m)\u001b[0m\u001b[1;33m\u001b[0m\u001b[0m\n\u001b[0;32m    352\u001b[0m         \u001b[0mfp\u001b[0m \u001b[1;33m=\u001b[0m \u001b[0mh\u001b[0m\u001b[1;33m.\u001b[0m\u001b[0mgetfile\u001b[0m\u001b[1;33m(\u001b[0m\u001b[1;33m)\u001b[0m\u001b[1;33m\u001b[0m\u001b[0m\n",
      "\u001b[1;32mC:\\ProgramData\\Anaconda2\\lib\\httplib.py\u001b[0m in \u001b[0;36mendheaders\u001b[1;34m(self, message_body)\u001b[0m\n\u001b[0;32m   1036\u001b[0m         \u001b[1;32melse\u001b[0m\u001b[1;33m:\u001b[0m\u001b[1;33m\u001b[0m\u001b[0m\n\u001b[0;32m   1037\u001b[0m             \u001b[1;32mraise\u001b[0m \u001b[0mCannotSendHeader\u001b[0m\u001b[1;33m(\u001b[0m\u001b[1;33m)\u001b[0m\u001b[1;33m\u001b[0m\u001b[0m\n\u001b[1;32m-> 1038\u001b[1;33m         \u001b[0mself\u001b[0m\u001b[1;33m.\u001b[0m\u001b[0m_send_output\u001b[0m\u001b[1;33m(\u001b[0m\u001b[0mmessage_body\u001b[0m\u001b[1;33m)\u001b[0m\u001b[1;33m\u001b[0m\u001b[0m\n\u001b[0m\u001b[0;32m   1039\u001b[0m \u001b[1;33m\u001b[0m\u001b[0m\n\u001b[0;32m   1040\u001b[0m     \u001b[1;32mdef\u001b[0m \u001b[0mrequest\u001b[0m\u001b[1;33m(\u001b[0m\u001b[0mself\u001b[0m\u001b[1;33m,\u001b[0m \u001b[0mmethod\u001b[0m\u001b[1;33m,\u001b[0m \u001b[0murl\u001b[0m\u001b[1;33m,\u001b[0m \u001b[0mbody\u001b[0m\u001b[1;33m=\u001b[0m\u001b[0mNone\u001b[0m\u001b[1;33m,\u001b[0m \u001b[0mheaders\u001b[0m\u001b[1;33m=\u001b[0m\u001b[1;33m{\u001b[0m\u001b[1;33m}\u001b[0m\u001b[1;33m)\u001b[0m\u001b[1;33m:\u001b[0m\u001b[1;33m\u001b[0m\u001b[0m\n",
      "\u001b[1;32mC:\\ProgramData\\Anaconda2\\lib\\httplib.py\u001b[0m in \u001b[0;36m_send_output\u001b[1;34m(self, message_body)\u001b[0m\n\u001b[0;32m    880\u001b[0m             \u001b[0mmsg\u001b[0m \u001b[1;33m+=\u001b[0m \u001b[0mmessage_body\u001b[0m\u001b[1;33m\u001b[0m\u001b[0m\n\u001b[0;32m    881\u001b[0m             \u001b[0mmessage_body\u001b[0m \u001b[1;33m=\u001b[0m \u001b[0mNone\u001b[0m\u001b[1;33m\u001b[0m\u001b[0m\n\u001b[1;32m--> 882\u001b[1;33m         \u001b[0mself\u001b[0m\u001b[1;33m.\u001b[0m\u001b[0msend\u001b[0m\u001b[1;33m(\u001b[0m\u001b[0mmsg\u001b[0m\u001b[1;33m)\u001b[0m\u001b[1;33m\u001b[0m\u001b[0m\n\u001b[0m\u001b[0;32m    883\u001b[0m         \u001b[1;32mif\u001b[0m \u001b[0mmessage_body\u001b[0m \u001b[1;32mis\u001b[0m \u001b[1;32mnot\u001b[0m \u001b[0mNone\u001b[0m\u001b[1;33m:\u001b[0m\u001b[1;33m\u001b[0m\u001b[0m\n\u001b[0;32m    884\u001b[0m             \u001b[1;31m#message_body was not a string (i.e. it is a file) and\u001b[0m\u001b[1;33m\u001b[0m\u001b[1;33m\u001b[0m\u001b[0m\n",
      "\u001b[1;32mC:\\ProgramData\\Anaconda2\\lib\\httplib.py\u001b[0m in \u001b[0;36msend\u001b[1;34m(self, data)\u001b[0m\n\u001b[0;32m    842\u001b[0m         \u001b[1;32mif\u001b[0m \u001b[0mself\u001b[0m\u001b[1;33m.\u001b[0m\u001b[0msock\u001b[0m \u001b[1;32mis\u001b[0m \u001b[0mNone\u001b[0m\u001b[1;33m:\u001b[0m\u001b[1;33m\u001b[0m\u001b[0m\n\u001b[0;32m    843\u001b[0m             \u001b[1;32mif\u001b[0m \u001b[0mself\u001b[0m\u001b[1;33m.\u001b[0m\u001b[0mauto_open\u001b[0m\u001b[1;33m:\u001b[0m\u001b[1;33m\u001b[0m\u001b[0m\n\u001b[1;32m--> 844\u001b[1;33m                 \u001b[0mself\u001b[0m\u001b[1;33m.\u001b[0m\u001b[0mconnect\u001b[0m\u001b[1;33m(\u001b[0m\u001b[1;33m)\u001b[0m\u001b[1;33m\u001b[0m\u001b[0m\n\u001b[0m\u001b[0;32m    845\u001b[0m             \u001b[1;32melse\u001b[0m\u001b[1;33m:\u001b[0m\u001b[1;33m\u001b[0m\u001b[0m\n\u001b[0;32m    846\u001b[0m                 \u001b[1;32mraise\u001b[0m \u001b[0mNotConnected\u001b[0m\u001b[1;33m(\u001b[0m\u001b[1;33m)\u001b[0m\u001b[1;33m\u001b[0m\u001b[0m\n",
      "\u001b[1;32mC:\\ProgramData\\Anaconda2\\lib\\httplib.py\u001b[0m in \u001b[0;36mconnect\u001b[1;34m(self)\u001b[0m\n\u001b[0;32m    819\u001b[0m         \u001b[1;34m\"\"\"Connect to the host and port specified in __init__.\"\"\"\u001b[0m\u001b[1;33m\u001b[0m\u001b[0m\n\u001b[0;32m    820\u001b[0m         self.sock = self._create_connection((self.host,self.port),\n\u001b[1;32m--> 821\u001b[1;33m                                            self.timeout, self.source_address)\n\u001b[0m\u001b[0;32m    822\u001b[0m \u001b[1;33m\u001b[0m\u001b[0m\n\u001b[0;32m    823\u001b[0m         \u001b[1;32mif\u001b[0m \u001b[0mself\u001b[0m\u001b[1;33m.\u001b[0m\u001b[0m_tunnel_host\u001b[0m\u001b[1;33m:\u001b[0m\u001b[1;33m\u001b[0m\u001b[0m\n",
      "\u001b[1;32mC:\\ProgramData\\Anaconda2\\lib\\socket.py\u001b[0m in \u001b[0;36mcreate_connection\u001b[1;34m(address, timeout, source_address)\u001b[0m\n\u001b[0;32m    573\u001b[0m \u001b[1;33m\u001b[0m\u001b[0m\n\u001b[0;32m    574\u001b[0m     \u001b[1;32mif\u001b[0m \u001b[0merr\u001b[0m \u001b[1;32mis\u001b[0m \u001b[1;32mnot\u001b[0m \u001b[0mNone\u001b[0m\u001b[1;33m:\u001b[0m\u001b[1;33m\u001b[0m\u001b[0m\n\u001b[1;32m--> 575\u001b[1;33m         \u001b[1;32mraise\u001b[0m \u001b[0merr\u001b[0m\u001b[1;33m\u001b[0m\u001b[0m\n\u001b[0m\u001b[0;32m    576\u001b[0m     \u001b[1;32melse\u001b[0m\u001b[1;33m:\u001b[0m\u001b[1;33m\u001b[0m\u001b[0m\n\u001b[0;32m    577\u001b[0m         \u001b[1;32mraise\u001b[0m \u001b[0merror\u001b[0m\u001b[1;33m(\u001b[0m\u001b[1;34m\"getaddrinfo returns an empty list\"\u001b[0m\u001b[1;33m)\u001b[0m\u001b[1;33m\u001b[0m\u001b[0m\n",
      "\u001b[1;31mIOError\u001b[0m: [Errno socket error] [Errno 10060] A connection attempt failed because the connected party did not properly respond after a period of time, or established connection failed because connected host has failed to respond"
     ]
    }
   ],
   "source": [
    "for i in range(count, len(item_url_list)):\n",
    "    item_url = item_url_list[i]\n",
    "    len_previous_set = len(set_image_types)\n",
    "    set_image_types = set_image_types | get_image_types(item_url) # Union operator '|'\n",
    "    count = count + 1\n",
    "    if len_previous_set < len(set_image_types):\n",
    "        print \"New types of an image added!!! [URL: \" + item_url + \" ]\"\n",
    "        print \"Successful loop counts:\", count\n",
    "        print set_image_types \n",
    "    if count % 100 == 0:\n",
    "        print \"Successful loop counts:\", count, \"==================\""
   ]
  },
  {
   "cell_type": "code",
   "execution_count": 7,
   "metadata": {},
   "outputs": [
    {
     "name": "stdout",
     "output_type": "stream",
     "text": [
      "Successful loop counts: 3500 ==================\n",
      "Successful loop counts: 3600 ==================\n",
      "Successful loop counts: 3700 ==================\n",
      "Successful loop counts: 3800 ==================\n",
      "Successful loop counts: 3900 ==================\n",
      "Successful loop counts: 4000 ==================\n",
      "Successful loop counts: 4100 ==================\n",
      "Successful loop counts: 4200 ==================\n",
      "Successful loop counts: 4300 ==================\n",
      "Successful loop counts: 4400 ==================\n",
      "Successful loop counts: 4500 ==================\n",
      "Successful loop counts: 4600 ==================\n",
      "Successful loop counts: 4700 ==================\n",
      "Successful loop counts: 4800 ==================\n",
      "Successful loop counts: 4900 ==================\n",
      "Successful loop counts: 5000 ==================\n",
      "Successful loop counts: 5100 ==================\n",
      "Successful loop counts: 5200 ==================\n",
      "Successful loop counts: 5300 ==================\n",
      "Successful loop counts: 5400 ==================\n",
      "Successful loop counts: 5500 ==================\n",
      "Successful loop counts: 5600 ==================\n",
      "Successful loop counts: 5700 ==================\n",
      "Successful loop counts: 5800 ==================\n",
      "Successful loop counts: 5900 ==================\n",
      "Successful loop counts: 6000 ==================\n",
      "Successful loop counts: 6100 ==================\n",
      "Successful loop counts: 6200 ==================\n",
      "Successful loop counts: 6300 ==================\n",
      "Successful loop counts: 6400 ==================\n",
      "Successful loop counts: 6500 ==================\n",
      "Successful loop counts: 6600 ==================\n",
      "Successful loop counts: 6700 ==================\n",
      "Successful loop counts: 6800 ==================\n",
      "Successful loop counts: 6900 ==================\n",
      "Successful loop counts: 7000 ==================\n",
      "Successful loop counts: 7100 ==================\n",
      "Successful loop counts: 7200 ==================\n",
      "Successful loop counts: 7300 ==================\n",
      "Successful loop counts: 7400 ==================\n",
      "Successful loop counts: 7500 ==================\n",
      "Successful loop counts: 7600 ==================\n",
      "Successful loop counts: 7700 ==================\n",
      "Successful loop counts: 7800 ==================\n",
      "Successful loop counts: 7900 ==================\n",
      "Successful loop counts: 8000 ==================\n",
      "Successful loop counts: 8100 ==================\n",
      "Successful loop counts: 8200 ==================\n",
      "Successful loop counts: 8300 ==================\n",
      "Successful loop counts: 8400 ==================\n",
      "Successful loop counts: 8500 ==================\n",
      "Successful loop counts: 8600 ==================\n",
      "Successful loop counts: 8700 ==================\n",
      "Successful loop counts: 8800 ==================\n",
      "Successful loop counts: 8900 ==================\n",
      "Successful loop counts: 9000 ==================\n",
      "Successful loop counts: 9100 ==================\n",
      "Successful loop counts: 9200 ==================\n",
      "Successful loop counts: 9300 ==================\n",
      "Successful loop counts: 9400 ==================\n",
      "Successful loop counts: 9500 ==================\n",
      "Successful loop counts: 9600 ==================\n",
      "Successful loop counts: 9700 ==================\n",
      "Successful loop counts: 9800 ==================\n",
      "Successful loop counts: 9900 ==================\n",
      "Successful loop counts: 10000 ==================\n",
      "Successful loop counts: 10100 ==================\n",
      "Successful loop counts: 10200 ==================\n",
      "Successful loop counts: 10300 ==================\n",
      "Successful loop counts: 10400 ==================\n",
      "Successful loop counts: 10500 ==================\n",
      "Successful loop counts: 10600 ==================\n",
      "Successful loop counts: 10700 ==================\n",
      "Successful loop counts: 10800 ==================\n",
      "Successful loop counts: 10900 ==================\n",
      "Successful loop counts: 11000 ==================\n",
      "Successful loop counts: 11100 ==================\n",
      "Successful loop counts: 11200 ==================\n",
      "Successful loop counts: 11300 ==================\n",
      "Successful loop counts: 11400 ==================\n",
      "Successful loop counts: 11500 ==================\n",
      "Successful loop counts: 11600 ==================\n",
      "Successful loop counts: 11700 ==================\n"
     ]
    }
   ],
   "source": [
    "for i in range(count, len(item_url_list)):\n",
    "    item_url = item_url_list[i]\n",
    "    len_previous_set = len(set_image_types)\n",
    "    set_image_types = set_image_types | get_image_types(item_url) # Union operator '|'\n",
    "    count = count + 1\n",
    "    if len_previous_set < len(set_image_types):\n",
    "        print \"New types of an image added!!! [URL: \" + item_url + \" ]\"\n",
    "        print \"Successful loop counts:\", count\n",
    "        print set_image_types \n",
    "    if count % 100 == 0:\n",
    "        print \"Successful loop counts:\", count, \"==================\""
   ]
  },
  {
   "cell_type": "markdown",
   "metadata": {},
   "source": [
    "# Result"
   ]
  },
  {
   "cell_type": "code",
   "execution_count": 8,
   "metadata": {},
   "outputs": [
    {
     "data": {
      "text/plain": [
       "11739"
      ]
     },
     "execution_count": 8,
     "metadata": {},
     "output_type": "execute_result"
    }
   ],
   "source": [
    "count"
   ]
  },
  {
   "cell_type": "code",
   "execution_count": 9,
   "metadata": {},
   "outputs": [
    {
     "data": {
      "text/plain": [
       "{'DETAIL',\n",
       " 'FASHION_FRONT',\n",
       " 'STILL_LIFE_BACK',\n",
       " 'STILL_LIFE_FRONT',\n",
       " 'STUDIO_FRONT'}"
      ]
     },
     "execution_count": 9,
     "metadata": {},
     "output_type": "execute_result"
    }
   ],
   "source": [
    "set_image_types"
   ]
  },
  {
   "cell_type": "markdown",
   "metadata": {},
   "source": [
    "# Summary"
   ]
  },
  {
   "cell_type": "raw",
   "metadata": {},
   "source": [
    "New types of an image added!!! [URL: http://www.hm.com/us/product/65274?article=65274-B ]\n",
    "Successful loop counts: 1\n",
    "set(['FASHION_FRONT', 'STILL_LIFE_FRONT', 'DETAIL'])\n",
    "New types of an image added!!! [URL: http://www.hm.com/us/product/68131?article=68131-A ]\n",
    "Successful loop counts: 19\n",
    "set(['STILL_LIFE_BACK', 'FASHION_FRONT', 'STILL_LIFE_FRONT', 'DETAIL'])\n",
    "Successful loop counts: 100 ==================\n",
    "Successful loop counts: 200 ==================\n",
    "Successful loop counts: 300 ==================\n",
    "Successful loop counts: 400 ==================\n",
    "Successful loop counts: 500 ==================\n",
    "Successful loop counts: 600 ==================\n",
    "Successful loop counts: 700 ==================\n",
    "Successful loop counts: 800 ==================\n",
    "Successful loop counts: 900 ==================\n",
    "Successful loop counts: 1000 ==================\n",
    "Successful loop counts: 1100 ==================\n",
    "Successful loop counts: 1200 ==================\n",
    "Successful loop counts: 1300 ==================\n",
    "Successful loop counts: 1400 ==================\n",
    "Successful loop counts: 1500 ==================\n",
    "Successful loop counts: 1600 ==================\n",
    "Successful loop counts: 1700 ==================\n",
    "Successful loop counts: 1800 ==================\n",
    "Successful loop counts: 1900 ==================\n",
    "Successful loop counts: 2000 ==================\n",
    "Successful loop counts: 2100 ==================\n",
    "Successful loop counts: 2200 ==================\n",
    "Successful loop counts: 2300 ==================\n",
    "Successful loop counts: 2400 ==================\n",
    "Successful loop counts: 2500 ==================\n",
    "Successful loop counts: 2600 ==================\n",
    "Successful loop counts: 2700 ==================\n",
    "Successful loop counts: 2800 ==================\n",
    "Successful loop counts: 2900 ==================\n",
    "Successful loop counts: 3000 ==================\n",
    "Successful loop counts: 3100 ==================\n",
    "New types of an image added!!! [URL: http://www.hm.com/us/product/45703?article=45703-B ]\n",
    "Successful loop counts: 3165\n",
    "set(['STILL_LIFE_BACK', 'FASHION_FRONT', 'DETAIL', 'STUDIO_FRONT', 'STILL_LIFE_FRONT'])\n",
    "Successful loop counts: 3200 ==================\n",
    "Successful loop counts: 3300 ==================\n",
    "Successful loop counts: 3400 ==================\n",
    "Successful loop counts: 3500 ==================\n",
    "Successful loop counts: 3600 ==================\n",
    "Successful loop counts: 3700 ==================\n",
    "Successful loop counts: 3800 ==================\n",
    "Successful loop counts: 3900 ==================\n",
    "Successful loop counts: 4000 ==================\n",
    "Successful loop counts: 4100 ==================\n",
    "Successful loop counts: 4200 ==================\n",
    "Successful loop counts: 4300 ==================\n",
    "Successful loop counts: 4400 ==================\n",
    "Successful loop counts: 4500 ==================\n",
    "Successful loop counts: 4600 ==================\n",
    "Successful loop counts: 4700 ==================\n",
    "Successful loop counts: 4800 ==================\n",
    "Successful loop counts: 4900 ==================\n",
    "Successful loop counts: 5000 ==================\n",
    "Successful loop counts: 5100 ==================\n",
    "Successful loop counts: 5200 ==================\n",
    "Successful loop counts: 5300 ==================\n",
    "Successful loop counts: 5400 ==================\n",
    "Successful loop counts: 5500 ==================\n",
    "Successful loop counts: 5600 ==================\n",
    "Successful loop counts: 5700 ==================\n",
    "Successful loop counts: 5800 ==================\n",
    "Successful loop counts: 5900 ==================\n",
    "Successful loop counts: 6000 ==================\n",
    "Successful loop counts: 6100 ==================\n",
    "Successful loop counts: 6200 ==================\n",
    "Successful loop counts: 6300 ==================\n",
    "Successful loop counts: 6400 ==================\n",
    "Successful loop counts: 6500 ==================\n",
    "Successful loop counts: 6600 ==================\n",
    "Successful loop counts: 6700 ==================\n",
    "Successful loop counts: 6800 ==================\n",
    "Successful loop counts: 6900 ==================\n",
    "Successful loop counts: 7000 ==================\n",
    "Successful loop counts: 7100 ==================\n",
    "Successful loop counts: 7200 ==================\n",
    "Successful loop counts: 7300 ==================\n",
    "Successful loop counts: 7400 ==================\n",
    "Successful loop counts: 7500 ==================\n",
    "Successful loop counts: 7600 ==================\n",
    "Successful loop counts: 7700 ==================\n",
    "Successful loop counts: 7800 ==================\n",
    "Successful loop counts: 7900 ==================\n",
    "Successful loop counts: 8000 ==================\n",
    "Successful loop counts: 8100 ==================\n",
    "Successful loop counts: 8200 ==================\n",
    "Successful loop counts: 8300 ==================\n",
    "Successful loop counts: 8400 ==================\n",
    "Successful loop counts: 8500 ==================\n",
    "Successful loop counts: 8600 ==================\n",
    "Successful loop counts: 8700 ==================\n",
    "Successful loop counts: 8800 ==================\n",
    "Successful loop counts: 8900 ==================\n",
    "Successful loop counts: 9000 ==================\n",
    "Successful loop counts: 9100 ==================\n",
    "Successful loop counts: 9200 ==================\n",
    "Successful loop counts: 9300 ==================\n",
    "Successful loop counts: 9400 ==================\n",
    "Successful loop counts: 9500 ==================\n",
    "Successful loop counts: 9600 ==================\n",
    "Successful loop counts: 9700 ==================\n",
    "Successful loop counts: 9800 ==================\n",
    "Successful loop counts: 9900 ==================\n",
    "Successful loop counts: 10000 ==================\n",
    "Successful loop counts: 10100 ==================\n",
    "Successful loop counts: 10200 ==================\n",
    "Successful loop counts: 10300 ==================\n",
    "Successful loop counts: 10400 ==================\n",
    "Successful loop counts: 10500 ==================\n",
    "Successful loop counts: 10600 ==================\n",
    "Successful loop counts: 10700 ==================\n",
    "Successful loop counts: 10800 ==================\n",
    "Successful loop counts: 10900 ==================\n",
    "Successful loop counts: 11000 ==================\n",
    "Successful loop counts: 11100 ==================\n",
    "Successful loop counts: 11200 ==================\n",
    "Successful loop counts: 11300 ==================\n",
    "Successful loop counts: 11400 ==================\n",
    "Successful loop counts: 11500 ==================\n",
    "Successful loop counts: 11600 ==================\n",
    "Successful loop counts: 11700 =================="
   ]
  },
  {
   "cell_type": "markdown",
   "metadata": {},
   "source": [
    "* http://www.hm.com/us/product/65274?article=65274-B \n",
    "  * {'FASHION_FRONT', 'STILL_LIFE_FRONT', 'DETAIL'}\n",
    "  \n",
    "  \n",
    "* http://www.hm.com/us/product/68131?article=68131-A \n",
    "  * {'FASHION_FRONT', 'STILL_LIFE_FRONT', 'STILL_LIFE_BACK', 'DETAIL'}\n",
    "  \n",
    "  \n",
    "* http://www.hm.com/us/product/45703?article=45703-B \n",
    "  * {'STUDIO_FRONT', 'STILL_LIFE_FRONT', 'DETAIL'}"
   ]
  }
 ],
 "metadata": {
  "kernelspec": {
   "display_name": "Python 2",
   "language": "python",
   "name": "python2"
  },
  "language_info": {
   "codemirror_mode": {
    "name": "ipython",
    "version": 2
   },
   "file_extension": ".py",
   "mimetype": "text/x-python",
   "name": "python",
   "nbconvert_exporter": "python",
   "pygments_lexer": "ipython2",
   "version": "2.7.13"
  }
 },
 "nbformat": 4,
 "nbformat_minor": 2
}
