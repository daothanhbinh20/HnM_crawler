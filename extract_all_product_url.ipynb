{
 "cells": [
  {
   "cell_type": "code",
   "execution_count": 25,
   "metadata": {
    "collapsed": true
   },
   "outputs": [],
   "source": [
    "from HTMLParser import HTMLParser\n",
    "class HnM_ItemList_Parser(HTMLParser):\n",
    "    in_item_url_tag = False\n",
    "    item_url_list = []\n",
    "    def handle_starttag(self, tag, attrs):\n",
    "        if tag == \"a\":\n",
    "            for attr in attrs:\n",
    "                if attr[0] == \"class\" and attr[1] == \"product-url js-product-tracking\":\n",
    "                    self.in_item_url_tag = True\n",
    "                    break\n",
    "            if self.in_item_url_tag:\n",
    "                for attr in attrs:\n",
    "                    if attr[0] == \"href\":\n",
    "                        self.item_url_list.append(str(attr[1]))\n",
    "                        self.in_item_url_tag = False\n",
    "    def get_item_url_list(self):\n",
    "        return self.item_url_list\n",
    "    \n",
    "    def refresh(self):\n",
    "        self.item_url_list = []"
   ]
  },
  {
   "cell_type": "code",
   "execution_count": 26,
   "metadata": {
    "collapsed": true
   },
   "outputs": [],
   "source": [
    "file_names = ['women_list_page.html', 'women_sale_list_page.html', \n",
    "              'men_list_page.html', 'men_sale_list_page.html', \n",
    "              'kids_list_page.html', 'kids_sale_list_page.html']"
   ]
  },
  {
   "cell_type": "code",
   "execution_count": 33,
   "metadata": {
    "collapsed": true
   },
   "outputs": [],
   "source": [
    "url_list = []"
   ]
  },
  {
   "cell_type": "code",
   "execution_count": 34,
   "metadata": {
    "collapsed": true
   },
   "outputs": [],
   "source": [
    "for file_name in file_names:\n",
    "    f = open('item_list_pages/' + file_name, 'rb')\n",
    "    str_list_page = f.read()\n",
    "    f.close()\n",
    "    parser = HnM_ItemList_Parser()\n",
    "    parser.feed(str_list_page)\n",
    "    url_list = url_list + parser.get_item_url_list()\n",
    "    parser.refresh()"
   ]
  },
  {
   "cell_type": "code",
   "execution_count": 35,
   "metadata": {
    "scrolled": true
   },
   "outputs": [
    {
     "data": {
      "text/plain": [
       "191899"
      ]
     },
     "execution_count": 35,
     "metadata": {},
     "output_type": "execute_result"
    }
   ],
   "source": [
    "len(url_list)"
   ]
  },
  {
   "cell_type": "code",
   "execution_count": null,
   "metadata": {
    "collapsed": true
   },
   "outputs": [],
   "source": [
    "num = 0\n",
    "for url_lists"
   ]
  },
  {
   "cell_type": "code",
   "execution_count": 1,
   "metadata": {
    "collapsed": true
   },
   "outputs": [],
   "source": [
    "f = open('women_list_page.html', 'rb')"
   ]
  },
  {
   "cell_type": "code",
   "execution_count": 2,
   "metadata": {
    "collapsed": true
   },
   "outputs": [],
   "source": [
    "str_list_page = f.read()"
   ]
  },
  {
   "cell_type": "code",
   "execution_count": 3,
   "metadata": {
    "collapsed": true
   },
   "outputs": [],
   "source": [
    "f.close()"
   ]
  },
  {
   "cell_type": "code",
   "execution_count": 5,
   "metadata": {
    "collapsed": true
   },
   "outputs": [],
   "source": [
    "parser = HnM_ItemList_Parser()"
   ]
  },
  {
   "cell_type": "code",
   "execution_count": 6,
   "metadata": {
    "collapsed": true
   },
   "outputs": [],
   "source": [
    "parser.feed(str_list_page)"
   ]
  },
  {
   "cell_type": "code",
   "execution_count": 7,
   "metadata": {
    "collapsed": true
   },
   "outputs": [],
   "source": [
    "item_url_list = parser.get_item_url_list()"
   ]
  },
  {
   "cell_type": "code",
   "execution_count": 8,
   "metadata": {},
   "outputs": [
    {
     "data": {
      "text/plain": [
       "5189"
      ]
     },
     "execution_count": 8,
     "metadata": {},
     "output_type": "execute_result"
    }
   ],
   "source": [
    "len(item_url_list)"
   ]
  },
  {
   "cell_type": "code",
   "execution_count": 9,
   "metadata": {
    "scrolled": false
   },
   "outputs": [
    {
     "data": {
      "text/plain": [
       "['http://www.hm.com/us/product/65274?article=65274-B',\n",
       " 'http://www.hm.com/us/product/65274?article=65274-E',\n",
       " 'http://www.hm.com/us/product/67562?article=67562-D',\n",
       " 'http://www.hm.com/us/product/54630?article=54630-F',\n",
       " 'http://www.hm.com/us/product/66996?article=66996-B',\n",
       " 'http://www.hm.com/us/product/22590?article=22590-V',\n",
       " 'http://www.hm.com/us/product/67571?article=67571-A',\n",
       " 'http://www.hm.com/us/product/70360?article=70360-A',\n",
       " 'http://www.hm.com/us/product/70480?article=70480-C',\n",
       " 'http://www.hm.com/us/product/64155?article=64155-B']"
      ]
     },
     "execution_count": 9,
     "metadata": {},
     "output_type": "execute_result"
    }
   ],
   "source": [
    "item_url_list[:10]"
   ]
  },
  {
   "cell_type": "code",
   "execution_count": 10,
   "metadata": {},
   "outputs": [
    {
     "data": {
      "text/plain": [
       "'http://www.hm.com/us/product/64397?article=64397-B'"
      ]
     },
     "execution_count": 10,
     "metadata": {},
     "output_type": "execute_result"
    }
   ],
   "source": [
    "item_url_list[-1]"
   ]
  },
  {
   "cell_type": "markdown",
   "metadata": {},
   "source": [
    "### Serializing the list"
   ]
  },
  {
   "cell_type": "code",
   "execution_count": 11,
   "metadata": {
    "collapsed": true
   },
   "outputs": [],
   "source": [
    "import pickle\n",
    "f = open('url_list_women.p', 'wb')\n",
    "pickle.dump(item_url_list, f)\n",
    "f.close()"
   ]
  }
 ],
 "metadata": {
  "kernelspec": {
   "display_name": "Python 2",
   "language": "python",
   "name": "python2"
  },
  "language_info": {
   "codemirror_mode": {
    "name": "ipython",
    "version": 2
   },
   "file_extension": ".py",
   "mimetype": "text/x-python",
   "name": "python",
   "nbconvert_exporter": "python",
   "pygments_lexer": "ipython2",
   "version": "2.7.13"
  }
 },
 "nbformat": 4,
 "nbformat_minor": 2
}
