{
 "cells": [
  {
   "cell_type": "raw",
   "metadata": {},
   "source": [
    "<annotation>\n",
    "\t<folder>VOC2007</folder>\n",
    "\t<filename>000001.jpg</filename>\n",
    "\t<source>\n",
    "\t\t<database>The VOC2007 Database</database>\n",
    "\t\t<annotation>PASCAL VOC2007</annotation>\n",
    "\t\t<image>flickr</image>\n",
    "\t\t<flickrid>341012865</flickrid>\n",
    "\t</source>\n",
    "\t<owner>\n",
    "\t\t<flickrid>Fried Camels</flickrid>\n",
    "\t\t<name>Jinky the Fruit Bat</name>\n",
    "\t</owner>\n",
    "\t<size>\n",
    "\t\t<width>353</width>\n",
    "\t\t<height>500</height>\n",
    "\t\t<depth>3</depth>\n",
    "\t</size>\n",
    "\t<segmented>0</segmented>\n",
    "\t<object>\n",
    "\t\t<name>dog</name>\n",
    "\t\t<pose>Left</pose>\n",
    "\t\t<truncated>1</truncated>\n",
    "\t\t<difficult>0</difficult>\n",
    "\t\t<bndbox>\n",
    "\t\t\t<xmin>48</xmin>\n",
    "\t\t\t<ymin>240</ymin>\n",
    "\t\t\t<xmax>195</xmax>\n",
    "\t\t\t<ymax>371</ymax>\n",
    "\t\t</bndbox>\n",
    "\t</object>\n",
    "\t<object>\n",
    "\t\t<name>person</name>\n",
    "\t\t<pose>Left</pose>\n",
    "\t\t<truncated>1</truncated>\n",
    "\t\t<difficult>0</difficult>\n",
    "\t\t<bndbox>\n",
    "\t\t\t<xmin>8</xmin>\n",
    "\t\t\t<ymin>12</ymin>\n",
    "\t\t\t<xmax>352</xmax>\n",
    "\t\t\t<ymax>498</ymax>\n",
    "\t\t</bndbox>\n",
    "\t</object>\n",
    "</annotation>\n"
   ]
  },
  {
   "cell_type": "code",
   "execution_count": 1,
   "metadata": {
    "collapsed": true
   },
   "outputs": [],
   "source": [
    "from lxml import etree"
   ]
  },
  {
   "cell_type": "code",
   "execution_count": 2,
   "metadata": {
    "collapsed": true
   },
   "outputs": [],
   "source": [
    "annotation_tag = etree.Element('annotation')"
   ]
  },
  {
   "cell_type": "code",
   "execution_count": 3,
   "metadata": {},
   "outputs": [],
   "source": [
    "folder_tag = etree.Element('folder')\n",
    "folder_tag.text = 'images_items'\n",
    "annotation_tag.append(folder_tag)"
   ]
  },
  {
   "cell_type": "code",
   "execution_count": 4,
   "metadata": {},
   "outputs": [],
   "source": [
    "filename_tag = etree.Element('filename')\n",
    "filename_tag.text = '72163-A.jpg'\n",
    "annotation_tag.append(filename_tag)"
   ]
  },
  {
   "cell_type": "code",
   "execution_count": 5,
   "metadata": {
    "collapsed": true
   },
   "outputs": [],
   "source": [
    "object_tag = etree.Element('object')\n",
    "annotation_tag.append(object_tag)"
   ]
  },
  {
   "cell_type": "code",
   "execution_count": 6,
   "metadata": {
    "collapsed": true
   },
   "outputs": [],
   "source": [
    "name_tag = etree.Element('name')\n",
    "name_tag.text = 'top'\n",
    "object_tag.append(name_tag)"
   ]
  },
  {
   "cell_type": "code",
   "execution_count": 8,
   "metadata": {
    "collapsed": true
   },
   "outputs": [],
   "source": [
    "bndbox_tag = etree.Element('bndbox')\n",
    "object_tag.append(bndbox_tag)"
   ]
  },
  {
   "cell_type": "code",
   "execution_count": 9,
   "metadata": {
    "collapsed": true
   },
   "outputs": [],
   "source": [
    "xmin_tag = etree.Element('xmin')\n",
    "xmin_tag.text = '0'\n",
    "bndbox_tag.append(xmin_tag)"
   ]
  },
  {
   "cell_type": "code",
   "execution_count": 10,
   "metadata": {
    "collapsed": true
   },
   "outputs": [],
   "source": [
    "ymin_tag = etree.Element('ymin')\n",
    "ymin_tag.text = '0'\n",
    "bndbox_tag.append(ymin_tag)"
   ]
  },
  {
   "cell_type": "code",
   "execution_count": 12,
   "metadata": {
    "collapsed": true
   },
   "outputs": [],
   "source": [
    "xmax_tag = etree.Element('xmax')\n",
    "xmax_tag.text = '100'\n",
    "bndbox_tag.append(xmax_tag)"
   ]
  },
  {
   "cell_type": "code",
   "execution_count": 13,
   "metadata": {
    "collapsed": true
   },
   "outputs": [],
   "source": [
    "ymax_tag = etree.Element('ymax')\n",
    "ymax_tag.text = '100'\n",
    "bndbox_tag.append(ymax_tag)"
   ]
  },
  {
   "cell_type": "code",
   "execution_count": 14,
   "metadata": {
    "scrolled": true
   },
   "outputs": [
    {
     "name": "stdout",
     "output_type": "stream",
     "text": [
      "<annotation>\n",
      "  <folder>images_items</folder>\n",
      "  <filename>72163-A.jpg</filename>\n",
      "  <object>\n",
      "    <name>top</name>\n",
      "    <bndbox>\n",
      "      <xmin>0</xmin>\n",
      "      <ymin>0</ymin>\n",
      "      <xmax>0</xmax>\n",
      "      <xmax>100</xmax>\n",
      "      <ymax>100</ymax>\n",
      "    </bndbox>\n",
      "  </object>\n",
      "</annotation>\n",
      "\n"
     ]
    }
   ],
   "source": [
    "s = etree.tostring(annotation_tag, pretty_print=True)\n",
    "print s"
   ]
  }
 ],
 "metadata": {
  "kernelspec": {
   "display_name": "Python 2",
   "language": "python",
   "name": "python2"
  },
  "language_info": {
   "codemirror_mode": {
    "name": "ipython",
    "version": 2
   },
   "file_extension": ".py",
   "mimetype": "text/x-python",
   "name": "python",
   "nbconvert_exporter": "python",
   "pygments_lexer": "ipython2",
   "version": "2.7.13"
  }
 },
 "nbformat": 4,
 "nbformat_minor": 2
}
