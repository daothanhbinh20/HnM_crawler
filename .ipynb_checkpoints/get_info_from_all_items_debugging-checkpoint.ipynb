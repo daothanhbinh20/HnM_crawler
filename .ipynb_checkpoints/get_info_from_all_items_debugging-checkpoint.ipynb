{
 "cells": [
  {
   "cell_type": "code",
   "execution_count": 1,
   "metadata": {
    "collapsed": true
   },
   "outputs": [],
   "source": [
    "import pickle"
   ]
  },
  {
   "cell_type": "code",
   "execution_count": 2,
   "metadata": {
    "collapsed": true
   },
   "outputs": [],
   "source": [
    "file_names = ['url_list_women.p', 'url_list_women_sale.p', \n",
    "              'url_list_men.p', 'url_list_men_sale.p']"
   ]
  },
  {
   "cell_type": "code",
   "execution_count": 3,
   "metadata": {
    "collapsed": true
   },
   "outputs": [],
   "source": [
    "item_url_list = []"
   ]
  },
  {
   "cell_type": "code",
   "execution_count": 4,
   "metadata": {
    "collapsed": true
   },
   "outputs": [],
   "source": [
    "for file_name in file_names:\n",
    "    f = open('pickle_data/' + file_name, 'rb')\n",
    "    item_url_list = item_url_list + pickle.load(f)\n",
    "    f.close()"
   ]
  },
  {
   "cell_type": "code",
   "execution_count": 5,
   "metadata": {
    "scrolled": true
   },
   "outputs": [
    {
     "data": {
      "text/plain": [
       "8528"
      ]
     },
     "execution_count": 5,
     "metadata": {},
     "output_type": "execute_result"
    }
   ],
   "source": [
    "len(item_url_list)"
   ]
  },
  {
   "cell_type": "code",
   "execution_count": 6,
   "metadata": {
    "scrolled": true
   },
   "outputs": [
    {
     "data": {
      "text/plain": [
       "['http://www.hm.com/us/product/65274?article=65274-B',\n",
       " 'http://www.hm.com/us/product/65274?article=65274-E',\n",
       " 'http://www.hm.com/us/product/67562?article=67562-D',\n",
       " 'http://www.hm.com/us/product/54630?article=54630-F',\n",
       " 'http://www.hm.com/us/product/66996?article=66996-B',\n",
       " 'http://www.hm.com/us/product/22590?article=22590-V',\n",
       " 'http://www.hm.com/us/product/67571?article=67571-A',\n",
       " 'http://www.hm.com/us/product/70360?article=70360-A',\n",
       " 'http://www.hm.com/us/product/70480?article=70480-C',\n",
       " 'http://www.hm.com/us/product/64155?article=64155-B']"
      ]
     },
     "execution_count": 6,
     "metadata": {},
     "output_type": "execute_result"
    }
   ],
   "source": [
    "item_url_list[:10]"
   ]
  },
  {
   "cell_type": "code",
   "execution_count": 7,
   "metadata": {
    "collapsed": true
   },
   "outputs": [],
   "source": [
    "import urllib\n",
    "def return_item_page(url_item):\n",
    "    handle = urllib.urlopen(url_item)\n",
    "    html_gunk =  handle.read()\n",
    "    handle.close()\n",
    "    return str(html_gunk)"
   ]
  },
  {
   "cell_type": "code",
   "execution_count": 8,
   "metadata": {
    "collapsed": true
   },
   "outputs": [],
   "source": [
    "def get_metricCategoryID(item_page):\n",
    "    idx_start = item_page.find(\"metricCategoryID\") + len('metricCategoryID\":\"')\n",
    "    idx_end = idx_start + item_page[idx_start:].find('\"')\n",
    "    \n",
    "    return item_page[idx_start:idx_end]\n",
    "\n",
    "def check_metricCategoryID(metricCategoryID):\n",
    "    category_list = ['TOPS', 'BOTTOMS', 'SHIRT', 'VESTS' 'BLOUSES', 'DRESSES', 'JUMPSUITS', 'JEANS', 'PANTS', 'TROUSERS', 'CARDIGANS', 'SWEATERS', 'JUMPERS', 'HOODIES', \n",
    "               'SWEATSHIRTS', 'SHORTS', 'SKIRTS', 'JACKETS', 'COATS', 'BLAZERS', 'SUITS']\n",
    "    for category in category_list:\n",
    "        if metricCategoryID.find(category) != -1:\n",
    "            return True\n",
    "    return False\n",
    "\n",
    "def check_category(item_page):\n",
    "    return check_metricCategoryID(get_metricCategoryID(item_page))"
   ]
  },
  {
   "cell_type": "code",
   "execution_count": 39,
   "metadata": {
    "collapsed": true
   },
   "outputs": [],
   "source": [
    "def get_info(url_item):\n",
    "    # url_item = \"http://www.hm.com/us/product/72818?article=72818-A\"\n",
    "    item_page = return_item_page(url_item)\n",
    "    parser = HnM_ProductPage_Parser()\n",
    "    parser.feed(item_page)\n",
    "\n",
    "    item_serial = url_item[url_item.find(\"article=\")+len(\"article=\"):]\n",
    "\n",
    "    return {'serial':item_serial, \n",
    "            'name':parser.get_name(), \n",
    "            'color':parser.get_color(), \n",
    "            'who':parser.get_who(), \n",
    "            'image': parser.get_image_urls(), \n",
    "            #'title':parser.get_title(), \n",
    "            #'title breaks':parser.get_title_breaks(), \n",
    "            'url':url_item, \n",
    "            'metricCategoryID':get_metricCategoryID(item_page)}"
   ]
  },
  {
   "cell_type": "code",
   "execution_count": 10,
   "metadata": {
    "collapsed": true
   },
   "outputs": [],
   "source": [
    "import urllib\n",
    "from HTMLParser import HTMLParser\n",
    "\n",
    "class HnM_ProductPage_Parser(HTMLParser):\n",
    "    in_head_tag = False\n",
    "    in_title_tag = False\n",
    "    image_urls = dict()\n",
    "    name = \"\"\n",
    "    color = \"\"\n",
    "    who = \"\"\n",
    "    title = \"\"\n",
    "    title_breaks = 0\n",
    "    \n",
    "    def handle_starttag(self, tag, attrs):\n",
    "        if tag == \"head\":\n",
    "            self.in_head_tag = True\n",
    "        if tag == \"title\":\n",
    "            self.in_title_tag = True\n",
    "        if tag == \"a\":\n",
    "            for attr in attrs:\n",
    "                if attr[0] == \"class\" and (attr[1] == \"FASHION_FRONT\" or attr[1] == \"STUDIO_FRONT\"):\n",
    "                    for attr2 in attrs:\n",
    "                        if attr2[0] == \"href\":\n",
    "                            self.image_urls[\"model\"] = \"http:\" + attr2[1]\n",
    "                \n",
    "                if attr[0] == \"class\" and attr[1] == \"STILL_LIFE_FRONT\":\n",
    "                    for attr2 in attrs:\n",
    "                        if attr2[0] == \"href\":\n",
    "                            self.image_urls[\"item\"] = \"http:\" + attr2[1]\n",
    "        \n",
    "    def handle_endtag(self, tag):\n",
    "        if tag == \"head\":\n",
    "            self.in_head_tag = False\n",
    "        if tag == \"title\":\n",
    "            self.in_title_tag = False\n",
    "            data_list = self.title.split(' | ')\n",
    "            self.name =  data_list[0]\n",
    "            self.color = data_list[1]\n",
    "            self.who = data_list[2]\n",
    "            \n",
    "    def handle_data(self, data):\n",
    "        if self.in_head_tag and self.in_title_tag: # handling an unknown error \n",
    "            if self.title == \"\":\n",
    "                self.title = self.title + data\n",
    "            else:\n",
    "                self.title = self.title + '&M' + data\n",
    "            self.title_breaks = self.title_breaks + 1\n",
    "        \n",
    "    def get_image_urls(self):\n",
    "        return self.image_urls\n",
    "    \n",
    "    def get_name(self):\n",
    "        return self.name\n",
    "    \n",
    "    def get_color(self):\n",
    "        return self.color\n",
    "    \n",
    "    def get_who(self):\n",
    "        return self.who\n",
    "    \n",
    "    def get_title(self):\n",
    "        return self.title\n",
    "    \n",
    "    def get_title_breaks(self):\n",
    "        return self.title_breaks"
   ]
  },
  {
   "cell_type": "markdown",
   "metadata": {},
   "source": [
    "### Get the information of an item"
   ]
  },
  {
   "cell_type": "code",
   "execution_count": 40,
   "metadata": {
    "collapsed": true
   },
   "outputs": [],
   "source": [
    "item_info = get_info('http://www.hm.com/us/product/65274?article=65274-B')"
   ]
  },
  {
   "cell_type": "code",
   "execution_count": 24,
   "metadata": {
    "scrolled": true
   },
   "outputs": [
    {
     "data": {
      "text/plain": [
       "{'color': 'White',\n",
       " 'image': {'item': 'http://lp.hm.com/hmprod?set=key[source],value[/model/2017/E00 0478110 001 77 1688.jpg]&set=key[rotate],value[]&set=key[width],value[]&set=key[height],value[]&set=key[x],value[]&set=key[y],value[]&set=key[type],value[STILL_LIFE_FRONT]&set=key[hmver],value[2]&call=url[file:/product/large]',\n",
       "  'model': 'http://lp.hm.com/hmprod?set=key[source],value[/environment/2017/8GZ_0158_011R.jpg]&set=key[rotate],value[0]&set=key[width],value[3927]&set=key[height],value[4591]&set=key[x],value[0]&set=key[y],value[-1]&set=key[type],value[FASHION_FRONT]&set=key[hmver],value[0]&call=url[file:/product/large]'},\n",
       " 'name': 'Short-sleeved Top',\n",
       " 'serial': '65274-B',\n",
       " 'url': 'http://www.hm.com/us/product/65274?article=65274-B',\n",
       " 'who': 'Women'}"
      ]
     },
     "execution_count": 24,
     "metadata": {},
     "output_type": "execute_result"
    }
   ],
   "source": [
    "item_info"
   ]
  },
  {
   "cell_type": "code",
   "execution_count": 27,
   "metadata": {},
   "outputs": [
    {
     "data": {
      "text/plain": [
       "'65274-B'"
      ]
     },
     "execution_count": 27,
     "metadata": {},
     "output_type": "execute_result"
    }
   ],
   "source": [
    "item_info['serial']"
   ]
  },
  {
   "cell_type": "code",
   "execution_count": 26,
   "metadata": {},
   "outputs": [
    {
     "data": {
      "text/plain": [
       "'Short-sleeved Top'"
      ]
     },
     "execution_count": 26,
     "metadata": {},
     "output_type": "execute_result"
    }
   ],
   "source": [
    "item_info['name']"
   ]
  },
  {
   "cell_type": "code",
   "execution_count": 28,
   "metadata": {},
   "outputs": [
    {
     "data": {
      "text/plain": [
       "'White'"
      ]
     },
     "execution_count": 28,
     "metadata": {},
     "output_type": "execute_result"
    }
   ],
   "source": [
    "item_info['color']"
   ]
  },
  {
   "cell_type": "code",
   "execution_count": 29,
   "metadata": {
    "scrolled": true
   },
   "outputs": [
    {
     "data": {
      "text/plain": [
       "'Women'"
      ]
     },
     "execution_count": 29,
     "metadata": {},
     "output_type": "execute_result"
    }
   ],
   "source": [
    "item_info['who']"
   ]
  },
  {
   "cell_type": "code",
   "execution_count": 32,
   "metadata": {
    "scrolled": false
   },
   "outputs": [
    {
     "name": "stdout",
     "output_type": "stream",
     "text": [
      "http://lp.hm.com/hmprod?set=key[source],value[/environment/2017/8GZ_0158_011R.jpg]&set=key[rotate],value[0]&set=key[width],value[3927]&set=key[height],value[4591]&set=key[x],value[0]&set=key[y],value[-1]&set=key[type],value[FASHION_FRONT]&set=key[hmver],value[0]&call=url[file:/product/large]\n"
     ]
    }
   ],
   "source": [
    "print item_info['image']['model']"
   ]
  },
  {
   "cell_type": "code",
   "execution_count": 33,
   "metadata": {
    "scrolled": false
   },
   "outputs": [
    {
     "name": "stdout",
     "output_type": "stream",
     "text": [
      "http://lp.hm.com/hmprod?set=key[source],value[/environment/2017/8GZ_0158_011R.jpg]&set=key[rotate],value[0]&set=key[width],value[3927]&set=key[height],value[4591]&set=key[x],value[0]&set=key[y],value[-1]&set=key[type],value[FASHION_FRONT]&set=key[hmver],value[0]&call=url[file:/product/large]\n"
     ]
    }
   ],
   "source": [
    "print item_info['image']['model']"
   ]
  },
  {
   "cell_type": "code",
   "execution_count": 41,
   "metadata": {},
   "outputs": [
    {
     "data": {
      "text/plain": [
       "'LADIES_TOPS_SHORT_SLEEVED_W112'"
      ]
     },
     "execution_count": 41,
     "metadata": {},
     "output_type": "execute_result"
    }
   ],
   "source": [
    "item_info['metricCategoryID']"
   ]
  },
  {
   "cell_type": "markdown",
   "metadata": {},
   "source": [
    "### Get the information of all items"
   ]
  },
  {
   "cell_type": "markdown",
   "metadata": {},
   "source": [
    "### Count title breaks probably by '&M'"
   ]
  },
  {
   "cell_type": "code",
   "execution_count": 10,
   "metadata": {
    "scrolled": true
   },
   "outputs": [
    {
     "name": "stdout",
     "output_type": "stream",
     "text": [
      "count loops: 0 ====================================\n",
      "[3] H+ Printed T-shirt | Powder pink | Women | H US\n",
      "http://www.hm.com/us/product/70852?article=70852-A\n",
      "count loops: 100 ====================================\n",
      "[3] H+ Denim Shorts | Denim blue | Women | H US\n",
      "http://www.hm.com/us/product/45083?article=45083-C\n",
      "[3] H+ Denim Shorts | Black denim | Women | H US\n",
      "http://www.hm.com/us/product/45083?article=45083-A\n",
      "total count loops: 200 ====================================\n",
      "3 breaks count: 3\n"
     ]
    }
   ],
   "source": [
    "count_breaks_dict = dict()\n",
    "count_loop = 0\n",
    "for item_url_list in item_url_lists[:1]:\n",
    "    for item_url in item_url_list[700:900]:\n",
    "        item_info = get_info(item_url)\n",
    "        if item_info['title breaks'] > 2:\n",
    "            print \"[\" + str(item_info['title breaks']) + \"] \" + item_info['title']\n",
    "            print item_info['url']\n",
    "            if item_info['title breaks'] in count_breaks_dict:\n",
    "                count_breaks_dict[item_info['title breaks']] = count_breaks_dict[item_info['title breaks']] + 1\n",
    "            else:\n",
    "                count_breaks_dict[item_info['title breaks']] = 1\n",
    "        if count_loop % 100 == 0:\n",
    "            print \"count loops:\" , count_loop, \"====================================\"\n",
    "        count_loop = count_loop + 1\n",
    "print \"total count loops:\" , count_loop, \"====================================\"\n",
    "for breaks, count_breaks in count_breaks_dict.items():\n",
    "    print breaks, \"breaks count:\", count_breaks"
   ]
  },
  {
   "cell_type": "code",
   "execution_count": 11,
   "metadata": {},
   "outputs": [
    {
     "name": "stdout",
     "output_type": "stream",
     "text": [
      "count loops: 0 ====================================\n",
      "count loops: 100 ====================================\n",
      "count loops: 200 ====================================\n",
      "count loops: 300 ====================================\n",
      "count loops: 400 ====================================\n",
      "count loops: 500 ====================================\n",
      "count loops: 600 ====================================\n",
      "count loops: 700 ====================================\n",
      "[3] H+ Printed T-shirt | Powder pink | Women | H US\n",
      "http://www.hm.com/us/product/70852?article=70852-A\n",
      "count loops: 800 ====================================\n",
      "[3] H+ Denim Shorts | Denim blue | Women | H US\n",
      "http://www.hm.com/us/product/45083?article=45083-C\n",
      "[3] H+ Denim Shorts | Black denim | Women | H US\n",
      "http://www.hm.com/us/product/45083?article=45083-A\n",
      "count loops: 900 ====================================\n",
      "[3] H+ Jersey Tunic | Black | Women | H US\n",
      "http://www.hm.com/us/product/69089?article=69089-A\n",
      "[3] H+ V-neck Linen Top | Gray melange | Women | H US\n",
      "http://www.hm.com/us/product/71143?article=71143-B\n",
      "[3] H+ 3/4-length Leggings | Black | Women | H US\n",
      "http://www.hm.com/us/product/46197?article=46197-A\n",
      "count loops: 1000 ====================================\n",
      "[3] H+ Draped Bikini Bottoms | Black | Women | H US\n",
      "http://www.hm.com/us/product/39509?article=39509-B\n",
      "count loops: 1100 ====================================\n",
      "[3] H+ Embroidered Cotton Blouse | Dark blue | Women | H US\n",
      "http://www.hm.com/us/product/66497?article=66497-B\n",
      "[3] H+ Jersey Pants | Black | Women | H US\n",
      "http://www.hm.com/us/product/46960?article=46960-D\n",
      "[3] H+ Jersey Leggings | Black | Women | H US\n",
      "http://www.hm.com/us/product/39203?article=39203-A\n",
      "count loops: 1200 ====================================\n",
      "[3] H+ Slim-fit Pants | Black | Women | H US\n",
      "http://www.hm.com/us/product/36288?article=36288-A\n",
      "[3] H+ V-neck Linen Top | White | Women | H US\n",
      "http://www.hm.com/us/product/71143?article=71143-A\n",
      "[3] H+ Skinny High Jeans | Black denim | Women | H US\n",
      "http://www.hm.com/us/product/19997?article=19997-A\n",
      "[3] H+ Biker Pants | Denim blue | Women | H US\n",
      "http://www.hm.com/us/product/61522?article=61522-C\n",
      "count loops: 1300 ====================================\n",
      "[3] H+ Top with Raglan Sleeves | Black | Women | H US\n",
      "http://www.hm.com/us/product/18109?article=18109-L\n",
      "[3] H+ Printed Jersey Top | Khaki green | Women | H US\n",
      "http://www.hm.com/us/product/71148?article=71148-A\n",
      "[3] H+ Short-sleeved Top | Black | Women | H US\n",
      "http://www.hm.com/us/product/42914?article=42914-C\n",
      "count loops: 1400 ====================================\n",
      "[3] H+ Triangle Bikini Top | Yellow/floral | Women | H US\n",
      "http://www.hm.com/us/product/63901?article=63901-A\n",
      "[3] H+ Bikini Bottoms | Black | Women | H US\n",
      "http://www.hm.com/us/product/65560?article=65560-A\n",
      "[3] H+ Chinos | Dark blue | Women | H US\n",
      "http://www.hm.com/us/product/64367?article=64367-A\n",
      "[3] H+ Bikini Bottoms | Yellow/floral | Women | H US\n",
      "http://www.hm.com/us/product/63897?article=63897-A\n",
      "[3] H+ Printed Jersey Top | Light gray melange/lips | Women | H US\n",
      "http://www.hm.com/us/product/66788?article=66788-C\n",
      "count loops: 1500 ====================================\n",
      "[3] H+ Satin Top | Natural white | Women | H US\n",
      "http://www.hm.com/us/product/65399?article=65399-C\n",
      "[3] H+ Patterned Dress | Light blue/birds | Women | H US\n",
      "http://www.hm.com/us/product/72354?article=72354-A\n",
      "count loops: 1600 ====================================\n",
      "[3] H+ Linen-blend Blazer | Dark blue | Women | H US\n",
      "http://www.hm.com/us/product/68744?article=68744-A\n",
      "count loops: 1700 ====================================\n",
      "[3] H+ Halterneck Swimsuit | Black floral | Women | H US\n",
      "http://www.hm.com/us/product/65085?article=65085-A\n",
      "[3] H+ Crêped Blouse | White | Women | H US\n",
      "http://www.hm.com/us/product/53027?article=53027-D\n",
      "[3] H+ Short-sleeved Top | White | Women | H US\n",
      "http://www.hm.com/us/product/42914?article=42914-B\n",
      "count loops: 1800 ====================================\n",
      "[3] H+ Jersey Top | Dark blue | Women | H US\n",
      "http://www.hm.com/us/product/48811?article=48811-J\n",
      "count loops: 1900 ====================================\n",
      "[3] H+ Jersey Leggings | Black floral | Women | H US\n",
      "http://www.hm.com/us/product/39203?article=39203-B\n",
      "[3] H+ Camisole Top with Lace | Black | Women | H US\n",
      "http://www.hm.com/us/product/70078?article=70078-B\n",
      "[3] H+ Treggings | Black | Women | H US\n",
      "http://www.hm.com/us/product/61361?article=61361-C\n",
      "count loops: 2000 ====================================\n",
      "[3] H+ Jersey Top | Black | Women | H US\n",
      "http://www.hm.com/us/product/67444?article=67444-A\n",
      "[3] H+ Wide-cut Jersey Pants | Dusky green | Women | H US\n",
      "http://www.hm.com/us/product/68963?article=68963-A\n",
      "[3] H+ Swimsuit | Black | Women | H US\n",
      "http://www.hm.com/us/product/61658?article=61658-B\n",
      "[3] H+ Twill Shorts | Black | Women | H US\n",
      "http://www.hm.com/us/product/85057?article=85057-C\n",
      "[3] H+ Swimsuit | Turquoise/floral | Women | H US\n",
      "http://www.hm.com/us/product/61658?article=61658-C\n",
      "[3] H+ 2-pack Light Shape Shorts | Black/Chai | Women | H US\n",
      "http://www.hm.com/us/product/36485?article=36485-A\n",
      "[3] H+ Patterned Tunic | Dark green/banana | Women | H US\n",
      "http://www.hm.com/us/product/72657?article=72657-A\n",
      "[3] H+ Jersey Tunic | Light turquoise | Women | H US\n",
      "http://www.hm.com/us/product/68210?article=68210-B\n",
      "count loops: 2100 ====================================\n",
      "[3] H+ Swimsuit | White/striped | Women | H US\n",
      "http://www.hm.com/us/product/66490?article=66490-A\n",
      "count loops: 2200 ====================================\n",
      "[3] H+ Crêped Blouse | Light blue | Women | H US\n",
      "http://www.hm.com/us/product/53027?article=53027-E\n",
      "[3] H+ Jersey Dress | Dark blue | Women | H US\n",
      "http://www.hm.com/us/product/69755?article=69755-A\n",
      "[3] H+ Shorts | Black | Women | H US\n",
      "http://www.hm.com/us/product/68745?article=68745-A\n",
      "[3] H+ Jersey Top | White/dotted | Women | H US\n",
      "http://www.hm.com/us/product/66568?article=66568-A\n",
      "[3] H+ Slim-fit Pants | Powder pink | Women | H US\n",
      "http://www.hm.com/us/product/36288?article=36288-R\n",
      "[3] H+ Jersey Tunic | Black | Women | H US\n",
      "http://www.hm.com/us/product/60318?article=60318-A\n",
      "count loops: 2300 ====================================\n",
      "[3] H+ Jersey Tunic | Black | Women | H US\n",
      "http://www.hm.com/us/product/68210?article=68210-A\n",
      "count loops: 2400 ====================================\n",
      "[3] H+ Straight Regular Jeans | Black denim | Women | H US\n",
      "http://www.hm.com/us/product/63052?article=63052-A\n",
      "[3] H+ Dress with Lace | White | Women | H US\n",
      "http://www.hm.com/us/product/70670?article=70670-A\n",
      "[3] H+ Denim Jacket | Denim blue | Women | H US\n",
      "http://www.hm.com/us/product/64893?article=64893-A\n",
      "[3] H+ Jersey Tunic | Gray melange | Women | H US\n",
      "http://www.hm.com/us/product/68210?article=68210-C\n",
      "[3] H+ Skinny Regular Jeans | Denim blue | Women | H US\n",
      "http://www.hm.com/us/product/66276?article=66276-A\n",
      "[3] H+ Slim-fit Pants | Denim blue | Women | H US\n",
      "http://www.hm.com/us/product/36288?article=36288-T\n",
      "count loops: 2500 ====================================\n",
      "[3] H+ Twill Shorts | Light khaki green | Women | H US\n",
      "http://www.hm.com/us/product/85057?article=85057-E\n",
      "[3] H+ Lace-trimmed Tank Top | Gray melange | Women | H US\n",
      "http://www.hm.com/us/product/68509?article=68509-A\n",
      "[3] H+ Triangle Bikini Top | Black | Women | H US\n",
      "http://www.hm.com/us/product/63901?article=63901-B\n",
      "[3] H+ Boyfriend Low Jeans | Dark denim blue | Women | H US\n",
      "http://www.hm.com/us/product/62152?article=62152-A\n",
      "[3] H+ Cotton Shirt | Dark blue | Women | H US\n",
      "http://www.hm.com/us/product/71047?article=71047-A\n",
      "count loops: 2600 ====================================\n",
      "[3] H+ Jersey Dress | Black | Women | H US\n",
      "http://www.hm.com/us/product/66067?article=66067-A\n",
      "[3] H+ Denim Shorts | White denim | Women | H US\n",
      "http://www.hm.com/us/product/69539?article=69539-A\n",
      "[3] H+ Draped Bikini Bottoms | Pink/paisley | Women | H US\n",
      "http://www.hm.com/us/product/39509?article=39509-G\n",
      "[3] H+ One-shoulder Swimsuit | Burgundy | Women | H US\n",
      "http://www.hm.com/us/product/64707?article=64707-A\n",
      "[3] H+ Embroidered Denim Shorts | Light denim blue | Women | H US\n",
      "http://www.hm.com/us/product/68967?article=68967-A\n",
      "[3] H+ Lace Dress | Dark blue | Women | H US\n",
      "http://www.hm.com/us/product/67757?article=67757-B\n",
      "[3] H+ Slim-fit Pants | Nearly black | Women | H US\n",
      "http://www.hm.com/us/product/36288?article=36288-I\n",
      "[3] H+ 360 Shaping Skinny Jeans | Black denim | Women | H US\n",
      "http://www.hm.com/us/product/61543?article=61543-A\n"
     ]
    },
    {
     "name": "stdout",
     "output_type": "stream",
     "text": [
      "[3] H+ City Shorts | Dark blue | Women | H US\n",
      "http://www.hm.com/us/product/68552?article=68552-A\n",
      "count loops: 2700 ====================================\n",
      "[3] H+ Draped Tankini Top | Pink/paisley | Women | H US\n",
      "http://www.hm.com/us/product/65541?article=65541-A\n",
      "[3] H+ Denim Skirt | Light denim blue | Women | H US\n",
      "http://www.hm.com/us/product/66630?article=66630-A\n",
      "[3] H+ Crushed-velvet Shorts | Light heather | Women | H US\n",
      "http://www.hm.com/us/product/69590?article=69590-A\n",
      "[3] H+ Linen-blend Pants | Black | Women | H US\n",
      "http://www.hm.com/us/product/64767?article=64767-A\n",
      "[3] H+ Straight Regular Jeans | Dark denim blue | Women | H US\n",
      "http://www.hm.com/us/product/65485?article=65485-A\n",
      "count loops: 2800 ====================================\n",
      "[3] H+ Shaping Skinny High waist | Denim blue | Women | H US\n",
      "http://www.hm.com/us/product/67455?article=67455-A\n",
      "[3] H+ Slim Regular Ankle Jeans | Denim blue | Women | H US\n",
      "http://www.hm.com/us/product/67485?article=67485-B\n",
      "count loops: 2900 ====================================\n",
      "[3] H+ Short Jersey Dress | Black | Women | H US\n",
      "http://www.hm.com/us/product/70672?article=70672-A\n",
      "[3] H+ Patterned Shorts | Light pink/birds | Women | H US\n",
      "http://www.hm.com/us/product/48144?article=48144-B\n",
      "[3] H+ Linen Top | Light blue melange | Women | H US\n",
      "http://www.hm.com/us/product/70592?article=70592-A\n",
      "[3] H+ Printed T-shirt | White/Slayer | Women | H US\n",
      "http://www.hm.com/us/product/67815?article=67815-C\n",
      "[3] H+ Draped Bandeau Bikini Top | Pink/paisley | Women | H US\n",
      "http://www.hm.com/us/product/39508?article=39508-I\n",
      "count loops: 3000 ====================================\n",
      "[3] H+ Biker Pants | Dark gray denim | Women | H US\n",
      "http://www.hm.com/us/product/61522?article=61522-A\n",
      "[3] H+ Top with Raglan Sleeves | Light pink | Women | H US\n",
      "http://www.hm.com/us/product/18109?article=18109-V\n",
      "[3] H+ Bikini Top | Black | Women | H US\n",
      "http://www.hm.com/us/product/66580?article=66580-A\n",
      "[3] H+ Lace Pencil Skirt | Red | Women | H US\n",
      "http://www.hm.com/us/product/68084?article=68084-A\n",
      "[3] H+ Slim-fit Pants | Black/patterned | Women | H US\n",
      "http://www.hm.com/us/product/70388?article=70388-A\n",
      "[3] H+ Cotton Poplin Shirt | Light blue | Women | H US\n",
      "http://www.hm.com/us/product/61536?article=61536-A\n",
      "[3] H+ Slim Jeans | Dark denim blue | Women | H US\n",
      "http://www.hm.com/us/product/29533?article=29533-C\n",
      "count loops: 3100 ====================================\n",
      "[3] H+ Trench Coat | Light beige | Women | H US\n",
      "http://www.hm.com/us/product/65087?article=65087-A\n",
      "[3] H+ Patterned Blouse | Black floral | Women | H US\n",
      "http://www.hm.com/us/product/66729?article=66729-A\n",
      "[3] H+ Lace Top | Natural white | Women | H US\n",
      "http://www.hm.com/us/product/68735?article=68735-A\n",
      "[3] H+ Linen Shirt Dress | White | Women | H US\n",
      "http://www.hm.com/us/product/45703?article=45703-B\n",
      "[3] H+ Hooded Sweatshirt | Dark blue melange | Women | H US\n",
      "http://www.hm.com/us/product/67170?article=67170-A\n",
      "[3] H+ Linen-blend Pants | Dark blue | Women | H US\n",
      "http://www.hm.com/us/product/68950?article=68950-A\n",
      "count loops: 3200 ====================================\n",
      "[3] H+ Lace Dress | Light beige | Women | H US\n",
      "http://www.hm.com/us/product/67757?article=67757-A\n",
      "[3] H+ Slim-fit Pants | Denim blue | Women | H US\n",
      "http://www.hm.com/us/product/36288?article=36288-U\n",
      "[3] H+ Patterned Top | White/lips | Women | H US\n",
      "http://www.hm.com/us/product/60015?article=60015-E\n",
      "[3] H+ Linen-blend Jacket | Natural white | Women | H US\n",
      "http://www.hm.com/us/product/68949?article=68949-A\n",
      "[3] H+ Bandeau Bikini Top | Teal | Women | H US\n",
      "http://www.hm.com/us/product/64705?article=64705-A\n",
      "[3] H+ Jacket | Black | Women | H US\n",
      "http://www.hm.com/us/product/66260?article=66260-A\n",
      "[3] H+ Draped Tankini | Black | Women | H US\n",
      "http://www.hm.com/us/product/66898?article=66898-A\n",
      "[3] H+ Cargo Dress | Black | Women | H US\n",
      "http://www.hm.com/us/product/67753?article=67753-A\n",
      "[3] H+ Maxi Dress | gray/floral | Women | H US\n",
      "http://www.hm.com/us/product/70968?article=70968-A\n",
      "count loops: 3300 ====================================\n",
      "[3] H+ Pull-on Pants | Black | Women | H US\n",
      "http://www.hm.com/us/product/63039?article=63039-A\n",
      "[3] H+ Pull-on Pants | Black | Women | H US\n",
      "http://www.hm.com/us/product/69753?article=69753-A\n",
      "[3] H+ Crêpe Top | Pink | Women | H US\n",
      "http://www.hm.com/us/product/68086?article=68086-A\n",
      "[3] H+ Skinny High Jeans | Denim blue | Women | H US\n",
      "http://www.hm.com/us/product/62608?article=62608-A\n",
      "[3] H+ Shaping Skinny Jeans | Black denim | Women | H US\n",
      "http://www.hm.com/us/product/52371?article=52371-H\n",
      "[3] H+ Ribbed Top | Red | Women | H US\n",
      "http://www.hm.com/us/product/68101?article=68101-A\n",
      "[3] H+ Lyocell Coat | Dark khaki | Women | H US\n",
      "http://www.hm.com/us/product/64293?article=64293-A\n",
      "[3] H+ Viscose Top | Dark blue | Women | H US\n",
      "http://www.hm.com/us/product/70966?article=70966-B\n",
      "[3] H+ Pleated Skirt | Black | Women | H US\n",
      "http://www.hm.com/us/product/66789?article=66789-A\n",
      "count loops: 3400 ====================================\n",
      "[3] H+ Cotton Shirt | Light blue | Women | H US\n",
      "http://www.hm.com/us/product/62133?article=62133-D\n",
      "[3] H+ Sleeveless Dress | Black | Women | H US\n",
      "http://www.hm.com/us/product/66114?article=66114-A\n",
      "[3] H+ Bib Overalls | Denim blue | Women | H US\n",
      "http://www.hm.com/us/product/64132?article=64132-A\n",
      "count loops: 3500 ====================================\n",
      "[3] H+ Sleeveless Linen Tunic | Light blue melange | Women | H US\n",
      "http://www.hm.com/us/product/66515?article=66515-A\n",
      "[3] H+ Lyocell Tunic | Light denim blue | Women | H US\n",
      "http://www.hm.com/us/product/65564?article=65564-A\n",
      "[3] H+ Bomber Jacket | Powder pink | Women | H US\n",
      "http://www.hm.com/us/product/67766?article=67766-A\n",
      "[3] H+ Sleeveless Shirt Dress | Pink | Women | H US\n",
      "http://www.hm.com/us/product/70009?article=70009-A\n",
      "[3] H+ Hooded Sweatshirt | Light gray melange | Women | H US\n",
      "http://www.hm.com/us/product/64343?article=64343-A\n",
      "[3] H+ Lace Jumpsuit | Black | Women | H US\n",
      "http://www.hm.com/us/product/68738?article=68738-A\n",
      "[3] H+ 2-pack Bras E/F cup | Pink | Women | H US\n",
      "http://www.hm.com/us/product/61626?article=61626-A\n",
      "[3] H+ Slim Coated Jeans | Black | Women | H US\n",
      "http://www.hm.com/us/product/65156?article=65156-A\n",
      "count loops: 3600 ====================================\n",
      "[3] H+ Patterned Swimsuit | Dark green/banana | Women | H US\n",
      "http://www.hm.com/us/product/66896?article=66896-A\n",
      "[3] H+ V-neck Dress | White/floral | Women | H US\n",
      "http://www.hm.com/us/product/68952?article=68952-A\n",
      "[3] H+ Skinny Regular Jeans | Denim blue | Women | H US\n",
      "http://www.hm.com/us/product/62695?article=62695-A\n",
      "[3] H+ 2-pack Hipster Briefs | Black | Women | H US\n",
      "http://www.hm.com/us/product/59799?article=59799-A\n",
      "[3] H+ Sleeveless Blouse | Black/striped | Women | H US\n",
      "http://www.hm.com/us/product/69274?article=69274-A\n",
      "[3] H+ Crêpe Dress | Black/dotted | Women | H US\n",
      "http://www.hm.com/us/product/66613?article=66613-A\n",
      "[3] H+ Wide-cut Satin Pants | White | Women | H US\n",
      "http://www.hm.com/us/product/66645?article=66645-A\n",
      "[3] H+ Shaping Skinny Jeans | Denim blue | Women | H US\n",
      "http://www.hm.com/us/product/52371?article=52371-E\n",
      "[3] H+ Viscose Top | Powder pink | Women | H US\n",
      "http://www.hm.com/us/product/70966?article=70966-A\n",
      "count loops: 3700 ====================================\n",
      "[3] H+ Cargo Pants | Khaki green | Women | H US\n",
      "http://www.hm.com/us/product/67775?article=67775-A\n",
      "[3] H+ 2-pack Tights | Black | Women | H US\n",
      "http://www.hm.com/us/product/29529?article=29529-A\n",
      "count loops: 3800 ====================================\n",
      "[3] H+ Draped Bandeau Bikini Top | Powder pink | Women | H US\n",
      "http://www.hm.com/us/product/39508?article=39508-J\n",
      "[3] H+ Satin Dress | Black floral | Women | H US\n",
      "http://www.hm.com/us/product/67699?article=67699-A\n",
      "[3] H+ Linen-blend Shorts | Khaki green | Women | H US\n",
      "http://www.hm.com/us/product/71051?article=71051-A\n",
      "[3] H+ Embroidered Cotton Blouse | White | Women | H US\n",
      "http://www.hm.com/us/product/66497?article=66497-C\n",
      "[3] H+ Satin Top | Powder pink | Women | H US\n",
      "http://www.hm.com/us/product/65399?article=65399-A\n",
      "[3] H+ 2-pack Hipster Briefs | Black | Women | H US\n",
      "http://www.hm.com/us/product/62490?article=62490-A\n",
      "count loops: 3900 ====================================\n",
      "[3] H+ Patterned Dress | Black floral | Women | H US\n",
      "http://www.hm.com/us/product/65966?article=65966-A\n",
      "[3] H+ Jersey Top | Black | Women | H US\n",
      "http://www.hm.com/us/product/66905?article=66905-A\n"
     ]
    },
    {
     "name": "stdout",
     "output_type": "stream",
     "text": [
      "[3] H+ Bikini Bottoms | Powder pink | Women | H US\n",
      "http://www.hm.com/us/product/63897?article=63897-B\n",
      "[3] H+ Lyocell Shirt | Denim blue | Women | H US\n",
      "http://www.hm.com/us/product/62210?article=62210-A\n",
      "count loops: 4000 ====================================\n",
      "[3] H+ Linen-blend Shorts | Natural white | Women | H US\n",
      "http://www.hm.com/us/product/68085?article=68085-A\n",
      "[3] H+ Lace Dress | Powder pink | Women | H US\n",
      "http://www.hm.com/us/product/68620?article=68620-B\n",
      "[3] H+ Hooded Sweatshirt Jacket | Powder | Women | H US\n",
      "http://www.hm.com/us/product/67500?article=67500-A\n",
      "[3] H+ Bikini Bottoms | Teal | Women | H US\n",
      "http://www.hm.com/us/product/63908?article=63908-A\n",
      "[3] H+ Short Dress | Black | Women | H US\n",
      "http://www.hm.com/us/product/65571?article=65571-A\n",
      "[3] H+ Crêpe Jacket | Black | Women | H US\n",
      "http://www.hm.com/us/product/63385?article=63385-A\n",
      "count loops: 4100 ====================================\n",
      "[3] H+ Linen Shirt | Red/white stripe | Women | H US\n",
      "http://www.hm.com/us/product/65772?article=65772-A\n",
      "[3] H+ Crushed-velvet Top | Light heather | Women | H US\n",
      "http://www.hm.com/us/product/70945?article=70945-A\n",
      "[3] H+ Linen-blend Pants | Light beige | Women | H US\n",
      "http://www.hm.com/us/product/64767?article=64767-B\n",
      "[3] H+ Hooded Sweatshirt | Gray melange | Women | H US\n",
      "http://www.hm.com/us/product/67170?article=67170-C\n",
      "[3] H+ Short Skirt | Black | Women | H US\n",
      "http://www.hm.com/us/product/66376?article=66376-A\n",
      "count loops: 4200 ====================================\n",
      "[3] H+ Bib Overalls | Black | Women | H US\n",
      "http://www.hm.com/us/product/61343?article=61343-A\n",
      "[3] H+ Bikini Bottoms | Black | Women | H US\n",
      "http://www.hm.com/us/product/66581?article=66581-A\n",
      "[3] H+ Lace Blouse | White | Women | H US\n",
      "http://www.hm.com/us/product/67450?article=67450-A\n",
      "[3] H+ Joggers | Light gray melange | Women | H US\n",
      "http://www.hm.com/us/product/63390?article=63390-A\n",
      "[3] H+ 2-pack Hipster Briefs | Black | Women | H US\n",
      "http://www.hm.com/us/product/60084?article=60084-B\n",
      "[3] H+ Twill Shorts | Pink | Women | H US\n",
      "http://www.hm.com/us/product/85057?article=85057-F\n",
      "[3] H+ Cotton Shirt | Black/checked | Women | H US\n",
      "http://www.hm.com/us/product/62133?article=62133-A\n",
      "count loops: 4300 ====================================\n",
      "[3] H+ Swimsuit | Black | Women | H US\n",
      "http://www.hm.com/us/product/61249?article=61249-A\n",
      "[3] H+ Long Dress | Natural white | Women | H US\n",
      "http://www.hm.com/us/product/67615?article=67615-B\n",
      "[3] H+ Satin Jacket | White | Women | H US\n",
      "http://www.hm.com/us/product/66639?article=66639-A\n",
      "[3] H+ 2-pack Hipster Briefs | Light pink/floral | Women | H US\n",
      "http://www.hm.com/us/product/60385?article=60385-B\n",
      "[3] H+ Jumpsuit | Dark blue/white striped | Women | H US\n",
      "http://www.hm.com/us/product/68325?article=68325-A\n",
      "[3] H+ Draped Bandeau Bikini Top | Black | Women | H US\n",
      "http://www.hm.com/us/product/39508?article=39508-G\n",
      "count loops: 4400 ====================================\n",
      "[3] H+ Long-sleeved Jersey Top | Dark gray/dotted | Women | H US\n",
      "http://www.hm.com/us/product/57201?article=57201-C\n",
      "[3] H+ Rib-knit Pencil Skirt | Black/white melange | Women | H US\n",
      "http://www.hm.com/us/product/66057?article=66057-A\n",
      "[3] H+ Linen-blend Shirt | Khaki green | Women | H US\n",
      "http://www.hm.com/us/product/66573?article=66573-B\n",
      "count loops: 4500 ====================================\n",
      "[3] H+ Open-shoulder Top | Black | Women | H US\n",
      "http://www.hm.com/us/product/57202?article=57202-A\n",
      "[3] H+ Swimsuit | Zebra print | Women | H US\n",
      "http://www.hm.com/us/product/61658?article=61658-A\n",
      "[3] H+ 2-pack Hipster Briefs | Light pink | Women | H US\n",
      "http://www.hm.com/us/product/60385?article=60385-A\n",
      "count loops: 4600 ====================================\n",
      "[3] H+ Denim Jacket | White denim | Women | H US\n",
      "http://www.hm.com/us/product/69542?article=69542-A\n",
      "[3] H+ 2-pack Hipster Briefs | Dark gray/black | Women | H US\n",
      "http://www.hm.com/us/product/60084?article=60084-A\n",
      "count loops: 4700 ====================================\n",
      "[3] H+ Lace Dress | Black | Women | H US\n",
      "http://www.hm.com/us/product/68620?article=68620-A\n",
      "[3] H+ Long Dress | Blue-gray | Women | H US\n",
      "http://www.hm.com/us/product/67615?article=67615-A\n",
      "[3] H+ Sweatshirt | Light gray melange | Women | H US\n",
      "http://www.hm.com/us/product/67818?article=67818-A\n",
      "[3] H+ Cotton Chinos | Light beige | Women | H US\n",
      "http://www.hm.com/us/product/66575?article=66575-A\n",
      "[3] H+ Ribbed Sweater | Black/white melange | Women | H US\n",
      "http://www.hm.com/us/product/66061?article=66061-A\n",
      "[3] H+ Patterned Dress | Black floral | Women | H US\n",
      "http://www.hm.com/us/product/65957?article=65957-A\n",
      "[3] H+ Lace Dress | Red | Women | H US\n",
      "http://www.hm.com/us/product/68087?article=68087-A\n",
      "count loops: 4800 ====================================\n",
      "[3] H+ Chino Shorts | Light beige | Women | H US\n",
      "http://www.hm.com/us/product/66960?article=66960-A\n",
      "[3] H+ Ribbed Ruffle Sweater | Black | Women | H US\n",
      "http://www.hm.com/us/product/66897?article=66897-A\n",
      "[3] H+ Relaxed Skinny Jeans | Denim blue | Women | H US\n",
      "http://www.hm.com/us/product/66274?article=66274-A\n",
      "[3] H+ 2-pack Hipster Briefs | Black | Women | H US\n",
      "http://www.hm.com/us/product/59650?article=59650-A\n",
      "[3] H+ Biker Pants | Khaki green | Women | H US\n",
      "http://www.hm.com/us/product/61522?article=61522-B\n",
      "[3] H+ Draped Bandeau Dress | Dark blue | Women | H US\n",
      "http://www.hm.com/us/product/67175?article=67175-A\n",
      "[3] H+ Cargo Jacket | Light beige | Women | H US\n",
      "http://www.hm.com/us/product/63953?article=63953-C\n",
      "[3] H+ Hooded Sweatshirt | Light pink | Women | H US\n",
      "http://www.hm.com/us/product/67170?article=67170-B\n",
      "[3] H+ Fine-knit Sweater | Pink | Women | H US\n",
      "http://www.hm.com/us/product/60302?article=60302-C\n",
      "count loops: 4900 ====================================\n",
      "[3] H+ V-neck Shirt | Light blue | Women | H US\n",
      "http://www.hm.com/us/product/61665?article=61665-A\n",
      "[3] H+ Cashmere Tunic | Gray melange | Women | H US\n",
      "http://www.hm.com/us/product/64818?article=64818-A\n",
      "[3] H+ Long-sleeved Blouse | Black | Women | H US\n",
      "http://www.hm.com/us/product/63405?article=63405-A\n",
      "count loops: 5000 ====================================\n",
      "[3] H+ Fine-knit Sweater | Black | Women | H US\n",
      "http://www.hm.com/us/product/61366?article=61366-A\n",
      "[3] H+ Shaping Skinny Jeans | Dark denim blue | Women | H US\n",
      "http://www.hm.com/us/product/52371?article=52371-G\n",
      "[3] H+ Draped Bikini Bottoms | Black/white/checked | Women | H US\n",
      "http://www.hm.com/us/product/39509?article=39509-F\n",
      "[3] H+ Blazer | Black | Women | H US\n",
      "http://www.hm.com/us/product/61317?article=61317-A\n",
      "count loops: 5100 ====================================\n",
      "count loops: 5200 ====================================\n",
      "[3] H+ Slim High Ankle Jeans | Denim blue | Women | H US\n",
      "http://www.hm.com/us/product/65705?article=65705-B\n",
      "count loops: 5300 ====================================\n",
      "[3] H+ Silk Blouse | Dark blue | Women | H US\n",
      "http://www.hm.com/us/product/63890?article=63890-A\n",
      "[3] H+ Lyocell Jumpsuit | Khaki green | Women | H US\n",
      "http://www.hm.com/us/product/69541?article=69541-A\n",
      "[3] H+ Lyocell Shirt | Light taupe | Women | H US\n",
      "http://www.hm.com/us/product/65194?article=65194-B\n",
      "count loops: 5400 ====================================\n",
      "[3] H+ Top with Lace Yoke | White | Women | H US\n",
      "http://www.hm.com/us/product/67477?article=67477-A\n",
      "[3] H+ Strapless Dress | Black | Women | H US\n",
      "http://www.hm.com/us/product/46729?article=46729-A\n",
      "[3] H+ Dress with Top | Black/white | Women | H US\n",
      "http://www.hm.com/us/product/62516?article=62516-A\n",
      "count loops: 5500 ====================================\n",
      "[3] H+ Crushed Velvet Leggings | Black | Women | H US\n",
      "http://www.hm.com/us/product/65568?article=65568-A\n",
      "[3] H+ Joggers | Black | Women | H US\n",
      "http://www.hm.com/us/product/61798?article=61798-A\n",
      "[3] H+ Glittery Leggings | Black/silver-colored | Women | H US\n",
      "http://www.hm.com/us/product/59673?article=59673-A\n",
      "[3] H+ Draped Bandeau Bikini Top | Black | Women | H US\n",
      "http://www.hm.com/us/product/39508?article=39508-A\n",
      "count loops: 5600 ====================================\n",
      "[3] H+ Scuba-look Dress | Black | Women | H US\n",
      "http://www.hm.com/us/product/63417?article=63417-A\n",
      "[3] H+ Tube Top | Silver-colored | Women | H US\n",
      "http://www.hm.com/us/product/59303?article=59303-A\n",
      "[3] H+ Slim Regular Ankle Jeans | Black | Women | H US\n",
      "http://www.hm.com/us/product/20688?article=20688-A\n",
      "[3] H+ Jersey Tunic | Black/white patterned | Women | H US\n",
      "http://www.hm.com/us/product/52734?article=52734-A\n"
     ]
    },
    {
     "name": "stdout",
     "output_type": "stream",
     "text": [
      "[3] H+ Sweatshirt | Pink/birds | Women | H US\n",
      "http://www.hm.com/us/product/62518?article=62518-A\n",
      "count loops: 5700 ====================================\n",
      "[3] H+ One-shoulder Top | Black | Women | H US\n",
      "http://www.hm.com/us/product/59360?article=59360-A\n",
      "[3] H+ Rib-knit Cardigan | Black | Women | H US\n",
      "http://www.hm.com/us/product/59420?article=59420-A\n",
      "[3] H+ Long-sleeved Top | Black | Women | H US\n",
      "http://www.hm.com/us/product/63396?article=63396-A\n",
      "[3] H+ Wrap-front Skirt | Black | Women | H US\n",
      "http://www.hm.com/us/product/52485?article=52485-B\n",
      "[3] H+ Bikini Bottoms | Black | Women | H US\n",
      "http://www.hm.com/us/product/43499?article=43499-B\n",
      "[3] H+ Slim High Ankle Jeans | Denim blue/washed | Women | H US\n",
      "http://www.hm.com/us/product/65705?article=65705-A\n",
      "[3] H+ Knit Tunic | Light gray melange | Women | H US\n",
      "http://www.hm.com/us/product/60300?article=60300-A\n",
      "[3] H+ Pleated Camisole Top | Black | Women | H US\n",
      "http://www.hm.com/us/product/52941?article=52941-A\n",
      "[3] H+ Short Dress | Dark gray | Women | H US\n",
      "http://www.hm.com/us/product/60198?article=60198-A\n",
      "[3] H+ Color-block Leggings | Black/powder | Women | H US\n",
      "http://www.hm.com/us/product/63925?article=63925-A\n",
      "count loops: 5800 ====================================\n",
      "[3] H+ Parka | Khaki | Women | H US\n",
      "http://www.hm.com/us/product/50683?article=50683-B\n",
      "[3] H+ Tube Top | Black | Women | H US\n",
      "http://www.hm.com/us/product/59303?article=59303-B\n",
      "[3] H+ Open-shoulder Dress | Gray melange | Women | H US\n",
      "http://www.hm.com/us/product/55327?article=55327-B\n",
      "[3] H+ Jersey Camisole Top | Black | Women | H US\n",
      "http://www.hm.com/us/product/64711?article=64711-A\n",
      "[3] H+ Bikini Top | Black | Women | H US\n",
      "http://www.hm.com/us/product/88608?article=88608-B\n",
      "[3] H+ Rib-knit Sweater | Gray melange | Women | H US\n",
      "http://www.hm.com/us/product/60906?article=60906-B\n",
      "[3] H+ Fitted Shirt | Black | Women | H US\n",
      "http://www.hm.com/us/product/53209?article=53209-B\n",
      "[3] H+ Fine-knit Sweater | Dark plum | Women | H US\n",
      "http://www.hm.com/us/product/61345?article=61345-B\n",
      "[3] H+ Fine-knit Sweater | Black | Women | H US\n",
      "http://www.hm.com/us/product/61345?article=61345-A\n",
      "count loops: 5900 ====================================\n",
      "[3] H+ Lyocell Shirt | Khaki green | Women | H US\n",
      "http://www.hm.com/us/product/65194?article=65194-A\n",
      "[3] H+ Cotton Shirt | Light blue | Women | H US\n",
      "http://www.hm.com/us/product/56391?article=56391-A\n",
      "[3] H+ Lace Dress | Dark green | Women | H US\n",
      "http://www.hm.com/us/product/58058?article=58058-B\n",
      "[3] H+ Jersey Dress | Gray | Women | H US\n",
      "http://www.hm.com/us/product/82227?article=82227-C\n",
      "[3] H+ One-shoulder Jumpsuit | Black | Women | H US\n",
      "http://www.hm.com/us/product/57743?article=57743-A\n",
      "count loops: 6000 ====================================\n",
      "[3] H+ Lace Bodysuit | Black | Women | H US\n",
      "http://www.hm.com/us/product/58923?article=58923-B\n",
      "[3] H+ Lace Shirt Dress | Black | Women | H US\n",
      "http://www.hm.com/us/product/57198?article=57198-A\n",
      "[3] H+ Camisole Top with Lace | Black | Women | H US\n",
      "http://www.hm.com/us/product/57200?article=57200-B\n",
      "[3] H+ Tankini Top | Dark green | Women | H US\n",
      "http://www.hm.com/us/product/42775?article=42775-A\n",
      "[3] H+ Padded Vest | Black | Women | H US\n",
      "http://www.hm.com/us/product/53111?article=53111-A\n",
      "[3] H+ Long-sleeved Bodysuit | Black | Women | H US\n",
      "http://www.hm.com/us/product/60355?article=60355-A\n",
      "[3] H+ Cashmere Sweater | Powder beige | Women | H US\n",
      "http://www.hm.com/us/product/64817?article=64817-A\n",
      "[3] H+ Ribbed Dress | Gray melange | Women | H US\n",
      "http://www.hm.com/us/product/62967?article=62967-A\n",
      "[3] H+ Lace V-neck Dress | Dark blue | Women | H US\n",
      "http://www.hm.com/us/product/59666?article=59666-A\n",
      "[3] H+ Padded Vest | Plum | Women | H US\n",
      "http://www.hm.com/us/product/53111?article=53111-B\n",
      "[3] H+ Sweatshirt | Dark turquoise | Women | H US\n",
      "http://www.hm.com/us/product/66494?article=66494-A\n",
      "count loops: 6100 ====================================\n",
      "[3] H+ Glittery Dress | Black/silver-colored | Women | H US\n",
      "http://www.hm.com/us/product/58066?article=58066-A\n",
      "[3] H+ Bikini Bottoms | Black | Women | H US\n",
      "http://www.hm.com/us/product/88577?article=88577-D\n",
      "[3] H+ Crushed-velvet Top | Black | Women | H US\n",
      "http://www.hm.com/us/product/67542?article=67542-A\n",
      "[3] H+ Turtleneck Dress | Black | Women | H US\n",
      "http://www.hm.com/us/product/59577?article=59577-A\n",
      "[3] H+ Lace Dress | Black | Women | H US\n",
      "http://www.hm.com/us/product/57704?article=57704-A\n",
      "count loops: 6200 ====================================\n",
      "[3] H+ Sweatshirt | Black | Women | H US\n",
      "http://www.hm.com/us/product/62518?article=62518-D\n",
      "[3] H+ Rib-knit Dress | Light taupe | Women | H US\n",
      "http://www.hm.com/us/product/48807?article=48807-A\n",
      "[3] H+ Bikini Bottoms | Dark blue/dotted | Women | H US\n",
      "http://www.hm.com/us/product/88577?article=88577-C\n",
      "[3] H+ Rib-knit Dress | Black | Women | H US\n",
      "http://www.hm.com/us/product/61550?article=61550-A\n",
      "[3] H+ Bouclé Coat with Tie Belt | Natural white | Women | H US\n",
      "http://www.hm.com/us/product/36844?article=36844-A\n",
      "[3] H+ V-neck Blouse | Black | Women | H US\n",
      "http://www.hm.com/us/product/57829?article=57829-A\n",
      "[3] H+ Glittery Skirt | Dark gray/silver-colored | Women | H US\n",
      "http://www.hm.com/us/product/59674?article=59674-A\n",
      "count loops: 6300 ====================================\n",
      "[3] H+ Fine-knit Sweater | Light blue | Women | H US\n",
      "http://www.hm.com/us/product/60302?article=60302-B\n",
      "[3] H+ Strapless Jumpsuit | Black | Women | H US\n",
      "http://www.hm.com/us/product/57204?article=57204-A\n",
      "[3] H+ Dress with Ruffles | Black | Women | H US\n",
      "http://www.hm.com/us/product/62982?article=62982-A\n",
      "[3] H+ Glittery Dress | Dark purple | Women | H US\n",
      "http://www.hm.com/us/product/36276?article=36276-B\n",
      "[3] H+ Ribbed Top | Gray melange | Women | H US\n",
      "http://www.hm.com/us/product/65849?article=65849-A\n",
      "count loops: 6400 ====================================\n",
      "[3] H+ Off-the-shoulder Dress | Black | Women | H US\n",
      "http://www.hm.com/us/product/47395?article=47395-A\n",
      "[3] H+ Short Dress | Natural white | Women | H US\n",
      "http://www.hm.com/us/product/83540?article=83540-A\n",
      "count loops: 6500 ====================================\n",
      "count loops: 6600 ====================================\n",
      "count loops: 6700 ====================================\n",
      "count loops: 6800 ====================================\n",
      "count loops: 6900 ====================================\n",
      "count loops: 7000 ====================================\n",
      "count loops: 7100 ====================================\n",
      "count loops: 7200 ====================================\n",
      "count loops: 7300 ====================================\n",
      "count loops: 7400 ====================================\n",
      "count loops: 7500 ====================================\n",
      "count loops: 7600 ====================================\n",
      "count loops: 7700 ====================================\n",
      "count loops: 7800 ====================================\n",
      "count loops: 7900 ====================================\n",
      "count loops: 8000 ====================================\n",
      "count loops: 8100 ====================================\n",
      "count loops: 8200 ====================================\n",
      "count loops: 8300 ====================================\n",
      "count loops: 8400 ====================================\n",
      "count loops: 8500 ====================================\n",
      "count loops: 8600 ====================================\n",
      "count loops: 8700 ====================================\n",
      "count loops: 8800 ====================================\n",
      "count loops: 8900 ====================================\n",
      "count loops: 9000 ====================================\n",
      "count loops: 9100 ====================================\n",
      "count loops: 9200 ====================================\n",
      "count loops: 9300 ====================================\n",
      "count loops: 9400 ====================================\n",
      "count loops: 9500 ====================================\n",
      "count loops: 9600 ====================================\n",
      "count loops: 9700 ====================================\n",
      "count loops: 9800 ====================================\n",
      "count loops: 9900 ====================================\n",
      "count loops: 10000 ====================================\n",
      "count loops: 10100 ====================================\n",
      "count loops: 10200 ====================================\n",
      "count loops: 10300 ====================================\n",
      "count loops: 10400 ====================================\n",
      "count loops: 10500 ====================================\n"
     ]
    },
    {
     "name": "stdout",
     "output_type": "stream",
     "text": [
      "count loops: 10600 ====================================\n",
      "count loops: 10700 ====================================\n",
      "count loops: 10800 ====================================\n",
      "count loops: 10900 ====================================\n",
      "count loops: 11000 ====================================\n",
      "count loops: 11100 ====================================\n",
      "count loops: 11200 ====================================\n",
      "count loops: 11300 ====================================\n",
      "count loops: 11400 ====================================\n",
      "count loops: 11500 ====================================\n",
      "count loops: 11600 ====================================\n",
      "count loops: 11700 ====================================\n",
      "total count loops: 11739 ====================================\n",
      "3 breaks count: 268\n"
     ]
    }
   ],
   "source": [
    "count_breaks_dict = dict()\n",
    "count_loop = 0\n",
    "for item_url_list in item_url_lists:\n",
    "    for item_url in item_url_list:\n",
    "        item_info = get_info(item_url)\n",
    "        if item_info['title breaks'] > 2:\n",
    "            print \"[\" + str(item_info['title breaks']) + \"] \" + item_info['title']\n",
    "            print item_info['url']\n",
    "            if item_info['title breaks'] in count_breaks_dict:\n",
    "                count_breaks_dict[item_info['title breaks']] = count_breaks_dict[item_info['title breaks']] + 1\n",
    "            else:\n",
    "                count_breaks_dict[item_info['title breaks']] = 1\n",
    "        if count_loop % 100 == 0:\n",
    "            print \"count loops:\" , count_loop, \"====================================\"\n",
    "        count_loop = count_loop + 1\n",
    "print \"total count loops:\" , count_loop, \"====================================\"\n",
    "for breaks, count_breaks in count_breaks_dict.items():\n",
    "    print breaks, \"breaks count:\", count_breaks"
   ]
  },
  {
   "cell_type": "code",
   "execution_count": 13,
   "metadata": {
    "scrolled": true
   },
   "outputs": [
    {
     "name": "stdout",
     "output_type": "stream",
     "text": [
      "11739\n"
     ]
    }
   ],
   "source": [
    "count_items = 0\n",
    "for item_url_list in item_url_lists:\n",
    "    count_items = count_items + len(item_url_list)\n",
    "print count_items"
   ]
  },
  {
   "cell_type": "markdown",
   "metadata": {},
   "source": [
    "* All 11739 item pages have been successfully parsed.\n",
    "* Only '&M' was omitted. Fix HnM_ProductPage_Parser by adding '&M' to the right place.\n",
    " * Case 1: 'H&M+'\n",
    " * Case 2: 'H&M'"
   ]
  },
  {
   "cell_type": "markdown",
   "metadata": {},
   "source": [
    "__Test__"
   ]
  },
  {
   "cell_type": "code",
   "execution_count": 17,
   "metadata": {},
   "outputs": [
    {
     "name": "stdout",
     "output_type": "stream",
     "text": [
      "count loops: 0 ====================================\n",
      "[3] H&M+ Printed T-shirt | Powder pink | Women | H&M US\n",
      "http://www.hm.com/us/product/70852?article=70852-A\n",
      "count loops: 100 ====================================\n",
      "[3] H&M+ Denim Shorts | Denim blue | Women | H&M US\n",
      "http://www.hm.com/us/product/45083?article=45083-C\n",
      "[3] H&M+ Denim Shorts | Black denim | Women | H&M US\n",
      "http://www.hm.com/us/product/45083?article=45083-A\n",
      "total count loops: 200 ====================================\n",
      "3 breaks count: 3\n"
     ]
    }
   ],
   "source": [
    "count_breaks_dict = dict()\n",
    "count_loop = 0\n",
    "for item_url_list in item_url_lists[:1]:\n",
    "    for item_url in item_url_list[700:900]:\n",
    "        item_info = get_info(item_url)\n",
    "        if item_info['title breaks'] > 2:\n",
    "            print \"[\" + str(item_info['title breaks']) + \"] \" + item_info['title']\n",
    "            print item_info['url']\n",
    "            if item_info['title breaks'] in count_breaks_dict:\n",
    "                count_breaks_dict[item_info['title breaks']] = count_breaks_dict[item_info['title breaks']] + 1\n",
    "            else:\n",
    "                count_breaks_dict[item_info['title breaks']] = 1\n",
    "        if count_loop % 100 == 0:\n",
    "            print \"count loops:\" , count_loop, \"====================================\"\n",
    "        count_loop = count_loop + 1\n",
    "print \"total count loops:\" , count_loop, \"====================================\"\n",
    "for breaks, count_breaks in count_breaks_dict.items():\n",
    "    print breaks, \"breaks count:\", count_breaks"
   ]
  },
  {
   "cell_type": "markdown",
   "metadata": {},
   "source": [
    "__The problem has been solved!__"
   ]
  },
  {
   "cell_type": "code",
   "execution_count": null,
   "metadata": {
    "collapsed": true
   },
   "outputs": [],
   "source": []
  }
 ],
 "metadata": {
  "kernelspec": {
   "display_name": "Python 2",
   "language": "python",
   "name": "python2"
  },
  "language_info": {
   "codemirror_mode": {
    "name": "ipython",
    "version": 2
   },
   "file_extension": ".py",
   "mimetype": "text/x-python",
   "name": "python",
   "nbconvert_exporter": "python",
   "pygments_lexer": "ipython2",
   "version": "2.7.13"
  }
 },
 "nbformat": 4,
 "nbformat_minor": 2
}
