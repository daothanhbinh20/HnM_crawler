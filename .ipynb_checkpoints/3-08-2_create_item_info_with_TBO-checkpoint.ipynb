{
 "cells": [
  {
   "cell_type": "markdown",
   "metadata": {},
   "source": [
    "# 1. Add the TBO category"
   ]
  },
  {
   "cell_type": "code",
   "execution_count": 1,
   "metadata": {
    "collapsed": true
   },
   "outputs": [],
   "source": [
    "from interface import *"
   ]
  },
  {
   "cell_type": "code",
   "execution_count": 2,
   "metadata": {
    "collapsed": true
   },
   "outputs": [],
   "source": [
    "dict_tbo_categories = import_tbo_categories()"
   ]
  },
  {
   "cell_type": "code",
   "execution_count": 3,
   "metadata": {
    "collapsed": true
   },
   "outputs": [],
   "source": [
    "pf = open('pickle_data/all_items_info.p', 'rb')\n",
    "items_info = pickle.load(pf)\n",
    "pf.close()"
   ]
  },
  {
   "cell_type": "code",
   "execution_count": 4,
   "metadata": {
    "collapsed": true
   },
   "outputs": [],
   "source": [
    "def get_categories(item_info):\n",
    "    metricCategoryID = item_info['metricCategoryID']\n",
    "    # Delete the first and last strings\n",
    "    categories = metricCategoryID.split('_')[1:-1]\n",
    "    return categories"
   ]
  },
  {
   "cell_type": "code",
   "execution_count": 6,
   "metadata": {},
   "outputs": [
    {
     "name": "stdout",
     "output_type": "stream",
     "text": [
      "count items with 1 TBO: 5108\n",
      "len(items_info): 5108\n"
     ]
    }
   ],
   "source": [
    "set_tbo = set()\n",
    "count = 0\n",
    "indexes_to_delete = []\n",
    "for i in range(len(items_info)):\n",
    "    categories = get_categories(items_info[i])\n",
    "    for category in categories:\n",
    "        if category in dict_tbo_categories['top']:\n",
    "            set_tbo.add('top')\n",
    "        if category in dict_tbo_categories['bottom']:\n",
    "            set_tbo.add('bottom')\n",
    "        if category in dict_tbo_categories['onepiece']:\n",
    "            set_tbo.add('onepiece')\n",
    "    if len(set_tbo) == 1: # Dealing with items with only one TBO category.\n",
    "        items_info[i]['tbo'] = list(set_tbo)[0]\n",
    "        count = count + 1\n",
    "    else:\n",
    "        indexes_to_delete.append(i)\n",
    "    set_tbo.clear()\n",
    "print \"count items with 1 TBO:\", count\n",
    "\n",
    "indexes_to_delete.reverse() # Make the indexes in decreasing order. \n",
    "for i in indexes_to_delete:\n",
    "    del items_info[i]\n",
    "\n",
    "print \"len(items_info):\", len(items_info)"
   ]
  },
  {
   "cell_type": "markdown",
   "metadata": {},
   "source": [
    "### Test"
   ]
  },
  {
   "cell_type": "code",
   "execution_count": 7,
   "metadata": {
    "collapsed": true
   },
   "outputs": [],
   "source": [
    "import random"
   ]
  },
  {
   "cell_type": "code",
   "execution_count": 45,
   "metadata": {
    "scrolled": true
   },
   "outputs": [
    {
     "data": {
      "text/plain": [
       "{'color': 'Dark denim blue rugged rinse',\n",
       " 'image': {'item': 'http://lp.hm.com/hmprod?set=key[source],value[/model/2016/D00 0399136 004 97 4998.jpg]&set=key[rotate],value[]&set=key[width],value[]&set=key[height],value[]&set=key[x],value[]&set=key[y],value[]&set=key[type],value[STILL_LIFE_FRONT]&set=key[hmver],value[1]&call=url[file:/product/large]',\n",
       "  'model': 'http://lp.hm.com/hmprod?set=key[source],value[/environment/2016/8AQ_0096_013R.jpg]&set=key[rotate],value[0]&set=key[width],value[4306]&set=key[height],value[5034]&set=key[x],value[485]&set=key[y],value[87]&set=key[type],value[FASHION_FRONT]&set=key[hmver],value[0]&call=url[file:/product/large]'},\n",
       " 'metricCategoryID': 'LADIES_JEANS_SHAPING_W198',\n",
       " 'name': 'Shaping Skinny Regular Jeans',\n",
       " 'serial': '47463-D',\n",
       " 'tbo': 'bottom',\n",
       " 'url': 'http://www.hm.com/us/product/47463?article=47463-D',\n",
       " 'who': 'Women'}"
      ]
     },
     "execution_count": 45,
     "metadata": {},
     "output_type": "execute_result"
    }
   ],
   "source": [
    "random.choice(items_info)"
   ]
  },
  {
   "cell_type": "markdown",
   "metadata": {},
   "source": [
    "### Serialization"
   ]
  },
  {
   "cell_type": "code",
   "execution_count": 9,
   "metadata": {
    "collapsed": true
   },
   "outputs": [],
   "source": [
    "import pickle\n",
    "f = open('pickle_data/items_info_with_tbo.p', 'wb')\n",
    "pickle.dump(items_info, f)\n",
    "f.close()"
   ]
  },
  {
   "cell_type": "markdown",
   "metadata": {},
   "source": [
    "# 2. Count how many items to extract"
   ]
  },
  {
   "cell_type": "code",
   "execution_count": 10,
   "metadata": {
    "collapsed": true
   },
   "outputs": [],
   "source": [
    "from interface import *"
   ]
  },
  {
   "cell_type": "code",
   "execution_count": 11,
   "metadata": {
    "collapsed": true
   },
   "outputs": [],
   "source": [
    "dict_tbo_categories = import_tbo_categories()"
   ]
  },
  {
   "cell_type": "code",
   "execution_count": 12,
   "metadata": {
    "collapsed": true
   },
   "outputs": [],
   "source": [
    "def get_categories(item_info):\n",
    "    metricCategoryID = item_info['metricCategoryID']\n",
    "    # Delete the first and last strings\n",
    "    categories = metricCategoryID.split('_')[1:-1]\n",
    "    return categories"
   ]
  },
  {
   "cell_type": "code",
   "execution_count": 13,
   "metadata": {
    "collapsed": true
   },
   "outputs": [],
   "source": [
    "def count_has_in(categories, items_info, who):\n",
    "    # who: 'Women', or 'Men'\n",
    "    count = 0\n",
    "    for item_info in items_info:\n",
    "        if who != item_info['who']:\n",
    "            continue\n",
    "        metricCategories = get_categories(item_info)\n",
    "        for category in categories:\n",
    "            if category in metricCategories:\n",
    "                count = count + 1\n",
    "                break\n",
    "    return count"
   ]
  },
  {
   "cell_type": "markdown",
   "metadata": {},
   "source": [
    "### Women"
   ]
  },
  {
   "cell_type": "code",
   "execution_count": 15,
   "metadata": {
    "scrolled": true
   },
   "outputs": [
    {
     "name": "stdout",
     "output_type": "stream",
     "text": [
      "3712\n"
     ]
    }
   ],
   "source": [
    "tbo_categories = dict_tbo_categories['top'] + dict_tbo_categories['bottom'] + dict_tbo_categories['onepiece']\n",
    "women = count_has_in(tbo_categories, items_info, 'Women') \n",
    "print women"
   ]
  },
  {
   "cell_type": "markdown",
   "metadata": {},
   "source": [
    "### Men"
   ]
  },
  {
   "cell_type": "code",
   "execution_count": 16,
   "metadata": {
    "scrolled": true
   },
   "outputs": [
    {
     "name": "stdout",
     "output_type": "stream",
     "text": [
      "1396\n"
     ]
    }
   ],
   "source": [
    "men = count_has_in(tbo_categories, items_info, 'Men')\n",
    "print men"
   ]
  },
  {
   "cell_type": "markdown",
   "metadata": {},
   "source": [
    "### Women + Men"
   ]
  },
  {
   "cell_type": "code",
   "execution_count": 17,
   "metadata": {},
   "outputs": [
    {
     "name": "stdout",
     "output_type": "stream",
     "text": [
      "5108\n"
     ]
    }
   ],
   "source": [
    "print men + women"
   ]
  },
  {
   "cell_type": "markdown",
   "metadata": {},
   "source": [
    "### Women Top"
   ]
  },
  {
   "cell_type": "code",
   "execution_count": 18,
   "metadata": {
    "scrolled": true
   },
   "outputs": [
    {
     "name": "stdout",
     "output_type": "stream",
     "text": [
      "1886\n"
     ]
    }
   ],
   "source": [
    "women_top = count_has_in(dict_tbo_categories['top'], items_info, 'Women')\n",
    "print women_top"
   ]
  },
  {
   "cell_type": "markdown",
   "metadata": {},
   "source": [
    "### Men Top"
   ]
  },
  {
   "cell_type": "code",
   "execution_count": 19,
   "metadata": {},
   "outputs": [
    {
     "name": "stdout",
     "output_type": "stream",
     "text": [
      "925\n"
     ]
    }
   ],
   "source": [
    "men_top = count_has_in(dict_tbo_categories['top'], items_info, 'Men')\n",
    "print men_top"
   ]
  },
  {
   "cell_type": "markdown",
   "metadata": {},
   "source": [
    "### Women Top + Men Top"
   ]
  },
  {
   "cell_type": "code",
   "execution_count": 20,
   "metadata": {},
   "outputs": [
    {
     "name": "stdout",
     "output_type": "stream",
     "text": [
      "2811\n"
     ]
    }
   ],
   "source": [
    "print women_top + men_top"
   ]
  },
  {
   "cell_type": "markdown",
   "metadata": {},
   "source": [
    "### Women Bottom"
   ]
  },
  {
   "cell_type": "code",
   "execution_count": 24,
   "metadata": {
    "scrolled": true
   },
   "outputs": [
    {
     "name": "stdout",
     "output_type": "stream",
     "text": [
      "1003\n"
     ]
    }
   ],
   "source": [
    "women_bottom = count_has_in(dict_tbo_categories['bottom'], items_info, 'Women')\n",
    "print women_bottom"
   ]
  },
  {
   "cell_type": "markdown",
   "metadata": {},
   "source": [
    "### Men Bottom"
   ]
  },
  {
   "cell_type": "code",
   "execution_count": 25,
   "metadata": {},
   "outputs": [
    {
     "name": "stdout",
     "output_type": "stream",
     "text": [
      "471\n"
     ]
    }
   ],
   "source": [
    "men_bottom = count_has_in(dict_tbo_categories['bottom'], items_info, 'Men')\n",
    "print men_bottom"
   ]
  },
  {
   "cell_type": "markdown",
   "metadata": {},
   "source": [
    "### Women Bottom + Men Bottom"
   ]
  },
  {
   "cell_type": "code",
   "execution_count": 26,
   "metadata": {},
   "outputs": [
    {
     "name": "stdout",
     "output_type": "stream",
     "text": [
      "1474\n"
     ]
    }
   ],
   "source": [
    "print women_bottom + men_bottom"
   ]
  },
  {
   "cell_type": "markdown",
   "metadata": {},
   "source": [
    "### Women Onepiece"
   ]
  },
  {
   "cell_type": "code",
   "execution_count": 27,
   "metadata": {
    "scrolled": false
   },
   "outputs": [
    {
     "name": "stdout",
     "output_type": "stream",
     "text": [
      "823\n"
     ]
    }
   ],
   "source": [
    "women_onepiece = count_has_in(dict_tbo_categories['onepiece'], items_info, 'Women')\n",
    "print women_onepiece"
   ]
  },
  {
   "cell_type": "markdown",
   "metadata": {},
   "source": [
    "### Men Onepiece"
   ]
  },
  {
   "cell_type": "code",
   "execution_count": 28,
   "metadata": {
    "scrolled": true
   },
   "outputs": [
    {
     "name": "stdout",
     "output_type": "stream",
     "text": [
      "0\n"
     ]
    }
   ],
   "source": [
    "men_onepiece = count_has_in(dict_tbo_categories['onepiece'], items_info, 'Men')\n",
    "print men_onepiece"
   ]
  },
  {
   "cell_type": "markdown",
   "metadata": {},
   "source": [
    "### Women Onepiece + Men Onepiece"
   ]
  },
  {
   "cell_type": "code",
   "execution_count": 29,
   "metadata": {},
   "outputs": [
    {
     "name": "stdout",
     "output_type": "stream",
     "text": [
      "823\n"
     ]
    }
   ],
   "source": [
    "print women_onepiece + men_onepiece"
   ]
  },
  {
   "cell_type": "markdown",
   "metadata": {},
   "source": [
    "### Check"
   ]
  },
  {
   "cell_type": "code",
   "execution_count": 30,
   "metadata": {},
   "outputs": [
    {
     "data": {
      "text/plain": [
       "True"
      ]
     },
     "execution_count": 30,
     "metadata": {},
     "output_type": "execute_result"
    }
   ],
   "source": [
    "women == (women_top + women_bottom + women_onepiece)"
   ]
  },
  {
   "cell_type": "code",
   "execution_count": 31,
   "metadata": {},
   "outputs": [
    {
     "data": {
      "text/plain": [
       "True"
      ]
     },
     "execution_count": 31,
     "metadata": {},
     "output_type": "execute_result"
    }
   ],
   "source": [
    "men == (men_top + men_bottom + men_onepiece)"
   ]
  },
  {
   "cell_type": "markdown",
   "metadata": {},
   "source": [
    "### Result\n",
    "* The number of items in the TBO categories: 5108 (Women: 3712, Men: 1396)\n",
    "  * The number of tops: 2811 (Women: 1886, Men: 925)\n",
    "  * The number of bottoms: 1474 (Women: 1003, Men: 471)\n",
    "  * The number of onepieces: 823 (Women: 823, Men: 0)"
   ]
  }
 ],
 "metadata": {
  "kernelspec": {
   "display_name": "Python 2",
   "language": "python",
   "name": "python2"
  },
  "language_info": {
   "codemirror_mode": {
    "name": "ipython",
    "version": 2
   },
   "file_extension": ".py",
   "mimetype": "text/x-python",
   "name": "python",
   "nbconvert_exporter": "python",
   "pygments_lexer": "ipython2",
   "version": "2.7.13"
  }
 },
 "nbformat": 4,
 "nbformat_minor": 2
}
