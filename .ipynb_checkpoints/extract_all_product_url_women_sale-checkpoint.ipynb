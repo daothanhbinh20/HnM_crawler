{
 "cells": [
  {
   "cell_type": "code",
   "execution_count": 1,
   "metadata": {
    "collapsed": true
   },
   "outputs": [],
   "source": [
    "f = open('item_list_pages/women_sale_list_page.html', 'r')"
   ]
  },
  {
   "cell_type": "code",
   "execution_count": 2,
   "metadata": {
    "collapsed": true
   },
   "outputs": [],
   "source": [
    "str_list_page = f.read()"
   ]
  },
  {
   "cell_type": "code",
   "execution_count": 3,
   "metadata": {
    "collapsed": true
   },
   "outputs": [],
   "source": [
    "f.close()"
   ]
  },
  {
   "cell_type": "code",
   "execution_count": 4,
   "metadata": {
    "collapsed": true
   },
   "outputs": [],
   "source": [
    "from HTMLParser import HTMLParser\n",
    "class HnM_ItemList_Parser(HTMLParser):\n",
    "    in_item_url_tag = False\n",
    "    item_url_list = []\n",
    "    def handle_starttag(self, tag, attrs):\n",
    "        if tag == \"a\":\n",
    "            for attr in attrs:\n",
    "                if attr[0] == \"class\" and attr[1] == \"product-url js-product-tracking\":\n",
    "                    self.in_item_url_tag = True\n",
    "                    break\n",
    "            if self.in_item_url_tag:\n",
    "                for attr in attrs:\n",
    "                    if attr[0] == \"href\":\n",
    "                        self.item_url_list.append(str(attr[1]))\n",
    "                        self.in_item_url_tag = False\n",
    "    def get_item_url_list(self):\n",
    "        return self.item_url_list"
   ]
  },
  {
   "cell_type": "code",
   "execution_count": 5,
   "metadata": {
    "collapsed": true
   },
   "outputs": [],
   "source": [
    "parser = HnM_ItemList_Parser()"
   ]
  },
  {
   "cell_type": "code",
   "execution_count": 6,
   "metadata": {
    "collapsed": true
   },
   "outputs": [],
   "source": [
    "parser.feed(str_list_page)"
   ]
  },
  {
   "cell_type": "code",
   "execution_count": 7,
   "metadata": {
    "collapsed": true
   },
   "outputs": [],
   "source": [
    "item_url_list = parser.get_item_url_list()"
   ]
  },
  {
   "cell_type": "code",
   "execution_count": 8,
   "metadata": {},
   "outputs": [
    {
     "data": {
      "text/plain": [
       "1242"
      ]
     },
     "execution_count": 8,
     "metadata": {},
     "output_type": "execute_result"
    }
   ],
   "source": [
    "len(item_url_list)"
   ]
  },
  {
   "cell_type": "code",
   "execution_count": 9,
   "metadata": {
    "scrolled": true
   },
   "outputs": [
    {
     "data": {
      "text/plain": [
       "['http://www.hm.com/us/product/65680?article=65680-A',\n",
       " 'http://www.hm.com/us/product/64622?article=64622-B',\n",
       " 'http://www.hm.com/us/product/68276?article=68276-B',\n",
       " 'http://www.hm.com/us/product/66637?article=66637-B',\n",
       " 'http://www.hm.com/us/product/69157?article=69157-A',\n",
       " 'http://www.hm.com/us/product/65393?article=65393-A',\n",
       " 'http://www.hm.com/us/product/67223?article=67223-A',\n",
       " 'http://www.hm.com/us/product/67006?article=67006-D',\n",
       " 'http://www.hm.com/us/product/46233?article=46233-A',\n",
       " 'http://www.hm.com/us/product/67092?article=67092-A']"
      ]
     },
     "execution_count": 9,
     "metadata": {},
     "output_type": "execute_result"
    }
   ],
   "source": [
    "item_url_list[:10]"
   ]
  },
  {
   "cell_type": "code",
   "execution_count": 10,
   "metadata": {},
   "outputs": [
    {
     "data": {
      "text/plain": [
       "'http://www.hm.com/us/product/56851?article=56851-A'"
      ]
     },
     "execution_count": 10,
     "metadata": {},
     "output_type": "execute_result"
    }
   ],
   "source": [
    "item_url_list[-1]"
   ]
  },
  {
   "cell_type": "markdown",
   "metadata": {},
   "source": [
    "### Serialzing the list"
   ]
  },
  {
   "cell_type": "code",
   "execution_count": 11,
   "metadata": {
    "collapsed": true
   },
   "outputs": [],
   "source": [
    "import pickle\n",
    "f = open('url_list_women_sale.p', 'wb')\n",
    "pickle.dump(item_url_list, f)\n",
    "f.close()"
   ]
  }
 ],
 "metadata": {
  "kernelspec": {
   "display_name": "Python 2",
   "language": "python",
   "name": "python2"
  },
  "language_info": {
   "codemirror_mode": {
    "name": "ipython",
    "version": 2
   },
   "file_extension": ".py",
   "mimetype": "text/x-python",
   "name": "python",
   "nbconvert_exporter": "python",
   "pygments_lexer": "ipython2",
   "version": "2.7.13"
  }
 },
 "nbformat": 4,
 "nbformat_minor": 2
}
