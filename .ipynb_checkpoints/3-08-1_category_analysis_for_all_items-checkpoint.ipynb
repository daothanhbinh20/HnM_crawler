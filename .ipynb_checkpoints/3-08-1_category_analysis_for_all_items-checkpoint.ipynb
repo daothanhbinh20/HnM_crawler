{
 "cells": [
  {
   "cell_type": "markdown",
   "metadata": {},
   "source": [
    "# 1. Import the meta data of items"
   ]
  },
  {
   "cell_type": "code",
   "execution_count": 1,
   "metadata": {
    "collapsed": true
   },
   "outputs": [],
   "source": [
    "import pickle\n",
    "f = open('pickle_data/all_items_info.p', 'rb')\n",
    "items_info = pickle.load(f)\n",
    "f.close()"
   ]
  },
  {
   "cell_type": "code",
   "execution_count": 2,
   "metadata": {},
   "outputs": [
    {
     "data": {
      "text/plain": [
       "8528"
      ]
     },
     "execution_count": 2,
     "metadata": {},
     "output_type": "execute_result"
    }
   ],
   "source": [
    "len(items_info)"
   ]
  },
  {
   "cell_type": "code",
   "execution_count": 3,
   "metadata": {},
   "outputs": [
    {
     "data": {
      "text/plain": [
       "{'color': 'White',\n",
       " 'image': {'item': 'http://lp.hm.com/hmprod?set=key[source],value[/model/2017/E00 0478110 001 77 1688.jpg]&set=key[rotate],value[]&set=key[width],value[]&set=key[height],value[]&set=key[x],value[]&set=key[y],value[]&set=key[type],value[STILL_LIFE_FRONT]&set=key[hmver],value[2]&call=url[file:/product/large]',\n",
       "  'model': 'http://lp.hm.com/hmprod?set=key[source],value[/environment/2017/8GZ_0158_011R.jpg]&set=key[rotate],value[0]&set=key[width],value[3927]&set=key[height],value[4591]&set=key[x],value[0]&set=key[y],value[-1]&set=key[type],value[FASHION_FRONT]&set=key[hmver],value[0]&call=url[file:/product/large]'},\n",
       " 'metricCategoryID': 'LADIES_TOPS_SHORT_SLEEVED_W112',\n",
       " 'name': 'Short-sleeved Top',\n",
       " 'serial': '65274-B',\n",
       " 'url': 'http://www.hm.com/us/product/65274?article=65274-B',\n",
       " 'who': 'Women'}"
      ]
     },
     "execution_count": 3,
     "metadata": {},
     "output_type": "execute_result"
    }
   ],
   "source": [
    "items_info[0]"
   ]
  },
  {
   "cell_type": "markdown",
   "metadata": {},
   "source": [
    "# 2. Digging all kinds of categories"
   ]
  },
  {
   "cell_type": "code",
   "execution_count": 12,
   "metadata": {
    "collapsed": true
   },
   "outputs": [],
   "source": [
    "def get_categories(item_info):\n",
    "    metricCategoryID = item_info['metricCategoryID']\n",
    "    # Delete the first and last strings\n",
    "    categories = metricCategoryID.split('_')[1:-1]\n",
    "    return categories"
   ]
  },
  {
   "cell_type": "code",
   "execution_count": 13,
   "metadata": {
    "scrolled": true
   },
   "outputs": [
    {
     "name": "stdout",
     "output_type": "stream",
     "text": [
      "['TOPS', 'SHORT', 'SLEEVED']\n",
      "['TOPS', 'SHORT', 'SLEEVED']\n",
      "['TOPS', 'VESTS', 'SLEEVELESS']\n",
      "['TOPS', 'LONG', 'SLEEVED']\n",
      "['TOPS', 'VESTS', 'SLEEVELESS']\n",
      "['DIVIDED', 'BASICS', 'TOPS']\n",
      "['TOPS', 'SHORT', 'SLEEVED']\n",
      "['TOPS', 'SHORT', 'SLEEVED']\n",
      "['TOPS', 'SHORT', 'SLEEVED']\n",
      "['CASUAL', 'SHIRTS', 'BLOUSES']\n"
     ]
    }
   ],
   "source": [
    "for item_info in items_info[0:10]:\n",
    "    print get_categories(item_info)"
   ]
  },
  {
   "cell_type": "code",
   "execution_count": 14,
   "metadata": {},
   "outputs": [
    {
     "name": "stdout",
     "output_type": "stream",
     "text": [
      "set_category:\n",
      "set(['EYEBROWS', 'EYESHADOW', 'TOWELS', 'BEACHWEAR', 'PERFUME', 'COATS', 'FRAGRANCE', 'CARDIGANS', 'EVERYDAY', 'SPORTSWEAR', 'SLIPS', 'GLOVES', 'CONCEALER', 'SCRUB', 'DENIMSHORTS', 'HANDBAGS', 'MOBILEACC', 'LONG', 'PUMPS', 'DRESSING', 'EARRINGS', 'SHAPING', 'BALLERINAS', 'BRUSHES', 'LASHES', 'LIMITED', 'PARTYDRESSES', 'LIPS', 'MASCARA', 'TUNICS', 'SWEATSHIRT', 'PRIMER', 'LIPLINER', 'POWDER', 'REMOVERS', 'PADDED', 'LIPSTICK', 'CHINOS', 'STRAIGHT', 'SOCKS', 'NAILPOLISH', 'REGULAR', 'MATERNITY', 'JACKETS', 'BEDROOM', 'MODERN-CLASSICS', 'BOOTCUT', 'SHORT', 'BODYLOTIONS', 'HATS', 'TOPS', 'BRIEFS', 'BATH', 'BOOTS', 'SPONGES', 'HM', 'TIES', 'BATHROOM', 'PQ', 'MULTIPACK', 'BLOUSES', 'FACEMASKS', 'SWEATSHIRTS', 'ROBES', 'PURSES', 'LINGERIE', 'CORSETS', 'PUSHUP', 'SNEAKERS', 'APPLICATORS', 'ACC', 'JUMPERS', 'EYES', 'VESTS', 'BELTS', 'TURTLENECKS', 'KIMONOS', 'SCARVES', 'MODERNCLASSICS', 'BRONZER', 'JUMPSUITS', 'SWEATPANTS', 'HIPSTERS', 'SLEEVELESS', 'JEANS', 'WATCHES', 'CROPTOPS', 'BOXER', 'MAKEUPBAGS', 'BOTTOMS', 'SANDALS', 'NURSING', 'SKIRTS', 'LIPGLOSS', 'SWIM', 'THONGS', 'CONSCIOUS', 'SUN', 'SUITS', 'HAIR', 'SKINNYHIGH', 'BOMBERS', 'LEGGINGS', 'MAKEUPTOOLS', 'SHAPE', 'PARKAS', 'FASHION', 'SKINNYLOW', 'ACCESSORIES', 'SWIMSUITS', 'EDITION', 'BIKINI', 'SUPERSKINNY', 'BRACELETS', 'NECKLACE', 'PLUS', 'NIGHTWEAR', 'PYJAMAS', 'SHORTS', 'BLUSHER', 'RINGS', 'DIVIDED', 'SLIM', 'EYELINER', 'BODYCARE', 'WEAR', 'OTHERS', 'WIRE', 'BODYS', 'CARE', 'BAGS', 'BASICS', 'SKINNYREGULAR', 'BECKHAM', 'CLUTCH', 'TRAVEL', 'SWIMWEAR', 'HANDS', 'BLAZERS', 'EAUDETOILETTE', 'HEELS', 'SKINNY', 'SOCKSTIGHTS', 'SUPERPUSH', 'BRA', 'MORE', 'MAN', 'PONCHOS', 'FOUNDATION', 'FEET', 'TSHIRT', 'SHIRTS', 'BASIC', 'GOWNS', 'CARDIGANSJUMPERS', 'CASUAL', 'JOGGERS', 'JUMPSUIT', 'ANKLEBOOTS1', 'SPORTSBRA', 'JEWELLERY', 'LOW', 'TIGHTS', 'NAILS', 'SHOWER', 'MORESKINNY', 'FLARE', 'HIGHLIGHTER', 'CREAMS', 'SOFT', 'SLIPPERS', 'UNDERWEAR', 'BEAUTY', 'DRESSED', 'TROUSERS', 'SKINCARE', 'OTHER', 'FLATS', 'LIPBALM', 'DRESSES', 'SLEEVED', 'HOODIES', 'SHOES', 'MIDI', 'TSHIRTS', 'MAKEUPBRUSHES', 'LOOSE', 'FACE', 'PARTYWEAR', 'LOUNGEWEAR', 'ESPADRILLES', 'BALCONETTE', 'TOOLS', 'NAILCARE']) \n",
      "\n",
      "set_category_first:\n",
      "set(['TOPS', 'UNDERWEAR', 'TSHIRT', 'SHIRTS', 'HM', 'CARDIGANS', 'EVERYDAY', 'SPORTSWEAR', 'BATHROOM', 'ACCESSORIES', 'CASUAL', 'PARTYWEAR', 'JUMPERS', 'NIGHTWEAR', 'BEAUTY', 'SHORTS', 'DIVIDED', 'BEDROOM', 'MODERNCLASSICS', 'DRESSES', 'BASICS', 'HOODIES', 'SHOES', 'JEANS', 'SWIMWEAR', 'BLAZERS', 'LINGERIE', 'MATERNITY', 'MODERN-CLASSICS', 'JACKETS', 'TROUSERS', 'SKIRTS']) \n",
      "\n",
      "set_category_last:\n",
      "set(['EYEBROWS', 'EYESHADOW', 'OTHERS', 'BEACHWEAR', 'PERFUME', 'COATS', 'CARDIGANS', 'MAKEUPBRUSHES', 'SCRUB', 'DENIMSHORTS', 'HANDBAGS', 'MOBILEACC', 'LONG', 'EARRINGS', 'SHAPING', 'LASHES', 'PARTYDRESSES', 'POWDER', 'TUNICS', 'SWEATSHIRT', 'PRIMER', 'LIPLINER', 'REMOVERS', 'PADDED', 'LIPSTICK', 'CHINOS', 'STRAIGHT', 'SOCKS', 'NAILPOLISH', 'LINGERIE', 'SNEAKERS', 'JACKETS', 'BOOTCUT', 'BOMBERS', 'HATS', 'TOPS', 'BRIEFS', 'BATH', 'BOOTS', 'TIES', 'BATHROOM', 'PQ', 'BLOUSES', 'FACEMASKS', 'SWEATSHIRTS', 'ROBES', 'PURSES', 'REGULAR', 'CORSETS', 'PUSHUP', 'GLOVES', 'APPLICATORS', 'ACC', 'JUMPERS', 'VESTS', 'BELTS', 'TURTLENECKS', 'HEELS', 'JUMPSUITS', 'SWEATPANTS', 'HIPSTERS', 'SLEEVELESS', 'JEANS', 'WATCHES', 'CROPTOPS', 'BOXER', 'BOTTOMS', 'NURSING', 'SKIRTS', 'LIPGLOSS', 'SWIM', 'THONGS', 'CONSCIOUS', 'SUN', 'ACCESSORIES', 'HAIR', 'SKINNYHIGH', 'SHORT', 'LEGGINGS', 'MAKEUPTOOLS', 'PARKAS', 'SKINNYLOW', 'SHAPE', 'SWIMSUITS', 'EDITION', 'BIKINI', 'SUPERSKINNY', 'BRACELETS', 'NECKLACE', 'NIGHTWEAR', 'PYJAMAS', 'SHORTS', 'BLUSHER', 'RINGS', 'DIVIDED', 'SLIM', 'EYELINER', 'MULTIPACK', 'WIRE', 'CARE', 'BAGS', 'BASICS', 'SKINNYREGULAR', 'BECKHAM', 'CLUTCH', 'TRAVEL', 'SWIMWEAR', 'BLAZERS', 'SCARVES', 'SKINNY', 'SOCKSTIGHTS', 'SUPERPUSH', 'LOW', 'PONCHOS', 'FEET', 'SHIRTS', 'BASIC', 'GOWNS', 'CARDIGANSJUMPERS', 'CASUAL', 'JUMPSUIT', 'ANKLEBOOTS1', 'SPORTSBRA', 'JEWELLERY', 'TIGHTS', 'MORESKINNY', 'FLARE', 'CREAMS', 'SOFT', 'SLIPPERS', 'UNDERWEAR', 'HIGHLIGHTER', 'DRESSED', 'TROUSERS', 'OTHER', 'FLATS', 'DRESSES', 'SLEEVED', 'HOODIES', 'SHOES', 'MIDI', 'LOOSE', 'LOUNGEWEAR', 'ESPADRILLES', 'BALCONETTE']) \n",
      "\n"
     ]
    }
   ],
   "source": [
    "set_category = set()\n",
    "set_category_first = set()\n",
    "set_category_last = set()\n",
    "for item_info in items_info:\n",
    "    categories = get_categories(item_info)\n",
    "    set_category_first.add(categories[0])\n",
    "    set_category_last.add(categories[-1])\n",
    "    for category in categories:\n",
    "        set_category.add(category)\n",
    "print \"set_category:\\n\", set_category, '\\n'\n",
    "print \"set_category_first:\\n\", set_category_first, '\\n'\n",
    "print \"set_category_last:\\n\", set_category_last, '\\n'"
   ]
  },
  {
   "cell_type": "markdown",
   "metadata": {},
   "source": [
    "### Find inclusive or independent categories"
   ]
  },
  {
   "cell_type": "code",
   "execution_count": 15,
   "metadata": {
    "collapsed": true
   },
   "outputs": [],
   "source": [
    "def get_supersets(category):\n",
    "    is_first_iter = True\n",
    "    supersets = set()\n",
    "    for item_info in items_info:\n",
    "        categories = get_categories(item_info)\n",
    "        if category in categories:\n",
    "            if is_first_iter:\n",
    "                supersets = set(categories)\n",
    "                is_first_iter = False\n",
    "            else:\n",
    "                supersets = supersets.intersection(categories)\n",
    "    return supersets"
   ]
  },
  {
   "cell_type": "code",
   "execution_count": 16,
   "metadata": {
    "collapsed": true
   },
   "outputs": [],
   "source": [
    "def get_proper_supersets(category):\n",
    "    is_first_iter = True\n",
    "    supersets = set()\n",
    "    for item_info in items_info:\n",
    "        categories = get_categories(item_info)\n",
    "        if category in categories:\n",
    "            if is_first_iter:\n",
    "                supersets = set(categories)\n",
    "                is_first_iter = False\n",
    "            else:\n",
    "                supersets = supersets.intersection(categories)\n",
    "    return supersets.difference(set({category}))"
   ]
  },
  {
   "cell_type": "code",
   "execution_count": 17,
   "metadata": {},
   "outputs": [
    {
     "data": {
      "text/plain": [
       "{'LEGGINGS'}"
      ]
     },
     "execution_count": 17,
     "metadata": {},
     "output_type": "execute_result"
    }
   ],
   "source": [
    "get_supersets('LEGGINGS')"
   ]
  },
  {
   "cell_type": "code",
   "execution_count": 18,
   "metadata": {
    "scrolled": false
   },
   "outputs": [
    {
     "data": {
      "text/plain": [
       "set()"
      ]
     },
     "execution_count": 18,
     "metadata": {},
     "output_type": "execute_result"
    }
   ],
   "source": [
    "get_proper_supersets('LEGGINGS')"
   ]
  },
  {
   "cell_type": "code",
   "execution_count": 19,
   "metadata": {
    "scrolled": true
   },
   "outputs": [
    {
     "name": "stdout",
     "output_type": "stream",
     "text": [
      "category: SPORTSWEAR\n",
      "category: LONG\n",
      "category: TUNICS\n",
      "category: SOCKS\n",
      "category: JACKETS\n",
      "category: MODERN-CLASSICS\n",
      "category: SHORT\n",
      "category: TOPS\n",
      "category: BATH\n",
      "category: HM\n",
      "category: BATHROOM\n",
      "category: PQ\n",
      "category: LINGERIE\n",
      "category: ACC\n",
      "category: VESTS\n",
      "category: MODERNCLASSICS\n",
      "category: JEANS\n",
      "category: BOTTOMS\n",
      "category: SKIRTS\n",
      "category: SUITS\n",
      "category: HAIR\n",
      "category: LEGGINGS\n",
      "category: ACCESSORIES\n",
      "category: NIGHTWEAR\n",
      "category: SHORTS\n",
      "category: DIVIDED\n",
      "category: SLIM\n",
      "category: BASICS\n",
      "category: SWIMWEAR\n",
      "category: BLAZERS\n",
      "category: TSHIRT\n",
      "category: SHIRTS\n",
      "category: CASUAL\n",
      "category: JUMPSUIT\n",
      "category: TIGHTS\n",
      "category: UNDERWEAR\n",
      "category: BEAUTY\n",
      "category: DRESSED\n",
      "category: TROUSERS\n",
      "category: DRESSES\n",
      "category: SLEEVED\n",
      "category: HOODIES\n",
      "category: SHOES\n",
      "category: MIDI\n",
      "category: LOOSE\n",
      "category: PARTYWEAR\n"
     ]
    }
   ],
   "source": [
    "# print the superset categories\n",
    "superset_categories = []\n",
    "for category in set_category:\n",
    "    supersets = get_supersets(category)\n",
    "    if len(supersets) == 1:\n",
    "        print \"category:\", category\n",
    "        superset_categories.append(category)"
   ]
  },
  {
   "cell_type": "code",
   "execution_count": 20,
   "metadata": {},
   "outputs": [
    {
     "name": "stdout",
     "output_type": "stream",
     "text": [
      "['SPORTSWEAR', 'LONG', 'TUNICS', 'SOCKS', 'JACKETS', 'MODERN-CLASSICS', 'SHORT', 'TOPS', 'BATH', 'HM', 'BATHROOM', 'PQ', 'LINGERIE', 'ACC', 'VESTS', 'MODERNCLASSICS', 'JEANS', 'BOTTOMS', 'SKIRTS', 'SUITS', 'HAIR', 'LEGGINGS', 'ACCESSORIES', 'NIGHTWEAR', 'SHORTS', 'DIVIDED', 'SLIM', 'BASICS', 'SWIMWEAR', 'BLAZERS', 'TSHIRT', 'SHIRTS', 'CASUAL', 'JUMPSUIT', 'TIGHTS', 'UNDERWEAR', 'BEAUTY', 'DRESSED', 'TROUSERS', 'DRESSES', 'SLEEVED', 'HOODIES', 'SHOES', 'MIDI', 'LOOSE', 'PARTYWEAR']\n"
     ]
    }
   ],
   "source": [
    "print superset_categories"
   ]
  },
  {
   "cell_type": "markdown",
   "metadata": {},
   "source": [
    "### Analzing categories"
   ]
  },
  {
   "cell_type": "code",
   "execution_count": 32,
   "metadata": {
    "collapsed": true
   },
   "outputs": [],
   "source": [
    "import random\n",
    "def print_has(category, max_items):\n",
    "    count = 0\n",
    "    while True:\n",
    "        item_info = random.choice(items_info)\n",
    "        categories = get_categories(item_info)\n",
    "        if category in categories:\n",
    "            print categories\n",
    "            print item_info['url']\n",
    "            count = count + 1\n",
    "            if count == max_items:\n",
    "                return"
   ]
  },
  {
   "cell_type": "code",
   "execution_count": 35,
   "metadata": {},
   "outputs": [
    {
     "name": "stdout",
     "output_type": "stream",
     "text": [
      "['SHIRTS', 'BLOUSES', 'TUNICS']\n",
      "http://www.hm.com/us/product/68372?article=68372-D\n",
      "['SHIRTS', 'BLOUSES', 'TUNICS']\n",
      "http://www.hm.com/us/product/67416?article=67416-C\n",
      "['HM', 'PLUS', 'TUNICS']\n",
      "http://www.hm.com/us/product/60300?article=60300-A\n",
      "['HM', 'PLUS', 'TUNICS']\n",
      "http://www.hm.com/us/product/60300?article=60300-A\n",
      "['SHIRTS', 'BLOUSES', 'TUNICS']\n",
      "http://www.hm.com/us/product/67416?article=67416-C\n",
      "['SHIRTS', 'BLOUSES', 'TUNICS']\n",
      "http://www.hm.com/us/product/61117?article=61117-A\n",
      "['HM', 'PLUS', 'TUNICS']\n",
      "http://www.hm.com/us/product/60318?article=60318-A\n",
      "['SHIRTS', 'BLOUSES', 'TUNICS']\n",
      "http://www.hm.com/us/product/61053?article=61053-A\n",
      "['SHIRTS', 'BLOUSES', 'TUNICS']\n",
      "http://www.hm.com/us/product/67282?article=67282-B\n",
      "['HM', 'PLUS', 'TUNICS']\n",
      "http://www.hm.com/us/product/64818?article=64818-A\n"
     ]
    }
   ],
   "source": [
    "print_has('TUNICS', 10)"
   ]
  },
  {
   "cell_type": "markdown",
   "metadata": {},
   "source": [
    "* 'TUNICS' is a one-piece style."
   ]
  },
  {
   "cell_type": "code",
   "execution_count": 38,
   "metadata": {
    "scrolled": true
   },
   "outputs": [
    {
     "name": "stdout",
     "output_type": "stream",
     "text": [
      "['TSHIRT', 'SHORT', 'SLEEVED']\n",
      "http://www.hm.com/us/product/39694?article=39694-E\n",
      "['TSHIRT', 'SHORT', 'SLEEVED']\n",
      "http://www.hm.com/us/product/46072?article=46072-C\n",
      "['TOPS', 'SHORT', 'SLEEVED']\n",
      "http://www.hm.com/us/product/68429?article=68429-A\n",
      "['TOPS', 'SHORT', 'SLEEVED']\n",
      "http://www.hm.com/us/product/70738?article=70738-A\n",
      "['TSHIRT', 'SHORT', 'SLEEVED']\n",
      "http://www.hm.com/us/product/56721?article=56721-A\n",
      "['TOPS', 'SHORT', 'SLEEVED']\n",
      "http://www.hm.com/us/product/62358?article=62358-B\n",
      "['SKIRTS', 'SHORT']\n",
      "http://www.hm.com/us/product/61713?article=61713-A\n",
      "['DRESSES', 'JUMPSUITS', 'SHORT']\n",
      "http://www.hm.com/us/product/69846?article=69846-B\n",
      "['TOPS', 'SHORT', 'SLEEVED']\n",
      "http://www.hm.com/us/product/69128?article=69128-A\n",
      "['TOPS', 'SHORT', 'SLEEVED']\n",
      "http://www.hm.com/us/product/51149?article=51149-G\n"
     ]
    }
   ],
   "source": [
    "print_has('SHORT', 10)"
   ]
  },
  {
   "cell_type": "code",
   "execution_count": 39,
   "metadata": {},
   "outputs": [
    {
     "name": "stdout",
     "output_type": "stream",
     "text": [
      "['EVERYDAY', 'FASHION', 'SHORTS']\n",
      "http://www.hm.com/us/product/68195?article=68195-D\n",
      "['DIVIDED', 'TROUSERS', 'SHORTS']\n",
      "http://www.hm.com/us/product/69010?article=69010-A\n",
      "['DIVIDED', 'TROUSERS', 'SHORTS']\n",
      "http://www.hm.com/us/product/69010?article=69010-E\n",
      "['SHORTS', 'DENIMSHORTS']\n",
      "http://www.hm.com/us/product/64586?article=64586-D\n",
      "['SHORTS', 'OTHERS']\n",
      "http://www.hm.com/us/product/65973?article=65973-A\n",
      "['SHORTS', 'DENIMSHORTS']\n",
      "http://www.hm.com/us/product/29840?article=29840-E\n",
      "['HM', 'MAN', 'SHORTS']\n",
      "http://www.hm.com/us/product/57540?article=57540-A\n",
      "['CASUAL', 'SHORTS']\n",
      "http://www.hm.com/us/product/39670?article=39670-T\n",
      "['DIVIDED', 'TROUSERS', 'SHORTS']\n",
      "http://www.hm.com/us/product/68328?article=68328-A\n",
      "['SHORTS', 'DENIMSHORTS']\n",
      "http://www.hm.com/us/product/64153?article=64153-C\n"
     ]
    }
   ],
   "source": [
    "print_has('SHORTS', 10)"
   ]
  },
  {
   "cell_type": "markdown",
   "metadata": {},
   "source": [
    "* 'SHORT' is a style, and 'SHORTS' is a bottom."
   ]
  },
  {
   "cell_type": "code",
   "execution_count": 41,
   "metadata": {},
   "outputs": [
    {
     "name": "stdout",
     "output_type": "stream",
     "text": [
      "['SHOES', 'PQ']\n",
      "http://www.hm.com/us/product/61758?article=61758-C\n",
      "['SHOES', 'PQ']\n",
      "http://www.hm.com/us/product/61758?article=61758-A\n",
      "['ACCESSORIES', 'PQ']\n",
      "http://www.hm.com/us/product/70417?article=70417-A\n",
      "['SHOES', 'PQ']\n",
      "http://www.hm.com/us/product/54574?article=54574-B\n",
      "['SHOES', 'PQ']\n",
      "http://www.hm.com/us/product/61758?article=61758-C\n",
      "['SHOES', 'PQ']\n",
      "http://www.hm.com/us/product/62454?article=62454-B\n",
      "['SHOES', 'PQ']\n",
      "http://www.hm.com/us/product/57950?article=57950-A\n",
      "['ACCESSORIES', 'PQ']\n",
      "http://www.hm.com/us/product/66243?article=66243-A\n",
      "['SHOES', 'PQ']\n",
      "http://www.hm.com/us/product/61936?article=61936-A\n",
      "['SHOES', 'PQ']\n",
      "http://www.hm.com/us/product/62454?article=62454-A\n"
     ]
    }
   ],
   "source": [
    "print_has('PQ',10)"
   ]
  },
  {
   "cell_type": "markdown",
   "metadata": {},
   "source": [
    "* 'PQ' means 'Premium Quality'."
   ]
  },
  {
   "cell_type": "code",
   "execution_count": 43,
   "metadata": {
    "scrolled": true
   },
   "outputs": [
    {
     "name": "stdout",
     "output_type": "stream",
     "text": [
      "['TOPS', 'VESTS', 'SLEEVELESS']\n",
      "http://www.hm.com/us/product/68924?article=68924-A\n",
      "['TOPS', 'VESTS', 'SLEEVELESS']\n",
      "http://www.hm.com/us/product/67562?article=67562-F\n",
      "['HM', 'MAN', 'TSHIRTS', 'VESTS']\n",
      "http://www.hm.com/us/product/68533?article=68533-C\n",
      "['HM', 'MAN', 'TSHIRTS', 'VESTS']\n",
      "http://www.hm.com/us/product/64832?article=64832-C\n",
      "['HM', 'MAN', 'TSHIRTS', 'VESTS']\n",
      "http://www.hm.com/us/product/53945?article=53945-A\n",
      "['TOPS', 'VESTS', 'SLEEVELESS']\n",
      "http://www.hm.com/us/product/69249?article=69249-A\n",
      "['TOPS', 'VESTS', 'SLEEVELESS']\n",
      "http://www.hm.com/us/product/68585?article=68585-I\n",
      "['CASUAL', 'TSHIRTS', 'VESTS']\n",
      "http://www.hm.com/us/product/64842?article=64842-A\n",
      "['TSHIRT', 'VESTS']\n",
      "http://www.hm.com/us/product/67985?article=67985-B\n",
      "['TOPS', 'VESTS', 'SLEEVELESS']\n",
      "http://www.hm.com/us/product/69124?article=69124-D\n"
     ]
    }
   ],
   "source": [
    "print_has('VESTS',10)"
   ]
  },
  {
   "cell_type": "markdown",
   "metadata": {},
   "source": [
    "* 'VESTS' is either a top or a T-shirt."
   ]
  },
  {
   "cell_type": "code",
   "execution_count": 45,
   "metadata": {
    "scrolled": true
   },
   "outputs": [
    {
     "name": "stdout",
     "output_type": "stream",
     "text": [
      "['BLAZERS', 'SUITS', 'BLAZERS']\n",
      "http://www.hm.com/us/product/41772?article=41772-A\n",
      "['HM', 'MAN', 'SUITS', 'TROUSERS']\n",
      "http://www.hm.com/us/product/65248?article=65248-B\n",
      "['BLAZERS', 'SUITS', 'BLAZERS']\n",
      "http://www.hm.com/us/product/41772?article=41772-A\n",
      "['BLAZERS', 'SUITS', 'BLAZERS']\n",
      "http://www.hm.com/us/product/60546?article=60546-A\n",
      "['BLAZERS', 'SUITS', 'BLAZERS']\n",
      "http://www.hm.com/us/product/56395?article=56395-A\n",
      "['BLAZERS', 'SUITS', 'BLAZERS']\n",
      "http://www.hm.com/us/product/59700?article=59700-A\n",
      "['HM', 'MAN', 'SUITS', 'JACKETS']\n",
      "http://www.hm.com/us/product/60224?article=60224-B\n",
      "['HM', 'MAN', 'SUITS', 'TROUSERS']\n",
      "http://www.hm.com/us/product/46504?article=46504-B\n",
      "['HM', 'MAN', 'SUITS', 'JACKETS']\n",
      "http://www.hm.com/us/product/65247?article=65247-A\n",
      "['HM', 'MAN', 'SUITS', 'TROUSERS']\n",
      "http://www.hm.com/us/product/52740?article=52740-A\n"
     ]
    }
   ],
   "source": [
    "print_has('SUITS',10)"
   ]
  },
  {
   "cell_type": "markdown",
   "metadata": {},
   "source": [
    "* 'SUITS' means a style."
   ]
  },
  {
   "cell_type": "code",
   "execution_count": 46,
   "metadata": {},
   "outputs": [
    {
     "name": "stdout",
     "output_type": "stream",
     "text": [
      "['ACCESSORIES', 'HAIR']\n",
      "http://www.hm.com/us/product/82432?article=82432-L\n",
      "['ACCESSORIES', 'HAIR']\n",
      "http://www.hm.com/us/product/82432?article=82432-I\n",
      "['ACCESSORIES', 'HAIR']\n",
      "http://www.hm.com/us/product/58185?article=58185-A\n",
      "['ACCESSORIES', 'HAIR']\n",
      "http://www.hm.com/us/product/82450?article=82450-P\n",
      "['ACCESSORIES', 'HAIR']\n",
      "http://www.hm.com/us/product/28971?article=28971-G\n",
      "['ACCESSORIES', 'HAIR']\n",
      "http://www.hm.com/us/product/82432?article=82432-K\n",
      "['BEAUTY', 'HAIR']\n",
      "http://www.hm.com/us/product/81574?article=81574-A\n",
      "['ACCESSORIES', 'HAIR']\n",
      "http://www.hm.com/us/product/85546?article=85546-T\n",
      "['ACCESSORIES', 'HAIR']\n",
      "http://www.hm.com/us/product/67624?article=67624-F\n",
      "['BEAUTY', 'HAIR']\n",
      "http://www.hm.com/us/product/81566?article=81566-A\n"
     ]
    }
   ],
   "source": [
    "print_has('HAIR',10)"
   ]
  },
  {
   "cell_type": "markdown",
   "metadata": {},
   "source": [
    "* 'HAIR' is a category that is related to hair."
   ]
  },
  {
   "cell_type": "code",
   "execution_count": 47,
   "metadata": {},
   "outputs": [
    {
     "name": "stdout",
     "output_type": "stream",
     "text": [
      "['DIVIDED', 'JEANS', 'SKINNY', 'SKINNY', 'REGULAR']\n",
      "http://www.hm.com/us/product/48763?article=48763-R\n",
      "['DIVIDED', 'DRESSES', 'JUMPSUITS']\n",
      "http://www.hm.com/us/product/59442?article=59442-A\n",
      "['DIVIDED', 'CARDIGANS', 'JUMPERS', 'JUMPERS']\n",
      "http://www.hm.com/us/product/55632?article=55632-B\n",
      "['DIVIDED', 'DRESSES', 'JUMPSUITS']\n",
      "http://www.hm.com/us/product/64620?article=64620-E\n",
      "['DIVIDED', 'SHIRTS']\n",
      "http://www.hm.com/us/product/65172?article=65172-C\n",
      "['DIVIDED', 'DRESSES', 'JUMPSUITS']\n",
      "http://www.hm.com/us/product/66759?article=66759-A\n",
      "['DIVIDED', 'BASICS', 'HOODIES', 'SWEATSHIRTS']\n",
      "http://www.hm.com/us/product/62333?article=62333-F\n",
      "['DIVIDED', 'BASICS', 'TOPS']\n",
      "http://www.hm.com/us/product/34980?article=34980-B\n",
      "['DIVIDED', 'BASICS', 'TOPS']\n",
      "http://www.hm.com/us/product/87648?article=87648-T\n",
      "['DIVIDED', 'DRESSES', 'JUMPSUITS']\n",
      "http://www.hm.com/us/product/02632?article=02632-K\n"
     ]
    }
   ],
   "source": [
    "print_has('DIVIDED',10)"
   ]
  },
  {
   "cell_type": "markdown",
   "metadata": {},
   "source": [
    "* 'DIVIDED' is not a category only included in tops or bottoms."
   ]
  },
  {
   "cell_type": "code",
   "execution_count": 49,
   "metadata": {},
   "outputs": [
    {
     "name": "stdout",
     "output_type": "stream",
     "text": [
      "['LINGERIE', 'SOCKS', 'TIGHTS', 'SOCKS']\n",
      "http://www.hm.com/us/product/54598?article=54598-C\n",
      "['MATERNITY', 'WEAR', 'TIGHTS']\n",
      "http://www.hm.com/us/product/47408?article=47408-A\n",
      "['LINGERIE', 'SOCKS', 'TIGHTS', 'SOCKS']\n",
      "http://www.hm.com/us/product/34243?article=34243-A\n",
      "['LINGERIE', 'SOCKS', 'TIGHTS', 'TIGHTS']\n",
      "http://www.hm.com/us/product/63764?article=63764-A\n",
      "['LINGERIE', 'SOCKS', 'TIGHTS', 'SOCKS']\n",
      "http://www.hm.com/us/product/66887?article=66887-C\n",
      "['LINGERIE', 'SOCKS', 'TIGHTS', 'SOCKS']\n",
      "http://www.hm.com/us/product/43059?article=43059-A\n",
      "['MATERNITY', 'WEAR', 'TIGHTS']\n",
      "http://www.hm.com/us/product/46249?article=46249-A\n",
      "['LINGERIE', 'SOCKS', 'TIGHTS', 'SOCKS']\n",
      "http://www.hm.com/us/product/54598?article=54598-C\n",
      "['LINGERIE', 'SOCKS', 'TIGHTS', 'SOCKS']\n",
      "http://www.hm.com/us/product/69995?article=69995-A\n",
      "['MATERNITY', 'WEAR', 'TIGHTS']\n",
      "http://www.hm.com/us/product/41415?article=41415-A\n"
     ]
    }
   ],
   "source": [
    "print_has('TIGHTS',10)"
   ]
  },
  {
   "cell_type": "markdown",
   "metadata": {},
   "source": [
    "* 'TIGHTS' means a tightly slim style. ('tights' = '타이즈')"
   ]
  },
  {
   "cell_type": "code",
   "execution_count": 50,
   "metadata": {},
   "outputs": [
    {
     "name": "stdout",
     "output_type": "stream",
     "text": [
      "['SHIRTS', 'DRESSED']\n",
      "http://www.hm.com/us/product/62022?article=62022-A\n",
      "['SHIRTS', 'DRESSED']\n",
      "http://www.hm.com/us/product/63611?article=63611-H\n",
      "['TROUSERS', 'DRESSED']\n",
      "http://www.hm.com/us/product/62543?article=62543-A\n",
      "['TROUSERS', 'DRESSED']\n",
      "http://www.hm.com/us/product/34933?article=34933-A\n",
      "['TROUSERS', 'DRESSED']\n",
      "http://www.hm.com/us/product/60693?article=60693-A\n",
      "['SHIRTS', 'DRESSED']\n",
      "http://www.hm.com/us/product/64765?article=64765-B\n",
      "['SHIRTS', 'DRESSED']\n",
      "http://www.hm.com/us/product/48995?article=48995-P\n",
      "['SHIRTS', 'DRESSED']\n",
      "http://www.hm.com/us/product/65202?article=65202-B\n",
      "['SHIRTS', 'DRESSED']\n",
      "http://www.hm.com/us/product/62022?article=62022-A\n",
      "['TROUSERS', 'DRESSED']\n",
      "http://www.hm.com/us/product/58547?article=58547-A\n"
     ]
    }
   ],
   "source": [
    "print_has('DRESSED',10)"
   ]
  },
  {
   "cell_type": "markdown",
   "metadata": {},
   "source": [
    "* 'DRESSED' means a formal style."
   ]
  },
  {
   "cell_type": "code",
   "execution_count": 51,
   "metadata": {
    "scrolled": false
   },
   "outputs": [
    {
     "name": "stdout",
     "output_type": "stream",
     "text": [
      "['DRESSES', 'JUMPSUITS', 'MIDI']\n",
      "http://www.hm.com/us/product/59908?article=59908-A\n",
      "['DIVIDED', 'DRESSES', 'JUMPSUITS']\n",
      "http://www.hm.com/us/product/57528?article=57528-F\n",
      "['DIVIDED', 'DRESSES', 'JUMPSUITS']\n",
      "http://www.hm.com/us/product/57610?article=57610-D\n",
      "['MATERNITY', 'WEAR', 'DRESSES']\n",
      "http://www.hm.com/us/product/44962?article=44962-C\n",
      "['DRESSES', 'JUMPSUITS', 'SHORT']\n",
      "http://www.hm.com/us/product/69818?article=69818-B\n",
      "['DIVIDED', 'DRESSES', 'JUMPSUITS']\n",
      "http://www.hm.com/us/product/68300?article=68300-A\n",
      "['DRESSES', 'JUMPSUITS', 'LONG']\n",
      "http://www.hm.com/us/product/69517?article=69517-A\n",
      "['EVERYDAY', 'FASHION', 'DRESSES', 'JUMPSUITS']\n",
      "http://www.hm.com/us/product/57557?article=57557-C\n",
      "['DIVIDED', 'DRESSES', 'JUMPSUITS']\n",
      "http://www.hm.com/us/product/62263?article=62263-C\n",
      "['DIVIDED', 'DRESSES', 'JUMPSUITS']\n",
      "http://www.hm.com/us/product/43326?article=43326-A\n",
      "['HM', 'PLUS', 'DRESSES']\n",
      "http://www.hm.com/us/product/67699?article=67699-A\n",
      "['DRESSES', 'JUMPSUITS', 'LONG']\n",
      "http://www.hm.com/us/product/61043?article=61043-A\n",
      "['DIVIDED', 'DRESSES', 'JUMPSUITS']\n",
      "http://www.hm.com/us/product/64103?article=64103-P\n",
      "['DIVIDED', 'DRESSES', 'JUMPSUITS']\n",
      "http://www.hm.com/us/product/57610?article=57610-E\n",
      "['DRESSES', 'JUMPSUITS', 'SHORT']\n",
      "http://www.hm.com/us/product/66963?article=66963-C\n",
      "['DIVIDED', 'DRESSES', 'JUMPSUITS']\n",
      "http://www.hm.com/us/product/69746?article=69746-A\n",
      "['MATERNITY', 'WEAR', 'DRESSES']\n",
      "http://www.hm.com/us/product/44443?article=44443-B\n",
      "['EVERYDAY', 'FASHION', 'DRESSES', 'JUMPSUITS']\n",
      "http://www.hm.com/us/product/85646?article=85646-A\n",
      "['DIVIDED', 'DRESSES', 'JUMPSUITS']\n",
      "http://www.hm.com/us/product/65952?article=65952-A\n",
      "['EVERYDAY', 'FASHION', 'DRESSES', 'JUMPSUITS']\n",
      "http://www.hm.com/us/product/66378?article=66378-B\n"
     ]
    }
   ],
   "source": [
    "print_has('DRESSES',20)"
   ]
  },
  {
   "cell_type": "code",
   "execution_count": 52,
   "metadata": {
    "scrolled": false
   },
   "outputs": [
    {
     "name": "stdout",
     "output_type": "stream",
     "text": [
      "['SKIRTS', 'SHORT']\n",
      "http://www.hm.com/us/product/67166?article=67166-A\n",
      "['MODERNCLASSICS', 'SKIRTS']\n",
      "http://www.hm.com/us/product/65336?article=65336-A\n",
      "['SKIRTS', 'SHORT']\n",
      "http://www.hm.com/us/product/62725?article=62725-D\n",
      "['BASICS', 'DRESSES', 'SKIRTS']\n",
      "http://www.hm.com/us/product/66300?article=66300-A\n",
      "['BASICS', 'DRESSES', 'SKIRTS']\n",
      "http://www.hm.com/us/product/32266?article=32266-X\n",
      "['SKIRTS', 'LONG']\n",
      "http://www.hm.com/us/product/64524?article=64524-C\n",
      "['SKIRTS', 'SHORT']\n",
      "http://www.hm.com/us/product/19634?article=19634-A\n",
      "['DIVIDED', 'BASICS', 'DRESSES', 'SKIRTS']\n",
      "http://www.hm.com/us/product/65509?article=65509-C\n",
      "['SKIRTS', 'SHORT']\n",
      "http://www.hm.com/us/product/23376?article=23376-A\n",
      "['BASICS', 'DRESSES', 'SKIRTS']\n",
      "http://www.hm.com/us/product/70338?article=70338-B\n",
      "['SKIRTS', 'MIDI']\n",
      "http://www.hm.com/us/product/58367?article=58367-A\n",
      "['DIVIDED', 'BASICS', 'DRESSES', 'SKIRTS']\n",
      "http://www.hm.com/us/product/70827?article=70827-A\n",
      "['BASICS', 'DRESSES', 'SKIRTS']\n",
      "http://www.hm.com/us/product/68693?article=68693-B\n",
      "['SKIRTS', 'SHORT']\n",
      "http://www.hm.com/us/product/65540?article=65540-B\n",
      "['SKIRTS', 'SHORT']\n",
      "http://www.hm.com/us/product/66352?article=66352-A\n",
      "['SKIRTS', 'SHORT']\n",
      "http://www.hm.com/us/product/35547?article=35547-A\n",
      "['MODERNCLASSICS', 'SKIRTS']\n",
      "http://www.hm.com/us/product/64879?article=64879-C\n",
      "['SKIRTS', 'SHORT']\n",
      "http://www.hm.com/us/product/49958?article=49958-B\n",
      "['SKIRTS', 'LONG']\n",
      "http://www.hm.com/us/product/65380?article=65380-B\n",
      "['DIVIDED', 'BASICS', 'DRESSES', 'SKIRTS']\n",
      "http://www.hm.com/us/product/65509?article=65509-C\n"
     ]
    }
   ],
   "source": [
    "print_has('SKIRTS',20)"
   ]
  },
  {
   "cell_type": "markdown",
   "metadata": {},
   "source": [
    "* 'SKIRTS' and 'DRESSES' are sometimes overlapped.\n",
    "* If they are overlapped, we can categorize the item by its name.\n",
    "* At the end of the name of an item, __'skirt'__ or __'dress'__ is used instead of 'skirts' or 'dresses'."
   ]
  },
  {
   "cell_type": "code",
   "execution_count": 54,
   "metadata": {},
   "outputs": [
    {
     "name": "stdout",
     "output_type": "stream",
     "text": [
      "['DRESSES', 'JUMPSUITS', 'MIDI']\n",
      "http://www.hm.com/us/product/68281?article=68281-C\n",
      "['SKIRTS', 'MIDI']\n",
      "http://www.hm.com/us/product/58367?article=58367-A\n",
      "['SKIRTS', 'MIDI']\n",
      "http://www.hm.com/us/product/55496?article=55496-B\n",
      "['SKIRTS', 'MIDI']\n",
      "http://www.hm.com/us/product/62489?article=62489-B\n",
      "['DRESSES', 'JUMPSUITS', 'MIDI']\n",
      "http://www.hm.com/us/product/67183?article=67183-C\n",
      "['DRESSES', 'JUMPSUITS', 'MIDI']\n",
      "http://www.hm.com/us/product/67183?article=67183-C\n",
      "['DRESSES', 'JUMPSUITS', 'MIDI']\n",
      "http://www.hm.com/us/product/56814?article=56814-D\n",
      "['DRESSES', 'JUMPSUITS', 'MIDI']\n",
      "http://www.hm.com/us/product/69017?article=69017-B\n",
      "['DRESSES', 'JUMPSUITS', 'MIDI']\n",
      "http://www.hm.com/us/product/71905?article=71905-B\n",
      "['SKIRTS', 'MIDI']\n",
      "http://www.hm.com/us/product/61664?article=61664-B\n"
     ]
    }
   ],
   "source": [
    "print_has('MIDI',10)"
   ]
  },
  {
   "cell_type": "markdown",
   "metadata": {},
   "source": [
    "* 'MIDI' is something related to skirts. It presumably means a style."
   ]
  },
  {
   "cell_type": "markdown",
   "metadata": {},
   "source": [
    "These categories are inclusive categories."
   ]
  },
  {
   "cell_type": "markdown",
   "metadata": {},
   "source": [
    "The following categories are categories that can be classified one of the three: tops, bottoms, and one-pieces(top-bottom together)."
   ]
  },
  {
   "cell_type": "raw",
   "metadata": {},
   "source": [
    "category: TOPS\n",
    "category: SUITS\n",
    "category: TSHIRT\n",
    "category: SHIRTS\n",
    "category: JUMPSUIT\n",
    "category: BOTTOMS\n",
    "category: VESTS\n",
    "category: SHORTS\n",
    "category: DRESSES\n",
    "category: HOODIES\n",
    "category: JEANS\n",
    "category: BLAZERS\n",
    "category: JACKETS\n",
    "category: TROUSERS\n",
    "category: SKIRTS"
   ]
  },
  {
   "cell_type": "markdown",
   "metadata": {},
   "source": [
    "['ACC', 'SPORTSWEAR', 'LONG', __'TUNICS'__, 'LINGERIE', __'JACKETS'__, 'MODERN-CLASSICS', 'SHORT', __'TOPS'__, 'BATH', 'SOCKS', 'HM', 'BATHROOM', 'PQ', __'VESTS'__, 'MODERNCLASSICS', __'JEANS'__, __'BOTTOMS'__, __'SKIRTS'__, 'SUITS', 'HAIR', __'LEGGINGS'__, 'ACCESSORIES', 'NIGHTWEAR', __'SHORTS'__, 'DIVIDED', 'SLIM', 'BASICS', 'SWIMWEAR', __'BLAZERS'__, __'TSHIRT'__, __'SHIRTS'__, 'CASUAL', __'JUMPSUIT'__, 'TIGHTS', 'UNDERWEAR', 'BEAUTY', 'DRESSED', __'TROUSERS'__, __'DRESSES'__, 'SLEEVED', __'HOODIES'__, 'SHOES', 'MIDI', 'LOOSE', 'PARTYWEAR']\n",
    "\n",
    "#### Tops\n",
    "* ['JACKETS', 'TOPS', 'VESTS', 'BLAZERS', 'TSHIRT', 'SHIRTS', 'HOODIES']\n",
    "\n",
    "#### Bottoms\n",
    "* ['JEANS', 'BOTTOMS', 'SKIRTS', 'LEGGINGS', 'SHORTS', 'TROUSERS']\n",
    "\n",
    "#### Onepieces\n",
    "* ['TUNICS', 'JUMPSUIT', 'DRESSES']"
   ]
  },
  {
   "cell_type": "code",
   "execution_count": 55,
   "metadata": {
    "collapsed": true
   },
   "outputs": [],
   "source": [
    "dict_tbo_categories = dict()"
   ]
  },
  {
   "cell_type": "code",
   "execution_count": 56,
   "metadata": {
    "collapsed": true
   },
   "outputs": [],
   "source": [
    "dict_tbo_categories['top'] = ['JACKETS', 'TOPS', 'VESTS', 'BLAZERS', 'TSHIRT', 'SHIRTS', 'HOODIES']"
   ]
  },
  {
   "cell_type": "code",
   "execution_count": 57,
   "metadata": {
    "collapsed": true
   },
   "outputs": [],
   "source": [
    "dict_tbo_categories['bottom'] = ['JEANS', 'BOTTOMS', 'SKIRTS', 'LEGGINGS', 'SHORTS', 'TROUSERS']"
   ]
  },
  {
   "cell_type": "code",
   "execution_count": 58,
   "metadata": {
    "collapsed": true
   },
   "outputs": [],
   "source": [
    "dict_tbo_categories['onepiece'] = ['TUNICS', 'JUMPSUIT', 'DRESSES']"
   ]
  },
  {
   "cell_type": "code",
   "execution_count": 59,
   "metadata": {},
   "outputs": [
    {
     "name": "stdout",
     "output_type": "stream",
     "text": [
      "{'top': ['JACKETS', 'TOPS', 'VESTS', 'BLAZERS', 'TSHIRT', 'SHIRTS', 'HOODIES'], 'onepiece': ['TUNICS', 'JUMPSUIT', 'DRESSES'], 'bottom': ['JEANS', 'BOTTOMS', 'SKIRTS', 'LEGGINGS', 'SHORTS', 'TROUSERS']}\n"
     ]
    }
   ],
   "source": [
    "print dict_tbo_categories"
   ]
  },
  {
   "cell_type": "markdown",
   "metadata": {},
   "source": [
    "### Serialization"
   ]
  },
  {
   "cell_type": "code",
   "execution_count": 60,
   "metadata": {
    "collapsed": true
   },
   "outputs": [],
   "source": [
    "import pickle\n",
    "f = open('pickle_data/dict_tbo_categories.p', 'wb')\n",
    "pickle.dump(dict_tbo_categories, f)\n",
    "f.close()"
   ]
  },
  {
   "cell_type": "markdown",
   "metadata": {},
   "source": [
    "# 3. Are tops, bottoms, and onepieces mutually exclusive?"
   ]
  },
  {
   "cell_type": "code",
   "execution_count": 62,
   "metadata": {
    "collapsed": true
   },
   "outputs": [],
   "source": [
    "from interface import *"
   ]
  },
  {
   "cell_type": "code",
   "execution_count": 63,
   "metadata": {
    "collapsed": true
   },
   "outputs": [],
   "source": [
    "dict_tbo_categories = import_tbo_categories()"
   ]
  },
  {
   "cell_type": "code",
   "execution_count": 64,
   "metadata": {},
   "outputs": [
    {
     "data": {
      "text/plain": [
       "['JACKETS', 'TOPS', 'VESTS', 'BLAZERS', 'TSHIRT', 'SHIRTS', 'HOODIES']"
      ]
     },
     "execution_count": 64,
     "metadata": {},
     "output_type": "execute_result"
    }
   ],
   "source": [
    "dict_tbo_categories['top']"
   ]
  },
  {
   "cell_type": "code",
   "execution_count": 65,
   "metadata": {},
   "outputs": [
    {
     "data": {
      "text/plain": [
       "['JEANS', 'BOTTOMS', 'SKIRTS', 'LEGGINGS', 'SHORTS', 'TROUSERS']"
      ]
     },
     "execution_count": 65,
     "metadata": {},
     "output_type": "execute_result"
    }
   ],
   "source": [
    "dict_tbo_categories['bottom']"
   ]
  },
  {
   "cell_type": "code",
   "execution_count": 66,
   "metadata": {},
   "outputs": [
    {
     "data": {
      "text/plain": [
       "['TUNICS', 'JUMPSUIT', 'DRESSES']"
      ]
     },
     "execution_count": 66,
     "metadata": {},
     "output_type": "execute_result"
    }
   ],
   "source": [
    "dict_tbo_categories['onepiece']"
   ]
  },
  {
   "cell_type": "code",
   "execution_count": 68,
   "metadata": {
    "collapsed": true
   },
   "outputs": [],
   "source": [
    "pf = open('pickle_data/all_items_info.p', 'rb')\n",
    "items_info = pickle.load(pf)\n",
    "pf.close()"
   ]
  },
  {
   "cell_type": "code",
   "execution_count": 69,
   "metadata": {
    "collapsed": true
   },
   "outputs": [],
   "source": [
    "def get_categories(item_info):\n",
    "    metricCategoryID = item_info['metricCategoryID']\n",
    "    # Delete the first and last strings\n",
    "    categories = metricCategoryID.split('_')[1:-1]\n",
    "    return categories"
   ]
  },
  {
   "cell_type": "code",
   "execution_count": 70,
   "metadata": {
    "scrolled": true
   },
   "outputs": [
    {
     "data": {
      "text/plain": [
       "['TOPS', 'SHORT', 'SLEEVED']"
      ]
     },
     "execution_count": 70,
     "metadata": {},
     "output_type": "execute_result"
    }
   ],
   "source": [
    "get_categories(items_info[0])"
   ]
  },
  {
   "cell_type": "code",
   "execution_count": 71,
   "metadata": {
    "collapsed": true
   },
   "outputs": [],
   "source": [
    "def print_categories_with_tbo_num(tbo_num_to_print):\n",
    "    count = 0\n",
    "    for item_info in items_info:\n",
    "        item_info['tbo'] = set()\n",
    "        categories = get_categories(item_info)\n",
    "        for category in categories:\n",
    "            if category in dict_tbo_categories['top']:\n",
    "                item_info['tbo'].add('top')\n",
    "            if category in dict_tbo_categories['bottom']:\n",
    "                item_info['tbo'].add('bottom')\n",
    "            if category in dict_tbo_categories['onepiece']:\n",
    "                item_info['tbo'].add('onepiece')\n",
    "        if len(item_info['tbo']) == tbo_num_to_print:\n",
    "            print \"TBO       :\", item_info['tbo']\n",
    "            print \"categories:\", categories\n",
    "            print \"name:\", item_info['name']\n",
    "            print \"URL       :\", item_info['url']\n",
    "            print '\\n'\n",
    "            count = count + 1\n",
    "    print \"Count:\", count "
   ]
  },
  {
   "cell_type": "code",
   "execution_count": 72,
   "metadata": {},
   "outputs": [
    {
     "name": "stdout",
     "output_type": "stream",
     "text": [
      "TBO       : set(['top', 'onepiece'])\n",
      "categories: ['SHIRTS', 'BLOUSES', 'TUNICS']\n",
      "name: V-neck Tunic\n",
      "URL       : http://www.hm.com/us/product/68372?article=68372-A\n",
      "\n",
      "\n",
      "TBO       : set(['onepiece', 'bottom'])\n",
      "categories: ['DIVIDED', 'BASICS', 'DRESSES', 'SKIRTS']\n",
      "name: Maxi Dress\n",
      "URL       : http://www.hm.com/us/product/27458?article=27458-N\n",
      "\n",
      "\n",
      "TBO       : set(['onepiece', 'bottom'])\n",
      "categories: ['DIVIDED', 'BASICS', 'DRESSES', 'SKIRTS']\n",
      "name: Short Jersey Dress\n",
      "URL       : http://www.hm.com/us/product/70827?article=70827-A\n",
      "\n",
      "\n",
      "TBO       : set(['onepiece', 'bottom'])\n",
      "categories: ['DIVIDED', 'BASICS', 'DRESSES', 'SKIRTS']\n",
      "name: Short Jersey Dress\n",
      "URL       : http://www.hm.com/us/product/70827?article=70827-A\n",
      "\n",
      "\n",
      "TBO       : set(['onepiece', 'bottom'])\n",
      "categories: ['BASICS', 'DRESSES', 'SKIRTS']\n",
      "name: Short-sleeved Jersey Dress\n",
      "URL       : http://www.hm.com/us/product/32266?article=32266-F\n",
      "\n",
      "\n",
      "TBO       : set(['onepiece', 'bottom'])\n",
      "categories: ['DIVIDED', 'BASICS', 'DRESSES', 'SKIRTS']\n",
      "name: T-shirt Dress\n",
      "URL       : http://www.hm.com/us/product/65509?article=65509-A\n",
      "\n",
      "\n",
      "TBO       : set(['onepiece', 'bottom'])\n",
      "categories: ['DIVIDED', 'BASICS', 'DRESSES', 'SKIRTS']\n",
      "name: Fitted Jersey Dress\n",
      "URL       : http://www.hm.com/us/product/70241?article=70241-A\n",
      "\n",
      "\n",
      "TBO       : set(['onepiece', 'bottom'])\n",
      "categories: ['BASICS', 'DRESSES', 'SKIRTS']\n",
      "name: Short-sleeved Jersey Dress\n",
      "URL       : http://www.hm.com/us/product/32266?article=32266-X\n",
      "\n",
      "\n",
      "TBO       : set(['onepiece', 'bottom'])\n",
      "categories: ['BASICS', 'DRESSES', 'SKIRTS']\n",
      "name: Maxi Dress\n",
      "URL       : http://www.hm.com/us/product/29284?article=29284-A\n",
      "\n",
      "\n",
      "TBO       : set(['onepiece', 'bottom'])\n",
      "categories: ['BASICS', 'DRESSES', 'SKIRTS']\n",
      "name: Pencil Skirt\n",
      "URL       : http://www.hm.com/us/product/30443?article=30443-B\n",
      "\n",
      "\n",
      "TBO       : set(['onepiece', 'bottom'])\n",
      "categories: ['DIVIDED', 'BASICS', 'DRESSES', 'SKIRTS']\n",
      "name: Short Jersey Dress\n",
      "URL       : http://www.hm.com/us/product/70827?article=70827-C\n",
      "\n",
      "\n",
      "TBO       : set(['onepiece', 'bottom'])\n",
      "categories: ['BASICS', 'DRESSES', 'SKIRTS']\n",
      "name: Pencil Skirt\n",
      "URL       : http://www.hm.com/us/product/30443?article=30443-P\n",
      "\n",
      "\n",
      "TBO       : set(['onepiece', 'bottom'])\n",
      "categories: ['DIVIDED', 'BASICS', 'DRESSES', 'SKIRTS']\n",
      "name: Maxi Dress\n",
      "URL       : http://www.hm.com/us/product/27458?article=27458-M\n",
      "\n",
      "\n",
      "TBO       : set(['onepiece', 'bottom'])\n",
      "categories: ['BASICS', 'DRESSES', 'SKIRTS']\n",
      "name: Strapless Jersey Dress\n",
      "URL       : http://www.hm.com/us/product/85485?article=85485-A\n",
      "\n",
      "\n",
      "TBO       : set(['onepiece', 'bottom'])\n",
      "categories: ['DIVIDED', 'BASICS', 'DRESSES', 'SKIRTS']\n",
      "name: T-shirt Dress\n",
      "URL       : http://www.hm.com/us/product/65509?article=65509-C\n",
      "\n",
      "\n",
      "TBO       : set(['onepiece', 'bottom'])\n",
      "categories: ['DIVIDED', 'BASICS', 'DRESSES', 'SKIRTS']\n",
      "name: Fitted Jersey Dress\n",
      "URL       : http://www.hm.com/us/product/70241?article=70241-B\n",
      "\n",
      "\n",
      "TBO       : set(['onepiece', 'bottom'])\n",
      "categories: ['DIVIDED', 'BASICS', 'DRESSES', 'SKIRTS']\n",
      "name: Circle Skirt\n",
      "URL       : http://www.hm.com/us/product/16032?article=16032-B\n",
      "\n",
      "\n",
      "TBO       : set(['onepiece', 'bottom'])\n",
      "categories: ['DIVIDED', 'BASICS', 'DRESSES', 'SKIRTS']\n",
      "name: Short Jersey Dress\n",
      "URL       : http://www.hm.com/us/product/70827?article=70827-D\n",
      "\n",
      "\n",
      "TBO       : set(['onepiece', 'bottom'])\n",
      "categories: ['BASICS', 'DRESSES', 'SKIRTS']\n",
      "name: V-neck Jersey Dress\n",
      "URL       : http://www.hm.com/us/product/68156?article=68156-A\n",
      "\n",
      "\n",
      "TBO       : set(['onepiece', 'bottom'])\n",
      "categories: ['BASICS', 'DRESSES', 'SKIRTS']\n",
      "name: Jersey Dress\n",
      "URL       : http://www.hm.com/us/product/38424?article=38424-D\n",
      "\n",
      "\n",
      "TBO       : set(['onepiece', 'bottom'])\n",
      "categories: ['BASICS', 'DRESSES', 'SKIRTS']\n",
      "name: Maxi Dress\n",
      "URL       : http://www.hm.com/us/product/29284?article=29284-F\n",
      "\n",
      "\n",
      "TBO       : set(['onepiece', 'bottom'])\n",
      "categories: ['DIVIDED', 'BASICS', 'DRESSES', 'SKIRTS']\n",
      "name: T-shirt Dress\n",
      "URL       : http://www.hm.com/us/product/65509?article=65509-B\n",
      "\n",
      "\n",
      "TBO       : set(['onepiece', 'bottom'])\n",
      "categories: ['BASICS', 'DRESSES', 'SKIRTS']\n",
      "name: Knee-length Jersey Dress\n",
      "URL       : http://www.hm.com/us/product/68693?article=68693-A\n",
      "\n",
      "\n",
      "TBO       : set(['onepiece', 'bottom'])\n",
      "categories: ['DIVIDED', 'BASICS', 'DRESSES', 'SKIRTS']\n",
      "name: Jersey Skirt\n",
      "URL       : http://www.hm.com/us/product/15975?article=15975-B\n",
      "\n",
      "\n",
      "TBO       : set(['onepiece', 'bottom'])\n",
      "categories: ['BASICS', 'DRESSES', 'SKIRTS']\n",
      "name: V-neck Jersey Dress\n",
      "URL       : http://www.hm.com/us/product/68156?article=68156-C\n",
      "\n",
      "\n",
      "TBO       : set(['onepiece', 'bottom'])\n",
      "categories: ['BASICS', 'DRESSES', 'SKIRTS']\n",
      "name: V-neck Jersey Dress\n",
      "URL       : http://www.hm.com/us/product/68156?article=68156-D\n",
      "\n",
      "\n",
      "TBO       : set(['onepiece', 'bottom'])\n",
      "categories: ['BASICS', 'DRESSES', 'SKIRTS']\n",
      "name: Strapless Jersey Dress\n",
      "URL       : http://www.hm.com/us/product/85485?article=85485-C\n",
      "\n",
      "\n",
      "TBO       : set(['onepiece', 'bottom'])\n",
      "categories: ['BASICS', 'DRESSES', 'SKIRTS']\n",
      "name: Short-sleeved Jersey Dress\n",
      "URL       : http://www.hm.com/us/product/32266?article=32266-Z\n",
      "\n",
      "\n",
      "TBO       : set(['onepiece', 'bottom'])\n",
      "categories: ['BASICS', 'DRESSES', 'SKIRTS']\n",
      "name: Knee-length Jersey Dress\n",
      "URL       : http://www.hm.com/us/product/68693?article=68693-B\n",
      "\n",
      "\n",
      "TBO       : set(['onepiece', 'bottom'])\n",
      "categories: ['DIVIDED', 'BASICS', 'DRESSES', 'SKIRTS']\n",
      "name: Short Jersey Dress\n",
      "URL       : http://www.hm.com/us/product/70827?article=70827-B\n",
      "\n",
      "\n",
      "TBO       : set(['onepiece', 'bottom'])\n",
      "categories: ['BASICS', 'DRESSES', 'SKIRTS']\n",
      "name: Knee-length Jersey Dress\n",
      "URL       : http://www.hm.com/us/product/68693?article=68693-C\n",
      "\n",
      "\n",
      "TBO       : set(['onepiece', 'bottom'])\n",
      "categories: ['BASICS', 'DRESSES', 'SKIRTS']\n",
      "name: Short Jersey Dress\n",
      "URL       : http://www.hm.com/us/product/66300?article=66300-A\n",
      "\n",
      "\n",
      "TBO       : set(['top', 'onepiece'])\n",
      "categories: ['SHIRTS', 'BLOUSES', 'TUNICS']\n",
      "name: Tunic\n",
      "URL       : http://www.hm.com/us/product/67282?article=67282-A\n",
      "\n",
      "\n",
      "TBO       : set(['onepiece', 'bottom'])\n",
      "categories: ['BASICS', 'DRESSES', 'SKIRTS']\n",
      "name: V-neck Jersey Dress\n",
      "URL       : http://www.hm.com/us/product/68156?article=68156-B\n",
      "\n",
      "\n",
      "TBO       : set(['onepiece', 'bottom'])\n",
      "categories: ['BASICS', 'DRESSES', 'SKIRTS']\n",
      "name: Short-sleeved Jersey Dress\n",
      "URL       : http://www.hm.com/us/product/32266?article=32266-G\n",
      "\n",
      "\n",
      "TBO       : set(['top', 'onepiece'])\n",
      "categories: ['SHIRTS', 'BLOUSES', 'TUNICS']\n",
      "name: V-neck Tunic\n",
      "URL       : http://www.hm.com/us/product/68372?article=68372-C\n",
      "\n",
      "\n",
      "TBO       : set(['onepiece', 'bottom'])\n",
      "categories: ['BASICS', 'DRESSES', 'SKIRTS']\n",
      "name: Short Jersey Dress\n",
      "URL       : http://www.hm.com/us/product/66300?article=66300-C\n",
      "\n",
      "\n",
      "TBO       : set(['onepiece', 'bottom'])\n",
      "categories: ['DIVIDED', 'BASICS', 'DRESSES', 'SKIRTS']\n",
      "name: Ribbed Jersey Dress\n",
      "URL       : http://www.hm.com/us/product/54799?article=54799-E\n",
      "\n",
      "\n",
      "TBO       : set(['onepiece', 'bottom'])\n",
      "categories: ['BASICS', 'DRESSES', 'SKIRTS']\n",
      "name: Short Jersey Dress\n",
      "URL       : http://www.hm.com/us/product/66300?article=66300-B\n",
      "\n",
      "\n",
      "TBO       : set(['onepiece', 'bottom'])\n",
      "categories: ['BASICS', 'DRESSES', 'SKIRTS']\n",
      "name: T-shirt Dress\n",
      "URL       : http://www.hm.com/us/product/70880?article=70880-B\n",
      "\n",
      "\n",
      "TBO       : set(['top', 'onepiece'])\n",
      "categories: ['SHIRTS', 'BLOUSES', 'TUNICS']\n",
      "name: Lyocell Tunic\n",
      "URL       : http://www.hm.com/us/product/63837?article=63837-A\n",
      "\n",
      "\n",
      "TBO       : set(['onepiece', 'bottom'])\n",
      "categories: ['DIVIDED', 'BASICS', 'DRESSES', 'SKIRTS']\n",
      "name: Jersey Dress\n",
      "URL       : http://www.hm.com/us/product/35991?article=35991-B\n",
      "\n",
      "\n",
      "TBO       : set(['top', 'onepiece'])\n",
      "categories: ['SHIRTS', 'BLOUSES', 'TUNICS']\n",
      "name: Tunic\n",
      "URL       : http://www.hm.com/us/product/68560?article=68560-A\n",
      "\n",
      "\n",
      "TBO       : set(['onepiece', 'bottom'])\n",
      "categories: ['BASICS', 'DRESSES', 'SKIRTS']\n",
      "name: T-shirt Dress\n",
      "URL       : http://www.hm.com/us/product/70880?article=70880-A\n",
      "\n",
      "\n",
      "TBO       : set(['top', 'onepiece'])\n",
      "categories: ['SHIRTS', 'BLOUSES', 'TUNICS']\n",
      "name: Embroidered Cotton Tunic\n",
      "URL       : http://www.hm.com/us/product/67068?article=67068-B\n",
      "\n",
      "\n",
      "TBO       : set(['onepiece', 'bottom'])\n",
      "categories: ['DIVIDED', 'BASICS', 'DRESSES', 'SKIRTS']\n",
      "name: Jersey Dress\n",
      "URL       : http://www.hm.com/us/product/35991?article=35991-D\n",
      "\n",
      "\n",
      "TBO       : set(['onepiece', 'bottom'])\n",
      "categories: ['BASICS', 'DRESSES', 'SKIRTS']\n",
      "name: Jersey Dress\n",
      "URL       : http://www.hm.com/us/product/38424?article=38424-B\n",
      "\n",
      "\n",
      "TBO       : set(['onepiece', 'bottom'])\n",
      "categories: ['DIVIDED', 'BASICS', 'DRESSES', 'SKIRTS']\n",
      "name: Sleeveless Jersey Dress\n",
      "URL       : http://www.hm.com/us/product/66134?article=66134-C\n",
      "\n",
      "\n",
      "TBO       : set(['onepiece', 'bottom'])\n",
      "categories: ['BASICS', 'DRESSES', 'SKIRTS']\n",
      "name: Jersey Dress\n",
      "URL       : http://www.hm.com/us/product/61777?article=61777-F\n",
      "\n",
      "\n",
      "TBO       : set(['onepiece', 'bottom'])\n",
      "categories: ['BASICS', 'DRESSES', 'SKIRTS']\n",
      "name: Ribbed Jersey Dress\n",
      "URL       : http://www.hm.com/us/product/70338?article=70338-B\n",
      "\n",
      "\n",
      "TBO       : set(['top', 'onepiece'])\n",
      "categories: ['SHIRTS', 'BLOUSES', 'TUNICS']\n",
      "name: Cotton Tunic\n",
      "URL       : http://www.hm.com/us/product/67416?article=67416-C\n",
      "\n",
      "\n",
      "TBO       : set(['onepiece', 'bottom'])\n",
      "categories: ['BASICS', 'DRESSES', 'SKIRTS']\n",
      "name: Ribbed Jersey Dress\n",
      "URL       : http://www.hm.com/us/product/70338?article=70338-A\n",
      "\n",
      "\n",
      "TBO       : set(['top', 'onepiece'])\n",
      "categories: ['SHIRTS', 'BLOUSES', 'TUNICS']\n",
      "name: Embroidered Cotton Tunic\n",
      "URL       : http://www.hm.com/us/product/67068?article=67068-C\n",
      "\n",
      "\n",
      "TBO       : set(['top', 'onepiece'])\n",
      "categories: ['SHIRTS', 'BLOUSES', 'TUNICS']\n",
      "name: Tunic\n",
      "URL       : http://www.hm.com/us/product/67282?article=67282-B\n",
      "\n",
      "\n",
      "TBO       : set(['onepiece', 'bottom'])\n",
      "categories: ['BASICS', 'DRESSES', 'SKIRTS']\n",
      "name: Jersey Dress\n",
      "URL       : http://www.hm.com/us/product/44860?article=44860-A\n",
      "\n",
      "\n",
      "TBO       : set(['top', 'onepiece'])\n",
      "categories: ['SHIRTS', 'BLOUSES', 'TUNICS']\n",
      "name: V-neck Tunic\n",
      "URL       : http://www.hm.com/us/product/68372?article=68372-D\n",
      "\n",
      "\n",
      "TBO       : set(['onepiece', 'bottom'])\n",
      "categories: ['BASICS', 'DRESSES', 'SKIRTS']\n",
      "name: Jersey Dress\n",
      "URL       : http://www.hm.com/us/product/61777?article=61777-B\n",
      "\n",
      "\n",
      "TBO       : set(['onepiece', 'bottom'])\n",
      "categories: ['DIVIDED', 'BASICS', 'DRESSES', 'SKIRTS']\n",
      "name: Hooded Sweatshirt Dress\n",
      "URL       : http://www.hm.com/us/product/69391?article=69391-B\n",
      "\n",
      "\n",
      "TBO       : set(['onepiece', 'bottom'])\n",
      "categories: ['BASICS', 'DRESSES', 'SKIRTS']\n",
      "name: Long Jersey Dress\n",
      "URL       : http://www.hm.com/us/product/70438?article=70438-B\n",
      "\n",
      "\n",
      "TBO       : set(['onepiece', 'bottom'])\n",
      "categories: ['DIVIDED', 'BASICS', 'DRESSES', 'SKIRTS']\n",
      "name: Hooded Sweatshirt Dress\n",
      "URL       : http://www.hm.com/us/product/69391?article=69391-A\n",
      "\n",
      "\n",
      "TBO       : set(['onepiece', 'bottom'])\n",
      "categories: ['DIVIDED', 'BASICS', 'DRESSES', 'SKIRTS']\n",
      "name: Sleeveless Jersey Dress\n",
      "URL       : http://www.hm.com/us/product/66134?article=66134-B\n",
      "\n",
      "\n",
      "TBO       : set(['onepiece', 'bottom'])\n",
      "categories: ['BASICS', 'DRESSES', 'SKIRTS']\n",
      "name: Jersey Dress\n",
      "URL       : http://www.hm.com/us/product/61777?article=61777-E\n",
      "\n",
      "\n",
      "TBO       : set(['top', 'onepiece'])\n",
      "categories: ['SHIRTS', 'BLOUSES', 'TUNICS']\n",
      "name: Cotton Tunic\n",
      "URL       : http://www.hm.com/us/product/67416?article=67416-A\n",
      "\n",
      "\n",
      "TBO       : set(['onepiece', 'bottom'])\n",
      "categories: ['BASICS', 'DRESSES', 'SKIRTS']\n",
      "name: Pencil Skirt\n",
      "URL       : http://www.hm.com/us/product/30443?article=30443-J\n",
      "\n",
      "\n",
      "TBO       : set(['onepiece', 'bottom'])\n",
      "categories: ['BASICS', 'DRESSES', 'SKIRTS']\n",
      "name: Ribbed Jersey Dress\n",
      "URL       : http://www.hm.com/us/product/65754?article=65754-A\n",
      "\n",
      "\n",
      "TBO       : set(['onepiece', 'bottom'])\n",
      "categories: ['BASICS', 'DRESSES', 'SKIRTS']\n",
      "name: Jersey Dress\n",
      "URL       : http://www.hm.com/us/product/44860?article=44860-E\n",
      "\n",
      "\n",
      "TBO       : set(['onepiece', 'bottom'])\n",
      "categories: ['DIVIDED', 'BASICS', 'DRESSES', 'SKIRTS']\n",
      "name: Hooded Sweatshirt Dress\n",
      "URL       : http://www.hm.com/us/product/69391?article=69391-C\n",
      "\n",
      "\n",
      "TBO       : set(['onepiece', 'bottom'])\n",
      "categories: ['BASICS', 'DRESSES', 'SKIRTS']\n",
      "name: Jersey Dress\n",
      "URL       : http://www.hm.com/us/product/61777?article=61777-A\n",
      "\n",
      "\n",
      "TBO       : set(['onepiece', 'bottom'])\n",
      "categories: ['BASICS', 'DRESSES', 'SKIRTS']\n",
      "name: Jersey Dress\n",
      "URL       : http://www.hm.com/us/product/61041?article=61041-C\n",
      "\n",
      "\n",
      "TBO       : set(['onepiece', 'bottom'])\n",
      "categories: ['BASICS', 'DRESSES', 'SKIRTS']\n",
      "name: Jersey Dress\n",
      "URL       : http://www.hm.com/us/product/44860?article=44860-F\n",
      "\n",
      "\n",
      "TBO       : set(['onepiece', 'bottom'])\n",
      "categories: ['BASICS', 'DRESSES', 'SKIRTS']\n",
      "name: Ribbed Jersey Dress\n",
      "URL       : http://www.hm.com/us/product/65754?article=65754-B\n",
      "\n",
      "\n",
      "TBO       : set(['top', 'onepiece'])\n",
      "categories: ['SHIRTS', 'BLOUSES', 'TUNICS']\n",
      "name: Lyocell-blend Tunic\n",
      "URL       : http://www.hm.com/us/product/61053?article=61053-A\n",
      "\n",
      "\n",
      "TBO       : set(['top', 'onepiece'])\n",
      "categories: ['SHIRTS', 'BLOUSES', 'TUNICS']\n",
      "name: Striped Cotton Tunic\n",
      "URL       : http://www.hm.com/us/product/64346?article=64346-A\n",
      "\n",
      "\n",
      "TBO       : set(['top', 'onepiece'])\n",
      "categories: ['SHIRTS', 'BLOUSES', 'TUNICS']\n",
      "name: Embroidered Cotton Tunic\n",
      "URL       : http://www.hm.com/us/product/67068?article=67068-A\n",
      "\n",
      "\n",
      "TBO       : set(['onepiece', 'bottom'])\n",
      "categories: ['DIVIDED', 'BASICS', 'DRESSES', 'SKIRTS']\n",
      "name: Jersey Dress\n",
      "URL       : http://www.hm.com/us/product/62061?article=62061-B\n",
      "\n",
      "\n",
      "TBO       : set(['onepiece', 'bottom'])\n",
      "categories: ['BASICS', 'DRESSES', 'SKIRTS']\n",
      "name: Jersey Dress\n",
      "URL       : http://www.hm.com/us/product/61041?article=61041-A\n",
      "\n",
      "\n",
      "TBO       : set(['onepiece', 'bottom'])\n",
      "categories: ['BASICS', 'DRESSES', 'SKIRTS']\n",
      "name: Pencil Skirt\n",
      "URL       : http://www.hm.com/us/product/55457?article=55457-B\n",
      "\n",
      "\n",
      "TBO       : set(['top', 'onepiece'])\n",
      "categories: ['SHIRTS', 'BLOUSES', 'TUNICS']\n",
      "name: Crêpe Tunic\n",
      "URL       : http://www.hm.com/us/product/61117?article=61117-B\n",
      "\n",
      "\n",
      "TBO       : set(['onepiece', 'bottom'])\n",
      "categories: ['BASICS', 'DRESSES', 'SKIRTS']\n",
      "name: Lyocell Dress\n",
      "URL       : http://www.hm.com/us/product/51585?article=51585-A\n",
      "\n",
      "\n",
      "TBO       : set(['top', 'onepiece'])\n",
      "categories: ['SHIRTS', 'BLOUSES', 'TUNICS']\n",
      "name: Crêpe Tunic\n",
      "URL       : http://www.hm.com/us/product/61117?article=61117-A\n",
      "\n",
      "\n",
      "TBO       : set(['onepiece', 'bottom'])\n",
      "categories: ['DIVIDED', 'BASICS', 'DRESSES', 'SKIRTS']\n",
      "name: Ribbed Jersey Dress\n",
      "URL       : http://www.hm.com/us/product/60171?article=60171-D\n",
      "\n",
      "\n",
      "TBO       : set(['onepiece', 'bottom'])\n",
      "categories: ['DIVIDED', 'BASICS', 'DRESSES', 'SKIRTS']\n",
      "name: Jersey Dress\n",
      "URL       : http://www.hm.com/us/product/58402?article=58402-B\n",
      "\n",
      "\n",
      "TBO       : set(['top', 'onepiece'])\n",
      "categories: ['SHIRTS', 'BLOUSES', 'TUNICS']\n",
      "name: Jersey Tunic\n",
      "URL       : http://www.hm.com/us/product/45641?article=45641-H\n",
      "\n",
      "\n",
      "TBO       : set(['onepiece', 'bottom'])\n",
      "categories: ['DIVIDED', 'BASICS', 'DRESSES', 'SKIRTS']\n",
      "name: Jersey Dress\n",
      "URL       : http://www.hm.com/us/product/58402?article=58402-A\n",
      "\n",
      "\n",
      "TBO       : set(['onepiece', 'bottom'])\n",
      "categories: ['BASICS', 'DRESSES', 'SKIRTS']\n",
      "name: Fine-knit Dress\n",
      "URL       : http://www.hm.com/us/product/51472?article=51472-B\n",
      "\n",
      "\n",
      "TBO       : set(['onepiece', 'bottom'])\n",
      "categories: ['DIVIDED', 'BASICS', 'DRESSES', 'SKIRTS']\n",
      "name: Sweatshirt Dress\n",
      "URL       : http://www.hm.com/us/product/41707?article=41707-G\n",
      "\n",
      "\n",
      "TBO       : set(['onepiece', 'bottom'])\n",
      "categories: ['BASICS', 'DRESSES', 'SKIRTS']\n",
      "name: Long-sleeved Jersey Dress\n",
      "URL       : http://www.hm.com/us/product/38997?article=38997-C\n",
      "\n",
      "\n",
      "TBO       : set(['onepiece', 'bottom'])\n",
      "categories: ['DIVIDED', 'BASICS', 'DRESSES', 'SKIRTS']\n",
      "name: Jersey Dress\n",
      "URL       : http://www.hm.com/us/product/58402?article=58402-C\n",
      "\n",
      "\n",
      "TBO       : set(['onepiece', 'bottom'])\n",
      "categories: ['BASICS', 'DRESSES', 'SKIRTS']\n",
      "name: Fine-knit Dress\n",
      "URL       : http://www.hm.com/us/product/33292?article=33292-A\n",
      "\n",
      "\n",
      "TBO       : set(['onepiece', 'bottom'])\n",
      "categories: ['TROUSERS', 'JUMPSUIT']\n",
      "name: Chiffon Jumpsuit\n",
      "URL       : http://www.hm.com/us/product/37601?article=37601-A\n",
      "\n",
      "\n",
      "TBO       : set(['onepiece', 'bottom'])\n",
      "categories: ['BASICS', 'DRESSES', 'SKIRTS']\n",
      "name: Jersey Dress\n",
      "URL       : http://www.hm.com/us/product/20809?article=20809-B\n",
      "\n",
      "\n",
      "TBO       : set(['top', 'onepiece'])\n",
      "categories: ['SHIRTS', 'BLOUSES', 'TUNICS']\n",
      "name: Cotton Tunic\n",
      "URL       : http://www.hm.com/us/product/62224?article=62224-B\n",
      "\n",
      "\n",
      "TBO       : set(['onepiece', 'bottom'])\n",
      "categories: ['TROUSERS', 'JUMPSUIT']\n",
      "name: Jumpsuit with Lace Inserts\n",
      "URL       : http://www.hm.com/us/product/30499?article=30499-A\n",
      "\n",
      "\n",
      "TBO       : set(['onepiece', 'bottom'])\n",
      "categories: ['DIVIDED', 'BASICS', 'DRESSES', 'SKIRTS']\n",
      "name: Ribbed Jersey Dress\n",
      "URL       : http://www.hm.com/us/product/60171?article=60171-C\n",
      "\n",
      "\n",
      "Count: 94\n"
     ]
    }
   ],
   "source": [
    "print_categories_with_tbo_num(2)"
   ]
  },
  {
   "cell_type": "markdown",
   "metadata": {},
   "source": [
    "* The 94 items are more than one TBO categories."
   ]
  },
  {
   "cell_type": "code",
   "execution_count": 73,
   "metadata": {
    "scrolled": true
   },
   "outputs": [
    {
     "name": "stdout",
     "output_type": "stream",
     "text": [
      "Count: 0\n"
     ]
    }
   ],
   "source": [
    "print_categories_with_tbo_num(3)"
   ]
  },
  {
   "cell_type": "markdown",
   "metadata": {},
   "source": [
    "###  Only for counting\n"
   ]
  },
  {
   "cell_type": "code",
   "execution_count": 74,
   "metadata": {
    "collapsed": true
   },
   "outputs": [],
   "source": [
    "def count_categories_with_tbo_num(tbo_num_to_print):\n",
    "    count = 0\n",
    "    for item_info in items_info:\n",
    "        item_info['tbo'] = set()\n",
    "        categories = get_categories(item_info)\n",
    "        for category in categories:\n",
    "            if category in dict_tbo_categories['top']:\n",
    "                item_info['tbo'].add('top')\n",
    "            if category in dict_tbo_categories['bottom']:\n",
    "                item_info['tbo'].add('bottom')\n",
    "            if category in dict_tbo_categories['onepiece']:\n",
    "                item_info['tbo'].add('onepiece')\n",
    "        if len(item_info['tbo']) == tbo_num_to_print:\n",
    "            count = count + 1\n",
    "    print \"Count:\", count "
   ]
  },
  {
   "cell_type": "code",
   "execution_count": 79,
   "metadata": {},
   "outputs": [
    {
     "name": "stdout",
     "output_type": "stream",
     "text": [
      "Count: 3326\n"
     ]
    }
   ],
   "source": [
    "count_categories_with_tbo_num(0)"
   ]
  },
  {
   "cell_type": "code",
   "execution_count": 80,
   "metadata": {},
   "outputs": [
    {
     "name": "stdout",
     "output_type": "stream",
     "text": [
      "Count: 5108\n"
     ]
    }
   ],
   "source": [
    "count_categories_with_tbo_num(1)"
   ]
  },
  {
   "cell_type": "code",
   "execution_count": 81,
   "metadata": {},
   "outputs": [
    {
     "name": "stdout",
     "output_type": "stream",
     "text": [
      "Count: 94\n"
     ]
    }
   ],
   "source": [
    "count_categories_with_tbo_num(2)"
   ]
  },
  {
   "cell_type": "code",
   "execution_count": 82,
   "metadata": {},
   "outputs": [
    {
     "name": "stdout",
     "output_type": "stream",
     "text": [
      "Count: 0\n"
     ]
    }
   ],
   "source": [
    "count_categories_with_tbo_num(3)"
   ]
  },
  {
   "cell_type": "markdown",
   "metadata": {},
   "source": [
    "#### Reult: The number of items that has particular numbers of TBO categories\n",
    "* 0 TBO categories: 3326 (These are like accesories, shoes, hats, etc..)\n",
    "* 1 TBO category: 5108\n",
    "* 2 TBO categories: 94\n",
    "* 3 TBO categories: 0"
   ]
  },
  {
   "cell_type": "markdown",
   "metadata": {},
   "source": [
    "### Preventing from having 2 TBO categories"
   ]
  },
  {
   "cell_type": "code",
   "execution_count": 83,
   "metadata": {},
   "outputs": [
    {
     "name": "stdout",
     "output_type": "stream",
     "text": [
      "TBO       : set(['top', 'onepiece'])\n",
      "categories: ['SHIRTS', 'BLOUSES', 'TUNICS']\n",
      "name: V-neck Tunic\n",
      "URL       : http://www.hm.com/us/product/68372?article=68372-A\n",
      "\n",
      "\n",
      "TBO       : set(['onepiece', 'bottom'])\n",
      "categories: ['DIVIDED', 'BASICS', 'DRESSES', 'SKIRTS']\n",
      "name: Maxi Dress\n",
      "URL       : http://www.hm.com/us/product/27458?article=27458-N\n",
      "\n",
      "\n",
      "TBO       : set(['onepiece', 'bottom'])\n",
      "categories: ['DIVIDED', 'BASICS', 'DRESSES', 'SKIRTS']\n",
      "name: Short Jersey Dress\n",
      "URL       : http://www.hm.com/us/product/70827?article=70827-A\n",
      "\n",
      "\n",
      "TBO       : set(['onepiece', 'bottom'])\n",
      "categories: ['DIVIDED', 'BASICS', 'DRESSES', 'SKIRTS']\n",
      "name: Short Jersey Dress\n",
      "URL       : http://www.hm.com/us/product/70827?article=70827-A\n",
      "\n",
      "\n",
      "TBO       : set(['onepiece', 'bottom'])\n",
      "categories: ['BASICS', 'DRESSES', 'SKIRTS']\n",
      "name: Short-sleeved Jersey Dress\n",
      "URL       : http://www.hm.com/us/product/32266?article=32266-F\n",
      "\n",
      "\n",
      "TBO       : set(['onepiece', 'bottom'])\n",
      "categories: ['DIVIDED', 'BASICS', 'DRESSES', 'SKIRTS']\n",
      "name: T-shirt Dress\n",
      "URL       : http://www.hm.com/us/product/65509?article=65509-A\n",
      "\n",
      "\n",
      "TBO       : set(['onepiece', 'bottom'])\n",
      "categories: ['DIVIDED', 'BASICS', 'DRESSES', 'SKIRTS']\n",
      "name: Fitted Jersey Dress\n",
      "URL       : http://www.hm.com/us/product/70241?article=70241-A\n",
      "\n",
      "\n",
      "TBO       : set(['onepiece', 'bottom'])\n",
      "categories: ['BASICS', 'DRESSES', 'SKIRTS']\n",
      "name: Short-sleeved Jersey Dress\n",
      "URL       : http://www.hm.com/us/product/32266?article=32266-X\n",
      "\n",
      "\n",
      "TBO       : set(['onepiece', 'bottom'])\n",
      "categories: ['BASICS', 'DRESSES', 'SKIRTS']\n",
      "name: Maxi Dress\n",
      "URL       : http://www.hm.com/us/product/29284?article=29284-A\n",
      "\n",
      "\n",
      "TBO       : set(['onepiece', 'bottom'])\n",
      "categories: ['BASICS', 'DRESSES', 'SKIRTS']\n",
      "name: Pencil Skirt\n",
      "URL       : http://www.hm.com/us/product/30443?article=30443-B\n",
      "\n",
      "\n",
      "TBO       : set(['onepiece', 'bottom'])\n",
      "categories: ['DIVIDED', 'BASICS', 'DRESSES', 'SKIRTS']\n",
      "name: Short Jersey Dress\n",
      "URL       : http://www.hm.com/us/product/70827?article=70827-C\n",
      "\n",
      "\n",
      "TBO       : set(['onepiece', 'bottom'])\n",
      "categories: ['BASICS', 'DRESSES', 'SKIRTS']\n",
      "name: Pencil Skirt\n",
      "URL       : http://www.hm.com/us/product/30443?article=30443-P\n",
      "\n",
      "\n",
      "TBO       : set(['onepiece', 'bottom'])\n",
      "categories: ['DIVIDED', 'BASICS', 'DRESSES', 'SKIRTS']\n",
      "name: Maxi Dress\n",
      "URL       : http://www.hm.com/us/product/27458?article=27458-M\n",
      "\n",
      "\n",
      "TBO       : set(['onepiece', 'bottom'])\n",
      "categories: ['BASICS', 'DRESSES', 'SKIRTS']\n",
      "name: Strapless Jersey Dress\n",
      "URL       : http://www.hm.com/us/product/85485?article=85485-A\n",
      "\n",
      "\n",
      "TBO       : set(['onepiece', 'bottom'])\n",
      "categories: ['DIVIDED', 'BASICS', 'DRESSES', 'SKIRTS']\n",
      "name: T-shirt Dress\n",
      "URL       : http://www.hm.com/us/product/65509?article=65509-C\n",
      "\n",
      "\n",
      "TBO       : set(['onepiece', 'bottom'])\n",
      "categories: ['DIVIDED', 'BASICS', 'DRESSES', 'SKIRTS']\n",
      "name: Fitted Jersey Dress\n",
      "URL       : http://www.hm.com/us/product/70241?article=70241-B\n",
      "\n",
      "\n",
      "TBO       : set(['onepiece', 'bottom'])\n",
      "categories: ['DIVIDED', 'BASICS', 'DRESSES', 'SKIRTS']\n",
      "name: Circle Skirt\n",
      "URL       : http://www.hm.com/us/product/16032?article=16032-B\n",
      "\n",
      "\n",
      "TBO       : set(['onepiece', 'bottom'])\n",
      "categories: ['DIVIDED', 'BASICS', 'DRESSES', 'SKIRTS']\n",
      "name: Short Jersey Dress\n",
      "URL       : http://www.hm.com/us/product/70827?article=70827-D\n",
      "\n",
      "\n",
      "TBO       : set(['onepiece', 'bottom'])\n",
      "categories: ['BASICS', 'DRESSES', 'SKIRTS']\n",
      "name: V-neck Jersey Dress\n",
      "URL       : http://www.hm.com/us/product/68156?article=68156-A\n",
      "\n",
      "\n",
      "TBO       : set(['onepiece', 'bottom'])\n",
      "categories: ['BASICS', 'DRESSES', 'SKIRTS']\n",
      "name: Jersey Dress\n",
      "URL       : http://www.hm.com/us/product/38424?article=38424-D\n",
      "\n",
      "\n",
      "TBO       : set(['onepiece', 'bottom'])\n",
      "categories: ['BASICS', 'DRESSES', 'SKIRTS']\n",
      "name: Maxi Dress\n",
      "URL       : http://www.hm.com/us/product/29284?article=29284-F\n",
      "\n",
      "\n",
      "TBO       : set(['onepiece', 'bottom'])\n",
      "categories: ['DIVIDED', 'BASICS', 'DRESSES', 'SKIRTS']\n",
      "name: T-shirt Dress\n",
      "URL       : http://www.hm.com/us/product/65509?article=65509-B\n",
      "\n",
      "\n",
      "TBO       : set(['onepiece', 'bottom'])\n",
      "categories: ['BASICS', 'DRESSES', 'SKIRTS']\n",
      "name: Knee-length Jersey Dress\n",
      "URL       : http://www.hm.com/us/product/68693?article=68693-A\n",
      "\n",
      "\n",
      "TBO       : set(['onepiece', 'bottom'])\n",
      "categories: ['DIVIDED', 'BASICS', 'DRESSES', 'SKIRTS']\n",
      "name: Jersey Skirt\n",
      "URL       : http://www.hm.com/us/product/15975?article=15975-B\n",
      "\n",
      "\n",
      "TBO       : set(['onepiece', 'bottom'])\n",
      "categories: ['BASICS', 'DRESSES', 'SKIRTS']\n",
      "name: V-neck Jersey Dress\n",
      "URL       : http://www.hm.com/us/product/68156?article=68156-C\n",
      "\n",
      "\n",
      "TBO       : set(['onepiece', 'bottom'])\n",
      "categories: ['BASICS', 'DRESSES', 'SKIRTS']\n",
      "name: V-neck Jersey Dress\n",
      "URL       : http://www.hm.com/us/product/68156?article=68156-D\n",
      "\n",
      "\n",
      "TBO       : set(['onepiece', 'bottom'])\n",
      "categories: ['BASICS', 'DRESSES', 'SKIRTS']\n",
      "name: Strapless Jersey Dress\n",
      "URL       : http://www.hm.com/us/product/85485?article=85485-C\n",
      "\n",
      "\n",
      "TBO       : set(['onepiece', 'bottom'])\n",
      "categories: ['BASICS', 'DRESSES', 'SKIRTS']\n",
      "name: Short-sleeved Jersey Dress\n",
      "URL       : http://www.hm.com/us/product/32266?article=32266-Z\n",
      "\n",
      "\n",
      "TBO       : set(['onepiece', 'bottom'])\n",
      "categories: ['BASICS', 'DRESSES', 'SKIRTS']\n",
      "name: Knee-length Jersey Dress\n",
      "URL       : http://www.hm.com/us/product/68693?article=68693-B\n",
      "\n",
      "\n",
      "TBO       : set(['onepiece', 'bottom'])\n",
      "categories: ['DIVIDED', 'BASICS', 'DRESSES', 'SKIRTS']\n",
      "name: Short Jersey Dress\n",
      "URL       : http://www.hm.com/us/product/70827?article=70827-B\n",
      "\n",
      "\n",
      "TBO       : set(['onepiece', 'bottom'])\n",
      "categories: ['BASICS', 'DRESSES', 'SKIRTS']\n",
      "name: Knee-length Jersey Dress\n",
      "URL       : http://www.hm.com/us/product/68693?article=68693-C\n",
      "\n",
      "\n",
      "TBO       : set(['onepiece', 'bottom'])\n",
      "categories: ['BASICS', 'DRESSES', 'SKIRTS']\n",
      "name: Short Jersey Dress\n",
      "URL       : http://www.hm.com/us/product/66300?article=66300-A\n",
      "\n",
      "\n",
      "TBO       : set(['top', 'onepiece'])\n",
      "categories: ['SHIRTS', 'BLOUSES', 'TUNICS']\n",
      "name: Tunic\n",
      "URL       : http://www.hm.com/us/product/67282?article=67282-A\n",
      "\n",
      "\n",
      "TBO       : set(['onepiece', 'bottom'])\n",
      "categories: ['BASICS', 'DRESSES', 'SKIRTS']\n",
      "name: V-neck Jersey Dress\n",
      "URL       : http://www.hm.com/us/product/68156?article=68156-B\n",
      "\n",
      "\n",
      "TBO       : set(['onepiece', 'bottom'])\n",
      "categories: ['BASICS', 'DRESSES', 'SKIRTS']\n",
      "name: Short-sleeved Jersey Dress\n",
      "URL       : http://www.hm.com/us/product/32266?article=32266-G\n",
      "\n",
      "\n",
      "TBO       : set(['top', 'onepiece'])\n",
      "categories: ['SHIRTS', 'BLOUSES', 'TUNICS']\n",
      "name: V-neck Tunic\n",
      "URL       : http://www.hm.com/us/product/68372?article=68372-C\n",
      "\n",
      "\n",
      "TBO       : set(['onepiece', 'bottom'])\n",
      "categories: ['BASICS', 'DRESSES', 'SKIRTS']\n",
      "name: Short Jersey Dress\n",
      "URL       : http://www.hm.com/us/product/66300?article=66300-C\n",
      "\n",
      "\n",
      "TBO       : set(['onepiece', 'bottom'])\n",
      "categories: ['DIVIDED', 'BASICS', 'DRESSES', 'SKIRTS']\n",
      "name: Ribbed Jersey Dress\n",
      "URL       : http://www.hm.com/us/product/54799?article=54799-E\n",
      "\n",
      "\n",
      "TBO       : set(['onepiece', 'bottom'])\n",
      "categories: ['BASICS', 'DRESSES', 'SKIRTS']\n",
      "name: Short Jersey Dress\n",
      "URL       : http://www.hm.com/us/product/66300?article=66300-B\n",
      "\n",
      "\n",
      "TBO       : set(['onepiece', 'bottom'])\n",
      "categories: ['BASICS', 'DRESSES', 'SKIRTS']\n",
      "name: T-shirt Dress\n",
      "URL       : http://www.hm.com/us/product/70880?article=70880-B\n",
      "\n",
      "\n",
      "TBO       : set(['top', 'onepiece'])\n",
      "categories: ['SHIRTS', 'BLOUSES', 'TUNICS']\n",
      "name: Lyocell Tunic\n",
      "URL       : http://www.hm.com/us/product/63837?article=63837-A\n",
      "\n",
      "\n",
      "TBO       : set(['onepiece', 'bottom'])\n",
      "categories: ['DIVIDED', 'BASICS', 'DRESSES', 'SKIRTS']\n",
      "name: Jersey Dress\n",
      "URL       : http://www.hm.com/us/product/35991?article=35991-B\n",
      "\n",
      "\n",
      "TBO       : set(['top', 'onepiece'])\n",
      "categories: ['SHIRTS', 'BLOUSES', 'TUNICS']\n",
      "name: Tunic\n",
      "URL       : http://www.hm.com/us/product/68560?article=68560-A\n",
      "\n",
      "\n",
      "TBO       : set(['onepiece', 'bottom'])\n",
      "categories: ['BASICS', 'DRESSES', 'SKIRTS']\n",
      "name: T-shirt Dress\n",
      "URL       : http://www.hm.com/us/product/70880?article=70880-A\n",
      "\n",
      "\n",
      "TBO       : set(['top', 'onepiece'])\n",
      "categories: ['SHIRTS', 'BLOUSES', 'TUNICS']\n",
      "name: Embroidered Cotton Tunic\n",
      "URL       : http://www.hm.com/us/product/67068?article=67068-B\n",
      "\n",
      "\n",
      "TBO       : set(['onepiece', 'bottom'])\n",
      "categories: ['DIVIDED', 'BASICS', 'DRESSES', 'SKIRTS']\n",
      "name: Jersey Dress\n",
      "URL       : http://www.hm.com/us/product/35991?article=35991-D\n",
      "\n",
      "\n",
      "TBO       : set(['onepiece', 'bottom'])\n",
      "categories: ['BASICS', 'DRESSES', 'SKIRTS']\n",
      "name: Jersey Dress\n",
      "URL       : http://www.hm.com/us/product/38424?article=38424-B\n",
      "\n",
      "\n",
      "TBO       : set(['onepiece', 'bottom'])\n",
      "categories: ['DIVIDED', 'BASICS', 'DRESSES', 'SKIRTS']\n",
      "name: Sleeveless Jersey Dress\n",
      "URL       : http://www.hm.com/us/product/66134?article=66134-C\n",
      "\n",
      "\n",
      "TBO       : set(['onepiece', 'bottom'])\n",
      "categories: ['BASICS', 'DRESSES', 'SKIRTS']\n",
      "name: Jersey Dress\n",
      "URL       : http://www.hm.com/us/product/61777?article=61777-F\n",
      "\n",
      "\n",
      "TBO       : set(['onepiece', 'bottom'])\n",
      "categories: ['BASICS', 'DRESSES', 'SKIRTS']\n",
      "name: Ribbed Jersey Dress\n",
      "URL       : http://www.hm.com/us/product/70338?article=70338-B\n",
      "\n",
      "\n",
      "TBO       : set(['top', 'onepiece'])\n",
      "categories: ['SHIRTS', 'BLOUSES', 'TUNICS']\n",
      "name: Cotton Tunic\n",
      "URL       : http://www.hm.com/us/product/67416?article=67416-C\n",
      "\n",
      "\n",
      "TBO       : set(['onepiece', 'bottom'])\n",
      "categories: ['BASICS', 'DRESSES', 'SKIRTS']\n",
      "name: Ribbed Jersey Dress\n",
      "URL       : http://www.hm.com/us/product/70338?article=70338-A\n",
      "\n",
      "\n",
      "TBO       : set(['top', 'onepiece'])\n",
      "categories: ['SHIRTS', 'BLOUSES', 'TUNICS']\n",
      "name: Embroidered Cotton Tunic\n",
      "URL       : http://www.hm.com/us/product/67068?article=67068-C\n",
      "\n",
      "\n",
      "TBO       : set(['top', 'onepiece'])\n",
      "categories: ['SHIRTS', 'BLOUSES', 'TUNICS']\n",
      "name: Tunic\n",
      "URL       : http://www.hm.com/us/product/67282?article=67282-B\n",
      "\n",
      "\n",
      "TBO       : set(['onepiece', 'bottom'])\n",
      "categories: ['BASICS', 'DRESSES', 'SKIRTS']\n",
      "name: Jersey Dress\n",
      "URL       : http://www.hm.com/us/product/44860?article=44860-A\n",
      "\n",
      "\n",
      "TBO       : set(['top', 'onepiece'])\n",
      "categories: ['SHIRTS', 'BLOUSES', 'TUNICS']\n",
      "name: V-neck Tunic\n",
      "URL       : http://www.hm.com/us/product/68372?article=68372-D\n",
      "\n",
      "\n",
      "TBO       : set(['onepiece', 'bottom'])\n",
      "categories: ['BASICS', 'DRESSES', 'SKIRTS']\n",
      "name: Jersey Dress\n",
      "URL       : http://www.hm.com/us/product/61777?article=61777-B\n",
      "\n",
      "\n",
      "TBO       : set(['onepiece', 'bottom'])\n",
      "categories: ['DIVIDED', 'BASICS', 'DRESSES', 'SKIRTS']\n",
      "name: Hooded Sweatshirt Dress\n",
      "URL       : http://www.hm.com/us/product/69391?article=69391-B\n",
      "\n",
      "\n",
      "TBO       : set(['onepiece', 'bottom'])\n",
      "categories: ['BASICS', 'DRESSES', 'SKIRTS']\n",
      "name: Long Jersey Dress\n",
      "URL       : http://www.hm.com/us/product/70438?article=70438-B\n",
      "\n",
      "\n",
      "TBO       : set(['onepiece', 'bottom'])\n",
      "categories: ['DIVIDED', 'BASICS', 'DRESSES', 'SKIRTS']\n",
      "name: Hooded Sweatshirt Dress\n",
      "URL       : http://www.hm.com/us/product/69391?article=69391-A\n",
      "\n",
      "\n",
      "TBO       : set(['onepiece', 'bottom'])\n",
      "categories: ['DIVIDED', 'BASICS', 'DRESSES', 'SKIRTS']\n",
      "name: Sleeveless Jersey Dress\n",
      "URL       : http://www.hm.com/us/product/66134?article=66134-B\n",
      "\n",
      "\n",
      "TBO       : set(['onepiece', 'bottom'])\n",
      "categories: ['BASICS', 'DRESSES', 'SKIRTS']\n",
      "name: Jersey Dress\n",
      "URL       : http://www.hm.com/us/product/61777?article=61777-E\n",
      "\n",
      "\n",
      "TBO       : set(['top', 'onepiece'])\n",
      "categories: ['SHIRTS', 'BLOUSES', 'TUNICS']\n",
      "name: Cotton Tunic\n",
      "URL       : http://www.hm.com/us/product/67416?article=67416-A\n",
      "\n",
      "\n",
      "TBO       : set(['onepiece', 'bottom'])\n",
      "categories: ['BASICS', 'DRESSES', 'SKIRTS']\n",
      "name: Pencil Skirt\n",
      "URL       : http://www.hm.com/us/product/30443?article=30443-J\n",
      "\n",
      "\n",
      "TBO       : set(['onepiece', 'bottom'])\n",
      "categories: ['BASICS', 'DRESSES', 'SKIRTS']\n",
      "name: Ribbed Jersey Dress\n",
      "URL       : http://www.hm.com/us/product/65754?article=65754-A\n",
      "\n",
      "\n",
      "TBO       : set(['onepiece', 'bottom'])\n",
      "categories: ['BASICS', 'DRESSES', 'SKIRTS']\n",
      "name: Jersey Dress\n",
      "URL       : http://www.hm.com/us/product/44860?article=44860-E\n",
      "\n",
      "\n",
      "TBO       : set(['onepiece', 'bottom'])\n",
      "categories: ['DIVIDED', 'BASICS', 'DRESSES', 'SKIRTS']\n",
      "name: Hooded Sweatshirt Dress\n",
      "URL       : http://www.hm.com/us/product/69391?article=69391-C\n",
      "\n",
      "\n",
      "TBO       : set(['onepiece', 'bottom'])\n",
      "categories: ['BASICS', 'DRESSES', 'SKIRTS']\n",
      "name: Jersey Dress\n",
      "URL       : http://www.hm.com/us/product/61777?article=61777-A\n",
      "\n",
      "\n",
      "TBO       : set(['onepiece', 'bottom'])\n",
      "categories: ['BASICS', 'DRESSES', 'SKIRTS']\n",
      "name: Jersey Dress\n",
      "URL       : http://www.hm.com/us/product/61041?article=61041-C\n",
      "\n",
      "\n",
      "TBO       : set(['onepiece', 'bottom'])\n",
      "categories: ['BASICS', 'DRESSES', 'SKIRTS']\n",
      "name: Jersey Dress\n",
      "URL       : http://www.hm.com/us/product/44860?article=44860-F\n",
      "\n",
      "\n",
      "TBO       : set(['onepiece', 'bottom'])\n",
      "categories: ['BASICS', 'DRESSES', 'SKIRTS']\n",
      "name: Ribbed Jersey Dress\n",
      "URL       : http://www.hm.com/us/product/65754?article=65754-B\n",
      "\n",
      "\n",
      "TBO       : set(['top', 'onepiece'])\n",
      "categories: ['SHIRTS', 'BLOUSES', 'TUNICS']\n",
      "name: Lyocell-blend Tunic\n",
      "URL       : http://www.hm.com/us/product/61053?article=61053-A\n",
      "\n",
      "\n",
      "TBO       : set(['top', 'onepiece'])\n",
      "categories: ['SHIRTS', 'BLOUSES', 'TUNICS']\n",
      "name: Striped Cotton Tunic\n",
      "URL       : http://www.hm.com/us/product/64346?article=64346-A\n",
      "\n",
      "\n",
      "TBO       : set(['top', 'onepiece'])\n",
      "categories: ['SHIRTS', 'BLOUSES', 'TUNICS']\n",
      "name: Embroidered Cotton Tunic\n",
      "URL       : http://www.hm.com/us/product/67068?article=67068-A\n",
      "\n",
      "\n",
      "TBO       : set(['onepiece', 'bottom'])\n",
      "categories: ['DIVIDED', 'BASICS', 'DRESSES', 'SKIRTS']\n",
      "name: Jersey Dress\n",
      "URL       : http://www.hm.com/us/product/62061?article=62061-B\n",
      "\n",
      "\n",
      "TBO       : set(['onepiece', 'bottom'])\n",
      "categories: ['BASICS', 'DRESSES', 'SKIRTS']\n",
      "name: Jersey Dress\n",
      "URL       : http://www.hm.com/us/product/61041?article=61041-A\n",
      "\n",
      "\n",
      "TBO       : set(['onepiece', 'bottom'])\n",
      "categories: ['BASICS', 'DRESSES', 'SKIRTS']\n",
      "name: Pencil Skirt\n",
      "URL       : http://www.hm.com/us/product/55457?article=55457-B\n",
      "\n",
      "\n",
      "TBO       : set(['top', 'onepiece'])\n",
      "categories: ['SHIRTS', 'BLOUSES', 'TUNICS']\n",
      "name: Crêpe Tunic\n",
      "URL       : http://www.hm.com/us/product/61117?article=61117-B\n",
      "\n",
      "\n",
      "TBO       : set(['onepiece', 'bottom'])\n",
      "categories: ['BASICS', 'DRESSES', 'SKIRTS']\n",
      "name: Lyocell Dress\n",
      "URL       : http://www.hm.com/us/product/51585?article=51585-A\n",
      "\n",
      "\n",
      "TBO       : set(['top', 'onepiece'])\n",
      "categories: ['SHIRTS', 'BLOUSES', 'TUNICS']\n",
      "name: Crêpe Tunic\n",
      "URL       : http://www.hm.com/us/product/61117?article=61117-A\n",
      "\n",
      "\n",
      "TBO       : set(['onepiece', 'bottom'])\n",
      "categories: ['DIVIDED', 'BASICS', 'DRESSES', 'SKIRTS']\n",
      "name: Ribbed Jersey Dress\n",
      "URL       : http://www.hm.com/us/product/60171?article=60171-D\n",
      "\n",
      "\n",
      "TBO       : set(['onepiece', 'bottom'])\n",
      "categories: ['DIVIDED', 'BASICS', 'DRESSES', 'SKIRTS']\n",
      "name: Jersey Dress\n",
      "URL       : http://www.hm.com/us/product/58402?article=58402-B\n",
      "\n",
      "\n",
      "TBO       : set(['top', 'onepiece'])\n",
      "categories: ['SHIRTS', 'BLOUSES', 'TUNICS']\n",
      "name: Jersey Tunic\n",
      "URL       : http://www.hm.com/us/product/45641?article=45641-H\n",
      "\n",
      "\n",
      "TBO       : set(['onepiece', 'bottom'])\n",
      "categories: ['DIVIDED', 'BASICS', 'DRESSES', 'SKIRTS']\n",
      "name: Jersey Dress\n",
      "URL       : http://www.hm.com/us/product/58402?article=58402-A\n",
      "\n",
      "\n",
      "TBO       : set(['onepiece', 'bottom'])\n",
      "categories: ['BASICS', 'DRESSES', 'SKIRTS']\n",
      "name: Fine-knit Dress\n",
      "URL       : http://www.hm.com/us/product/51472?article=51472-B\n",
      "\n",
      "\n",
      "TBO       : set(['onepiece', 'bottom'])\n",
      "categories: ['DIVIDED', 'BASICS', 'DRESSES', 'SKIRTS']\n",
      "name: Sweatshirt Dress\n",
      "URL       : http://www.hm.com/us/product/41707?article=41707-G\n",
      "\n",
      "\n",
      "TBO       : set(['onepiece', 'bottom'])\n",
      "categories: ['BASICS', 'DRESSES', 'SKIRTS']\n",
      "name: Long-sleeved Jersey Dress\n",
      "URL       : http://www.hm.com/us/product/38997?article=38997-C\n",
      "\n",
      "\n",
      "TBO       : set(['onepiece', 'bottom'])\n",
      "categories: ['DIVIDED', 'BASICS', 'DRESSES', 'SKIRTS']\n",
      "name: Jersey Dress\n",
      "URL       : http://www.hm.com/us/product/58402?article=58402-C\n",
      "\n",
      "\n",
      "TBO       : set(['onepiece', 'bottom'])\n",
      "categories: ['BASICS', 'DRESSES', 'SKIRTS']\n",
      "name: Fine-knit Dress\n",
      "URL       : http://www.hm.com/us/product/33292?article=33292-A\n",
      "\n",
      "\n",
      "TBO       : set(['onepiece', 'bottom'])\n",
      "categories: ['TROUSERS', 'JUMPSUIT']\n",
      "name: Chiffon Jumpsuit\n",
      "URL       : http://www.hm.com/us/product/37601?article=37601-A\n",
      "\n",
      "\n",
      "TBO       : set(['onepiece', 'bottom'])\n",
      "categories: ['BASICS', 'DRESSES', 'SKIRTS']\n",
      "name: Jersey Dress\n",
      "URL       : http://www.hm.com/us/product/20809?article=20809-B\n",
      "\n",
      "\n",
      "TBO       : set(['top', 'onepiece'])\n",
      "categories: ['SHIRTS', 'BLOUSES', 'TUNICS']\n",
      "name: Cotton Tunic\n",
      "URL       : http://www.hm.com/us/product/62224?article=62224-B\n",
      "\n",
      "\n",
      "TBO       : set(['onepiece', 'bottom'])\n",
      "categories: ['TROUSERS', 'JUMPSUIT']\n",
      "name: Jumpsuit with Lace Inserts\n",
      "URL       : http://www.hm.com/us/product/30499?article=30499-A\n",
      "\n",
      "\n",
      "TBO       : set(['onepiece', 'bottom'])\n",
      "categories: ['DIVIDED', 'BASICS', 'DRESSES', 'SKIRTS']\n",
      "name: Ribbed Jersey Dress\n",
      "URL       : http://www.hm.com/us/product/60171?article=60171-C\n",
      "\n",
      "\n",
      "Count: 94\n"
     ]
    }
   ],
   "source": [
    "print_categories_with_tbo_num(2)"
   ]
  },
  {
   "cell_type": "code",
   "execution_count": 84,
   "metadata": {
    "collapsed": true
   },
   "outputs": [],
   "source": [
    "def print_categories_with_tbo_num_for_name_last_word(tbo_num_to_print):\n",
    "    set_name_last_word = set()\n",
    "    \n",
    "    for item_info in items_info:\n",
    "        item_info['tbo'] = set()\n",
    "        categories = get_categories(item_info)\n",
    "        for category in categories:\n",
    "            if category in dict_tbo_categories['top']:\n",
    "                item_info['tbo'].add('top')\n",
    "            if category in dict_tbo_categories['bottom']:\n",
    "                item_info['tbo'].add('bottom')\n",
    "            if category in dict_tbo_categories['onepiece']:\n",
    "                item_info['tbo'].add('onepiece')\n",
    "        if len(item_info['tbo']) == tbo_num_to_print:\n",
    "            name_last_word = item_info['name'].split()[-1]\n",
    "            set_name_last_word.add(name_last_word)\n",
    "    print \"set_name_last_word:\", set_name_last_word "
   ]
  },
  {
   "cell_type": "code",
   "execution_count": 86,
   "metadata": {
    "scrolled": true
   },
   "outputs": [
    {
     "name": "stdout",
     "output_type": "stream",
     "text": [
      "set_name_last_word: set(['Dress', 'Skirt', 'Tunic', 'Inserts', 'Jumpsuit'])\n"
     ]
    }
   ],
   "source": [
    "print_categories_with_tbo_num_for_name_last_word(2)"
   ]
  },
  {
   "cell_type": "code",
   "execution_count": 87,
   "metadata": {
    "collapsed": true
   },
   "outputs": [],
   "source": [
    "def print_categories_with_tbo_num_for_name_first_word(tbo_num_to_print):\n",
    "    set_name_first_word = set()\n",
    "    \n",
    "    for item_info in items_info:\n",
    "        item_info['tbo'] = set()\n",
    "        categories = get_categories(item_info)\n",
    "        for category in categories:\n",
    "            if category in dict_tbo_categories['top']:\n",
    "                item_info['tbo'].add('top')\n",
    "            if category in dict_tbo_categories['bottom']:\n",
    "                item_info['tbo'].add('bottom')\n",
    "            if category in dict_tbo_categories['onepiece']:\n",
    "                item_info['tbo'].add('onepiece')\n",
    "        if len(item_info['tbo']) == tbo_num_to_print:\n",
    "            name_first_word = item_info['name'].split()[0]\n",
    "            set_name_first_word.add(name_first_word)\n",
    "    print \"set_name_first_word:\", set_name_first_word "
   ]
  },
  {
   "cell_type": "code",
   "execution_count": 88,
   "metadata": {},
   "outputs": [
    {
     "name": "stdout",
     "output_type": "stream",
     "text": [
      "set_name_first_word: set(['Hooded', 'Long', 'Maxi', 'Circle', 'Cr\\xc3\\xaape', 'Pencil', 'Knee-length', 'Fine-knit', 'T-shirt', 'Fitted', 'V-neck', 'Striped', 'Short', 'Tunic', 'Sleeveless', 'Ribbed', 'Lyocell', 'Lyocell-blend', 'Jersey', 'Long-sleeved', 'Strapless', 'Chiffon', 'Embroidered', 'Sweatshirt', 'Jumpsuit', 'Short-sleeved', 'Cotton'])\n"
     ]
    }
   ],
   "source": [
    "print_categories_with_tbo_num_for_name_first_word(2)"
   ]
  },
  {
   "cell_type": "markdown",
   "metadata": {},
   "source": [
    "__My conclusion__: ignore the items with more than one TBO categries."
   ]
  }
 ],
 "metadata": {
  "kernelspec": {
   "display_name": "Python 2",
   "language": "python",
   "name": "python2"
  },
  "language_info": {
   "codemirror_mode": {
    "name": "ipython",
    "version": 2
   },
   "file_extension": ".py",
   "mimetype": "text/x-python",
   "name": "python",
   "nbconvert_exporter": "python",
   "pygments_lexer": "ipython2",
   "version": "2.7.13"
  }
 },
 "nbformat": 4,
 "nbformat_minor": 2
}
