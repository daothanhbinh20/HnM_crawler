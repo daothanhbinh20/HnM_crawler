{
 "cells": [
  {
   "cell_type": "markdown",
   "metadata": {},
   "source": [
    "# 1. Add the TBO category"
   ]
  },
  {
   "cell_type": "code",
   "execution_count": 1,
   "metadata": {
    "collapsed": true
   },
   "outputs": [],
   "source": [
    "from interface import *"
   ]
  },
  {
   "cell_type": "code",
   "execution_count": 2,
   "metadata": {
    "collapsed": true
   },
   "outputs": [],
   "source": [
    "dict_tbo_categories = import_tbo_categories()"
   ]
  },
  {
   "cell_type": "code",
   "execution_count": 3,
   "metadata": {
    "collapsed": true
   },
   "outputs": [],
   "source": [
    "pf = open('pickle_data/dict_all_items_info.p', 'rb')\n",
    "dict_items_info = pickle.load(pf)\n",
    "pf.close()"
   ]
  },
  {
   "cell_type": "code",
   "execution_count": 4,
   "metadata": {
    "collapsed": true
   },
   "outputs": [],
   "source": [
    "def get_categories(item_info):\n",
    "    metricCategoryID = item_info['metricCategoryID']\n",
    "    # Delete the first and last strings\n",
    "    categories = metricCategoryID.split('_')[1:-1]\n",
    "    return categories"
   ]
  },
  {
   "cell_type": "code",
   "execution_count": 5,
   "metadata": {},
   "outputs": [
    {
     "name": "stdout",
     "output_type": "stream",
     "text": [
      "count items with 1 TBO: 5081\n",
      "len(dict_items_info): 5081\n"
     ]
    }
   ],
   "source": [
    "set_tbo = set()\n",
    "count = 0\n",
    "serials_to_delete = []\n",
    "for serial in dict_items_info:\n",
    "    categories = get_categories(dict_items_info[serial])\n",
    "    for category in categories:\n",
    "        if category in dict_tbo_categories['top']:\n",
    "            set_tbo.add('top')\n",
    "        if category in dict_tbo_categories['bottom']:\n",
    "            set_tbo.add('bottom')\n",
    "        if category in dict_tbo_categories['onepiece']:\n",
    "            set_tbo.add('onepiece')\n",
    "    if len(set_tbo) == 1: # Dealing with items with only one TBO category.\n",
    "        dict_items_info[serial]['tbo'] = list(set_tbo)[0]\n",
    "        count = count + 1\n",
    "    else:\n",
    "        serials_to_delete.append(serial)\n",
    "    set_tbo.clear()\n",
    "print \"count items with 1 TBO:\", count\n",
    "\n",
    "for serial in serials_to_delete:\n",
    "    del dict_items_info[serial]\n",
    "\n",
    "print \"len(dict_items_info):\", len(dict_items_info)"
   ]
  },
  {
   "cell_type": "markdown",
   "metadata": {},
   "source": [
    "### Test"
   ]
  },
  {
   "cell_type": "code",
   "execution_count": 6,
   "metadata": {
    "collapsed": true
   },
   "outputs": [],
   "source": [
    "import random"
   ]
  },
  {
   "cell_type": "code",
   "execution_count": 10,
   "metadata": {
    "scrolled": true
   },
   "outputs": [
    {
     "data": {
      "text/plain": [
       "('68409-C',\n",
       " {'color': 'White',\n",
       "  'image': {'item': 'http://lp.hm.com/hmprod?set=key[source],value[/model/2017/E00 0511559 003 64 3437.jpg]&set=key[rotate],value[]&set=key[width],value[]&set=key[height],value[]&set=key[x],value[]&set=key[y],value[]&set=key[type],value[STILL_LIFE_FRONT]&set=key[hmver],value[1]&call=url[file:/product/large]',\n",
       "   'model': 'http://lp.hm.com/hmprod?set=key[source],value[/environment/2017/8PZ_0478_012R.jpg]&set=key[rotate],value[0]&set=key[width],value[4046]&set=key[height],value[4731]&set=key[x],value[0]&set=key[y],value[-1]&set=key[type],value[FASHION_FRONT]&set=key[hmver],value[0]&call=url[file:/product/large]'},\n",
       "  'metricCategoryID': 'LADIES_TOPS_VESTS_SLEEVELESS_W102',\n",
       "  'name': 'One-shoulder Top',\n",
       "  'tbo': 'top',\n",
       "  'url': 'http://www.hm.com/us/product/68409?article=68409-C',\n",
       "  'who': 'Women'})"
      ]
     },
     "execution_count": 10,
     "metadata": {},
     "output_type": "execute_result"
    }
   ],
   "source": [
    "random.choice(dict_items_info.items())"
   ]
  },
  {
   "cell_type": "markdown",
   "metadata": {},
   "source": [
    "### Serialization"
   ]
  },
  {
   "cell_type": "code",
   "execution_count": 11,
   "metadata": {
    "collapsed": true
   },
   "outputs": [],
   "source": [
    "import pickle\n",
    "f = open('pickle_data/dict_items_info_with_tbo.p', 'wb')\n",
    "pickle.dump(dict_items_info, f)\n",
    "f.close()"
   ]
  },
  {
   "cell_type": "markdown",
   "metadata": {},
   "source": [
    "# 2. Count how many items to extract"
   ]
  },
  {
   "cell_type": "code",
   "execution_count": 12,
   "metadata": {
    "collapsed": true
   },
   "outputs": [],
   "source": [
    "from interface import *"
   ]
  },
  {
   "cell_type": "code",
   "execution_count": 13,
   "metadata": {
    "collapsed": true
   },
   "outputs": [],
   "source": [
    "dict_tbo_categories = import_tbo_categories()"
   ]
  },
  {
   "cell_type": "code",
   "execution_count": 14,
   "metadata": {
    "collapsed": true
   },
   "outputs": [],
   "source": [
    "def count_has_in(categories, dict_items_info, who):\n",
    "    # who: 'Women', or 'Men'\n",
    "    count = 0\n",
    "    for serial in dict_items_info:\n",
    "        if who != dict_items_info[serial]['who']:\n",
    "            continue\n",
    "        metricCategoryID = dict_items_info[serial]['metricCategoryID']\n",
    "        # Delete the first and last strings\n",
    "        metricCategories = metricCategoryID.split('_')[1:-1]\n",
    "        for category in categories:\n",
    "            if category in metricCategories:\n",
    "                count = count + 1\n",
    "                break\n",
    "    return count"
   ]
  },
  {
   "cell_type": "markdown",
   "metadata": {},
   "source": [
    "### Women"
   ]
  },
  {
   "cell_type": "code",
   "execution_count": 15,
   "metadata": {
    "scrolled": true
   },
   "outputs": [
    {
     "name": "stdout",
     "output_type": "stream",
     "text": [
      "3690\n"
     ]
    }
   ],
   "source": [
    "tbo_categories = dict_tbo_categories['top'] + dict_tbo_categories['bottom'] + dict_tbo_categories['onepiece']\n",
    "women = count_has_in(tbo_categories, dict_items_info, 'Women') \n",
    "print women"
   ]
  },
  {
   "cell_type": "markdown",
   "metadata": {},
   "source": [
    "### Men"
   ]
  },
  {
   "cell_type": "code",
   "execution_count": 16,
   "metadata": {
    "scrolled": true
   },
   "outputs": [
    {
     "name": "stdout",
     "output_type": "stream",
     "text": [
      "1391\n"
     ]
    }
   ],
   "source": [
    "men = count_has_in(tbo_categories, dict_items_info, 'Men')\n",
    "print men"
   ]
  },
  {
   "cell_type": "markdown",
   "metadata": {},
   "source": [
    "### Women + Men"
   ]
  },
  {
   "cell_type": "code",
   "execution_count": 17,
   "metadata": {},
   "outputs": [
    {
     "name": "stdout",
     "output_type": "stream",
     "text": [
      "5081\n"
     ]
    }
   ],
   "source": [
    "print men + women"
   ]
  },
  {
   "cell_type": "markdown",
   "metadata": {},
   "source": [
    "### Women Top"
   ]
  },
  {
   "cell_type": "code",
   "execution_count": 18,
   "metadata": {
    "scrolled": true
   },
   "outputs": [
    {
     "name": "stdout",
     "output_type": "stream",
     "text": [
      "1873\n"
     ]
    }
   ],
   "source": [
    "women_top = count_has_in(dict_tbo_categories['top'], dict_items_info, 'Women')\n",
    "print women_top"
   ]
  },
  {
   "cell_type": "markdown",
   "metadata": {},
   "source": [
    "### Men Top"
   ]
  },
  {
   "cell_type": "code",
   "execution_count": 19,
   "metadata": {},
   "outputs": [
    {
     "name": "stdout",
     "output_type": "stream",
     "text": [
      "922\n"
     ]
    }
   ],
   "source": [
    "men_top = count_has_in(dict_tbo_categories['top'], dict_items_info, 'Men')\n",
    "print men_top"
   ]
  },
  {
   "cell_type": "markdown",
   "metadata": {},
   "source": [
    "### Women Top + Men Top"
   ]
  },
  {
   "cell_type": "code",
   "execution_count": 20,
   "metadata": {},
   "outputs": [
    {
     "name": "stdout",
     "output_type": "stream",
     "text": [
      "2795\n"
     ]
    }
   ],
   "source": [
    "print women_top + men_top"
   ]
  },
  {
   "cell_type": "markdown",
   "metadata": {},
   "source": [
    "### Women Bottom"
   ]
  },
  {
   "cell_type": "code",
   "execution_count": 21,
   "metadata": {
    "scrolled": true
   },
   "outputs": [
    {
     "name": "stdout",
     "output_type": "stream",
     "text": [
      "994\n"
     ]
    }
   ],
   "source": [
    "women_bottom = count_has_in(dict_tbo_categories['bottom'], dict_items_info, 'Women')\n",
    "print women_bottom"
   ]
  },
  {
   "cell_type": "markdown",
   "metadata": {},
   "source": [
    "### Men Bottom"
   ]
  },
  {
   "cell_type": "code",
   "execution_count": 22,
   "metadata": {},
   "outputs": [
    {
     "name": "stdout",
     "output_type": "stream",
     "text": [
      "469\n"
     ]
    }
   ],
   "source": [
    "men_bottom = count_has_in(dict_tbo_categories['bottom'], dict_items_info, 'Men')\n",
    "print men_bottom"
   ]
  },
  {
   "cell_type": "markdown",
   "metadata": {},
   "source": [
    "### Women Bottom + Men Bottom"
   ]
  },
  {
   "cell_type": "code",
   "execution_count": 23,
   "metadata": {},
   "outputs": [
    {
     "name": "stdout",
     "output_type": "stream",
     "text": [
      "1463\n"
     ]
    }
   ],
   "source": [
    "print women_bottom + men_bottom"
   ]
  },
  {
   "cell_type": "markdown",
   "metadata": {},
   "source": [
    "### Women Onepiece"
   ]
  },
  {
   "cell_type": "code",
   "execution_count": 24,
   "metadata": {
    "scrolled": false
   },
   "outputs": [
    {
     "name": "stdout",
     "output_type": "stream",
     "text": [
      "823\n"
     ]
    }
   ],
   "source": [
    "women_onepiece = count_has_in(dict_tbo_categories['onepiece'], dict_items_info, 'Women')\n",
    "print women_onepiece"
   ]
  },
  {
   "cell_type": "markdown",
   "metadata": {},
   "source": [
    "### Men Onepiece"
   ]
  },
  {
   "cell_type": "code",
   "execution_count": 25,
   "metadata": {
    "scrolled": true
   },
   "outputs": [
    {
     "name": "stdout",
     "output_type": "stream",
     "text": [
      "0\n"
     ]
    }
   ],
   "source": [
    "men_onepiece = count_has_in(dict_tbo_categories['onepiece'], dict_items_info, 'Men')\n",
    "print men_onepiece"
   ]
  },
  {
   "cell_type": "markdown",
   "metadata": {},
   "source": [
    "### Women Onepiece + Men Onepiece"
   ]
  },
  {
   "cell_type": "code",
   "execution_count": 26,
   "metadata": {},
   "outputs": [
    {
     "name": "stdout",
     "output_type": "stream",
     "text": [
      "823\n"
     ]
    }
   ],
   "source": [
    "print women_onepiece + men_onepiece"
   ]
  },
  {
   "cell_type": "markdown",
   "metadata": {},
   "source": [
    "### Check"
   ]
  },
  {
   "cell_type": "code",
   "execution_count": 27,
   "metadata": {},
   "outputs": [
    {
     "data": {
      "text/plain": [
       "True"
      ]
     },
     "execution_count": 27,
     "metadata": {},
     "output_type": "execute_result"
    }
   ],
   "source": [
    "women == (women_top + women_bottom + women_onepiece)"
   ]
  },
  {
   "cell_type": "code",
   "execution_count": 28,
   "metadata": {},
   "outputs": [
    {
     "data": {
      "text/plain": [
       "True"
      ]
     },
     "execution_count": 28,
     "metadata": {},
     "output_type": "execute_result"
    }
   ],
   "source": [
    "men == (men_top + men_bottom + men_onepiece)"
   ]
  },
  {
   "cell_type": "markdown",
   "metadata": {},
   "source": [
    "### Result\n",
    "* The number of items in the TBO categories: 5081 (Women: 3690, Men: 1391) (5-11\\_category\\_analysis\\_for\\_all\\_items.ipynb)\n",
    "  * The number of tops: 2795 (Women: 1873, Men: 922)\n",
    "  * The number of bottoms: 1463 (Women: 994, Men: 469)\n",
    "  * The number of onepieces: 823 (Women: 823, Men: 0)"
   ]
  }
 ],
 "metadata": {
  "kernelspec": {
   "display_name": "Python 2",
   "language": "python",
   "name": "python2"
  },
  "language_info": {
   "codemirror_mode": {
    "name": "ipython",
    "version": 2
   },
   "file_extension": ".py",
   "mimetype": "text/x-python",
   "name": "python",
   "nbconvert_exporter": "python",
   "pygments_lexer": "ipython2",
   "version": "2.7.13"
  }
 },
 "nbformat": 4,
 "nbformat_minor": 2
}
