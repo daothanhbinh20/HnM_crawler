{
 "cells": [
  {
   "cell_type": "code",
   "execution_count": 1,
   "metadata": {
    "collapsed": true
   },
   "outputs": [],
   "source": [
    "import urllib\n",
    "def get_metricCategoryID(url_item):\n",
    "    handle = urllib.urlopen(url_item)\n",
    "    html_gunk =  handle.read()\n",
    "    handle.close()\n",
    "    \n",
    "    idx_start = html_gunk.find(\"metricCategoryID\") + len('metricCategoryID\":\"')\n",
    "    idx_end = idx_start + html_gunk[idx_start:].find('\"')\n",
    "    \n",
    "    return html_gunk[idx_start:idx_end]"
   ]
  },
  {
   "cell_type": "code",
   "execution_count": 2,
   "metadata": {
    "collapsed": true
   },
   "outputs": [],
   "source": [
    "def check_outwear_category(metricCategoryID):\n",
    "    outwear_list = ['TOPS', 'SHIRTS', 'BLOUSES', 'DRESSES', 'JUMPSUITS', 'JEANS', 'PANTS', 'CARDIGANS', 'SWEATERS', 'HOODIES', \n",
    "               'SWEATSHIRTS', 'SHORTS', 'SKIRTS', 'JACKETS', 'COATS', 'BLAZERS']\n",
    "    for outwear in outwear_list:\n",
    "        if metricCategoryID.find(outwear) != -1:\n",
    "            return True\n",
    "    return False\n"
   ]
  },
  {
   "cell_type": "code",
   "execution_count": 3,
   "metadata": {
    "collapsed": true
   },
   "outputs": [],
   "source": [
    "def check_outwear(url_item):\n",
    "    return check_outwear_category(get_metricCategoryID(url_item))"
   ]
  },
  {
   "cell_type": "markdown",
   "metadata": {},
   "source": [
    "# Test"
   ]
  },
  {
   "cell_type": "code",
   "execution_count": 13,
   "metadata": {
    "collapsed": true
   },
   "outputs": [],
   "source": [
    "def test(url_item):\n",
    "    metricCategoryID = get_metricCategoryID(url_item)\n",
    "    print \"metricCategoryID:\", metricCategoryID\n",
    "    print \"Check outwear:\", check_outwear_category(get_metricCategoryID(url_item))"
   ]
  },
  {
   "cell_type": "markdown",
   "metadata": {},
   "source": [
    "# Women shoes"
   ]
  },
  {
   "cell_type": "code",
   "execution_count": 14,
   "metadata": {},
   "outputs": [
    {
     "name": "stdout",
     "output_type": "stream",
     "text": [
      "metricCategoryID: LADIES_SHOES_SANDALS_ESPADRILLES_W381\n",
      "Check outwear: False\n"
     ]
    }
   ],
   "source": [
    "test('http://www.hm.com/us/product/64141?article=64141-E')"
   ]
  },
  {
   "cell_type": "markdown",
   "metadata": {},
   "source": [
    "# Swim wear"
   ]
  },
  {
   "cell_type": "code",
   "execution_count": 15,
   "metadata": {},
   "outputs": [
    {
     "name": "stdout",
     "output_type": "stream",
     "text": [
      "metricCategoryID: LADIES_SWIMWEAR_BIKINI_W300\n",
      "Check outwear: False\n"
     ]
    }
   ],
   "source": [
    "test('http://www.hm.com/us/product/87520?article=87520-L')"
   ]
  },
  {
   "cell_type": "code",
   "execution_count": 16,
   "metadata": {},
   "outputs": [
    {
     "name": "stdout",
     "output_type": "stream",
     "text": [
      "metricCategoryID: LADIES_SWIMWEAR_BIKINI_W301\n",
      "Check outwear: False\n"
     ]
    }
   ],
   "source": [
    "test('http://www.hm.com/us/product/29442?article=29442-J')"
   ]
  },
  {
   "cell_type": "markdown",
   "metadata": {},
   "source": [
    "# Sweater"
   ]
  },
  {
   "cell_type": "code",
   "execution_count": 17,
   "metadata": {
    "scrolled": true
   },
   "outputs": [
    {
     "name": "stdout",
     "output_type": "stream",
     "text": [
      "metricCategoryID: LADIES_CARDIGANS_JUMPERS_JUMPERS_W029\n",
      "Check outwear: True\n"
     ]
    }
   ],
   "source": [
    "test('http://www.hm.com/us/product/68131?article=68131-A')"
   ]
  },
  {
   "cell_type": "markdown",
   "metadata": {},
   "source": [
    "# Accessories: sarong"
   ]
  },
  {
   "cell_type": "code",
   "execution_count": 18,
   "metadata": {},
   "outputs": [
    {
     "name": "stdout",
     "output_type": "stream",
     "text": [
      "metricCategoryID: LADIES_SWIMWEAR_BEACHWEAR_W361\n",
      "Check outwear: False\n"
     ]
    }
   ],
   "source": [
    "test('http://www.hm.com/us/product/69722?article=69722-A')"
   ]
  },
  {
   "cell_type": "markdown",
   "metadata": {},
   "source": [
    "# Accessories: sunglasses"
   ]
  },
  {
   "cell_type": "code",
   "execution_count": 19,
   "metadata": {},
   "outputs": [
    {
     "name": "stdout",
     "output_type": "stream",
     "text": [
      "metricCategoryID: LADIES_ACCESSORIES_SUN_W391\n",
      "Check outwear: False\n"
     ]
    }
   ],
   "source": [
    "test('http://www.hm.com/us/product/45001?article=45001-D')"
   ]
  },
  {
   "cell_type": "markdown",
   "metadata": {},
   "source": [
    "# Cap"
   ]
  },
  {
   "cell_type": "code",
   "execution_count": 20,
   "metadata": {
    "scrolled": true
   },
   "outputs": [
    {
     "name": "stdout",
     "output_type": "stream",
     "text": [
      "metricCategoryID: LADIES_ACCESSORIES_HATS_HATS_W350\n",
      "Check outwear: False\n"
     ]
    }
   ],
   "source": [
    "test('http://www.hm.com/us/product/52412?article=52412-G')"
   ]
  },
  {
   "cell_type": "markdown",
   "metadata": {},
   "source": [
    "# Bag"
   ]
  },
  {
   "cell_type": "code",
   "execution_count": 21,
   "metadata": {
    "scrolled": true
   },
   "outputs": [
    {
     "name": "stdout",
     "output_type": "stream",
     "text": [
      "metricCategoryID: LADIES_ACCESSORIES_BAGS_HANDBAGS_W382\n",
      "Check outwear: False\n"
     ]
    }
   ],
   "source": [
    "test('http://www.hm.com/us/product/67140?article=67140-A')"
   ]
  },
  {
   "cell_type": "markdown",
   "metadata": {},
   "source": [
    "# Socks"
   ]
  },
  {
   "cell_type": "code",
   "execution_count": null,
   "metadata": {
    "collapsed": true
   },
   "outputs": [],
   "source": []
  }
 ],
 "metadata": {
  "kernelspec": {
   "display_name": "Python 2",
   "language": "python",
   "name": "python2"
  },
  "language_info": {
   "codemirror_mode": {
    "name": "ipython",
    "version": 2
   },
   "file_extension": ".py",
   "mimetype": "text/x-python",
   "name": "python",
   "nbconvert_exporter": "python",
   "pygments_lexer": "ipython2",
   "version": "2.7.13"
  }
 },
 "nbformat": 4,
 "nbformat_minor": 2
}
