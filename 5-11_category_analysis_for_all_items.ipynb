{
 "cells": [
  {
   "cell_type": "markdown",
   "metadata": {},
   "source": [
    "# 1. Import the meta data of items"
   ]
  },
  {
   "cell_type": "code",
   "execution_count": 183,
   "metadata": {
    "collapsed": true
   },
   "outputs": [],
   "source": [
    "import pickle\n",
    "f = open('pickle_data/dict_all_items_info.p', 'rb')\n",
    "dict_items_info = pickle.load(f)\n",
    "f.close()"
   ]
  },
  {
   "cell_type": "code",
   "execution_count": 184,
   "metadata": {},
   "outputs": [
    {
     "data": {
      "text/plain": [
       "8464"
      ]
     },
     "execution_count": 184,
     "metadata": {},
     "output_type": "execute_result"
    }
   ],
   "source": [
    "len(dict_items_info)"
   ]
  },
  {
   "cell_type": "code",
   "execution_count": 3,
   "metadata": {},
   "outputs": [
    {
     "data": {
      "text/plain": [
       "('02779-Q',\n",
       " {'color': 'Black/patterned',\n",
       "  'image': {'item': 'http://lp.hm.com/hmprod?set=key[source],value[/model/2017/E00 0304576 020 14 3519.jpg]&set=key[rotate],value[]&set=key[width],value[]&set=key[height],value[]&set=key[x],value[]&set=key[y],value[]&set=key[type],value[STILL_LIFE_FRONT]&set=key[hmver],value[2]&call=url[file:/product/large]',\n",
       "   'model': 'http://lp.hm.com/hmprod?set=key[source],value[/environment/2017/8LZ_0375_006R.jpg]&set=key[rotate],value[0]&set=key[width],value[3771]&set=key[height],value[4409]&set=key[x],value[0]&set=key[y],value[-11]&set=key[type],value[FASHION_FRONT]&set=key[hmver],value[0]&call=url[file:/product/large]'},\n",
       "  'metricCategoryID': 'MEN_HM_MAN_TSHIRTS_VESTS_M226',\n",
       "  'name': 'T-shirt',\n",
       "  'url': 'http://www.hm.com/us/product/02779?article=02779-Q',\n",
       "  'who': 'Men'})"
      ]
     },
     "execution_count": 3,
     "metadata": {},
     "output_type": "execute_result"
    }
   ],
   "source": [
    "dict_items_info.items()[0]"
   ]
  },
  {
   "cell_type": "markdown",
   "metadata": {},
   "source": [
    "# 2. Digging all kinds of categories"
   ]
  },
  {
   "cell_type": "code",
   "execution_count": 4,
   "metadata": {
    "scrolled": true
   },
   "outputs": [
    {
     "name": "stdout",
     "output_type": "stream",
     "text": [
      "['HM', 'MAN', 'TSHIRTS', 'VESTS']\n",
      "['EVERYDAY', 'FASHION', 'DRESSES', 'JUMPSUITS']\n",
      "['CASUAL', 'HOODIES', 'SWEATSHIRTS']\n",
      "['DRESSES', 'JUMPSUITS', 'SHORT']\n",
      "['HM', 'MAN', 'TSHIRTS', 'VESTS']\n",
      "['TOPS', 'SHORT', 'SLEEVED']\n",
      "['HM', 'MAN', 'TSHIRTS', 'VESTS']\n",
      "['SHIRTS', 'BLOUSES', 'BLOUSES']\n",
      "['HM', 'MAN', 'TSHIRTS', 'VESTS']\n",
      "['HM', 'MAN', 'TSHIRTS', 'VESTS']\n"
     ]
    }
   ],
   "source": [
    "for serial in dict_items_info.keys()[0:10]:\n",
    "    metricCategoryID = dict_items_info[serial]['metricCategoryID']\n",
    "    # Delete the first and last strings\n",
    "    categories = metricCategoryID.split('_')[1:-1] # without the first and the last\n",
    "    print categories"
   ]
  },
  {
   "cell_type": "code",
   "execution_count": 5,
   "metadata": {},
   "outputs": [
    {
     "name": "stdout",
     "output_type": "stream",
     "text": [
      "set_category:\n",
      "set(['ACC', 'EYESHADOW', 'PADDED', 'TOWELS', 'BEACHWEAR', 'PERFUME', 'COATS', 'FRAGRANCE', 'EAUDETOILETTE', 'CARDIGANS', 'EVERYDAY', 'SPORTSWEAR', 'SLIPS', 'GLOVES', 'CONCEALER', 'SCRUB', 'NURSING', 'HANDBAGS', 'MOBILEACC', 'LONG', 'PLUS', 'DRESSING', 'MULTIPACK', 'SHAPING', 'FOUNDATION', 'LASHES', 'HANDS', 'PARTYDRESSES', 'SWIM', 'LIPS', 'MASCARA', 'TUNICS', 'SWEATSHIRT', 'PRIMER', 'LIPLINER', 'REMOVERS', 'LIMITED', 'LIPSTICK', 'CHINOS', 'STRAIGHT', 'BOOTS', 'NAILPOLISH', 'LINGERIE', 'SNEAKERS', 'JACKETS', 'BEDROOM', 'MODERN-CLASSICS', 'MAN', 'SHORT', 'BODYLOTIONS', 'HATS', 'TOPS', 'BRIEFS', 'BATH', 'SOCKS', 'SPONGES', 'HM', 'TIES', 'BATHROOM', 'PQ', 'HIGHLIGHTER', 'BLOUSES', 'FACEMASKS', 'SWEATSHIRTS', 'ROBES', 'DENIMSHORTS', 'PURSES', 'NAILCARE', 'REGULAR', 'CORSETS', 'PUSHUP', 'MATERNITY', 'APPLICATORS', 'JUMPERS', 'EYES', 'VESTS', 'BELTS', 'TURTLENECKS', 'KIMONOS', 'SCARVES', 'MODERNCLASSICS', 'BRONZER', 'JUMPSUITS', 'SWEATPANTS', 'HIPSTERS', 'SLEEVELESS', 'JEANS', 'WATCHES', 'CROPTOPS', 'BOXER', 'MAKEUPBAGS', 'BOTTOMS', 'SANDALS', 'SKIRTS', 'LIPGLOSS', 'EYEBROWS', 'THONGS', 'CONSCIOUS', 'SUN', 'SUITS', 'HAIR', 'SKINNYHIGH', 'BOMBERS', 'LEGGINGS', 'PONCHOS', 'MAKEUPTOOLS', 'SHAPE', 'PARKAS', 'FASHION', 'SKINNYLOW', 'ACCESSORIES', 'SWIMSUITS', 'EDITION', 'BIKINI', 'SUPERSKINNY', 'BRACELETS', 'NECKLACE', 'PUMPS', 'NIGHTWEAR', 'PYJAMAS', 'SHORTS', 'BLUSHER', 'RINGS', 'DIVIDED', 'SLIM', 'EYELINER', 'BODYCARE', 'WEAR', 'OTHERS', 'WIRE', 'BODYS', 'CARE', 'BAGS', 'BASICS', 'SKINNYREGULAR', 'BECKHAM', 'CLUTCH', 'TRAVEL', 'SWIMWEAR', 'BLAZERS', 'EARRINGS', 'HEELS', 'SKINNY', 'SOCKSTIGHTS', 'SUPERPUSH', 'BRA', 'MORE', 'BRUSHES', 'BALLERINAS', 'BOOTCUT', 'FEET', 'TSHIRT', 'SHIRTS', 'BASIC', 'GOWNS', 'CARDIGANSJUMPERS', 'CASUAL', 'JOGGERS', 'JUMPSUIT', 'ANKLEBOOTS1', 'SPORTSBRA', 'JEWELLERY', 'LOW', 'TIGHTS', 'NAILS', 'SHOWER', 'MORESKINNY', 'FLARE', 'CREAMS', 'SOFT', 'SLIPPERS', 'UNDERWEAR', 'BEAUTY', 'DRESSED', 'TROUSERS', 'SKINCARE', 'OTHER', 'FLATS', 'LIPBALM', 'DRESSES', 'SLEEVED', 'HOODIES', 'SHOES', 'MIDI', 'TSHIRTS', 'MAKEUPBRUSHES', 'LOOSE', 'FACE', 'PARTYWEAR', 'LOUNGEWEAR', 'ESPADRILLES', 'BALCONETTE', 'TOOLS', 'POWDER']) \n",
      "\n",
      "set_category_first:\n",
      "set(['TOPS', 'UNDERWEAR', 'TSHIRT', 'SHIRTS', 'HM', 'CARDIGANS', 'EVERYDAY', 'SPORTSWEAR', 'BATHROOM', 'ACCESSORIES', 'CASUAL', 'PARTYWEAR', 'JUMPERS', 'NIGHTWEAR', 'BEAUTY', 'SHORTS', 'DIVIDED', 'BEDROOM', 'MODERNCLASSICS', 'DRESSES', 'BASICS', 'HOODIES', 'SHOES', 'JEANS', 'SWIMWEAR', 'BLAZERS', 'LINGERIE', 'MATERNITY', 'MODERN-CLASSICS', 'JACKETS', 'TROUSERS', 'SKIRTS']) \n",
      "\n",
      "set_category_last:\n",
      "set(['ACC', 'EYESHADOW', 'BEACHWEAR', 'PERFUME', 'COATS', 'CARDIGANS', 'MAKEUPBRUSHES', 'SCRUB', 'NURSING', 'HANDBAGS', 'MOBILEACC', 'LONG', 'MULTIPACK', 'SHAPING', 'LASHES', 'PARTYDRESSES', 'SWIM', 'POWDER', 'TUNICS', 'SWEATSHIRT', 'PRIMER', 'LIPLINER', 'REMOVERS', 'PADDED', 'LIPSTICK', 'CHINOS', 'STRAIGHT', 'SOCKS', 'NAILPOLISH', 'REGULAR', 'SNEAKERS', 'JACKETS', 'BOOTCUT', 'SHORT', 'HATS', 'RINGS', 'BRIEFS', 'BATH', 'BOOTS', 'TIES', 'BATHROOM', 'PQ', 'BLOUSES', 'FACEMASKS', 'SWEATSHIRTS', 'ROBES', 'PURSES', 'THONGS', 'CORSETS', 'PUSHUP', 'GLOVES', 'APPLICATORS', 'JUMPERS', 'VESTS', 'BELTS', 'TURTLENECKS', 'SCARVES', 'DENIMSHORTS', 'SWEATPANTS', 'HIPSTERS', 'SLEEVELESS', 'JEANS', 'WATCHES', 'CROPTOPS', 'BOXER', 'BOTTOMS', 'SKIRTS', 'LIPGLOSS', 'EYEBROWS', 'CONSCIOUS', 'SUN', 'HAIR', 'SKINNYHIGH', 'BOMBERS', 'LEGGINGS', 'FLATS', 'SHAPE', 'PARKAS', 'SKINNYLOW', 'ACCESSORIES', 'SWIMSUITS', 'EDITION', 'BIKINI', 'SUPERSKINNY', 'BRACELETS', 'NECKLACE', 'JUMPSUITS', 'NIGHTWEAR', 'PYJAMAS', 'SHORTS', 'BLUSHER', 'TOPS', 'DIVIDED', 'SLIM', 'EYELINER', 'OTHERS', 'WIRE', 'CARE', 'BAGS', 'BASICS', 'SKINNYREGULAR', 'BECKHAM', 'CLUTCH', 'TRAVEL', 'SWIMWEAR', 'BLAZERS', 'EARRINGS', 'HEELS', 'SKINNY', 'SOCKSTIGHTS', 'SUPERPUSH', 'LOW', 'PONCHOS', 'FEET', 'SHIRTS', 'BASIC', 'GOWNS', 'CARDIGANSJUMPERS', 'CASUAL', 'JUMPSUIT', 'ANKLEBOOTS1', 'SPORTSBRA', 'JEWELLERY', 'TIGHTS', 'MORESKINNY', 'FLARE', 'CREAMS', 'SOFT', 'SLIPPERS', 'UNDERWEAR', 'HIGHLIGHTER', 'DRESSED', 'TROUSERS', 'OTHER', 'MAKEUPTOOLS', 'DRESSES', 'LINGERIE', 'SLEEVED', 'HOODIES', 'SHOES', 'MIDI', 'LOOSE', 'LOUNGEWEAR', 'ESPADRILLES', 'BALCONETTE']) \n",
      "\n"
     ]
    }
   ],
   "source": [
    "set_category = set()\n",
    "set_category_first = set()\n",
    "set_category_last = set()\n",
    "for serial in dict_items_info:\n",
    "    metricCategoryID = dict_items_info[serial]['metricCategoryID']\n",
    "    # Delete the first and last strings\n",
    "    categories = metricCategoryID.split('_')[1:-1]\n",
    "    set_category_first.add(categories[0])\n",
    "    set_category_last.add(categories[-1])\n",
    "    for category in categories:\n",
    "        set_category.add(category)\n",
    "print \"set_category:\\n\", set_category, '\\n'\n",
    "print \"set_category_first:\\n\", set_category_first, '\\n'\n",
    "print \"set_category_last:\\n\", set_category_last, '\\n'"
   ]
  },
  {
   "cell_type": "markdown",
   "metadata": {},
   "source": [
    "### Find inclusive or independent categories"
   ]
  },
  {
   "cell_type": "code",
   "execution_count": 6,
   "metadata": {
    "collapsed": true
   },
   "outputs": [],
   "source": [
    "def get_supersets(category):\n",
    "    is_first_iter = True\n",
    "    supersets = set()\n",
    "    for serial in dict_items_info:\n",
    "        metricCategoryID = dict_items_info[serial]['metricCategoryID']\n",
    "        # Delete the first and last strings\n",
    "        categories = metricCategoryID.split('_')[1:-1]\n",
    "        if category in categories:\n",
    "            if is_first_iter:\n",
    "                supersets = set(categories)\n",
    "                is_first_iter = False\n",
    "            else:\n",
    "                supersets = supersets.intersection(categories)\n",
    "    return supersets"
   ]
  },
  {
   "cell_type": "code",
   "execution_count": 7,
   "metadata": {
    "collapsed": true
   },
   "outputs": [],
   "source": [
    "def get_proper_supersets(category):\n",
    "    is_first_iter = True\n",
    "    supersets = set()\n",
    "    for serial in dict_items_info:\n",
    "        metricCategoryID = dict_items_info[serial]['metricCategoryID']\n",
    "        # Delete the first and last strings\n",
    "        categories = metricCategoryID.split('_')[1:-1]\n",
    "        if category in categories:\n",
    "            if is_first_iter:\n",
    "                supersets = set(categories)\n",
    "                is_first_iter = False\n",
    "            else:\n",
    "                supersets = supersets.intersection(categories)\n",
    "    return supersets.difference(set({category}))"
   ]
  },
  {
   "cell_type": "code",
   "execution_count": 8,
   "metadata": {},
   "outputs": [
    {
     "data": {
      "text/plain": [
       "{'LEGGINGS'}"
      ]
     },
     "execution_count": 8,
     "metadata": {},
     "output_type": "execute_result"
    }
   ],
   "source": [
    "get_supersets('LEGGINGS')"
   ]
  },
  {
   "cell_type": "code",
   "execution_count": 9,
   "metadata": {
    "scrolled": false
   },
   "outputs": [
    {
     "data": {
      "text/plain": [
       "set()"
      ]
     },
     "execution_count": 9,
     "metadata": {},
     "output_type": "execute_result"
    }
   ],
   "source": [
    "get_proper_supersets('LEGGINGS')"
   ]
  },
  {
   "cell_type": "code",
   "execution_count": 10,
   "metadata": {
    "scrolled": true
   },
   "outputs": [
    {
     "name": "stdout",
     "output_type": "stream",
     "text": [
      "category: ACC\n",
      "category: SPORTSWEAR\n",
      "category: LONG\n",
      "category: TUNICS\n",
      "category: LINGERIE\n",
      "category: JACKETS\n",
      "category: MODERN-CLASSICS\n",
      "category: SHORT\n",
      "category: TOPS\n",
      "category: BATH\n",
      "category: SOCKS\n",
      "category: HM\n",
      "category: BATHROOM\n",
      "category: PQ\n",
      "category: VESTS\n",
      "category: MODERNCLASSICS\n",
      "category: JEANS\n",
      "category: BOTTOMS\n",
      "category: SKIRTS\n",
      "category: SUITS\n",
      "category: HAIR\n",
      "category: LEGGINGS\n",
      "category: ACCESSORIES\n",
      "category: NIGHTWEAR\n",
      "category: SHORTS\n",
      "category: DIVIDED\n",
      "category: SLIM\n",
      "category: BASICS\n",
      "category: SWIMWEAR\n",
      "category: BLAZERS\n",
      "category: TSHIRT\n",
      "category: SHIRTS\n",
      "category: CASUAL\n",
      "category: JUMPSUIT\n",
      "category: TIGHTS\n",
      "category: UNDERWEAR\n",
      "category: BEAUTY\n",
      "category: DRESSED\n",
      "category: TROUSERS\n",
      "category: DRESSES\n",
      "category: SLEEVED\n",
      "category: HOODIES\n",
      "category: SHOES\n",
      "category: MIDI\n",
      "category: LOOSE\n",
      "category: PARTYWEAR\n"
     ]
    }
   ],
   "source": [
    "# print the superset categories\n",
    "superset_categories = []\n",
    "for category in set_category:\n",
    "    supersets = get_supersets(category)\n",
    "    if len(supersets) == 1:\n",
    "        print \"category:\", category\n",
    "        superset_categories.append(category)"
   ]
  },
  {
   "cell_type": "code",
   "execution_count": 11,
   "metadata": {},
   "outputs": [
    {
     "name": "stdout",
     "output_type": "stream",
     "text": [
      "['ACC', 'SPORTSWEAR', 'LONG', 'TUNICS', 'LINGERIE', 'JACKETS', 'MODERN-CLASSICS', 'SHORT', 'TOPS', 'BATH', 'SOCKS', 'HM', 'BATHROOM', 'PQ', 'VESTS', 'MODERNCLASSICS', 'JEANS', 'BOTTOMS', 'SKIRTS', 'SUITS', 'HAIR', 'LEGGINGS', 'ACCESSORIES', 'NIGHTWEAR', 'SHORTS', 'DIVIDED', 'SLIM', 'BASICS', 'SWIMWEAR', 'BLAZERS', 'TSHIRT', 'SHIRTS', 'CASUAL', 'JUMPSUIT', 'TIGHTS', 'UNDERWEAR', 'BEAUTY', 'DRESSED', 'TROUSERS', 'DRESSES', 'SLEEVED', 'HOODIES', 'SHOES', 'MIDI', 'LOOSE', 'PARTYWEAR']\n"
     ]
    }
   ],
   "source": [
    "print superset_categories"
   ]
  },
  {
   "cell_type": "markdown",
   "metadata": {},
   "source": [
    "### Analzing categories"
   ]
  },
  {
   "cell_type": "code",
   "execution_count": 12,
   "metadata": {
    "collapsed": true
   },
   "outputs": [],
   "source": [
    "def print_has(category, max_items):\n",
    "    count = 0\n",
    "    for serial in dict_items_info:\n",
    "        metricCategoryID = dict_items_info[serial]['metricCategoryID']\n",
    "        # Delete the first and last strings\n",
    "        categories = metricCategoryID.split('_')[1:-1]\n",
    "        if category in categories:\n",
    "            print categories\n",
    "            print dict_items_info[serial]['url']\n",
    "            count = count + 1\n",
    "            if count == max_items:\n",
    "                return"
   ]
  },
  {
   "cell_type": "code",
   "execution_count": 13,
   "metadata": {},
   "outputs": [
    {
     "name": "stdout",
     "output_type": "stream",
     "text": [
      "['SHIRTS', 'BLOUSES', 'TUNICS']\n",
      "http://www.hm.com/us/product/67068?article=67068-C\n",
      "['SHIRTS', 'BLOUSES', 'TUNICS']\n",
      "http://www.hm.com/us/product/67282?article=67282-A\n",
      "['HM', 'PLUS', 'TUNICS']\n",
      "http://www.hm.com/us/product/64818?article=64818-A\n",
      "['HM', 'PLUS', 'TUNICS']\n",
      "http://www.hm.com/us/product/68210?article=68210-C\n",
      "['HM', 'PLUS', 'TUNICS']\n",
      "http://www.hm.com/us/product/68210?article=68210-B\n",
      "['HM', 'PLUS', 'TUNICS']\n",
      "http://www.hm.com/us/product/68210?article=68210-A\n",
      "['HM', 'PLUS', 'TUNICS']\n",
      "http://www.hm.com/us/product/60300?article=60300-A\n",
      "['HM', 'PLUS', 'TUNICS']\n",
      "http://www.hm.com/us/product/60318?article=60318-A\n",
      "['SHIRTS', 'BLOUSES', 'TUNICS']\n",
      "http://www.hm.com/us/product/63837?article=63837-A\n",
      "['SHIRTS', 'BLOUSES', 'TUNICS']\n",
      "http://www.hm.com/us/product/67416?article=67416-C\n"
     ]
    }
   ],
   "source": [
    "print_has('TUNICS', 10)"
   ]
  },
  {
   "cell_type": "markdown",
   "metadata": {},
   "source": [
    "* 'TUNICS' is a one-piece style."
   ]
  },
  {
   "cell_type": "code",
   "execution_count": 14,
   "metadata": {
    "scrolled": true
   },
   "outputs": [
    {
     "name": "stdout",
     "output_type": "stream",
     "text": [
      "['DRESSES', 'JUMPSUITS', 'SHORT']\n",
      "http://www.hm.com/us/product/68527?article=68527-A\n",
      "['TOPS', 'SHORT', 'SLEEVED']\n",
      "http://www.hm.com/us/product/71495?article=71495-A\n",
      "['SKIRTS', 'SHORT']\n",
      "http://www.hm.com/us/product/58714?article=58714-A\n",
      "['TSHIRT', 'SHORT', 'SLEEVED']\n",
      "http://www.hm.com/us/product/71844?article=71844-A\n",
      "['TSHIRT', 'SHORT', 'SLEEVED']\n",
      "http://www.hm.com/us/product/71844?article=71844-B\n",
      "['SKIRTS', 'SHORT']\n",
      "http://www.hm.com/us/product/65377?article=65377-A\n",
      "['TOPS', 'SHORT', 'SLEEVED']\n",
      "http://www.hm.com/us/product/43558?article=43558-G\n",
      "['TOPS', 'SHORT', 'SLEEVED']\n",
      "http://www.hm.com/us/product/43558?article=43558-F\n",
      "['TOPS', 'SHORT', 'SLEEVED']\n",
      "http://www.hm.com/us/product/63058?article=63058-G\n",
      "['DRESSES', 'JUMPSUITS', 'SHORT']\n",
      "http://www.hm.com/us/product/66963?article=66963-A\n"
     ]
    }
   ],
   "source": [
    "print_has('SHORT', 10)"
   ]
  },
  {
   "cell_type": "code",
   "execution_count": 15,
   "metadata": {},
   "outputs": [
    {
     "name": "stdout",
     "output_type": "stream",
     "text": [
      "['DIVIDED', 'TROUSERS', 'SHORTS']\n",
      "http://www.hm.com/us/product/29578?article=29578-I\n",
      "['DIVIDED', 'TROUSERS', 'SHORTS']\n",
      "http://www.hm.com/us/product/68328?article=68328-D\n",
      "['DIVIDED', 'TROUSERS', 'SHORTS']\n",
      "http://www.hm.com/us/product/68328?article=68328-B\n",
      "['DIVIDED', 'TROUSERS', 'SHORTS']\n",
      "http://www.hm.com/us/product/68328?article=68328-A\n",
      "['SHORTS', 'OTHERS']\n",
      "http://www.hm.com/us/product/44065?article=44065-D\n",
      "['SHORTS', 'OTHERS']\n",
      "http://www.hm.com/us/product/65973?article=65973-D\n",
      "['SHORTS', 'OTHERS']\n",
      "http://www.hm.com/us/product/65973?article=65973-C\n",
      "['SHORTS', 'OTHERS']\n",
      "http://www.hm.com/us/product/65973?article=65973-A\n",
      "['SHORTS', 'DENIMSHORTS']\n",
      "http://www.hm.com/us/product/71210?article=71210-A\n",
      "['EVERYDAY', 'FASHION', 'SHORTS']\n",
      "http://www.hm.com/us/product/69045?article=69045-A\n"
     ]
    }
   ],
   "source": [
    "print_has('SHORTS', 10)"
   ]
  },
  {
   "cell_type": "markdown",
   "metadata": {},
   "source": [
    "* 'SHORT' is a style, and 'SHORTS' is a bottom."
   ]
  },
  {
   "cell_type": "code",
   "execution_count": 16,
   "metadata": {},
   "outputs": [
    {
     "name": "stdout",
     "output_type": "stream",
     "text": [
      "['SHOES', 'PQ']\n",
      "http://www.hm.com/us/product/49302?article=49302-B\n",
      "['SHOES', 'PQ']\n",
      "http://www.hm.com/us/product/61758?article=61758-A\n",
      "['SHOES', 'PQ']\n",
      "http://www.hm.com/us/product/61758?article=61758-C\n",
      "['SHOES', 'PQ']\n",
      "http://www.hm.com/us/product/62386?article=62386-A\n",
      "['SHOES', 'PQ']\n",
      "http://www.hm.com/us/product/62386?article=62386-B\n",
      "['ACCESSORIES', 'PQ']\n",
      "http://www.hm.com/us/product/38523?article=38523-C\n",
      "['SHOES', 'PQ']\n",
      "http://www.hm.com/us/product/30123?article=30123-B\n",
      "['SHOES', 'PQ']\n",
      "http://www.hm.com/us/product/30123?article=30123-A\n",
      "['SHOES', 'PQ']\n",
      "http://www.hm.com/us/product/63389?article=63389-A\n",
      "['ACCESSORIES', 'PQ']\n",
      "http://www.hm.com/us/product/66243?article=66243-A\n"
     ]
    }
   ],
   "source": [
    "print_has('PQ',10)"
   ]
  },
  {
   "cell_type": "markdown",
   "metadata": {},
   "source": [
    "* 'PQ' means 'Premium Quality'."
   ]
  },
  {
   "cell_type": "code",
   "execution_count": 17,
   "metadata": {
    "scrolled": true
   },
   "outputs": [
    {
     "name": "stdout",
     "output_type": "stream",
     "text": [
      "['HM', 'MAN', 'TSHIRTS', 'VESTS']\n",
      "http://www.hm.com/us/product/02779?article=02779-Q\n",
      "['HM', 'MAN', 'TSHIRTS', 'VESTS']\n",
      "http://www.hm.com/us/product/02779?article=02779-P\n",
      "['HM', 'MAN', 'TSHIRTS', 'VESTS']\n",
      "http://www.hm.com/us/product/02779?article=02779-K\n",
      "['HM', 'MAN', 'TSHIRTS', 'VESTS']\n",
      "http://www.hm.com/us/product/02779?article=02779-L\n",
      "['HM', 'MAN', 'TSHIRTS', 'VESTS']\n",
      "http://www.hm.com/us/product/02779?article=02779-N\n",
      "['TOPS', 'VESTS', 'SLEEVELESS']\n",
      "http://www.hm.com/us/product/48064?article=48064-R\n",
      "['TOPS', 'VESTS', 'SLEEVELESS']\n",
      "http://www.hm.com/us/product/48064?article=48064-N\n",
      "['TSHIRT', 'VESTS']\n",
      "http://www.hm.com/us/product/67985?article=67985-A\n",
      "['TOPS', 'VESTS', 'SLEEVELESS']\n",
      "http://www.hm.com/us/product/67594?article=67594-A\n",
      "['TOPS', 'VESTS', 'SLEEVELESS']\n",
      "http://www.hm.com/us/product/70014?article=70014-A\n"
     ]
    }
   ],
   "source": [
    "print_has('VESTS',10)"
   ]
  },
  {
   "cell_type": "markdown",
   "metadata": {},
   "source": [
    "* 'VESTS' is either a top or a T-shirt."
   ]
  },
  {
   "cell_type": "code",
   "execution_count": 18,
   "metadata": {
    "scrolled": true
   },
   "outputs": [
    {
     "name": "stdout",
     "output_type": "stream",
     "text": [
      "['HM', 'MAN', 'SUITS', 'TROUSERS']\n",
      "http://www.hm.com/us/product/46504?article=46504-B\n",
      "['BLAZERS', 'SUITS', 'BLAZERS']\n",
      "http://www.hm.com/us/product/60546?article=60546-A\n",
      "['HM', 'MAN', 'SUITS', 'TROUSERS']\n",
      "http://www.hm.com/us/product/65249?article=65249-A\n",
      "['HM', 'MAN', 'SUITS', 'JACKETS']\n",
      "http://www.hm.com/us/product/43390?article=43390-A\n",
      "['BLAZERS', 'SUITS', 'BLAZERS']\n",
      "http://www.hm.com/us/product/64499?article=64499-A\n",
      "['BLAZERS', 'SUITS', 'BLAZERS']\n",
      "http://www.hm.com/us/product/60161?article=60161-A\n",
      "['BLAZERS', 'SUITS', 'BLAZERS']\n",
      "http://www.hm.com/us/product/58546?article=58546-A\n",
      "['BLAZERS', 'SUITS', 'BLAZERS']\n",
      "http://www.hm.com/us/product/65605?article=65605-A\n",
      "['HM', 'MAN', 'SUITS', 'TROUSERS']\n",
      "http://www.hm.com/us/product/48222?article=48222-D\n",
      "['HM', 'MAN', 'SUITS', 'JACKETS']\n",
      "http://www.hm.com/us/product/53097?article=53097-A\n"
     ]
    }
   ],
   "source": [
    "print_has('SUITS',10)"
   ]
  },
  {
   "cell_type": "markdown",
   "metadata": {},
   "source": [
    "* 'SUITS' means a style."
   ]
  },
  {
   "cell_type": "code",
   "execution_count": 19,
   "metadata": {},
   "outputs": [
    {
     "name": "stdout",
     "output_type": "stream",
     "text": [
      "['BEAUTY', 'HAIR']\n",
      "http://www.hm.com/us/product/59036?article=59036-A\n",
      "['BEAUTY', 'HAIR']\n",
      "http://www.hm.com/us/product/81568?article=81568-A\n",
      "['BEAUTY', 'HAIR']\n",
      "http://www.hm.com/us/product/11135?article=11135-A\n",
      "['BEAUTY', 'HAIR']\n",
      "http://www.hm.com/us/product/81574?article=81574-A\n",
      "['ACCESSORIES', 'HAIR']\n",
      "http://www.hm.com/us/product/67624?article=67624-G\n",
      "['ACCESSORIES', 'HAIR']\n",
      "http://www.hm.com/us/product/67624?article=67624-F\n",
      "['ACCESSORIES', 'HAIR']\n",
      "http://www.hm.com/us/product/67624?article=67624-H\n",
      "['ACCESSORIES', 'HAIR']\n",
      "http://www.hm.com/us/product/53992?article=53992-H\n",
      "['ACCESSORIES', 'HAIR']\n",
      "http://www.hm.com/us/product/82450?article=82450-I\n",
      "['ACCESSORIES', 'HAIR']\n",
      "http://www.hm.com/us/product/82450?article=82450-P\n"
     ]
    }
   ],
   "source": [
    "print_has('HAIR',10)"
   ]
  },
  {
   "cell_type": "markdown",
   "metadata": {},
   "source": [
    "* 'HAIR' is a category that is related to hair."
   ]
  },
  {
   "cell_type": "code",
   "execution_count": 20,
   "metadata": {},
   "outputs": [
    {
     "name": "stdout",
     "output_type": "stream",
     "text": [
      "['DIVIDED', 'JACKETS', 'COATS', 'JACKETS']\n",
      "http://www.hm.com/us/product/55258?article=55258-A\n",
      "['DIVIDED', 'TROUSERS', 'SHORTS']\n",
      "http://www.hm.com/us/product/29578?article=29578-I\n",
      "['DIVIDED', 'TROUSERS', 'SHORTS']\n",
      "http://www.hm.com/us/product/68328?article=68328-D\n",
      "['DIVIDED', 'TROUSERS', 'SHORTS']\n",
      "http://www.hm.com/us/product/68328?article=68328-B\n",
      "['DIVIDED', 'TROUSERS', 'SHORTS']\n",
      "http://www.hm.com/us/product/68328?article=68328-A\n",
      "['DIVIDED', 'HOODIES', 'SWEATSHIRT']\n",
      "http://www.hm.com/us/product/66983?article=66983-B\n",
      "['DIVIDED', 'HOODIES', 'SWEATSHIRT']\n",
      "http://www.hm.com/us/product/59885?article=59885-A\n",
      "['DIVIDED', 'BASICS', 'DRESSES', 'SKIRTS']\n",
      "http://www.hm.com/us/product/15975?article=15975-B\n",
      "['DIVIDED', 'BASICS', 'DRESSES', 'SKIRTS']\n",
      "http://www.hm.com/us/product/62061?article=62061-B\n",
      "['DIVIDED', 'HOODIES', 'SWEATSHIRT']\n",
      "http://www.hm.com/us/product/69412?article=69412-B\n"
     ]
    }
   ],
   "source": [
    "print_has('DIVIDED',10)"
   ]
  },
  {
   "cell_type": "markdown",
   "metadata": {},
   "source": [
    "* 'DIVIDED' is not a category only included in tops or bottoms."
   ]
  },
  {
   "cell_type": "code",
   "execution_count": 21,
   "metadata": {},
   "outputs": [
    {
     "name": "stdout",
     "output_type": "stream",
     "text": [
      "['MATERNITY', 'WEAR', 'TIGHTS']\n",
      "http://www.hm.com/us/product/47408?article=47408-B\n",
      "['LINGERIE', 'SOCKS', 'TIGHTS', 'SOCKS']\n",
      "http://www.hm.com/us/product/63294?article=63294-A\n",
      "['LINGERIE', 'SOCKS', 'TIGHTS', 'SOCKS']\n",
      "http://www.hm.com/us/product/66888?article=66888-A\n",
      "['LINGERIE', 'SOCKS', 'TIGHTS', 'TIGHTS']\n",
      "http://www.hm.com/us/product/63764?article=63764-A\n",
      "['MATERNITY', 'WEAR', 'TIGHTS']\n",
      "http://www.hm.com/us/product/40045?article=40045-A\n",
      "['LINGERIE', 'SOCKS', 'TIGHTS', 'TIGHTS']\n",
      "http://www.hm.com/us/product/30127?article=30127-A\n",
      "['LINGERIE', 'SOCKS', 'TIGHTS', 'TIGHTS']\n",
      "http://www.hm.com/us/product/16019?article=16019-A\n",
      "['LINGERIE', 'SOCKS', 'TIGHTS', 'SOCKS']\n",
      "http://www.hm.com/us/product/64421?article=64421-A\n",
      "['LINGERIE', 'SOCKS', 'TIGHTS', 'SOCKS']\n",
      "http://www.hm.com/us/product/64421?article=64421-B\n",
      "['MATERNITY', 'WEAR', 'TIGHTS']\n",
      "http://www.hm.com/us/product/41415?article=41415-A\n"
     ]
    }
   ],
   "source": [
    "print_has('TIGHTS',10)"
   ]
  },
  {
   "cell_type": "markdown",
   "metadata": {},
   "source": [
    "* 'TIGHTS' means a tightly slim style. ('tights' = '타이즈')"
   ]
  },
  {
   "cell_type": "code",
   "execution_count": 22,
   "metadata": {},
   "outputs": [
    {
     "name": "stdout",
     "output_type": "stream",
     "text": [
      "['TROUSERS', 'DRESSED']\n",
      "http://www.hm.com/us/product/49299?article=49299-A\n",
      "['SHIRTS', 'DRESSED']\n",
      "http://www.hm.com/us/product/69802?article=69802-C\n",
      "['SHIRTS', 'DRESSED']\n",
      "http://www.hm.com/us/product/69802?article=69802-B\n",
      "['SHIRTS', 'DRESSED']\n",
      "http://www.hm.com/us/product/48533?article=48533-C\n",
      "['SHIRTS', 'DRESSED']\n",
      "http://www.hm.com/us/product/48533?article=48533-B\n",
      "['SHIRTS', 'DRESSED']\n",
      "http://www.hm.com/us/product/48533?article=48533-A\n",
      "['TROUSERS', 'DRESSED']\n",
      "http://www.hm.com/us/product/67329?article=67329-A\n",
      "['TROUSERS', 'DRESSED']\n",
      "http://www.hm.com/us/product/62697?article=62697-B\n",
      "['TROUSERS', 'DRESSED']\n",
      "http://www.hm.com/us/product/39920?article=39920-A\n",
      "['TROUSERS', 'DRESSED']\n",
      "http://www.hm.com/us/product/66008?article=66008-A\n"
     ]
    }
   ],
   "source": [
    "print_has('DRESSED',10)"
   ]
  },
  {
   "cell_type": "markdown",
   "metadata": {},
   "source": [
    "* 'DRESSED' means a formal style."
   ]
  },
  {
   "cell_type": "code",
   "execution_count": 23,
   "metadata": {
    "scrolled": false
   },
   "outputs": [
    {
     "name": "stdout",
     "output_type": "stream",
     "text": [
      "['EVERYDAY', 'FASHION', 'DRESSES', 'JUMPSUITS']\n",
      "http://www.hm.com/us/product/67942?article=67942-A\n",
      "['DRESSES', 'JUMPSUITS', 'SHORT']\n",
      "http://www.hm.com/us/product/68527?article=68527-A\n",
      "['DRESSES', 'JUMPSUITS', 'MIDI']\n",
      "http://www.hm.com/us/product/60680?article=60680-B\n",
      "['DRESSES', 'JUMPSUITS', 'MIDI']\n",
      "http://www.hm.com/us/product/67133?article=67133-A\n",
      "['DRESSES', 'JUMPSUITS', 'SHORT']\n",
      "http://www.hm.com/us/product/66963?article=66963-A\n",
      "['MODERNCLASSICS', 'DRESSES']\n",
      "http://www.hm.com/us/product/71537?article=71537-A\n",
      "['HM', 'PLUS', 'DRESSES']\n",
      "http://www.hm.com/us/product/82227?article=82227-C\n",
      "['MATERNITY', 'WEAR', 'DRESSES']\n",
      "http://www.hm.com/us/product/68777?article=68777-B\n",
      "['MATERNITY', 'WEAR', 'DRESSES']\n",
      "http://www.hm.com/us/product/68777?article=68777-A\n",
      "['DRESSES', 'JUMPSUITS', 'MIDI']\n",
      "http://www.hm.com/us/product/67073?article=67073-A\n",
      "['DRESSES', 'JUMPSUITS', 'MIDI']\n",
      "http://www.hm.com/us/product/67073?article=67073-B\n",
      "['DIVIDED', 'BASICS', 'DRESSES', 'SKIRTS']\n",
      "http://www.hm.com/us/product/15975?article=15975-B\n",
      "['EVERYDAY', 'FASHION', 'DRESSES', 'JUMPSUITS']\n",
      "http://www.hm.com/us/product/52859?article=52859-A\n",
      "['DIVIDED', 'BASICS', 'DRESSES', 'SKIRTS']\n",
      "http://www.hm.com/us/product/62061?article=62061-B\n",
      "['DRESSES', 'JUMPSUITS', 'SHORT']\n",
      "http://www.hm.com/us/product/65797?article=65797-B\n",
      "['DIVIDED', 'DRESSES', 'JUMPSUITS']\n",
      "http://www.hm.com/us/product/59431?article=59431-A\n",
      "['DIVIDED', 'DRESSES', 'JUMPSUITS']\n",
      "http://www.hm.com/us/product/65858?article=65858-B\n",
      "['DRESSES', 'JUMPSUITS', 'PARTYDRESSES']\n",
      "http://www.hm.com/us/product/57852?article=57852-A\n",
      "['EVERYDAY', 'FASHION', 'DRESSES', 'JUMPSUITS']\n",
      "http://www.hm.com/us/product/69101?article=69101-A\n",
      "['DRESSES', 'JUMPSUITS', 'SHORT']\n",
      "http://www.hm.com/us/product/83551?article=83551-A\n"
     ]
    }
   ],
   "source": [
    "print_has('DRESSES',20)"
   ]
  },
  {
   "cell_type": "code",
   "execution_count": 24,
   "metadata": {
    "scrolled": false
   },
   "outputs": [
    {
     "name": "stdout",
     "output_type": "stream",
     "text": [
      "['SKIRTS', 'SHORT']\n",
      "http://www.hm.com/us/product/58714?article=58714-A\n",
      "['SKIRTS', 'SHORT']\n",
      "http://www.hm.com/us/product/65377?article=65377-A\n",
      "['SKIRTS', 'SHORT']\n",
      "http://www.hm.com/us/product/62051?article=62051-A\n",
      "['SKIRTS', 'SHORT']\n",
      "http://www.hm.com/us/product/34850?article=34850-A\n",
      "['SKIRTS', 'LONG']\n",
      "http://www.hm.com/us/product/66731?article=66731-A\n",
      "['DIVIDED', 'BASICS', 'DRESSES', 'SKIRTS']\n",
      "http://www.hm.com/us/product/15975?article=15975-B\n",
      "['DIVIDED', 'BASICS', 'DRESSES', 'SKIRTS']\n",
      "http://www.hm.com/us/product/62061?article=62061-B\n",
      "['SKIRTS', 'SHORT']\n",
      "http://www.hm.com/us/product/66352?article=66352-A\n",
      "['SKIRTS', 'SHORT']\n",
      "http://www.hm.com/us/product/70152?article=70152-A\n",
      "['SKIRTS', 'SHORT']\n",
      "http://www.hm.com/us/product/68739?article=68739-B\n",
      "['SKIRTS', 'SHORT']\n",
      "http://www.hm.com/us/product/32578?article=32578-A\n",
      "['DIVIDED', 'BASICS', 'DRESSES', 'SKIRTS']\n",
      "http://www.hm.com/us/product/27458?article=27458-M\n",
      "['DIVIDED', 'BASICS', 'DRESSES', 'SKIRTS']\n",
      "http://www.hm.com/us/product/27458?article=27458-N\n",
      "['SKIRTS', 'SHORT']\n",
      "http://www.hm.com/us/product/61713?article=61713-A\n",
      "['SKIRTS', 'SHORT']\n",
      "http://www.hm.com/us/product/64631?article=64631-A\n",
      "['BASICS', 'DRESSES', 'SKIRTS']\n",
      "http://www.hm.com/us/product/65754?article=65754-A\n",
      "['BASICS', 'DRESSES', 'SKIRTS']\n",
      "http://www.hm.com/us/product/65754?article=65754-B\n",
      "['SKIRTS', 'MIDI']\n",
      "http://www.hm.com/us/product/69991?article=69991-A\n",
      "['SKIRTS', 'SHORT']\n",
      "http://www.hm.com/us/product/60268?article=60268-A\n",
      "['BASICS', 'DRESSES', 'SKIRTS']\n",
      "http://www.hm.com/us/product/85485?article=85485-C\n"
     ]
    }
   ],
   "source": [
    "print_has('SKIRTS',20)"
   ]
  },
  {
   "cell_type": "markdown",
   "metadata": {},
   "source": [
    "* 'SKIRTS' and 'DRESSES' are sometimes overlapped.\n",
    "* If they are overlapped, we can categorize the item by its name.\n",
    "* At the end of the name of an item, __'skirt'__ or __'dress'__ is used instead of 'skirts' or 'dresses'."
   ]
  },
  {
   "cell_type": "code",
   "execution_count": 25,
   "metadata": {},
   "outputs": [
    {
     "name": "stdout",
     "output_type": "stream",
     "text": [
      "['DRESSES', 'JUMPSUITS', 'MIDI']\n",
      "http://www.hm.com/us/product/60680?article=60680-B\n",
      "['DRESSES', 'JUMPSUITS', 'MIDI']\n",
      "http://www.hm.com/us/product/67133?article=67133-A\n",
      "['DRESSES', 'JUMPSUITS', 'MIDI']\n",
      "http://www.hm.com/us/product/67073?article=67073-A\n",
      "['DRESSES', 'JUMPSUITS', 'MIDI']\n",
      "http://www.hm.com/us/product/67073?article=67073-B\n",
      "['DRESSES', 'JUMPSUITS', 'MIDI']\n",
      "http://www.hm.com/us/product/62412?article=62412-A\n",
      "['SKIRTS', 'MIDI']\n",
      "http://www.hm.com/us/product/69991?article=69991-A\n",
      "['SKIRTS', 'MIDI']\n",
      "http://www.hm.com/us/product/55496?article=55496-B\n",
      "['SKIRTS', 'MIDI']\n",
      "http://www.hm.com/us/product/67989?article=67989-A\n",
      "['SKIRTS', 'MIDI']\n",
      "http://www.hm.com/us/product/59592?article=59592-C\n",
      "['SKIRTS', 'MIDI']\n",
      "http://www.hm.com/us/product/68303?article=68303-A\n"
     ]
    }
   ],
   "source": [
    "print_has('MIDI',10)"
   ]
  },
  {
   "cell_type": "markdown",
   "metadata": {},
   "source": [
    "* 'MIDI' is something related to skirts. It presumably means a style."
   ]
  },
  {
   "cell_type": "markdown",
   "metadata": {},
   "source": [
    "These categories are inclusive categories."
   ]
  },
  {
   "cell_type": "markdown",
   "metadata": {},
   "source": [
    "The following categories are categories that can be classified one of the three: tops, bottoms, and one-pieces(top-bottom together)."
   ]
  },
  {
   "cell_type": "raw",
   "metadata": {},
   "source": [
    "category: TOPS\n",
    "category: SUITS\n",
    "category: TSHIRT\n",
    "category: SHIRTS\n",
    "category: JUMPSUIT\n",
    "category: BOTTOMS\n",
    "category: VESTS\n",
    "category: SHORTS\n",
    "category: DRESSES\n",
    "category: HOODIES\n",
    "category: JEANS\n",
    "category: BLAZERS\n",
    "category: JACKETS\n",
    "category: TROUSERS\n",
    "category: SKIRTS"
   ]
  },
  {
   "cell_type": "markdown",
   "metadata": {},
   "source": [
    "['ACC', 'SPORTSWEAR', 'LONG', __'TUNICS'__, 'LINGERIE', __'JACKETS'__, 'MODERN-CLASSICS', 'SHORT', __'TOPS'__, 'BATH', 'SOCKS', 'HM', 'BATHROOM', 'PQ', __'VESTS'__, 'MODERNCLASSICS', __'JEANS'__, __'BOTTOMS'__, __'SKIRTS'__, 'SUITS', 'HAIR', __'LEGGINGS'__, 'ACCESSORIES', 'NIGHTWEAR', __'SHORTS'__, 'DIVIDED', 'SLIM', 'BASICS', 'SWIMWEAR', __'BLAZERS'__, __'TSHIRT'__, __'SHIRTS'__, 'CASUAL', __'JUMPSUIT'__, 'TIGHTS', 'UNDERWEAR', 'BEAUTY', 'DRESSED', __'TROUSERS'__, __'DRESSES'__, 'SLEEVED', __'HOODIES'__, 'SHOES', 'MIDI', 'LOOSE', 'PARTYWEAR']\n",
    "\n",
    "#### Tops\n",
    "* ['JACKETS', 'TOPS', 'VESTS', 'BLAZERS', 'TSHIRT', 'SHIRTS', 'HOODIES']\n",
    "\n",
    "#### Bottoms\n",
    "* ['JEANS', 'BOTTOMS', 'SKIRTS', 'LEGGINGS', 'SHORTS', 'TROUSERS']\n",
    "\n",
    "#### Onepieces\n",
    "* ['TUNICS', 'JUMPSUIT', 'DRESSES']"
   ]
  },
  {
   "cell_type": "code",
   "execution_count": 26,
   "metadata": {
    "collapsed": true
   },
   "outputs": [],
   "source": [
    "dict_tbo_categories = dict()"
   ]
  },
  {
   "cell_type": "code",
   "execution_count": 27,
   "metadata": {
    "collapsed": true
   },
   "outputs": [],
   "source": [
    "dict_tbo_categories['top'] = ['JACKETS', 'TOPS', 'VESTS', 'BLAZERS', 'TSHIRT', 'SHIRTS', 'HOODIES']"
   ]
  },
  {
   "cell_type": "code",
   "execution_count": 28,
   "metadata": {
    "collapsed": true
   },
   "outputs": [],
   "source": [
    "dict_tbo_categories['bottom'] = ['JEANS', 'BOTTOMS', 'SKIRTS', 'LEGGINGS', 'SHORTS', 'TROUSERS']"
   ]
  },
  {
   "cell_type": "code",
   "execution_count": 29,
   "metadata": {
    "collapsed": true
   },
   "outputs": [],
   "source": [
    "dict_tbo_categories['onepiece'] = ['TUNICS', 'JUMPSUIT', 'DRESSES']"
   ]
  },
  {
   "cell_type": "code",
   "execution_count": 30,
   "metadata": {},
   "outputs": [
    {
     "name": "stdout",
     "output_type": "stream",
     "text": [
      "{'top': ['JACKETS', 'TOPS', 'VESTS', 'BLAZERS', 'TSHIRT', 'SHIRTS', 'HOODIES'], 'onepiece': ['TUNICS', 'JUMPSUIT', 'DRESSES'], 'bottom': ['JEANS', 'BOTTOMS', 'SKIRTS', 'LEGGINGS', 'SHORTS', 'TROUSERS']}\n"
     ]
    }
   ],
   "source": [
    "print dict_tbo_categories"
   ]
  },
  {
   "cell_type": "markdown",
   "metadata": {},
   "source": [
    "### Serialization"
   ]
  },
  {
   "cell_type": "code",
   "execution_count": 63,
   "metadata": {
    "collapsed": true
   },
   "outputs": [],
   "source": [
    "import pickle\n",
    "f = open('pickle_data/dict_tbo_categories.p', 'wb')\n",
    "pickle.dump(dict_tbo_categories, f)\n",
    "f.close()"
   ]
  },
  {
   "cell_type": "code",
   "execution_count": 31,
   "metadata": {
    "collapsed": true
   },
   "outputs": [],
   "source": [
    "import pickle\n",
    "f = open('pickle_data/dict_tbo_categories.p', 'rb')\n",
    "dict_tbo_categories = pickle.load(f)\n",
    "f.close()"
   ]
  },
  {
   "cell_type": "markdown",
   "metadata": {},
   "source": [
    "# 3. Are tops, bottoms, and onepieces mutually exclusive?"
   ]
  },
  {
   "cell_type": "code",
   "execution_count": 69,
   "metadata": {
    "collapsed": true
   },
   "outputs": [],
   "source": [
    "from interface import *"
   ]
  },
  {
   "cell_type": "code",
   "execution_count": 70,
   "metadata": {
    "collapsed": true
   },
   "outputs": [],
   "source": [
    "dict_tbo_categories = import_tbo_categories()"
   ]
  },
  {
   "cell_type": "code",
   "execution_count": 71,
   "metadata": {},
   "outputs": [
    {
     "data": {
      "text/plain": [
       "['JACKETS', 'TOPS', 'VESTS', 'BLAZERS', 'TSHIRT', 'SHIRTS', 'HOODIES']"
      ]
     },
     "execution_count": 71,
     "metadata": {},
     "output_type": "execute_result"
    }
   ],
   "source": [
    "dict_tbo_categories['top']"
   ]
  },
  {
   "cell_type": "code",
   "execution_count": 72,
   "metadata": {},
   "outputs": [
    {
     "data": {
      "text/plain": [
       "['JEANS', 'BOTTOMS', 'SKIRTS', 'LEGGINGS', 'SHORTS', 'TROUSERS']"
      ]
     },
     "execution_count": 72,
     "metadata": {},
     "output_type": "execute_result"
    }
   ],
   "source": [
    "dict_tbo_categories['bottom']"
   ]
  },
  {
   "cell_type": "code",
   "execution_count": 73,
   "metadata": {},
   "outputs": [
    {
     "data": {
      "text/plain": [
       "['TUNICS', 'JUMPSUIT', 'DRESSES']"
      ]
     },
     "execution_count": 73,
     "metadata": {},
     "output_type": "execute_result"
    }
   ],
   "source": [
    "dict_tbo_categories['onepiece']"
   ]
  },
  {
   "cell_type": "code",
   "execution_count": 74,
   "metadata": {
    "collapsed": true
   },
   "outputs": [],
   "source": [
    "pf = open('pickle_data/dict_all_items_info.p', 'rb')\n",
    "dict_items_info = pickle.load(pf)\n",
    "pf.close()"
   ]
  },
  {
   "cell_type": "code",
   "execution_count": 75,
   "metadata": {
    "collapsed": true
   },
   "outputs": [],
   "source": [
    "def get_categories(item_info):\n",
    "    metricCategoryID = item_info['metricCategoryID']\n",
    "    # Delete the first and last strings\n",
    "    categories = metricCategoryID.split('_')[1:-1]\n",
    "    return categories"
   ]
  },
  {
   "cell_type": "code",
   "execution_count": 76,
   "metadata": {
    "scrolled": true
   },
   "outputs": [
    {
     "data": {
      "text/plain": [
       "['HM', 'MAN', 'TSHIRTS', 'VESTS']"
      ]
     },
     "execution_count": 76,
     "metadata": {},
     "output_type": "execute_result"
    }
   ],
   "source": [
    "get_categories(dict_items_info[dict_items_info.keys()[0]])"
   ]
  },
  {
   "cell_type": "code",
   "execution_count": 57,
   "metadata": {
    "collapsed": true
   },
   "outputs": [],
   "source": [
    "def print_categories_with_tbo_num(tbo_num_to_print):\n",
    "    count = 0\n",
    "    for serial in dict_items_info:\n",
    "        dict_items_info[serial]['tbo'] = set()\n",
    "        categories = get_categories(dict_items_info[serial])\n",
    "        for category in categories:\n",
    "            if category in dict_tbo_categories['top']:\n",
    "                dict_items_info[serial]['tbo'].add('top')\n",
    "            if category in dict_tbo_categories['bottom']:\n",
    "                dict_items_info[serial]['tbo'].add('bottom')\n",
    "            if category in dict_tbo_categories['onepiece']:\n",
    "                dict_items_info[serial]['tbo'].add('onepiece')\n",
    "        if len(dict_items_info[serial]['tbo']) == tbo_num_to_print:\n",
    "            print \"TBO       :\", dict_items_info[serial]['tbo']\n",
    "            print \"categories:\", categories\n",
    "            print \"name:\", dict_items_info[serial]['name']\n",
    "            print \"URL       :\", dict_items_info[serial]['url']\n",
    "            print '\\n'\n",
    "            count = count + 1\n",
    "    print \"Count:\", count "
   ]
  },
  {
   "cell_type": "code",
   "execution_count": 52,
   "metadata": {},
   "outputs": [
    {
     "name": "stdout",
     "output_type": "stream",
     "text": [
      "TBO       : set(['top', 'onepiece'])\n",
      "categories: ['SHIRTS', 'BLOUSES', 'TUNICS']\n",
      "name: Embroidered Cotton Tunic\n",
      "URL       : http://www.hm.com/us/product/67068?article=67068-C\n",
      "\n",
      "\n",
      "TBO       : set(['onepiece', 'bottom'])\n",
      "categories: ['DIVIDED', 'BASICS', 'DRESSES', 'SKIRTS']\n",
      "name: Jersey Skirt\n",
      "URL       : http://www.hm.com/us/product/15975?article=15975-B\n",
      "\n",
      "\n",
      "TBO       : set(['onepiece', 'bottom'])\n",
      "categories: ['DIVIDED', 'BASICS', 'DRESSES', 'SKIRTS']\n",
      "name: Jersey Dress\n",
      "URL       : http://www.hm.com/us/product/62061?article=62061-B\n",
      "\n",
      "\n",
      "TBO       : set(['onepiece', 'bottom'])\n",
      "categories: ['DIVIDED', 'BASICS', 'DRESSES', 'SKIRTS']\n",
      "name: Maxi Dress\n",
      "URL       : http://www.hm.com/us/product/27458?article=27458-M\n",
      "\n",
      "\n",
      "TBO       : set(['onepiece', 'bottom'])\n",
      "categories: ['DIVIDED', 'BASICS', 'DRESSES', 'SKIRTS']\n",
      "name: Maxi Dress\n",
      "URL       : http://www.hm.com/us/product/27458?article=27458-N\n",
      "\n",
      "\n",
      "TBO       : set(['onepiece', 'bottom'])\n",
      "categories: ['BASICS', 'DRESSES', 'SKIRTS']\n",
      "name: Ribbed Jersey Dress\n",
      "URL       : http://www.hm.com/us/product/65754?article=65754-A\n",
      "\n",
      "\n",
      "TBO       : set(['onepiece', 'bottom'])\n",
      "categories: ['BASICS', 'DRESSES', 'SKIRTS']\n",
      "name: Ribbed Jersey Dress\n",
      "URL       : http://www.hm.com/us/product/65754?article=65754-B\n",
      "\n",
      "\n",
      "TBO       : set(['onepiece', 'bottom'])\n",
      "categories: ['BASICS', 'DRESSES', 'SKIRTS']\n",
      "name: Strapless Jersey Dress\n",
      "URL       : http://www.hm.com/us/product/85485?article=85485-C\n",
      "\n",
      "\n",
      "TBO       : set(['onepiece', 'bottom'])\n",
      "categories: ['BASICS', 'DRESSES', 'SKIRTS']\n",
      "name: Strapless Jersey Dress\n",
      "URL       : http://www.hm.com/us/product/85485?article=85485-A\n",
      "\n",
      "\n",
      "TBO       : set(['onepiece', 'bottom'])\n",
      "categories: ['BASICS', 'DRESSES', 'SKIRTS']\n",
      "name: T-shirt Dress\n",
      "URL       : http://www.hm.com/us/product/70880?article=70880-B\n",
      "\n",
      "\n",
      "TBO       : set(['onepiece', 'bottom'])\n",
      "categories: ['BASICS', 'DRESSES', 'SKIRTS']\n",
      "name: T-shirt Dress\n",
      "URL       : http://www.hm.com/us/product/70880?article=70880-A\n",
      "\n",
      "\n",
      "TBO       : set(['onepiece', 'bottom'])\n",
      "categories: ['DIVIDED', 'BASICS', 'DRESSES', 'SKIRTS']\n",
      "name: T-shirt Dress\n",
      "URL       : http://www.hm.com/us/product/65509?article=65509-A\n",
      "\n",
      "\n",
      "TBO       : set(['onepiece', 'bottom'])\n",
      "categories: ['DIVIDED', 'BASICS', 'DRESSES', 'SKIRTS']\n",
      "name: T-shirt Dress\n",
      "URL       : http://www.hm.com/us/product/65509?article=65509-C\n",
      "\n",
      "\n",
      "TBO       : set(['onepiece', 'bottom'])\n",
      "categories: ['DIVIDED', 'BASICS', 'DRESSES', 'SKIRTS']\n",
      "name: T-shirt Dress\n",
      "URL       : http://www.hm.com/us/product/65509?article=65509-B\n",
      "\n",
      "\n",
      "TBO       : set(['onepiece', 'bottom'])\n",
      "categories: ['BASICS', 'DRESSES', 'SKIRTS']\n",
      "name: Short-sleeved Jersey Dress\n",
      "URL       : http://www.hm.com/us/product/32266?article=32266-Z\n",
      "\n",
      "\n",
      "TBO       : set(['onepiece', 'bottom'])\n",
      "categories: ['BASICS', 'DRESSES', 'SKIRTS']\n",
      "name: Short-sleeved Jersey Dress\n",
      "URL       : http://www.hm.com/us/product/32266?article=32266-X\n",
      "\n",
      "\n",
      "TBO       : set(['onepiece', 'bottom'])\n",
      "categories: ['BASICS', 'DRESSES', 'SKIRTS']\n",
      "name: Short-sleeved Jersey Dress\n",
      "URL       : http://www.hm.com/us/product/32266?article=32266-G\n",
      "\n",
      "\n",
      "TBO       : set(['onepiece', 'bottom'])\n",
      "categories: ['BASICS', 'DRESSES', 'SKIRTS']\n",
      "name: Short-sleeved Jersey Dress\n",
      "URL       : http://www.hm.com/us/product/32266?article=32266-F\n",
      "\n",
      "\n",
      "TBO       : set(['onepiece', 'bottom'])\n",
      "categories: ['DIVIDED', 'BASICS', 'DRESSES', 'SKIRTS']\n",
      "name: Ribbed Jersey Dress\n",
      "URL       : http://www.hm.com/us/product/54799?article=54799-E\n",
      "\n",
      "\n",
      "TBO       : set(['top', 'onepiece'])\n",
      "categories: ['SHIRTS', 'BLOUSES', 'TUNICS']\n",
      "name: Tunic\n",
      "URL       : http://www.hm.com/us/product/67282?article=67282-A\n",
      "\n",
      "\n",
      "TBO       : set(['onepiece', 'bottom'])\n",
      "categories: ['DIVIDED', 'BASICS', 'DRESSES', 'SKIRTS']\n",
      "name: Fitted Jersey Dress\n",
      "URL       : http://www.hm.com/us/product/70241?article=70241-A\n",
      "\n",
      "\n",
      "TBO       : set(['onepiece', 'bottom'])\n",
      "categories: ['DIVIDED', 'BASICS', 'DRESSES', 'SKIRTS']\n",
      "name: Fitted Jersey Dress\n",
      "URL       : http://www.hm.com/us/product/70241?article=70241-B\n",
      "\n",
      "\n",
      "TBO       : set(['onepiece', 'bottom'])\n",
      "categories: ['BASICS', 'DRESSES', 'SKIRTS']\n",
      "name: Jersey Dress\n",
      "URL       : http://www.hm.com/us/product/61041?article=61041-A\n",
      "\n",
      "\n",
      "TBO       : set(['onepiece', 'bottom'])\n",
      "categories: ['BASICS', 'DRESSES', 'SKIRTS']\n",
      "name: Jersey Dress\n",
      "URL       : http://www.hm.com/us/product/61041?article=61041-C\n",
      "\n",
      "\n",
      "TBO       : set(['top', 'onepiece'])\n",
      "categories: ['SHIRTS', 'BLOUSES', 'TUNICS']\n",
      "name: Lyocell Tunic\n",
      "URL       : http://www.hm.com/us/product/63837?article=63837-A\n",
      "\n",
      "\n",
      "TBO       : set(['onepiece', 'bottom'])\n",
      "categories: ['BASICS', 'DRESSES', 'SKIRTS']\n",
      "name: Long Jersey Dress\n",
      "URL       : http://www.hm.com/us/product/70438?article=70438-B\n",
      "\n",
      "\n",
      "TBO       : set(['onepiece', 'bottom'])\n",
      "categories: ['DIVIDED', 'BASICS', 'DRESSES', 'SKIRTS']\n",
      "name: Sweatshirt Dress\n",
      "URL       : http://www.hm.com/us/product/41707?article=41707-G\n",
      "\n",
      "\n",
      "TBO       : set(['top', 'onepiece'])\n",
      "categories: ['SHIRTS', 'BLOUSES', 'TUNICS']\n",
      "name: Cotton Tunic\n",
      "URL       : http://www.hm.com/us/product/67416?article=67416-C\n",
      "\n",
      "\n",
      "TBO       : set(['top', 'onepiece'])\n",
      "categories: ['SHIRTS', 'BLOUSES', 'TUNICS']\n",
      "name: Cotton Tunic\n",
      "URL       : http://www.hm.com/us/product/67416?article=67416-A\n",
      "\n",
      "\n",
      "TBO       : set(['onepiece', 'bottom'])\n",
      "categories: ['BASICS', 'DRESSES', 'SKIRTS']\n",
      "name: Pencil Skirt\n",
      "URL       : http://www.hm.com/us/product/55457?article=55457-B\n",
      "\n",
      "\n",
      "TBO       : set(['onepiece', 'bottom'])\n",
      "categories: ['BASICS', 'DRESSES', 'SKIRTS']\n",
      "name: Pencil Skirt\n",
      "URL       : http://www.hm.com/us/product/30443?article=30443-J\n",
      "\n",
      "\n",
      "TBO       : set(['onepiece', 'bottom'])\n",
      "categories: ['BASICS', 'DRESSES', 'SKIRTS']\n",
      "name: Pencil Skirt\n",
      "URL       : http://www.hm.com/us/product/30443?article=30443-B\n",
      "\n",
      "\n",
      "TBO       : set(['onepiece', 'bottom'])\n",
      "categories: ['BASICS', 'DRESSES', 'SKIRTS']\n",
      "name: Jersey Dress\n",
      "URL       : http://www.hm.com/us/product/44860?article=44860-F\n",
      "\n",
      "\n",
      "TBO       : set(['onepiece', 'bottom'])\n",
      "categories: ['BASICS', 'DRESSES', 'SKIRTS']\n",
      "name: Jersey Dress\n",
      "URL       : http://www.hm.com/us/product/44860?article=44860-E\n",
      "\n",
      "\n",
      "TBO       : set(['onepiece', 'bottom'])\n",
      "categories: ['BASICS', 'DRESSES', 'SKIRTS']\n",
      "name: Jersey Dress\n",
      "URL       : http://www.hm.com/us/product/44860?article=44860-A\n",
      "\n",
      "\n",
      "TBO       : set(['onepiece', 'bottom'])\n",
      "categories: ['BASICS', 'DRESSES', 'SKIRTS']\n",
      "name: Pencil Skirt\n",
      "URL       : http://www.hm.com/us/product/30443?article=30443-P\n",
      "\n",
      "\n",
      "TBO       : set(['onepiece', 'bottom'])\n",
      "categories: ['BASICS', 'DRESSES', 'SKIRTS']\n",
      "name: Ribbed Jersey Dress\n",
      "URL       : http://www.hm.com/us/product/70338?article=70338-A\n",
      "\n",
      "\n",
      "TBO       : set(['onepiece', 'bottom'])\n",
      "categories: ['BASICS', 'DRESSES', 'SKIRTS']\n",
      "name: Ribbed Jersey Dress\n",
      "URL       : http://www.hm.com/us/product/70338?article=70338-B\n",
      "\n",
      "\n",
      "TBO       : set(['top', 'onepiece'])\n",
      "categories: ['SHIRTS', 'BLOUSES', 'TUNICS']\n",
      "name: Jersey Tunic\n",
      "URL       : http://www.hm.com/us/product/45641?article=45641-H\n",
      "\n",
      "\n",
      "TBO       : set(['onepiece', 'bottom'])\n",
      "categories: ['DIVIDED', 'BASICS', 'DRESSES', 'SKIRTS']\n",
      "name: Sleeveless Jersey Dress\n",
      "URL       : http://www.hm.com/us/product/66134?article=66134-B\n",
      "\n",
      "\n",
      "TBO       : set(['onepiece', 'bottom'])\n",
      "categories: ['DIVIDED', 'BASICS', 'DRESSES', 'SKIRTS']\n",
      "name: Sleeveless Jersey Dress\n",
      "URL       : http://www.hm.com/us/product/66134?article=66134-C\n",
      "\n",
      "\n",
      "TBO       : set(['onepiece', 'bottom'])\n",
      "categories: ['BASICS', 'DRESSES', 'SKIRTS']\n",
      "name: Jersey Dress\n",
      "URL       : http://www.hm.com/us/product/38424?article=38424-D\n",
      "\n",
      "\n",
      "TBO       : set(['onepiece', 'bottom'])\n",
      "categories: ['BASICS', 'DRESSES', 'SKIRTS']\n",
      "name: Jersey Dress\n",
      "URL       : http://www.hm.com/us/product/38424?article=38424-B\n",
      "\n",
      "\n",
      "TBO       : set(['onepiece', 'bottom'])\n",
      "categories: ['BASICS', 'DRESSES', 'SKIRTS']\n",
      "name: Jersey Dress\n",
      "URL       : http://www.hm.com/us/product/61777?article=61777-A\n",
      "\n",
      "\n",
      "TBO       : set(['onepiece', 'bottom'])\n",
      "categories: ['BASICS', 'DRESSES', 'SKIRTS']\n",
      "name: Jersey Dress\n",
      "URL       : http://www.hm.com/us/product/61777?article=61777-B\n",
      "\n",
      "\n",
      "TBO       : set(['onepiece', 'bottom'])\n",
      "categories: ['BASICS', 'DRESSES', 'SKIRTS']\n",
      "name: Jersey Dress\n",
      "URL       : http://www.hm.com/us/product/61777?article=61777-E\n",
      "\n",
      "\n",
      "TBO       : set(['onepiece', 'bottom'])\n",
      "categories: ['BASICS', 'DRESSES', 'SKIRTS']\n",
      "name: Jersey Dress\n",
      "URL       : http://www.hm.com/us/product/61777?article=61777-F\n",
      "\n",
      "\n",
      "TBO       : set(['onepiece', 'bottom'])\n",
      "categories: ['BASICS', 'DRESSES', 'SKIRTS']\n",
      "name: Maxi Dress\n",
      "URL       : http://www.hm.com/us/product/29284?article=29284-A\n",
      "\n",
      "\n",
      "TBO       : set(['onepiece', 'bottom'])\n",
      "categories: ['BASICS', 'DRESSES', 'SKIRTS']\n",
      "name: Maxi Dress\n",
      "URL       : http://www.hm.com/us/product/29284?article=29284-F\n",
      "\n",
      "\n",
      "TBO       : set(['onepiece', 'bottom'])\n",
      "categories: ['DIVIDED', 'BASICS', 'DRESSES', 'SKIRTS']\n",
      "name: Hooded Sweatshirt Dress\n",
      "URL       : http://www.hm.com/us/product/69391?article=69391-A\n",
      "\n",
      "\n",
      "TBO       : set(['onepiece', 'bottom'])\n",
      "categories: ['DIVIDED', 'BASICS', 'DRESSES', 'SKIRTS']\n",
      "name: Hooded Sweatshirt Dress\n",
      "URL       : http://www.hm.com/us/product/69391?article=69391-B\n",
      "\n",
      "\n",
      "TBO       : set(['onepiece', 'bottom'])\n",
      "categories: ['DIVIDED', 'BASICS', 'DRESSES', 'SKIRTS']\n",
      "name: Hooded Sweatshirt Dress\n",
      "URL       : http://www.hm.com/us/product/69391?article=69391-C\n",
      "\n",
      "\n",
      "TBO       : set(['onepiece', 'bottom'])\n",
      "categories: ['DIVIDED', 'BASICS', 'DRESSES', 'SKIRTS']\n",
      "name: Ribbed Jersey Dress\n",
      "URL       : http://www.hm.com/us/product/60171?article=60171-D\n",
      "\n",
      "\n",
      "TBO       : set(['onepiece', 'bottom'])\n",
      "categories: ['DIVIDED', 'BASICS', 'DRESSES', 'SKIRTS']\n",
      "name: Ribbed Jersey Dress\n",
      "URL       : http://www.hm.com/us/product/60171?article=60171-C\n",
      "\n",
      "\n",
      "TBO       : set(['top', 'onepiece'])\n",
      "categories: ['SHIRTS', 'BLOUSES', 'TUNICS']\n",
      "name: Crêpe Tunic\n",
      "URL       : http://www.hm.com/us/product/61117?article=61117-A\n",
      "\n",
      "\n",
      "TBO       : set(['top', 'onepiece'])\n",
      "categories: ['SHIRTS', 'BLOUSES', 'TUNICS']\n",
      "name: Crêpe Tunic\n",
      "URL       : http://www.hm.com/us/product/61117?article=61117-B\n",
      "\n",
      "\n",
      "TBO       : set(['onepiece', 'bottom'])\n",
      "categories: ['BASICS', 'DRESSES', 'SKIRTS']\n",
      "name: Lyocell Dress\n",
      "URL       : http://www.hm.com/us/product/51585?article=51585-A\n",
      "\n",
      "\n",
      "TBO       : set(['top', 'onepiece'])\n",
      "categories: ['SHIRTS', 'BLOUSES', 'TUNICS']\n",
      "name: Lyocell-blend Tunic\n",
      "URL       : http://www.hm.com/us/product/61053?article=61053-A\n",
      "\n",
      "\n",
      "TBO       : set(['onepiece', 'bottom'])\n",
      "categories: ['BASICS', 'DRESSES', 'SKIRTS']\n",
      "name: Knee-length Jersey Dress\n",
      "URL       : http://www.hm.com/us/product/68693?article=68693-B\n",
      "\n",
      "\n",
      "TBO       : set(['top', 'onepiece'])\n",
      "categories: ['SHIRTS', 'BLOUSES', 'TUNICS']\n",
      "name: Embroidered Cotton Tunic\n",
      "URL       : http://www.hm.com/us/product/67068?article=67068-A\n",
      "\n",
      "\n",
      "TBO       : set(['top', 'onepiece'])\n",
      "categories: ['SHIRTS', 'BLOUSES', 'TUNICS']\n",
      "name: Embroidered Cotton Tunic\n",
      "URL       : http://www.hm.com/us/product/67068?article=67068-B\n",
      "\n",
      "\n",
      "TBO       : set(['onepiece', 'bottom'])\n",
      "categories: ['BASICS', 'DRESSES', 'SKIRTS']\n",
      "name: Short Jersey Dress\n",
      "URL       : http://www.hm.com/us/product/66300?article=66300-A\n",
      "\n",
      "\n",
      "TBO       : set(['onepiece', 'bottom'])\n",
      "categories: ['BASICS', 'DRESSES', 'SKIRTS']\n",
      "name: Long-sleeved Jersey Dress\n",
      "URL       : http://www.hm.com/us/product/38997?article=38997-C\n",
      "\n",
      "\n",
      "TBO       : set(['top', 'onepiece'])\n",
      "categories: ['SHIRTS', 'BLOUSES', 'TUNICS']\n",
      "name: Tunic\n",
      "URL       : http://www.hm.com/us/product/68560?article=68560-A\n",
      "\n",
      "\n",
      "TBO       : set(['onepiece', 'bottom'])\n",
      "categories: ['TROUSERS', 'JUMPSUIT']\n",
      "name: Chiffon Jumpsuit\n",
      "URL       : http://www.hm.com/us/product/37601?article=37601-A\n",
      "\n",
      "\n",
      "TBO       : set(['onepiece', 'bottom'])\n",
      "categories: ['DIVIDED', 'BASICS', 'DRESSES', 'SKIRTS']\n",
      "name: Circle Skirt\n",
      "URL       : http://www.hm.com/us/product/16032?article=16032-B\n",
      "\n",
      "\n",
      "TBO       : set(['onepiece', 'bottom'])\n",
      "categories: ['DIVIDED', 'BASICS', 'DRESSES', 'SKIRTS']\n",
      "name: Jersey Dress\n",
      "URL       : http://www.hm.com/us/product/35991?article=35991-B\n",
      "\n",
      "\n",
      "TBO       : set(['onepiece', 'bottom'])\n",
      "categories: ['DIVIDED', 'BASICS', 'DRESSES', 'SKIRTS']\n",
      "name: Jersey Dress\n",
      "URL       : http://www.hm.com/us/product/35991?article=35991-D\n",
      "\n",
      "\n",
      "TBO       : set(['onepiece', 'bottom'])\n",
      "categories: ['BASICS', 'DRESSES', 'SKIRTS']\n",
      "name: Short Jersey Dress\n",
      "URL       : http://www.hm.com/us/product/66300?article=66300-C\n",
      "\n",
      "\n",
      "TBO       : set(['onepiece', 'bottom'])\n",
      "categories: ['BASICS', 'DRESSES', 'SKIRTS']\n",
      "name: Short Jersey Dress\n",
      "URL       : http://www.hm.com/us/product/66300?article=66300-B\n",
      "\n",
      "\n",
      "TBO       : set(['top', 'onepiece'])\n",
      "categories: ['SHIRTS', 'BLOUSES', 'TUNICS']\n",
      "name: Striped Cotton Tunic\n",
      "URL       : http://www.hm.com/us/product/64346?article=64346-A\n",
      "\n",
      "\n",
      "TBO       : set(['onepiece', 'bottom'])\n",
      "categories: ['DIVIDED', 'BASICS', 'DRESSES', 'SKIRTS']\n",
      "name: Short Jersey Dress\n",
      "URL       : http://www.hm.com/us/product/70827?article=70827-D\n",
      "\n",
      "\n",
      "TBO       : set(['onepiece', 'bottom'])\n",
      "categories: ['DIVIDED', 'BASICS', 'DRESSES', 'SKIRTS']\n",
      "name: Short Jersey Dress\n",
      "URL       : http://www.hm.com/us/product/70827?article=70827-B\n",
      "\n",
      "\n",
      "TBO       : set(['onepiece', 'bottom'])\n",
      "categories: ['DIVIDED', 'BASICS', 'DRESSES', 'SKIRTS']\n",
      "name: Short Jersey Dress\n",
      "URL       : http://www.hm.com/us/product/70827?article=70827-C\n",
      "\n",
      "\n",
      "TBO       : set(['onepiece', 'bottom'])\n",
      "categories: ['DIVIDED', 'BASICS', 'DRESSES', 'SKIRTS']\n",
      "name: Short Jersey Dress\n",
      "URL       : http://www.hm.com/us/product/70827?article=70827-A\n",
      "\n",
      "\n",
      "TBO       : set(['onepiece', 'bottom'])\n",
      "categories: ['BASICS', 'DRESSES', 'SKIRTS']\n",
      "name: Knee-length Jersey Dress\n",
      "URL       : http://www.hm.com/us/product/68693?article=68693-A\n",
      "\n",
      "\n",
      "TBO       : set(['onepiece', 'bottom'])\n",
      "categories: ['BASICS', 'DRESSES', 'SKIRTS']\n",
      "name: Knee-length Jersey Dress\n",
      "URL       : http://www.hm.com/us/product/68693?article=68693-C\n",
      "\n",
      "\n",
      "TBO       : set(['top', 'onepiece'])\n",
      "categories: ['SHIRTS', 'BLOUSES', 'TUNICS']\n",
      "name: Cotton Tunic\n",
      "URL       : http://www.hm.com/us/product/62224?article=62224-B\n",
      "\n",
      "\n",
      "TBO       : set(['onepiece', 'bottom'])\n",
      "categories: ['TROUSERS', 'JUMPSUIT']\n",
      "name: Jumpsuit with Lace Inserts\n",
      "URL       : http://www.hm.com/us/product/30499?article=30499-A\n",
      "\n",
      "\n",
      "TBO       : set(['onepiece', 'bottom'])\n",
      "categories: ['DIVIDED', 'BASICS', 'DRESSES', 'SKIRTS']\n",
      "name: Jersey Dress\n",
      "URL       : http://www.hm.com/us/product/58402?article=58402-C\n",
      "\n",
      "\n",
      "TBO       : set(['onepiece', 'bottom'])\n",
      "categories: ['DIVIDED', 'BASICS', 'DRESSES', 'SKIRTS']\n",
      "name: Jersey Dress\n",
      "URL       : http://www.hm.com/us/product/58402?article=58402-B\n",
      "\n",
      "\n",
      "TBO       : set(['onepiece', 'bottom'])\n",
      "categories: ['DIVIDED', 'BASICS', 'DRESSES', 'SKIRTS']\n",
      "name: Jersey Dress\n",
      "URL       : http://www.hm.com/us/product/58402?article=58402-A\n",
      "\n",
      "\n",
      "TBO       : set(['onepiece', 'bottom'])\n",
      "categories: ['BASICS', 'DRESSES', 'SKIRTS']\n",
      "name: Fine-knit Dress\n",
      "URL       : http://www.hm.com/us/product/33292?article=33292-A\n",
      "\n",
      "\n",
      "TBO       : set(['onepiece', 'bottom'])\n",
      "categories: ['BASICS', 'DRESSES', 'SKIRTS']\n",
      "name: V-neck Jersey Dress\n",
      "URL       : http://www.hm.com/us/product/68156?article=68156-B\n",
      "\n",
      "\n",
      "TBO       : set(['onepiece', 'bottom'])\n",
      "categories: ['BASICS', 'DRESSES', 'SKIRTS']\n",
      "name: V-neck Jersey Dress\n",
      "URL       : http://www.hm.com/us/product/68156?article=68156-C\n",
      "\n",
      "\n",
      "TBO       : set(['onepiece', 'bottom'])\n",
      "categories: ['BASICS', 'DRESSES', 'SKIRTS']\n",
      "name: V-neck Jersey Dress\n",
      "URL       : http://www.hm.com/us/product/68156?article=68156-A\n",
      "\n",
      "\n",
      "TBO       : set(['onepiece', 'bottom'])\n",
      "categories: ['BASICS', 'DRESSES', 'SKIRTS']\n",
      "name: V-neck Jersey Dress\n",
      "URL       : http://www.hm.com/us/product/68156?article=68156-D\n",
      "\n",
      "\n",
      "TBO       : set(['onepiece', 'bottom'])\n",
      "categories: ['BASICS', 'DRESSES', 'SKIRTS']\n",
      "name: Fine-knit Dress\n",
      "URL       : http://www.hm.com/us/product/51472?article=51472-B\n",
      "\n",
      "\n",
      "TBO       : set(['top', 'onepiece'])\n",
      "categories: ['SHIRTS', 'BLOUSES', 'TUNICS']\n",
      "name: V-neck Tunic\n",
      "URL       : http://www.hm.com/us/product/68372?article=68372-D\n",
      "\n",
      "\n",
      "TBO       : set(['top', 'onepiece'])\n",
      "categories: ['SHIRTS', 'BLOUSES', 'TUNICS']\n",
      "name: V-neck Tunic\n",
      "URL       : http://www.hm.com/us/product/68372?article=68372-C\n",
      "\n",
      "\n",
      "TBO       : set(['top', 'onepiece'])\n",
      "categories: ['SHIRTS', 'BLOUSES', 'TUNICS']\n",
      "name: V-neck Tunic\n",
      "URL       : http://www.hm.com/us/product/68372?article=68372-A\n",
      "\n",
      "\n",
      "TBO       : set(['top', 'onepiece'])\n",
      "categories: ['SHIRTS', 'BLOUSES', 'TUNICS']\n",
      "name: Tunic\n",
      "URL       : http://www.hm.com/us/product/67282?article=67282-B\n",
      "\n",
      "\n",
      "TBO       : set(['onepiece', 'bottom'])\n",
      "categories: ['BASICS', 'DRESSES', 'SKIRTS']\n",
      "name: Jersey Dress\n",
      "URL       : http://www.hm.com/us/product/20809?article=20809-B\n",
      "\n",
      "\n",
      "Count: 93\n"
     ]
    }
   ],
   "source": [
    "print_categories_with_tbo_num(2)"
   ]
  },
  {
   "cell_type": "markdown",
   "metadata": {},
   "source": [
    "* The 93 items are more than one TBO categories."
   ]
  },
  {
   "cell_type": "code",
   "execution_count": 53,
   "metadata": {
    "scrolled": true
   },
   "outputs": [
    {
     "name": "stdout",
     "output_type": "stream",
     "text": [
      "Count: 0\n"
     ]
    }
   ],
   "source": [
    "print_categories_with_tbo_num(3)"
   ]
  },
  {
   "cell_type": "markdown",
   "metadata": {},
   "source": [
    "###  Only for counting\n"
   ]
  },
  {
   "cell_type": "code",
   "execution_count": 41,
   "metadata": {
    "collapsed": true
   },
   "outputs": [],
   "source": [
    "def count_categories_with_tbo_num(tbo_num_to_print):\n",
    "    count = 0\n",
    "    for serial in dict_items_info:\n",
    "        dict_items_info[serial]['tbo'] = set()\n",
    "        categories = get_categories(dict_items_info[serial])\n",
    "        for category in categories:\n",
    "            if category in dict_tbo_categories['top']:\n",
    "                dict_items_info[serial]['tbo'].add('top')\n",
    "            if category in dict_tbo_categories['bottom']:\n",
    "                dict_items_info[serial]['tbo'].add('bottom')\n",
    "            if category in dict_tbo_categories['onepiece']:\n",
    "                dict_items_info[serial]['tbo'].add('onepiece')\n",
    "        if len(dict_items_info[serial]['tbo']) == tbo_num_to_print:\n",
    "            count = count + 1\n",
    "    print \"Count:\", count "
   ]
  },
  {
   "cell_type": "code",
   "execution_count": 46,
   "metadata": {},
   "outputs": [
    {
     "name": "stdout",
     "output_type": "stream",
     "text": [
      "Count: 3290\n"
     ]
    }
   ],
   "source": [
    "count_categories_with_tbo_num(0)"
   ]
  },
  {
   "cell_type": "code",
   "execution_count": 43,
   "metadata": {},
   "outputs": [
    {
     "name": "stdout",
     "output_type": "stream",
     "text": [
      "Count: 5081\n"
     ]
    }
   ],
   "source": [
    "count_categories_with_tbo_num(1)"
   ]
  },
  {
   "cell_type": "code",
   "execution_count": 44,
   "metadata": {},
   "outputs": [
    {
     "name": "stdout",
     "output_type": "stream",
     "text": [
      "Count: 93\n"
     ]
    }
   ],
   "source": [
    "count_categories_with_tbo_num(2)"
   ]
  },
  {
   "cell_type": "code",
   "execution_count": 45,
   "metadata": {},
   "outputs": [
    {
     "name": "stdout",
     "output_type": "stream",
     "text": [
      "Count: 0\n"
     ]
    }
   ],
   "source": [
    "count_categories_with_tbo_num(3)"
   ]
  },
  {
   "cell_type": "markdown",
   "metadata": {},
   "source": [
    "#### Reult: The number of items that has particular numbers of TBO categories\n",
    "* 0 TBO categories: 3290 (These are like accesories, shoes, hats, etc..)\n",
    "* 1 TBO category: 5081\n",
    "* 2 TBO categories: 93\n",
    "* 3 TBO categories: 0"
   ]
  },
  {
   "cell_type": "markdown",
   "metadata": {},
   "source": [
    "### Preventing from having 2 TBO categories"
   ]
  },
  {
   "cell_type": "code",
   "execution_count": 54,
   "metadata": {},
   "outputs": [
    {
     "name": "stdout",
     "output_type": "stream",
     "text": [
      "TBO       : set(['top', 'onepiece'])\n",
      "categories: ['SHIRTS', 'BLOUSES', 'TUNICS']\n",
      "name: Embroidered Cotton Tunic\n",
      "URL       : http://www.hm.com/us/product/67068?article=67068-C\n",
      "\n",
      "\n",
      "TBO       : set(['onepiece', 'bottom'])\n",
      "categories: ['DIVIDED', 'BASICS', 'DRESSES', 'SKIRTS']\n",
      "name: Jersey Skirt\n",
      "URL       : http://www.hm.com/us/product/15975?article=15975-B\n",
      "\n",
      "\n",
      "TBO       : set(['onepiece', 'bottom'])\n",
      "categories: ['DIVIDED', 'BASICS', 'DRESSES', 'SKIRTS']\n",
      "name: Jersey Dress\n",
      "URL       : http://www.hm.com/us/product/62061?article=62061-B\n",
      "\n",
      "\n",
      "TBO       : set(['onepiece', 'bottom'])\n",
      "categories: ['DIVIDED', 'BASICS', 'DRESSES', 'SKIRTS']\n",
      "name: Maxi Dress\n",
      "URL       : http://www.hm.com/us/product/27458?article=27458-M\n",
      "\n",
      "\n",
      "TBO       : set(['onepiece', 'bottom'])\n",
      "categories: ['DIVIDED', 'BASICS', 'DRESSES', 'SKIRTS']\n",
      "name: Maxi Dress\n",
      "URL       : http://www.hm.com/us/product/27458?article=27458-N\n",
      "\n",
      "\n",
      "TBO       : set(['onepiece', 'bottom'])\n",
      "categories: ['BASICS', 'DRESSES', 'SKIRTS']\n",
      "name: Ribbed Jersey Dress\n",
      "URL       : http://www.hm.com/us/product/65754?article=65754-A\n",
      "\n",
      "\n",
      "TBO       : set(['onepiece', 'bottom'])\n",
      "categories: ['BASICS', 'DRESSES', 'SKIRTS']\n",
      "name: Ribbed Jersey Dress\n",
      "URL       : http://www.hm.com/us/product/65754?article=65754-B\n",
      "\n",
      "\n",
      "TBO       : set(['onepiece', 'bottom'])\n",
      "categories: ['BASICS', 'DRESSES', 'SKIRTS']\n",
      "name: Strapless Jersey Dress\n",
      "URL       : http://www.hm.com/us/product/85485?article=85485-C\n",
      "\n",
      "\n",
      "TBO       : set(['onepiece', 'bottom'])\n",
      "categories: ['BASICS', 'DRESSES', 'SKIRTS']\n",
      "name: Strapless Jersey Dress\n",
      "URL       : http://www.hm.com/us/product/85485?article=85485-A\n",
      "\n",
      "\n",
      "TBO       : set(['onepiece', 'bottom'])\n",
      "categories: ['BASICS', 'DRESSES', 'SKIRTS']\n",
      "name: T-shirt Dress\n",
      "URL       : http://www.hm.com/us/product/70880?article=70880-B\n",
      "\n",
      "\n",
      "TBO       : set(['onepiece', 'bottom'])\n",
      "categories: ['BASICS', 'DRESSES', 'SKIRTS']\n",
      "name: T-shirt Dress\n",
      "URL       : http://www.hm.com/us/product/70880?article=70880-A\n",
      "\n",
      "\n",
      "TBO       : set(['onepiece', 'bottom'])\n",
      "categories: ['DIVIDED', 'BASICS', 'DRESSES', 'SKIRTS']\n",
      "name: T-shirt Dress\n",
      "URL       : http://www.hm.com/us/product/65509?article=65509-A\n",
      "\n",
      "\n",
      "TBO       : set(['onepiece', 'bottom'])\n",
      "categories: ['DIVIDED', 'BASICS', 'DRESSES', 'SKIRTS']\n",
      "name: T-shirt Dress\n",
      "URL       : http://www.hm.com/us/product/65509?article=65509-C\n",
      "\n",
      "\n",
      "TBO       : set(['onepiece', 'bottom'])\n",
      "categories: ['DIVIDED', 'BASICS', 'DRESSES', 'SKIRTS']\n",
      "name: T-shirt Dress\n",
      "URL       : http://www.hm.com/us/product/65509?article=65509-B\n",
      "\n",
      "\n",
      "TBO       : set(['onepiece', 'bottom'])\n",
      "categories: ['BASICS', 'DRESSES', 'SKIRTS']\n",
      "name: Short-sleeved Jersey Dress\n",
      "URL       : http://www.hm.com/us/product/32266?article=32266-Z\n",
      "\n",
      "\n",
      "TBO       : set(['onepiece', 'bottom'])\n",
      "categories: ['BASICS', 'DRESSES', 'SKIRTS']\n",
      "name: Short-sleeved Jersey Dress\n",
      "URL       : http://www.hm.com/us/product/32266?article=32266-X\n",
      "\n",
      "\n",
      "TBO       : set(['onepiece', 'bottom'])\n",
      "categories: ['BASICS', 'DRESSES', 'SKIRTS']\n",
      "name: Short-sleeved Jersey Dress\n",
      "URL       : http://www.hm.com/us/product/32266?article=32266-G\n",
      "\n",
      "\n",
      "TBO       : set(['onepiece', 'bottom'])\n",
      "categories: ['BASICS', 'DRESSES', 'SKIRTS']\n",
      "name: Short-sleeved Jersey Dress\n",
      "URL       : http://www.hm.com/us/product/32266?article=32266-F\n",
      "\n",
      "\n",
      "TBO       : set(['onepiece', 'bottom'])\n",
      "categories: ['DIVIDED', 'BASICS', 'DRESSES', 'SKIRTS']\n",
      "name: Ribbed Jersey Dress\n",
      "URL       : http://www.hm.com/us/product/54799?article=54799-E\n",
      "\n",
      "\n",
      "TBO       : set(['top', 'onepiece'])\n",
      "categories: ['SHIRTS', 'BLOUSES', 'TUNICS']\n",
      "name: Tunic\n",
      "URL       : http://www.hm.com/us/product/67282?article=67282-A\n",
      "\n",
      "\n",
      "TBO       : set(['onepiece', 'bottom'])\n",
      "categories: ['DIVIDED', 'BASICS', 'DRESSES', 'SKIRTS']\n",
      "name: Fitted Jersey Dress\n",
      "URL       : http://www.hm.com/us/product/70241?article=70241-A\n",
      "\n",
      "\n",
      "TBO       : set(['onepiece', 'bottom'])\n",
      "categories: ['DIVIDED', 'BASICS', 'DRESSES', 'SKIRTS']\n",
      "name: Fitted Jersey Dress\n",
      "URL       : http://www.hm.com/us/product/70241?article=70241-B\n",
      "\n",
      "\n",
      "TBO       : set(['onepiece', 'bottom'])\n",
      "categories: ['BASICS', 'DRESSES', 'SKIRTS']\n",
      "name: Jersey Dress\n",
      "URL       : http://www.hm.com/us/product/61041?article=61041-A\n",
      "\n",
      "\n",
      "TBO       : set(['onepiece', 'bottom'])\n",
      "categories: ['BASICS', 'DRESSES', 'SKIRTS']\n",
      "name: Jersey Dress\n",
      "URL       : http://www.hm.com/us/product/61041?article=61041-C\n",
      "\n",
      "\n",
      "TBO       : set(['top', 'onepiece'])\n",
      "categories: ['SHIRTS', 'BLOUSES', 'TUNICS']\n",
      "name: Lyocell Tunic\n",
      "URL       : http://www.hm.com/us/product/63837?article=63837-A\n",
      "\n",
      "\n",
      "TBO       : set(['onepiece', 'bottom'])\n",
      "categories: ['BASICS', 'DRESSES', 'SKIRTS']\n",
      "name: Long Jersey Dress\n",
      "URL       : http://www.hm.com/us/product/70438?article=70438-B\n",
      "\n",
      "\n",
      "TBO       : set(['onepiece', 'bottom'])\n",
      "categories: ['DIVIDED', 'BASICS', 'DRESSES', 'SKIRTS']\n",
      "name: Sweatshirt Dress\n",
      "URL       : http://www.hm.com/us/product/41707?article=41707-G\n",
      "\n",
      "\n",
      "TBO       : set(['top', 'onepiece'])\n",
      "categories: ['SHIRTS', 'BLOUSES', 'TUNICS']\n",
      "name: Cotton Tunic\n",
      "URL       : http://www.hm.com/us/product/67416?article=67416-C\n",
      "\n",
      "\n",
      "TBO       : set(['top', 'onepiece'])\n",
      "categories: ['SHIRTS', 'BLOUSES', 'TUNICS']\n",
      "name: Cotton Tunic\n",
      "URL       : http://www.hm.com/us/product/67416?article=67416-A\n",
      "\n",
      "\n",
      "TBO       : set(['onepiece', 'bottom'])\n",
      "categories: ['BASICS', 'DRESSES', 'SKIRTS']\n",
      "name: Pencil Skirt\n",
      "URL       : http://www.hm.com/us/product/55457?article=55457-B\n",
      "\n",
      "\n",
      "TBO       : set(['onepiece', 'bottom'])\n",
      "categories: ['BASICS', 'DRESSES', 'SKIRTS']\n",
      "name: Pencil Skirt\n",
      "URL       : http://www.hm.com/us/product/30443?article=30443-J\n",
      "\n",
      "\n",
      "TBO       : set(['onepiece', 'bottom'])\n",
      "categories: ['BASICS', 'DRESSES', 'SKIRTS']\n",
      "name: Pencil Skirt\n",
      "URL       : http://www.hm.com/us/product/30443?article=30443-B\n",
      "\n",
      "\n",
      "TBO       : set(['onepiece', 'bottom'])\n",
      "categories: ['BASICS', 'DRESSES', 'SKIRTS']\n",
      "name: Jersey Dress\n",
      "URL       : http://www.hm.com/us/product/44860?article=44860-F\n",
      "\n",
      "\n",
      "TBO       : set(['onepiece', 'bottom'])\n",
      "categories: ['BASICS', 'DRESSES', 'SKIRTS']\n",
      "name: Jersey Dress\n",
      "URL       : http://www.hm.com/us/product/44860?article=44860-E\n",
      "\n",
      "\n",
      "TBO       : set(['onepiece', 'bottom'])\n",
      "categories: ['BASICS', 'DRESSES', 'SKIRTS']\n",
      "name: Jersey Dress\n",
      "URL       : http://www.hm.com/us/product/44860?article=44860-A\n",
      "\n",
      "\n",
      "TBO       : set(['onepiece', 'bottom'])\n",
      "categories: ['BASICS', 'DRESSES', 'SKIRTS']\n",
      "name: Pencil Skirt\n",
      "URL       : http://www.hm.com/us/product/30443?article=30443-P\n",
      "\n",
      "\n",
      "TBO       : set(['onepiece', 'bottom'])\n",
      "categories: ['BASICS', 'DRESSES', 'SKIRTS']\n",
      "name: Ribbed Jersey Dress\n",
      "URL       : http://www.hm.com/us/product/70338?article=70338-A\n",
      "\n",
      "\n",
      "TBO       : set(['onepiece', 'bottom'])\n",
      "categories: ['BASICS', 'DRESSES', 'SKIRTS']\n",
      "name: Ribbed Jersey Dress\n",
      "URL       : http://www.hm.com/us/product/70338?article=70338-B\n",
      "\n",
      "\n",
      "TBO       : set(['top', 'onepiece'])\n",
      "categories: ['SHIRTS', 'BLOUSES', 'TUNICS']\n",
      "name: Jersey Tunic\n",
      "URL       : http://www.hm.com/us/product/45641?article=45641-H\n",
      "\n",
      "\n",
      "TBO       : set(['onepiece', 'bottom'])\n",
      "categories: ['DIVIDED', 'BASICS', 'DRESSES', 'SKIRTS']\n",
      "name: Sleeveless Jersey Dress\n",
      "URL       : http://www.hm.com/us/product/66134?article=66134-B\n",
      "\n",
      "\n",
      "TBO       : set(['onepiece', 'bottom'])\n",
      "categories: ['DIVIDED', 'BASICS', 'DRESSES', 'SKIRTS']\n",
      "name: Sleeveless Jersey Dress\n",
      "URL       : http://www.hm.com/us/product/66134?article=66134-C\n",
      "\n",
      "\n",
      "TBO       : set(['onepiece', 'bottom'])\n",
      "categories: ['BASICS', 'DRESSES', 'SKIRTS']\n",
      "name: Jersey Dress\n",
      "URL       : http://www.hm.com/us/product/38424?article=38424-D\n",
      "\n",
      "\n",
      "TBO       : set(['onepiece', 'bottom'])\n",
      "categories: ['BASICS', 'DRESSES', 'SKIRTS']\n",
      "name: Jersey Dress\n",
      "URL       : http://www.hm.com/us/product/38424?article=38424-B\n",
      "\n",
      "\n",
      "TBO       : set(['onepiece', 'bottom'])\n",
      "categories: ['BASICS', 'DRESSES', 'SKIRTS']\n",
      "name: Jersey Dress\n",
      "URL       : http://www.hm.com/us/product/61777?article=61777-A\n",
      "\n",
      "\n",
      "TBO       : set(['onepiece', 'bottom'])\n",
      "categories: ['BASICS', 'DRESSES', 'SKIRTS']\n",
      "name: Jersey Dress\n",
      "URL       : http://www.hm.com/us/product/61777?article=61777-B\n",
      "\n",
      "\n",
      "TBO       : set(['onepiece', 'bottom'])\n",
      "categories: ['BASICS', 'DRESSES', 'SKIRTS']\n",
      "name: Jersey Dress\n",
      "URL       : http://www.hm.com/us/product/61777?article=61777-E\n",
      "\n",
      "\n",
      "TBO       : set(['onepiece', 'bottom'])\n",
      "categories: ['BASICS', 'DRESSES', 'SKIRTS']\n",
      "name: Jersey Dress\n",
      "URL       : http://www.hm.com/us/product/61777?article=61777-F\n",
      "\n",
      "\n",
      "TBO       : set(['onepiece', 'bottom'])\n",
      "categories: ['BASICS', 'DRESSES', 'SKIRTS']\n",
      "name: Maxi Dress\n",
      "URL       : http://www.hm.com/us/product/29284?article=29284-A\n",
      "\n",
      "\n",
      "TBO       : set(['onepiece', 'bottom'])\n",
      "categories: ['BASICS', 'DRESSES', 'SKIRTS']\n",
      "name: Maxi Dress\n",
      "URL       : http://www.hm.com/us/product/29284?article=29284-F\n",
      "\n",
      "\n",
      "TBO       : set(['onepiece', 'bottom'])\n",
      "categories: ['DIVIDED', 'BASICS', 'DRESSES', 'SKIRTS']\n",
      "name: Hooded Sweatshirt Dress\n",
      "URL       : http://www.hm.com/us/product/69391?article=69391-A\n",
      "\n",
      "\n",
      "TBO       : set(['onepiece', 'bottom'])\n",
      "categories: ['DIVIDED', 'BASICS', 'DRESSES', 'SKIRTS']\n",
      "name: Hooded Sweatshirt Dress\n",
      "URL       : http://www.hm.com/us/product/69391?article=69391-B\n",
      "\n",
      "\n",
      "TBO       : set(['onepiece', 'bottom'])\n",
      "categories: ['DIVIDED', 'BASICS', 'DRESSES', 'SKIRTS']\n",
      "name: Hooded Sweatshirt Dress\n",
      "URL       : http://www.hm.com/us/product/69391?article=69391-C\n",
      "\n",
      "\n",
      "TBO       : set(['onepiece', 'bottom'])\n",
      "categories: ['DIVIDED', 'BASICS', 'DRESSES', 'SKIRTS']\n",
      "name: Ribbed Jersey Dress\n",
      "URL       : http://www.hm.com/us/product/60171?article=60171-D\n",
      "\n",
      "\n",
      "TBO       : set(['onepiece', 'bottom'])\n",
      "categories: ['DIVIDED', 'BASICS', 'DRESSES', 'SKIRTS']\n",
      "name: Ribbed Jersey Dress\n",
      "URL       : http://www.hm.com/us/product/60171?article=60171-C\n",
      "\n",
      "\n",
      "TBO       : set(['top', 'onepiece'])\n",
      "categories: ['SHIRTS', 'BLOUSES', 'TUNICS']\n",
      "name: Crêpe Tunic\n",
      "URL       : http://www.hm.com/us/product/61117?article=61117-A\n",
      "\n",
      "\n",
      "TBO       : set(['top', 'onepiece'])\n",
      "categories: ['SHIRTS', 'BLOUSES', 'TUNICS']\n",
      "name: Crêpe Tunic\n",
      "URL       : http://www.hm.com/us/product/61117?article=61117-B\n",
      "\n",
      "\n",
      "TBO       : set(['onepiece', 'bottom'])\n",
      "categories: ['BASICS', 'DRESSES', 'SKIRTS']\n",
      "name: Lyocell Dress\n",
      "URL       : http://www.hm.com/us/product/51585?article=51585-A\n",
      "\n",
      "\n",
      "TBO       : set(['top', 'onepiece'])\n",
      "categories: ['SHIRTS', 'BLOUSES', 'TUNICS']\n",
      "name: Lyocell-blend Tunic\n",
      "URL       : http://www.hm.com/us/product/61053?article=61053-A\n",
      "\n",
      "\n",
      "TBO       : set(['onepiece', 'bottom'])\n",
      "categories: ['BASICS', 'DRESSES', 'SKIRTS']\n",
      "name: Knee-length Jersey Dress\n",
      "URL       : http://www.hm.com/us/product/68693?article=68693-B\n",
      "\n",
      "\n",
      "TBO       : set(['top', 'onepiece'])\n",
      "categories: ['SHIRTS', 'BLOUSES', 'TUNICS']\n",
      "name: Embroidered Cotton Tunic\n",
      "URL       : http://www.hm.com/us/product/67068?article=67068-A\n",
      "\n",
      "\n",
      "TBO       : set(['top', 'onepiece'])\n",
      "categories: ['SHIRTS', 'BLOUSES', 'TUNICS']\n",
      "name: Embroidered Cotton Tunic\n",
      "URL       : http://www.hm.com/us/product/67068?article=67068-B\n",
      "\n",
      "\n",
      "TBO       : set(['onepiece', 'bottom'])\n",
      "categories: ['BASICS', 'DRESSES', 'SKIRTS']\n",
      "name: Short Jersey Dress\n",
      "URL       : http://www.hm.com/us/product/66300?article=66300-A\n",
      "\n",
      "\n",
      "TBO       : set(['onepiece', 'bottom'])\n",
      "categories: ['BASICS', 'DRESSES', 'SKIRTS']\n",
      "name: Long-sleeved Jersey Dress\n",
      "URL       : http://www.hm.com/us/product/38997?article=38997-C\n",
      "\n",
      "\n",
      "TBO       : set(['top', 'onepiece'])\n",
      "categories: ['SHIRTS', 'BLOUSES', 'TUNICS']\n",
      "name: Tunic\n",
      "URL       : http://www.hm.com/us/product/68560?article=68560-A\n",
      "\n",
      "\n",
      "TBO       : set(['onepiece', 'bottom'])\n",
      "categories: ['TROUSERS', 'JUMPSUIT']\n",
      "name: Chiffon Jumpsuit\n",
      "URL       : http://www.hm.com/us/product/37601?article=37601-A\n",
      "\n",
      "\n",
      "TBO       : set(['onepiece', 'bottom'])\n",
      "categories: ['DIVIDED', 'BASICS', 'DRESSES', 'SKIRTS']\n",
      "name: Circle Skirt\n",
      "URL       : http://www.hm.com/us/product/16032?article=16032-B\n",
      "\n",
      "\n",
      "TBO       : set(['onepiece', 'bottom'])\n",
      "categories: ['DIVIDED', 'BASICS', 'DRESSES', 'SKIRTS']\n",
      "name: Jersey Dress\n",
      "URL       : http://www.hm.com/us/product/35991?article=35991-B\n",
      "\n",
      "\n",
      "TBO       : set(['onepiece', 'bottom'])\n",
      "categories: ['DIVIDED', 'BASICS', 'DRESSES', 'SKIRTS']\n",
      "name: Jersey Dress\n",
      "URL       : http://www.hm.com/us/product/35991?article=35991-D\n",
      "\n",
      "\n",
      "TBO       : set(['onepiece', 'bottom'])\n",
      "categories: ['BASICS', 'DRESSES', 'SKIRTS']\n",
      "name: Short Jersey Dress\n",
      "URL       : http://www.hm.com/us/product/66300?article=66300-C\n",
      "\n",
      "\n",
      "TBO       : set(['onepiece', 'bottom'])\n",
      "categories: ['BASICS', 'DRESSES', 'SKIRTS']\n",
      "name: Short Jersey Dress\n",
      "URL       : http://www.hm.com/us/product/66300?article=66300-B\n",
      "\n",
      "\n",
      "TBO       : set(['top', 'onepiece'])\n",
      "categories: ['SHIRTS', 'BLOUSES', 'TUNICS']\n",
      "name: Striped Cotton Tunic\n",
      "URL       : http://www.hm.com/us/product/64346?article=64346-A\n",
      "\n",
      "\n",
      "TBO       : set(['onepiece', 'bottom'])\n",
      "categories: ['DIVIDED', 'BASICS', 'DRESSES', 'SKIRTS']\n",
      "name: Short Jersey Dress\n",
      "URL       : http://www.hm.com/us/product/70827?article=70827-D\n",
      "\n",
      "\n",
      "TBO       : set(['onepiece', 'bottom'])\n",
      "categories: ['DIVIDED', 'BASICS', 'DRESSES', 'SKIRTS']\n",
      "name: Short Jersey Dress\n",
      "URL       : http://www.hm.com/us/product/70827?article=70827-B\n",
      "\n",
      "\n",
      "TBO       : set(['onepiece', 'bottom'])\n",
      "categories: ['DIVIDED', 'BASICS', 'DRESSES', 'SKIRTS']\n",
      "name: Short Jersey Dress\n",
      "URL       : http://www.hm.com/us/product/70827?article=70827-C\n",
      "\n",
      "\n",
      "TBO       : set(['onepiece', 'bottom'])\n",
      "categories: ['DIVIDED', 'BASICS', 'DRESSES', 'SKIRTS']\n",
      "name: Short Jersey Dress\n",
      "URL       : http://www.hm.com/us/product/70827?article=70827-A\n",
      "\n",
      "\n",
      "TBO       : set(['onepiece', 'bottom'])\n",
      "categories: ['BASICS', 'DRESSES', 'SKIRTS']\n",
      "name: Knee-length Jersey Dress\n",
      "URL       : http://www.hm.com/us/product/68693?article=68693-A\n",
      "\n",
      "\n",
      "TBO       : set(['onepiece', 'bottom'])\n",
      "categories: ['BASICS', 'DRESSES', 'SKIRTS']\n",
      "name: Knee-length Jersey Dress\n",
      "URL       : http://www.hm.com/us/product/68693?article=68693-C\n",
      "\n",
      "\n",
      "TBO       : set(['top', 'onepiece'])\n",
      "categories: ['SHIRTS', 'BLOUSES', 'TUNICS']\n",
      "name: Cotton Tunic\n",
      "URL       : http://www.hm.com/us/product/62224?article=62224-B\n",
      "\n",
      "\n",
      "TBO       : set(['onepiece', 'bottom'])\n",
      "categories: ['TROUSERS', 'JUMPSUIT']\n",
      "name: Jumpsuit with Lace Inserts\n",
      "URL       : http://www.hm.com/us/product/30499?article=30499-A\n",
      "\n",
      "\n",
      "TBO       : set(['onepiece', 'bottom'])\n",
      "categories: ['DIVIDED', 'BASICS', 'DRESSES', 'SKIRTS']\n",
      "name: Jersey Dress\n",
      "URL       : http://www.hm.com/us/product/58402?article=58402-C\n",
      "\n",
      "\n",
      "TBO       : set(['onepiece', 'bottom'])\n",
      "categories: ['DIVIDED', 'BASICS', 'DRESSES', 'SKIRTS']\n",
      "name: Jersey Dress\n",
      "URL       : http://www.hm.com/us/product/58402?article=58402-B\n",
      "\n",
      "\n",
      "TBO       : set(['onepiece', 'bottom'])\n",
      "categories: ['DIVIDED', 'BASICS', 'DRESSES', 'SKIRTS']\n",
      "name: Jersey Dress\n",
      "URL       : http://www.hm.com/us/product/58402?article=58402-A\n",
      "\n",
      "\n",
      "TBO       : set(['onepiece', 'bottom'])\n",
      "categories: ['BASICS', 'DRESSES', 'SKIRTS']\n",
      "name: Fine-knit Dress\n",
      "URL       : http://www.hm.com/us/product/33292?article=33292-A\n",
      "\n",
      "\n",
      "TBO       : set(['onepiece', 'bottom'])\n",
      "categories: ['BASICS', 'DRESSES', 'SKIRTS']\n",
      "name: V-neck Jersey Dress\n",
      "URL       : http://www.hm.com/us/product/68156?article=68156-B\n",
      "\n",
      "\n",
      "TBO       : set(['onepiece', 'bottom'])\n",
      "categories: ['BASICS', 'DRESSES', 'SKIRTS']\n",
      "name: V-neck Jersey Dress\n",
      "URL       : http://www.hm.com/us/product/68156?article=68156-C\n",
      "\n",
      "\n",
      "TBO       : set(['onepiece', 'bottom'])\n",
      "categories: ['BASICS', 'DRESSES', 'SKIRTS']\n",
      "name: V-neck Jersey Dress\n",
      "URL       : http://www.hm.com/us/product/68156?article=68156-A\n",
      "\n",
      "\n",
      "TBO       : set(['onepiece', 'bottom'])\n",
      "categories: ['BASICS', 'DRESSES', 'SKIRTS']\n",
      "name: V-neck Jersey Dress\n",
      "URL       : http://www.hm.com/us/product/68156?article=68156-D\n",
      "\n",
      "\n",
      "TBO       : set(['onepiece', 'bottom'])\n",
      "categories: ['BASICS', 'DRESSES', 'SKIRTS']\n",
      "name: Fine-knit Dress\n",
      "URL       : http://www.hm.com/us/product/51472?article=51472-B\n",
      "\n",
      "\n",
      "TBO       : set(['top', 'onepiece'])\n",
      "categories: ['SHIRTS', 'BLOUSES', 'TUNICS']\n",
      "name: V-neck Tunic\n",
      "URL       : http://www.hm.com/us/product/68372?article=68372-D\n",
      "\n",
      "\n",
      "TBO       : set(['top', 'onepiece'])\n",
      "categories: ['SHIRTS', 'BLOUSES', 'TUNICS']\n",
      "name: V-neck Tunic\n",
      "URL       : http://www.hm.com/us/product/68372?article=68372-C\n",
      "\n",
      "\n",
      "TBO       : set(['top', 'onepiece'])\n",
      "categories: ['SHIRTS', 'BLOUSES', 'TUNICS']\n",
      "name: V-neck Tunic\n",
      "URL       : http://www.hm.com/us/product/68372?article=68372-A\n",
      "\n",
      "\n",
      "TBO       : set(['top', 'onepiece'])\n",
      "categories: ['SHIRTS', 'BLOUSES', 'TUNICS']\n",
      "name: Tunic\n",
      "URL       : http://www.hm.com/us/product/67282?article=67282-B\n",
      "\n",
      "\n",
      "TBO       : set(['onepiece', 'bottom'])\n",
      "categories: ['BASICS', 'DRESSES', 'SKIRTS']\n",
      "name: Jersey Dress\n",
      "URL       : http://www.hm.com/us/product/20809?article=20809-B\n",
      "\n",
      "\n",
      "Count: 93\n"
     ]
    }
   ],
   "source": [
    "print_categories_with_tbo_num(2)"
   ]
  },
  {
   "cell_type": "code",
   "execution_count": 62,
   "metadata": {
    "collapsed": true
   },
   "outputs": [],
   "source": [
    "def print_categories_with_tbo_num_for_name_last_word(tbo_num_to_print):\n",
    "    set_name_last_word = set()\n",
    "    \n",
    "    for serial in dict_items_info:\n",
    "        dict_items_info[serial]['tbo'] = set()\n",
    "        categories = get_categories(dict_items_info[serial])\n",
    "        for category in categories:\n",
    "            if category in dict_tbo_categories['top']:\n",
    "                dict_items_info[serial]['tbo'].add('top')\n",
    "            if category in dict_tbo_categories['bottom']:\n",
    "                dict_items_info[serial]['tbo'].add('bottom')\n",
    "            if category in dict_tbo_categories['onepiece']:\n",
    "                dict_items_info[serial]['tbo'].add('onepiece')\n",
    "        if len(dict_items_info[serial]['tbo']) == tbo_num_to_print:\n",
    "            name_last_word = dict_items_info[serial]['name'].split()[-1]\n",
    "            set_name_last_word.add(name_last_word)\n",
    "    print \"set_name_last_word:\", set_name_last_word "
   ]
  },
  {
   "cell_type": "code",
   "execution_count": 63,
   "metadata": {
    "scrolled": true
   },
   "outputs": [
    {
     "name": "stdout",
     "output_type": "stream",
     "text": [
      "set_name_last_word: set(['Skirt', 'Jumpsuit', 'Tunic', 'Inserts', 'Dress'])\n"
     ]
    }
   ],
   "source": [
    "print_categories_with_tbo_num_for_name_last_word(2)"
   ]
  },
  {
   "cell_type": "code",
   "execution_count": 67,
   "metadata": {
    "collapsed": true
   },
   "outputs": [],
   "source": [
    "def print_categories_with_tbo_num_for_name_first_word(tbo_num_to_print):\n",
    "    set_name_first_word = set()\n",
    "    \n",
    "    for serial in dict_items_info:\n",
    "        dict_items_info[serial]['tbo'] = set()\n",
    "        categories = get_categories(dict_items_info[serial])\n",
    "        for category in categories:\n",
    "            if category in dict_tbo_categories['top']:\n",
    "                dict_items_info[serial]['tbo'].add('top')\n",
    "            if category in dict_tbo_categories['bottom']:\n",
    "                dict_items_info[serial]['tbo'].add('bottom')\n",
    "            if category in dict_tbo_categories['onepiece']:\n",
    "                dict_items_info[serial]['tbo'].add('onepiece')\n",
    "        if len(dict_items_info[serial]['tbo']) == tbo_num_to_print:\n",
    "            name_first_word = dict_items_info[serial]['name'].split()[0]\n",
    "            set_name_first_word.add(name_first_word)\n",
    "    print \"set_name_first_word:\", set_name_first_word "
   ]
  },
  {
   "cell_type": "code",
   "execution_count": 68,
   "metadata": {},
   "outputs": [
    {
     "name": "stdout",
     "output_type": "stream",
     "text": [
      "set_name_first_word: set(['Hooded', 'Long', 'Maxi', 'Circle', 'Cr\\xc3\\xaape', 'Pencil', 'Knee-length', 'Fine-knit', 'T-shirt', 'Jersey', 'V-neck', 'Striped', 'Short', 'Tunic', 'Sleeveless', 'Ribbed', 'Lyocell', 'Lyocell-blend', 'Fitted', 'Long-sleeved', 'Strapless', 'Chiffon', 'Embroidered', 'Sweatshirt', 'Jumpsuit', 'Short-sleeved', 'Cotton'])\n"
     ]
    }
   ],
   "source": [
    "print_categories_with_tbo_num_for_name_first_word(2)"
   ]
  },
  {
   "cell_type": "markdown",
   "metadata": {},
   "source": [
    "__My conclusion__: ignore the items with more than one TBO categries."
   ]
  },
  {
   "cell_type": "markdown",
   "metadata": {},
   "source": [
    "## 4. Add the TBO category"
   ]
  },
  {
   "cell_type": "code",
   "execution_count": 69,
   "metadata": {
    "collapsed": true
   },
   "outputs": [],
   "source": [
    "from interface import *"
   ]
  },
  {
   "cell_type": "code",
   "execution_count": 70,
   "metadata": {
    "collapsed": true
   },
   "outputs": [],
   "source": [
    "dict_tbo_categories = import_tbo_categories()"
   ]
  },
  {
   "cell_type": "code",
   "execution_count": 74,
   "metadata": {
    "collapsed": true
   },
   "outputs": [],
   "source": [
    "pf = open('pickle_data/dict_all_items_info.p', 'rb')\n",
    "dict_items_info = pickle.load(pf)\n",
    "pf.close()"
   ]
  },
  {
   "cell_type": "code",
   "execution_count": 75,
   "metadata": {
    "collapsed": true
   },
   "outputs": [],
   "source": [
    "def get_categories(item_info):\n",
    "    metricCategoryID = item_info['metricCategoryID']\n",
    "    # Delete the first and last strings\n",
    "    categories = metricCategoryID.split('_')[1:-1]\n",
    "    return categories"
   ]
  },
  {
   "cell_type": "code",
   "execution_count": 78,
   "metadata": {},
   "outputs": [
    {
     "name": "stdout",
     "output_type": "stream",
     "text": [
      "count items with 1 TBO: 5081\n",
      "len(dict_items_info): 5081\n"
     ]
    }
   ],
   "source": [
    "set_tbo = set()\n",
    "count = 0\n",
    "serials_to_delete = []\n",
    "for serial in dict_items_info:\n",
    "    categories = get_categories(dict_items_info[serial])\n",
    "    for category in categories:\n",
    "        if category in dict_tbo_categories['top']:\n",
    "            set_tbo.add('top')\n",
    "        if category in dict_tbo_categories['bottom']:\n",
    "            set_tbo.add('bottom')\n",
    "        if category in dict_tbo_categories['onepiece']:\n",
    "            set_tbo.add('onepiece')\n",
    "    if len(set_tbo) == 1: # Dealing with items with only one TBO category.\n",
    "        dict_items_info[serial]['tbo'] = list(set_tbo)[0]\n",
    "        count = count + 1\n",
    "    else:\n",
    "        serials_to_delete.append(serial)\n",
    "    set_tbo.clear()\n",
    "print \"count items with 1 TBO:\", count\n",
    "\n",
    "for serial in serials_to_delete:\n",
    "    del dict_items_info[serial]\n",
    "\n",
    "print \"len(dict_items_info):\", len(dict_items_info)"
   ]
  },
  {
   "cell_type": "markdown",
   "metadata": {},
   "source": [
    "### Test"
   ]
  },
  {
   "cell_type": "code",
   "execution_count": 79,
   "metadata": {
    "collapsed": true
   },
   "outputs": [],
   "source": [
    "import random"
   ]
  },
  {
   "cell_type": "code",
   "execution_count": 146,
   "metadata": {
    "scrolled": true
   },
   "outputs": [
    {
     "data": {
      "text/plain": [
       "('63358-A',\n",
       " {'color': 'Black',\n",
       "  'image': {'item': 'http://lp.hm.com/hmprod?set=key[source],value[/model/2016/E00 0453000 001 48 1528.jpg]&set=key[rotate],value[]&set=key[width],value[]&set=key[height],value[]&set=key[x],value[]&set=key[y],value[]&set=key[type],value[STILL_LIFE_FRONT]&set=key[hmver],value[1]&call=url[file:/product/large]',\n",
       "   'model': 'http://lp.hm.com/hmprod?set=key[source],value[/environment/2017/8HZ_0452_013R.jpg]&set=key[rotate],value[0]&set=key[width],value[4015]&set=key[height],value[4695]&set=key[x],value[0]&set=key[y],value[-1]&set=key[type],value[FASHION_FRONT]&set=key[hmver],value[0]&call=url[file:/product/large]'},\n",
       "  'metricCategoryID': 'MEN_CASUAL_JACKETS_COATS_M071',\n",
       "  'name': 'Jacket with Stand-up Collar',\n",
       "  'tbo': 'top',\n",
       "  'url': 'http://www.hm.com/us/product/63358?article=63358-A',\n",
       "  'who': 'Men'})"
      ]
     },
     "execution_count": 146,
     "metadata": {},
     "output_type": "execute_result"
    }
   ],
   "source": [
    "random.choice(dict_items_info.items())"
   ]
  },
  {
   "cell_type": "markdown",
   "metadata": {},
   "source": [
    "### Serialization"
   ]
  },
  {
   "cell_type": "markdown",
   "metadata": {},
   "source": [
    "# 5. Count how many items to extract"
   ]
  },
  {
   "cell_type": "code",
   "execution_count": 69,
   "metadata": {
    "collapsed": true
   },
   "outputs": [],
   "source": [
    "from interface import *"
   ]
  },
  {
   "cell_type": "code",
   "execution_count": 70,
   "metadata": {
    "collapsed": true
   },
   "outputs": [],
   "source": [
    "dict_tbo_categories = import_tbo_categories()"
   ]
  },
  {
   "cell_type": "code",
   "execution_count": 147,
   "metadata": {
    "collapsed": true
   },
   "outputs": [],
   "source": [
    "def count_has_in(categories, dict_items_info, who):\n",
    "    # who: 'Women', or 'Men'\n",
    "    count = 0\n",
    "    for serial in dict_items_info:\n",
    "        if who != dict_items_info[serial]['who']:\n",
    "            continue\n",
    "        metricCategoryID = dict_items_info[serial]['metricCategoryID']\n",
    "        # Delete the first and last strings\n",
    "        metricCategories = metricCategoryID.split('_')[1:-1]\n",
    "        for category in categories:\n",
    "            if category in metricCategories:\n",
    "                count = count + 1\n",
    "                break\n",
    "    return count"
   ]
  },
  {
   "cell_type": "markdown",
   "metadata": {},
   "source": [
    "### Women"
   ]
  },
  {
   "cell_type": "code",
   "execution_count": 163,
   "metadata": {
    "scrolled": true
   },
   "outputs": [
    {
     "name": "stdout",
     "output_type": "stream",
     "text": [
      "3690\n"
     ]
    }
   ],
   "source": [
    "tbo_categories = dict_tbo_categories['top'] + dict_tbo_categories['bottom'] + dict_tbo_categories['onepiece']\n",
    "women = count_has_in(tbo_categories, dict_items_info, 'Women') \n",
    "print women"
   ]
  },
  {
   "cell_type": "markdown",
   "metadata": {},
   "source": [
    "### Men"
   ]
  },
  {
   "cell_type": "code",
   "execution_count": 165,
   "metadata": {
    "scrolled": true
   },
   "outputs": [
    {
     "name": "stdout",
     "output_type": "stream",
     "text": [
      "1391\n"
     ]
    }
   ],
   "source": [
    "men = count_has_in(tbo_categories, dict_items_info, 'Men')\n",
    "print men"
   ]
  },
  {
   "cell_type": "markdown",
   "metadata": {},
   "source": [
    "### Women + Men"
   ]
  },
  {
   "cell_type": "code",
   "execution_count": 166,
   "metadata": {},
   "outputs": [
    {
     "name": "stdout",
     "output_type": "stream",
     "text": [
      "5081\n"
     ]
    }
   ],
   "source": [
    "print men + women"
   ]
  },
  {
   "cell_type": "markdown",
   "metadata": {},
   "source": [
    "### Women Top"
   ]
  },
  {
   "cell_type": "code",
   "execution_count": 167,
   "metadata": {
    "scrolled": true
   },
   "outputs": [
    {
     "name": "stdout",
     "output_type": "stream",
     "text": [
      "1873\n"
     ]
    }
   ],
   "source": [
    "women_top = count_has_in(dict_tbo_categories['top'], dict_items_info, 'Women')\n",
    "print women_top"
   ]
  },
  {
   "cell_type": "markdown",
   "metadata": {},
   "source": [
    "### Men Top"
   ]
  },
  {
   "cell_type": "code",
   "execution_count": 168,
   "metadata": {},
   "outputs": [
    {
     "name": "stdout",
     "output_type": "stream",
     "text": [
      "922\n"
     ]
    }
   ],
   "source": [
    "men_top = count_has_in(dict_tbo_categories['top'], dict_items_info, 'Men')\n",
    "print men_top"
   ]
  },
  {
   "cell_type": "markdown",
   "metadata": {},
   "source": [
    "### Women Top + Men Top"
   ]
  },
  {
   "cell_type": "code",
   "execution_count": 169,
   "metadata": {},
   "outputs": [
    {
     "name": "stdout",
     "output_type": "stream",
     "text": [
      "2795\n"
     ]
    }
   ],
   "source": [
    "print women_top + men_top"
   ]
  },
  {
   "cell_type": "markdown",
   "metadata": {},
   "source": [
    "### Women Bottom"
   ]
  },
  {
   "cell_type": "code",
   "execution_count": 171,
   "metadata": {
    "scrolled": true
   },
   "outputs": [
    {
     "name": "stdout",
     "output_type": "stream",
     "text": [
      "994\n"
     ]
    }
   ],
   "source": [
    "women_bottom = count_has_in(dict_tbo_categories['bottom'], dict_items_info, 'Women')\n",
    "print women_bottom"
   ]
  },
  {
   "cell_type": "markdown",
   "metadata": {},
   "source": [
    "### Men Bottom"
   ]
  },
  {
   "cell_type": "code",
   "execution_count": 173,
   "metadata": {},
   "outputs": [
    {
     "name": "stdout",
     "output_type": "stream",
     "text": [
      "469\n"
     ]
    }
   ],
   "source": [
    "men_bottom = count_has_in(dict_tbo_categories['bottom'], dict_items_info, 'Men')\n",
    "print men_bottom"
   ]
  },
  {
   "cell_type": "markdown",
   "metadata": {},
   "source": [
    "### Women Bottom + Men Bottom"
   ]
  },
  {
   "cell_type": "code",
   "execution_count": 174,
   "metadata": {},
   "outputs": [
    {
     "name": "stdout",
     "output_type": "stream",
     "text": [
      "1463\n"
     ]
    }
   ],
   "source": [
    "print women_bottom + men_bottom"
   ]
  },
  {
   "cell_type": "markdown",
   "metadata": {},
   "source": [
    "### Women Onepiece"
   ]
  },
  {
   "cell_type": "code",
   "execution_count": 176,
   "metadata": {
    "scrolled": false
   },
   "outputs": [
    {
     "name": "stdout",
     "output_type": "stream",
     "text": [
      "823\n"
     ]
    }
   ],
   "source": [
    "women_onepiece = count_has_in(dict_tbo_categories['onepiece'], dict_items_info, 'Women')\n",
    "print women_onepiece"
   ]
  },
  {
   "cell_type": "markdown",
   "metadata": {},
   "source": [
    "### Men Onepiece"
   ]
  },
  {
   "cell_type": "code",
   "execution_count": 177,
   "metadata": {
    "scrolled": true
   },
   "outputs": [
    {
     "name": "stdout",
     "output_type": "stream",
     "text": [
      "0\n"
     ]
    }
   ],
   "source": [
    "men_onepiece = count_has_in(dict_tbo_categories['onepiece'], dict_items_info, 'Men')\n",
    "print men_onepiece"
   ]
  },
  {
   "cell_type": "markdown",
   "metadata": {},
   "source": [
    "### Women Onepiece + Men Onepiece"
   ]
  },
  {
   "cell_type": "code",
   "execution_count": 178,
   "metadata": {},
   "outputs": [
    {
     "name": "stdout",
     "output_type": "stream",
     "text": [
      "823\n"
     ]
    }
   ],
   "source": [
    "print women_onepiece + men_onepiece"
   ]
  },
  {
   "cell_type": "markdown",
   "metadata": {},
   "source": [
    "### Check"
   ]
  },
  {
   "cell_type": "code",
   "execution_count": 179,
   "metadata": {},
   "outputs": [
    {
     "data": {
      "text/plain": [
       "True"
      ]
     },
     "execution_count": 179,
     "metadata": {},
     "output_type": "execute_result"
    }
   ],
   "source": [
    "women == (women_top + women_bottom + women_onepiece)"
   ]
  },
  {
   "cell_type": "code",
   "execution_count": 180,
   "metadata": {},
   "outputs": [
    {
     "data": {
      "text/plain": [
       "True"
      ]
     },
     "execution_count": 180,
     "metadata": {},
     "output_type": "execute_result"
    }
   ],
   "source": [
    "men == (men_top + men_bottom + men_onepiece)"
   ]
  },
  {
   "cell_type": "markdown",
   "metadata": {},
   "source": [
    "### Result\n",
    "* The number of items in the TBO categories: 5081 (Women: 3690, Men: 1391) (5-11\\_category\\_analysis\\_for\\_all\\_items.ipynb)\n",
    "  * The number of tops: 2795 (Women: 1873, Men: 922)\n",
    "  * The number of bottoms: 1463 (Women: 994, Men: 469)\n",
    "  * The number of onepieces: 823 (Women: 823, Men: 0)"
   ]
  }
 ],
 "metadata": {
  "kernelspec": {
   "display_name": "Python 2",
   "language": "python",
   "name": "python2"
  },
  "language_info": {
   "codemirror_mode": {
    "name": "ipython",
    "version": 2
   },
   "file_extension": ".py",
   "mimetype": "text/x-python",
   "name": "python",
   "nbconvert_exporter": "python",
   "pygments_lexer": "ipython2",
   "version": "2.7.13"
  }
 },
 "nbformat": 4,
 "nbformat_minor": 2
}
