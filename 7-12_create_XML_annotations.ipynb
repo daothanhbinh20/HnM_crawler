{
 "cells": [
  {
   "cell_type": "code",
   "execution_count": 1,
   "metadata": {
    "collapsed": true
   },
   "outputs": [],
   "source": [
    "from annot_xml_gen import *\n",
    "from PIL import Image\n",
    "import os"
   ]
  },
  {
   "cell_type": "code",
   "execution_count": 2,
   "metadata": {
    "collapsed": true
   },
   "outputs": [],
   "source": [
    "dir_name = 'images_items'\n",
    "list_file_name = os.listdir(dir_name)\n",
    "case = {'T':'top', 'B':'bottom', 'O':'onepiece'} # For the switch-case statement"
   ]
  },
  {
   "cell_type": "code",
   "execution_count": 3,
   "metadata": {
    "collapsed": true
   },
   "outputs": [],
   "source": [
    "dict_12_new_to_old_name = dict()\n",
    "dict_12_old_to_new_name = dict()"
   ]
  },
  {
   "cell_type": "code",
   "execution_count": 4,
   "metadata": {
    "collapsed": false
   },
   "outputs": [],
   "source": [
    "i = 9964\n",
    "for file_name in list_file_name:\n",
    "    \n",
    "    # Extract the width and height of an image file.\n",
    "    im = Image.open(dir_name + '/' + file_name)\n",
    "    (width, height) = im.size\n",
    "\n",
    "    # Naming XMLs\n",
    "    new_file_name = ('%06d' % i) + '.jpg'\n",
    "    \n",
    "    # increase i by 1\n",
    "    i = i + 1\n",
    "    \n",
    "    # Make an annotation dictionary.\n",
    "    annot_dict = dict()\n",
    "    annot_dict['folder'] = 'VOC2007'\n",
    "    annot_dict['filename'] = new_file_name\n",
    "    annot_dict['size'] = dict()\n",
    "    annot_dict['size']['width'] = str(width)\n",
    "    annot_dict['size']['height'] = str(height)\n",
    "    annot_dict['size']['depth'] = str(3)\n",
    "    annot_dict['object'] = dict()\n",
    "    annot_dict['object']['name'] = case[file_name[file_name.rfind('.') - 1]] # switch-case statement\n",
    "    annot_dict['object']['difficult'] = str(0)\n",
    "    annot_dict['object']['bndbox'] = dict()\n",
    "    annot_dict['object']['bndbox']['xmin'] = '0'\n",
    "    annot_dict['object']['bndbox']['ymin'] = '0'\n",
    "    annot_dict['object']['bndbox']['xmax'] = str(width)\n",
    "    annot_dict['object']['bndbox']['ymax'] = str(height)\n",
    "    \n",
    "    # A function converting an annotation dictionary to an annotation XML file\n",
    "    annotdict_to_annotxml(annot_dict, 'images_items_annotation')\n",
    "    \n",
    "    # Rename the image file names\n",
    "    os.rename(dir_name + '/' + file_name, dir_name + '/' + new_file_name)\n",
    "    dict_12_new_to_old_name[new_file_name] = file_name\n",
    "    dict_12_old_to_new_name[file_name] = new_file_name"
   ]
  },
  {
   "cell_type": "code",
   "execution_count": 5,
   "metadata": {
    "collapsed": false
   },
   "outputs": [
    {
     "name": "stdout",
     "output_type": "stream",
     "text": [
      "False\n"
     ]
    }
   ],
   "source": [
    "# Check if there is some skipped file.\n",
    "list_file_name_new = os.listdir('images_items_annotation')\n",
    "print len(list_file_name) == len(list_file_name_new)"
   ]
  },
  {
   "cell_type": "code",
   "execution_count": 6,
   "metadata": {
    "collapsed": true
   },
   "outputs": [],
   "source": [
    "import pickle\n",
    "f = open('pickle_data/dict_12_new_to_old_name', 'wb')\n",
    "pickle.dump(dict_12_new_to_old_name, f)\n",
    "f.close()\n",
    "f = open('pickle_data/dict_12_old_to_new_name', 'wb')\n",
    "pickle.dump(dict_12_old_to_new_name, f)\n",
    "f.close()"
   ]
  },
  {
   "cell_type": "code",
   "execution_count": 7,
   "metadata": {
    "collapsed": false
   },
   "outputs": [
    {
     "data": {
      "text/plain": [
       "[('011854.jpg', '64576-A_IMT.jpg'),\n",
       " ('013679.jpg', '63760-D_IWT.jpg'),\n",
       " ('013160.jpg', '38298-T_IMT.jpg'),\n",
       " ('013156.jpg', '30709-A_IWO.jpg'),\n",
       " ('012738.jpg', '66468-B_IWT.jpg'),\n",
       " ('010815.jpg', '64765-D_IMT.jpg'),\n",
       " ('014972.jpg', '65295-A_IWT.jpg'),\n",
       " ('011089.jpg', '66733-D_IWT.jpg'),\n",
       " ('014034.jpg', '66321-G_IMT.jpg'),\n",
       " ('013760.jpg', '64721-A_IWT.jpg')]"
      ]
     },
     "execution_count": 7,
     "metadata": {},
     "output_type": "execute_result"
    }
   ],
   "source": [
    "dict_12_new_to_old_name.items()[:10]"
   ]
  },
  {
   "cell_type": "code",
   "execution_count": 8,
   "metadata": {
    "collapsed": false,
    "scrolled": true
   },
   "outputs": [
    {
     "data": {
      "text/plain": [
       "[('59442-A_IWO.jpg', '011058.jpg'),\n",
       " ('64382-C_IWT.jpg', '014232.jpg'),\n",
       " ('65450-C_IWT.jpg', '013377.jpg'),\n",
       " ('55141-C_IWO.jpg', '010354.jpg'),\n",
       " ('49110-D_IMT.jpg', '013092.jpg'),\n",
       " ('96262-Z_IWB.jpg', '010412.jpg'),\n",
       " ('68354-A_IWT.jpg', '012022.jpg'),\n",
       " ('70751-A_IWO.jpg', '013823.jpg'),\n",
       " ('70363-A_IMT.jpg', '012617.jpg'),\n",
       " ('59570-I_IWT.jpg', '010478.jpg')]"
      ]
     },
     "execution_count": 8,
     "metadata": {},
     "output_type": "execute_result"
    }
   ],
   "source": [
    "dict_12_old_to_new_name.items()[:10]"
   ]
  },
  {
   "cell_type": "code",
   "execution_count": 9,
   "metadata": {
    "collapsed": false
   },
   "outputs": [
    {
     "data": {
      "text/plain": [
       "'64576-A_IMT.jpg'"
      ]
     },
     "execution_count": 9,
     "metadata": {},
     "output_type": "execute_result"
    }
   ],
   "source": [
    "dict_12_new_to_old_name['011854.jpg']"
   ]
  },
  {
   "cell_type": "code",
   "execution_count": 10,
   "metadata": {
    "collapsed": false
   },
   "outputs": [
    {
     "data": {
      "text/plain": [
       "'011854.jpg'"
      ]
     },
     "execution_count": 10,
     "metadata": {},
     "output_type": "execute_result"
    }
   ],
   "source": [
    "dict_12_old_to_new_name['64576-A_IMT.jpg']"
   ]
  }
 ],
 "metadata": {
  "kernelspec": {
   "display_name": "Python 2",
   "language": "python",
   "name": "python2"
  },
  "language_info": {
   "codemirror_mode": {
    "name": "ipython",
    "version": 2
   },
   "file_extension": ".py",
   "mimetype": "text/x-python",
   "name": "python",
   "nbconvert_exporter": "python",
   "pygments_lexer": "ipython2",
   "version": "2.7.12"
  }
 },
 "nbformat": 4,
 "nbformat_minor": 2
}
