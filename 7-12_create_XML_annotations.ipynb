{
 "cells": [
  {
   "cell_type": "code",
   "execution_count": 1,
   "metadata": {
    "collapsed": true
   },
   "outputs": [],
   "source": [
    "from annot_xml_gen import *\n",
    "from PIL import Image\n",
    "import os"
   ]
  },
  {
   "cell_type": "code",
   "execution_count": 2,
   "metadata": {
    "collapsed": true
   },
   "outputs": [],
   "source": [
    "dir_name = 'images_items'\n",
    "list_file_name = os.listdir(dir_name)\n",
    "case = {'T':'top', 'B':'bottom', 'O':'onepiece'} # For the switch-case statement"
   ]
  },
  {
   "cell_type": "code",
   "execution_count": 3,
   "metadata": {
    "collapsed": true
   },
   "outputs": [],
   "source": [
    "for file_name in list_file_name:\n",
    "    \n",
    "    # Extract the width and height of an image file.\n",
    "    im = Image.open(dir_name + '/' + file_name)\n",
    "    (width, height) = im.size\n",
    "\n",
    "    # Make an annotation dictionary.\n",
    "    annot_dict = dict()\n",
    "    annot_dict['folder'] = dir_name\n",
    "    annot_dict['filename'] = file_name\n",
    "    annot_dict['size'] = dict()\n",
    "    annot_dict['size']['width'] = str(width)\n",
    "    annot_dict['size']['height'] = str(height)\n",
    "    annot_dict['size']['depth'] = str(3)\n",
    "    annot_dict['object'] = dict()\n",
    "    annot_dict['object']['name'] = case[file_name[file_name.rfind('.') - 1]] # switch-case statement\n",
    "    annot_dict['object']['bndbox'] = dict()\n",
    "    annot_dict['object']['bndbox']['xmin'] = '0'\n",
    "    annot_dict['object']['bndbox']['ymin'] = '0'\n",
    "    annot_dict['object']['bndbox']['xmax'] = str(width)\n",
    "    annot_dict['object']['bndbox']['ymax'] = str(height)\n",
    "    \n",
    "    # A function converting an annotation dictionary to an annotation XML file\n",
    "    annotdict_to_annotxml(annot_dict, 'images_items_annotation')"
   ]
  },
  {
   "cell_type": "code",
   "execution_count": 4,
   "metadata": {
    "collapsed": false
   },
   "outputs": [
    {
     "name": "stdout",
     "output_type": "stream",
     "text": [
      "True\n"
     ]
    }
   ],
   "source": [
    "# Check if there is some skipped file.\n",
    "list_file_name_new = os.listdir('images_items_annotation')\n",
    "print len(list_file_name) == len(list_file_name_new)"
   ]
  }
 ],
 "metadata": {
  "kernelspec": {
   "display_name": "Python 2",
   "language": "python",
   "name": "python2"
  },
  "language_info": {
   "codemirror_mode": {
    "name": "ipython",
    "version": 2
   },
   "file_extension": ".py",
   "mimetype": "text/x-python",
   "name": "python",
   "nbconvert_exporter": "python",
   "pygments_lexer": "ipython2",
   "version": "2.7.12"
  }
 },
 "nbformat": 4,
 "nbformat_minor": 2
}
